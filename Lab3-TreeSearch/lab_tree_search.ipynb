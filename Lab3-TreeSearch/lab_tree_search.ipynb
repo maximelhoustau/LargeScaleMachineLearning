{
 "cells": [
  {
   "cell_type": "markdown",
   "metadata": {
    "cell_style": "center",
    "toc": true
   },
   "source": [
    "<h1>Table of Contents<span class=\"tocSkip\"></span></h1>\n",
    "<div class=\"toc\"><ul class=\"toc-item\"><li><span><a href=\"#Instructions\" data-toc-modified-id=\"Instructions-1\"><span class=\"toc-item-num\">1&nbsp;&nbsp;</span>Instructions</a></span></li><li><span><a href=\"#Import\" data-toc-modified-id=\"Import-2\"><span class=\"toc-item-num\">2&nbsp;&nbsp;</span>Import</a></span></li><li><span><a href=\"#Synthetic-data\" data-toc-modified-id=\"Synthetic-data-3\"><span class=\"toc-item-num\">3&nbsp;&nbsp;</span>Synthetic data</a></span></li><li><span><a href=\"#Real-data\" data-toc-modified-id=\"Real-data-4\"><span class=\"toc-item-num\">4&nbsp;&nbsp;</span>Real data</a></span></li><li><span><a href=\"#Kd-trees\" data-toc-modified-id=\"Kd-trees-5\"><span class=\"toc-item-num\">5&nbsp;&nbsp;</span>Kd trees</a></span></li><li><span><a href=\"#Questions\" data-toc-modified-id=\"Questions-6\"><span class=\"toc-item-num\">6&nbsp;&nbsp;</span>Questions</a></span></li></ul></div>"
   ]
  },
  {
   "cell_type": "markdown",
   "metadata": {},
   "source": [
    "# IA317: Large-scale machine learning\n",
    "# Tree search"
   ]
  },
  {
   "cell_type": "markdown",
   "metadata": {
    "cell_style": "center"
   },
   "source": [
    "In this lab, you will learn to work with [kd-trees](https://en.wikipedia.org/wiki/K-d_tree), in particular to build the graph of nearest neighbors.<br>\n",
    "You will find below a function to build a kd-tree and to find the nearest neighbor of some target using this data structure."
   ]
  },
  {
   "cell_type": "markdown",
   "metadata": {},
   "source": [
    "## Instructions"
   ]
  },
  {
   "cell_type": "markdown",
   "metadata": {},
   "source": [
    "Please provide short answers to the questions at the bottom of the notebook. Most involve Python coding. Add as many cells as necessary (code and text). You might test your code using synthetic data.\n",
    "\n",
    "Before uploading your notebook on [eCampus](https://ecampus.paris-saclay.fr/course/view.php?id=18426), please:\n",
    "* Delete all useless cells (tests, etc.)\n",
    "* Check that **your code is running and does not produce any errors**. You might restart the kernel and run all cells at the end of the lab to check that this is indeed the case. \n",
    "* Keep the outputs.\n",
    "\n",
    "The deadline is **Thursday, December 18th (midnight).**"
   ]
  },
  {
   "cell_type": "markdown",
   "metadata": {
    "heading_collapsed": true
   },
   "source": [
    "## Import"
   ]
  },
  {
   "cell_type": "code",
   "execution_count": 1,
   "metadata": {
    "ExecuteTime": {
     "end_time": "2019-12-14T20:20:51.597408Z",
     "start_time": "2019-12-14T20:20:51.097838Z"
    },
    "hidden": true
   },
   "outputs": [],
   "source": [
    "import numpy as np"
   ]
  },
  {
   "cell_type": "code",
   "execution_count": 2,
   "metadata": {
    "ExecuteTime": {
     "end_time": "2019-12-14T20:20:51.688138Z",
     "start_time": "2019-12-14T20:20:51.599625Z"
    },
    "hidden": true
   },
   "outputs": [],
   "source": [
    "from scipy import sparse"
   ]
  },
  {
   "cell_type": "code",
   "execution_count": 3,
   "metadata": {
    "ExecuteTime": {
     "end_time": "2019-12-14T20:20:52.121560Z",
     "start_time": "2019-12-14T20:20:51.691609Z"
    },
    "hidden": true
   },
   "outputs": [],
   "source": [
    "import matplotlib.pyplot as plt"
   ]
  },
  {
   "cell_type": "code",
   "execution_count": 4,
   "metadata": {
    "ExecuteTime": {
     "end_time": "2019-12-14T20:20:52.751418Z",
     "start_time": "2019-12-14T20:20:52.124681Z"
    },
    "hidden": true
   },
   "outputs": [],
   "source": [
    "import pandas as pd"
   ]
  },
  {
   "cell_type": "code",
   "execution_count": 5,
   "metadata": {
    "ExecuteTime": {
     "end_time": "2019-12-14T20:20:52.757615Z",
     "start_time": "2019-12-14T20:20:52.753471Z"
    },
    "hidden": true
   },
   "outputs": [],
   "source": [
    "import time"
   ]
  },
  {
   "cell_type": "markdown",
   "metadata": {
    "heading_collapsed": true
   },
   "source": [
    "## Synthetic data"
   ]
  },
  {
   "cell_type": "code",
   "execution_count": 6,
   "metadata": {
    "ExecuteTime": {
     "end_time": "2019-12-14T20:20:52.854080Z",
     "start_time": "2019-12-14T20:20:52.760061Z"
    },
    "hidden": true
   },
   "outputs": [],
   "source": [
    "# Standard Gaussian model\n",
    "X_synthetic = np.random.normal(size = (1000000,2))"
   ]
  },
  {
   "cell_type": "markdown",
   "metadata": {
    "heading_collapsed": true
   },
   "source": [
    "## Real data"
   ]
  },
  {
   "cell_type": "markdown",
   "metadata": {
    "hidden": true
   },
   "source": [
    "We will use a dataset providing the GPS coordinates of the ~13,000 largest cities of the world. For simplicity, we will use the Euclidean distance on the world map, with coordinates = (longitude, latitude)."
   ]
  },
  {
   "cell_type": "code",
   "execution_count": 7,
   "metadata": {
    "ExecuteTime": {
     "end_time": "2019-12-14T20:20:52.919777Z",
     "start_time": "2019-12-14T20:20:52.856309Z"
    },
    "hidden": true
   },
   "outputs": [],
   "source": [
    "# First download the file\n",
    "cities = pd.read_csv('worldcities.csv')"
   ]
  },
  {
   "cell_type": "code",
   "execution_count": 8,
   "metadata": {
    "ExecuteTime": {
     "end_time": "2019-12-14T20:20:52.953437Z",
     "start_time": "2019-12-14T20:20:52.924053Z"
    },
    "hidden": true,
    "scrolled": true
   },
   "outputs": [
    {
     "data": {
      "text/html": [
       "<div>\n",
       "<style scoped>\n",
       "    .dataframe tbody tr th:only-of-type {\n",
       "        vertical-align: middle;\n",
       "    }\n",
       "\n",
       "    .dataframe tbody tr th {\n",
       "        vertical-align: top;\n",
       "    }\n",
       "\n",
       "    .dataframe thead th {\n",
       "        text-align: right;\n",
       "    }\n",
       "</style>\n",
       "<table border=\"1\" class=\"dataframe\">\n",
       "  <thead>\n",
       "    <tr style=\"text-align: right;\">\n",
       "      <th></th>\n",
       "      <th>city</th>\n",
       "      <th>city_ascii</th>\n",
       "      <th>lat</th>\n",
       "      <th>lng</th>\n",
       "      <th>country</th>\n",
       "      <th>iso2</th>\n",
       "      <th>iso3</th>\n",
       "      <th>admin_name</th>\n",
       "      <th>capital</th>\n",
       "      <th>population</th>\n",
       "      <th>id</th>\n",
       "    </tr>\n",
       "  </thead>\n",
       "  <tbody>\n",
       "    <tr>\n",
       "      <td>0</td>\n",
       "      <td>Malishevë</td>\n",
       "      <td>Malisheve</td>\n",
       "      <td>42.4822</td>\n",
       "      <td>20.7458</td>\n",
       "      <td>Kosovo</td>\n",
       "      <td>XK</td>\n",
       "      <td>XKS</td>\n",
       "      <td>Malishevë</td>\n",
       "      <td>admin</td>\n",
       "      <td>NaN</td>\n",
       "      <td>1901597212</td>\n",
       "    </tr>\n",
       "    <tr>\n",
       "      <td>1</td>\n",
       "      <td>Prizren</td>\n",
       "      <td>Prizren</td>\n",
       "      <td>42.2139</td>\n",
       "      <td>20.7397</td>\n",
       "      <td>Kosovo</td>\n",
       "      <td>XK</td>\n",
       "      <td>XKS</td>\n",
       "      <td>Prizren</td>\n",
       "      <td>admin</td>\n",
       "      <td>NaN</td>\n",
       "      <td>1901360309</td>\n",
       "    </tr>\n",
       "    <tr>\n",
       "      <td>2</td>\n",
       "      <td>Zubin Potok</td>\n",
       "      <td>Zubin Potok</td>\n",
       "      <td>42.9144</td>\n",
       "      <td>20.6897</td>\n",
       "      <td>Kosovo</td>\n",
       "      <td>XK</td>\n",
       "      <td>XKS</td>\n",
       "      <td>Zubin Potok</td>\n",
       "      <td>admin</td>\n",
       "      <td>NaN</td>\n",
       "      <td>1901608808</td>\n",
       "    </tr>\n",
       "    <tr>\n",
       "      <td>3</td>\n",
       "      <td>Kamenicë</td>\n",
       "      <td>Kamenice</td>\n",
       "      <td>42.5781</td>\n",
       "      <td>21.5803</td>\n",
       "      <td>Kosovo</td>\n",
       "      <td>XK</td>\n",
       "      <td>XKS</td>\n",
       "      <td>Kamenicë</td>\n",
       "      <td>admin</td>\n",
       "      <td>NaN</td>\n",
       "      <td>1901851592</td>\n",
       "    </tr>\n",
       "    <tr>\n",
       "      <td>4</td>\n",
       "      <td>Viti</td>\n",
       "      <td>Viti</td>\n",
       "      <td>42.3214</td>\n",
       "      <td>21.3583</td>\n",
       "      <td>Kosovo</td>\n",
       "      <td>XK</td>\n",
       "      <td>XKS</td>\n",
       "      <td>Viti</td>\n",
       "      <td>admin</td>\n",
       "      <td>NaN</td>\n",
       "      <td>1901328795</td>\n",
       "    </tr>\n",
       "  </tbody>\n",
       "</table>\n",
       "</div>"
      ],
      "text/plain": [
       "          city   city_ascii      lat      lng country iso2 iso3   admin_name  \\\n",
       "0    Malishevë    Malisheve  42.4822  20.7458  Kosovo   XK  XKS    Malishevë   \n",
       "1      Prizren      Prizren  42.2139  20.7397  Kosovo   XK  XKS      Prizren   \n",
       "2  Zubin Potok  Zubin Potok  42.9144  20.6897  Kosovo   XK  XKS  Zubin Potok   \n",
       "3     Kamenicë     Kamenice  42.5781  21.5803  Kosovo   XK  XKS     Kamenicë   \n",
       "4         Viti         Viti  42.3214  21.3583  Kosovo   XK  XKS         Viti   \n",
       "\n",
       "  capital  population          id  \n",
       "0   admin         NaN  1901597212  \n",
       "1   admin         NaN  1901360309  \n",
       "2   admin         NaN  1901608808  \n",
       "3   admin         NaN  1901851592  \n",
       "4   admin         NaN  1901328795  "
      ]
     },
     "execution_count": 8,
     "metadata": {},
     "output_type": "execute_result"
    }
   ],
   "source": [
    "cities.head()"
   ]
  },
  {
   "cell_type": "code",
   "execution_count": 9,
   "metadata": {
    "ExecuteTime": {
     "end_time": "2019-12-14T20:20:52.969388Z",
     "start_time": "2019-12-14T20:20:52.957664Z"
    },
    "hidden": true
   },
   "outputs": [],
   "source": [
    "names = list(cities['city'])\n",
    "admin_names = list(cities['admin_name'])\n",
    "lat = list(cities['lat'])\n",
    "long = list(cities['lng'])"
   ]
  },
  {
   "cell_type": "code",
   "execution_count": 10,
   "metadata": {
    "ExecuteTime": {
     "end_time": "2019-12-14T20:20:52.979700Z",
     "start_time": "2019-12-14T20:20:52.972535Z"
    },
    "hidden": true
   },
   "outputs": [],
   "source": [
    "X = np.vstack((long,lat)).T"
   ]
  },
  {
   "cell_type": "code",
   "execution_count": 11,
   "metadata": {
    "ExecuteTime": {
     "end_time": "2019-12-14T20:20:53.331547Z",
     "start_time": "2019-12-14T20:20:52.982805Z"
    },
    "hidden": true
   },
   "outputs": [
    {
     "data": {
      "image/png": "[encoded data removed]",
      "text/plain": [
       "<Figure size 1440x720 with 1 Axes>"
      ]
     },
     "metadata": {
      "needs_background": "light"
     },
     "output_type": "display_data"
    }
   ],
   "source": [
    "plt.figure(figsize = (20,10))\n",
    "_ = plt.scatter(X[:,0], X[:,1], c='b')\n",
    "_ = plt.axis('off')"
   ]
  },
  {
   "cell_type": "markdown",
   "metadata": {},
   "source": [
    "## Kd trees"
   ]
  },
  {
   "cell_type": "code",
   "execution_count": 140,
   "metadata": {
    "ExecuteTime": {
     "end_time": "2019-12-15T20:43:01.885554Z",
     "start_time": "2019-12-15T20:43:01.793036Z"
    }
   },
   "outputs": [],
   "source": [
    "class KD_Tree:\n",
    "    def __init__(self, index, ancestor, mins, maxs):\n",
    "        self.index = index\n",
    "        self.ancestor = ancestor\n",
    "        self.mins = mins\n",
    "        self.maxs = maxs\n",
    "        self.direction = None        \n",
    "        self.pivot = None\n",
    "        self.left = None\n",
    "        self.right = None"
   ]
  },
  {
   "cell_type": "code",
   "execution_count": 13,
   "metadata": {
    "ExecuteTime": {
     "end_time": "2019-12-14T20:20:53.355668Z",
     "start_time": "2019-12-14T20:20:53.344263Z"
    }
   },
   "outputs": [],
   "source": [
    "def split(X, index, method):\n",
    "    '''Split method (max spread or max variance)\n",
    "    \n",
    "    Parameters\n",
    "    ----------\n",
    "    X : np.ndarray \n",
    "        Data (n_samples, n_features)\n",
    "    index : np.ndarray\n",
    "        Sample indices, within range(n_samples)\n",
    "    method : str, 'maxspread' or 'maxvariance'\n",
    "        Method \n",
    "        \n",
    "    Returns\n",
    "    -------\n",
    "    k : int\n",
    "        Direction, in range(n_features)\n",
    "    i : int\n",
    "        Pivot, in range(n_samples)\n",
    "    '''\n",
    "    if method == 'maxspread':\n",
    "        # max spread\n",
    "        mins = np.min(X[index], axis = 0)\n",
    "        maxs = np.max(X[index], axis = 0)\n",
    "        k = np.argmax(maxs - mins)\n",
    "        middle = (maxs[k] + mins[k]) / 2\n",
    "        i = index[np.argmin(np.abs(X[index,k] - middle))]\n",
    "    else:\n",
    "        # max variance\n",
    "        k = np.argmax(np.std(X[index], axis = 0))\n",
    "        i = index[np.argsort(X[index,k])[len(index) // 2]]\n",
    "    return k, i"
   ]
  },
  {
   "cell_type": "code",
   "execution_count": 14,
   "metadata": {
    "ExecuteTime": {
     "end_time": "2019-12-14T20:20:53.370962Z",
     "start_time": "2019-12-14T20:20:53.357818Z"
    }
   },
   "outputs": [],
   "source": [
    "def build_kd_tree(X, index = None, ancestor = None, mins = None, maxs = None, leaf_size = 30, method = 'maxspread'):\n",
    "    '''Build the kd-tree from data.\n",
    "    \n",
    "    Parameters\n",
    "    ----------\n",
    "    X : np.ndarray \n",
    "        Data (n_samples, n_features)\n",
    "    index : np.ndarray or None\n",
    "        Sample indices, within range(n_samples)\n",
    "    ancestor : KD_Tree or None\n",
    "        Ancestor of the current node\n",
    "    mins : np.ndarray or None\n",
    "        Min values of the rectangle, shape (n_features,)\n",
    "    maxs : np.ndarray\n",
    "        Max values of the rectangle, shape (n_features,)\n",
    "    leaf_size : int\n",
    "        Leaf size of the kd-tree \n",
    "    method : str, 'maxspread' or 'maxvariance'\n",
    "        Split method \n",
    "        \n",
    "    Returns\n",
    "    -------\n",
    "    tree : KD_Tree\n",
    "        kd-tree\n",
    "    '''\n",
    "    if index is None:\n",
    "        index = np.arange(X.shape[0])\n",
    "        mins = np.min(X[index], axis = 0)\n",
    "        maxs = np.max(X[index], axis = 0)\n",
    "    tree = KD_Tree(index, ancestor, mins, maxs)\n",
    "    if len(index) > leaf_size:\n",
    "        k,i = split(X, index, method)\n",
    "        tree.direction, tree.pivot = k, i\n",
    "        index = np.array(list(set(index) - {i}))\n",
    "        index_left = index[np.where(X[index,k] <= X[i,k])[0]]\n",
    "        maxs_ = maxs.copy()\n",
    "        maxs_[k] = X[i,k]\n",
    "        tree.left = build_kd_tree(X, index_left, tree, mins, maxs_, leaf_size, method)\n",
    "        index_right = index[np.where(X[index,k] > X[i,k])[0]]\n",
    "        mins_ = mins.copy()\n",
    "        mins_[k] = X[i,k]        \n",
    "        tree.right = build_kd_tree(X, index_right, tree, mins_, maxs, leaf_size, method)\n",
    "    return tree"
   ]
  },
  {
   "cell_type": "code",
   "execution_count": 15,
   "metadata": {
    "ExecuteTime": {
     "end_time": "2019-12-14T20:20:53.380856Z",
     "start_time": "2019-12-14T20:20:53.373890Z"
    }
   },
   "outputs": [],
   "source": [
    "def search_leaf(x, X, tree):\n",
    "    '''Search the leaf node of the kd-tree given some target.\n",
    "    \n",
    "    Parameters\n",
    "    ----------\n",
    "    x : np.ndarray\n",
    "        Target (n_features,)\n",
    "    X : np.ndarray \n",
    "        Data (n_samples, n_features)\n",
    "    tree : KD_Tree\n",
    "        kd-tree\n",
    "        \n",
    "    Returns\n",
    "    -------\n",
    "    tree : KD_Tree\n",
    "        Leaf node\n",
    "    '''\n",
    "    if tree.pivot is not None:\n",
    "        k = tree.direction\n",
    "        i = tree.pivot\n",
    "        if x[k] <= X[i,k]:\n",
    "            return search_leaf(x, X, tree.left)\n",
    "        else:\n",
    "            return search_leaf(x, X, tree.right)\n",
    "    else:\n",
    "        return tree"
   ]
  },
  {
   "cell_type": "code",
   "execution_count": 16,
   "metadata": {
    "ExecuteTime": {
     "end_time": "2019-12-14T20:20:53.396412Z",
     "start_time": "2019-12-14T20:20:53.384537Z"
    }
   },
   "outputs": [],
   "source": [
    "def nn_search_kd_tree(x, X, tree):\n",
    "    '''Search the nearest neighbor of some target.\n",
    "    \n",
    "    Parameters\n",
    "    ----------\n",
    "    x : np.ndarray\n",
    "        Target (n_features,)\n",
    "    X : np.ndarray \n",
    "        Data (n_samples, n_features)\n",
    "    tree : KD_Tree\n",
    "        kd-tree\n",
    "        \n",
    "    Returns\n",
    "    -------\n",
    "    nn : int\n",
    "        Index of the nearest neighbor\n",
    "    '''\n",
    "    node = search_leaf(x, X, tree)\n",
    "    index = node.index\n",
    "    nn = None\n",
    "    if len(index):\n",
    "        nn = index[np.argmin(np.linalg.norm(X[index] - x, axis = 1))]\n",
    "        dist = np.linalg.norm(X[nn] - x)\n",
    "    \n",
    "    while node.ancestor is not None:\n",
    "        previous = node\n",
    "        node = node.ancestor\n",
    "        if nn is None or np.linalg.norm(X[node.pivot] - x) < dist:\n",
    "            nn = node.pivot\n",
    "            dist = np.linalg.norm(X[nn] - x)\n",
    "        if previous == node.left:\n",
    "            tree_ = node.right\n",
    "        else:\n",
    "            tree_ = node.left\n",
    "        if tree_ is not None and len(tree_.index):\n",
    "            explore = False\n",
    "            if not tree_.pivot:\n",
    "                explore = True\n",
    "            else:\n",
    "                y = np.maximum(tree_.mins, np.minimum(tree_.maxs, x))\n",
    "                explore = (np.linalg.norm(x - y) < dist)\n",
    "            if explore:\n",
    "                ancestor = tree_.ancestor\n",
    "                tree_.ancestor = None\n",
    "                nn_ = nn_search_kd_tree(x, X, tree_)\n",
    "                dist_ = np.linalg.norm(X[nn_] - x)\n",
    "                if dist_ < dist:\n",
    "                    nn, dist = nn_, dist_\n",
    "                tree_.ancestor = ancestor\n",
    "    return nn"
   ]
  },
  {
   "cell_type": "markdown",
   "metadata": {},
   "source": [
    "## Questions"
   ]
  },
  {
   "cell_type": "markdown",
   "metadata": {},
   "source": [
    "1. What is the closest city from the [Null Island](https://fr.wikipedia.org/wiki/Null_Island) (provide the name)?"
   ]
  },
  {
   "cell_type": "code",
   "execution_count": 184,
   "metadata": {
    "ExecuteTime": {
     "end_time": "2019-12-15T21:04:01.354792Z",
     "start_time": "2019-12-15T21:04:01.209257Z"
    }
   },
   "outputs": [
    {
     "name": "stdout",
     "output_type": "stream",
     "text": [
      "The nearest neighboor of Null Island is Sekondi\n"
     ]
    }
   ],
   "source": [
    "#Null Island is an imaginary island whose coordinates are (0,0)\n",
    "Null_Island = [0,0]\n",
    "tree = build_kd_tree(X=X)\n",
    "leaf = nn_search_kd_tree(x=Null_Island, X=X, tree=tree)\n",
    "print(\"The nearest neighboor of Null Island is \"+names[leaf])"
   ]
  },
  {
   "cell_type": "markdown",
   "metadata": {},
   "source": [
    "2. What are the 10 closest cities from Paris (provide the names)?<br>\n",
    "Choose the true Paris :-)"
   ]
  },
  {
   "cell_type": "code",
   "execution_count": 18,
   "metadata": {
    "ExecuteTime": {
     "end_time": "2019-12-14T20:20:53.546502Z",
     "start_time": "2019-12-14T20:20:53.528526Z"
    }
   },
   "outputs": [],
   "source": [
    "def k_nn_search_kd_tree(x, X, tree, k):\n",
    "    '''Search the k nearest neighbor of some target.\n",
    "    \n",
    "    Parameters\n",
    "    ----------\n",
    "    x : np.ndarray\n",
    "        Target (n_features,)\n",
    "    X : np.ndarray \n",
    "        Data (n_samples, n_features)\n",
    "    tree : KD_Tree\n",
    "        kd-tree\n",
    "    k : int\n",
    "        Number of nearest neighboors to return \n",
    "        \n",
    "    Returns\n",
    "    -------\n",
    "    k_nn : numpy array\n",
    "        Indexes of the k nearest neighbor\n",
    "    k_dist : numpy array\n",
    "        Distances between Target and k_nn\n",
    "    \n",
    "    '''\n",
    "    node = search_leaf(x, X, tree)\n",
    "    index = node.index\n",
    "    k_nn = None\n",
    "    if len(index):  \n",
    "        norm = np.linalg.norm(X[index] - x, axis = 1)\n",
    "        k_nn = index[np.argsort(norm)[0:k+1]]\n",
    "        k_dist = [np.linalg.norm(X[k_nn[i]] - x) for i in range(len(k_nn))]\n",
    "        \n",
    "    while node.ancestor is not None:\n",
    "        previous = node\n",
    "        node = node.ancestor\n",
    "        if np.linalg.norm(X[node.pivot] - x) < k_dist[-1] or len(k_nn) < k+1 :\n",
    "            norm = np.linalg.norm(X[node.pivot] - x)\n",
    "            indexes = np.searchsorted(k_dist, norm)\n",
    "            k_dist = np.insert(k_dist, indexes, norm)\n",
    "            k_nn = np.insert(k_nn, indexes, node.pivot)\n",
    "            #delete the last element of k_nn\n",
    "            if len(k_nn) > k+1 :\n",
    "                k_dist = np.delete(k_dist, -1, 0)\n",
    "                k_nn = np.delete(k_nn, -1, 0)\n",
    "                  \n",
    "        if previous == node.left:\n",
    "            tree_ = node.right\n",
    "        else:\n",
    "            tree_ = node.left\n",
    "        if tree_ is not None and len(tree_.index):\n",
    "            explore = False\n",
    "            if not tree_.pivot:\n",
    "                explore = True\n",
    "            else:\n",
    "                y = np.maximum(tree_.mins, np.minimum(tree_.maxs, x))\n",
    "                explore = np.linalg.norm(x - y) < k_dist[-1]\n",
    "            if explore:\n",
    "                ancestor = tree_.ancestor\n",
    "                tree_.ancestor = None\n",
    "                k_nn_, k_dist_ = k_nn_search_kd_tree(x, X, tree_, k)\n",
    "                #We concatenate the k_nn and k_dist of the 2 tree searches to easily sort the nearest neighboors by distance \n",
    "                K_nn = np.concatenate((k_nn, k_nn_))\n",
    "                K_dist = np.concatenate((k_dist, k_dist_))\n",
    "                tab = np.array([K_nn, K_dist])\n",
    "                #We sort the ndarray according to the distances and select the k-nn\n",
    "                tab = tab[:, tab[1].argsort()]\n",
    "                #We select only the first k+1 cities\n",
    "                k_nn, k_dist = tab[0][0:k+1].astype(int), tab[1][0:k+1]\n",
    "                tree_.ancestor = ancestor\n",
    "    return k_nn, k_dist"
   ]
  },
  {
   "cell_type": "code",
   "execution_count": 19,
   "metadata": {
    "ExecuteTime": {
     "end_time": "2019-12-14T20:20:53.565932Z",
     "start_time": "2019-12-14T20:20:53.548819Z"
    }
   },
   "outputs": [
    {
     "name": "stdout",
     "output_type": "stream",
     "text": [
      "The ten nearest neighboors of Paris are : ['Versailles', 'Melun', 'Amiens', 'Orléans', 'Rouen', 'Arras', 'Auxerre', 'Dieppe', 'Reims', 'Bourges']\n",
      "At the respectives distances : [0.2106714  0.4714281  1.03423623 1.05900169 1.37423382 1.48635647\n",
      " 1.63034493 1.64346859 1.73954493 1.78424715]\n",
      "Execution time : 0.005506038665771484\n"
     ]
    }
   ],
   "source": [
    "#Let's plot the ten nn of the True Paris\n",
    "k = 10\n",
    "Paris = admin_names.index(\"Île-de-France\") \n",
    "Paris = [long[Paris], lat[Paris]]\n",
    "\n",
    "start_t = time.time()\n",
    "ten_nn_Paris , d_nn_Paris = k_nn_search_kd_tree(Paris, X, tree, k)\n",
    "end_t = time.time()\n",
    "\n",
    "ten_nn_Paris = [names[ten_nn_Paris[i]] for i in range(len(ten_nn_Paris))][1:k+1]\n",
    "print(\"The ten nearest neighboors of Paris are : \"+str(ten_nn_Paris))\n",
    "print(\"At the respectives distances : \"+str(d_nn_Paris[1:k+1]))\n",
    "print(\"Execution time : \"+str(end_t - start_t))"
   ]
  },
  {
   "cell_type": "markdown",
   "metadata": {},
   "source": [
    "3. Compare the previous search time to a brute force approach (with default leaf size = 30)."
   ]
  },
  {
   "cell_type": "code",
   "execution_count": 20,
   "metadata": {
    "ExecuteTime": {
     "end_time": "2019-12-14T20:20:53.780688Z",
     "start_time": "2019-12-14T20:20:53.568955Z"
    }
   },
   "outputs": [
    {
     "name": "stdout",
     "output_type": "stream",
     "text": [
      "The ten nearest neighboors of Paris are : ['Versailles', 'Melun', 'Amiens', 'Orléans', 'Rouen', 'Arras', 'Auxerre', 'Dieppe', 'Reims', 'Bourges']\n",
      "At the respectives distances : [0.2106714  0.4714281  1.03423623 1.05900169 1.37423382 1.48635647\n",
      " 1.63034493 1.64346859 1.73954493 1.78424715]\n",
      "Execution time : 0.20291590690612793\n"
     ]
    }
   ],
   "source": [
    "#Brute force approach\n",
    "start_t = time.time()\n",
    "\n",
    "#Just compute the distance between Paris and every other cities\n",
    "index = np.arange(X.shape[0])\n",
    "dist = np.array([np.linalg.norm(X[i] - Paris) for i in range(X.shape[0])])\n",
    "tab = np.array([index, dist])\n",
    "#Sort the index by distance to Paris\n",
    "nn = tab[:,  np.argsort(tab[1])]\n",
    "ten_nn = np.array(nn[0][1:11], dtype=int)\n",
    "#Get the ten nn excluding Paris itself\n",
    "dis_ten_nn = nn[1][1:11]\n",
    "end_t = time.time()\n",
    "\n",
    "print(\"The ten nearest neighboors of Paris are : \"+str([names[ten_nn[i]] for i in range(len(ten_nn))]))\n",
    "print(\"At the respectives distances : \"+str(dis_ten_nn))\n",
    "print(\"Execution time : \"+str(end_t - start_t))"
   ]
  },
  {
   "cell_type": "markdown",
   "metadata": {},
   "source": [
    "The Kd tree search algorithm is approximately __4 times quicker__ to run than the brute force algorithm for 13.000 samples"
   ]
  },
  {
   "cell_type": "markdown",
   "metadata": {},
   "source": [
    "4. Do the same comparison for synthetic data (with $10^6$ samples for instance). Comment."
   ]
  },
  {
   "cell_type": "code",
   "execution_count": 21,
   "metadata": {
    "ExecuteTime": {
     "end_time": "2019-12-14T20:21:05.962404Z",
     "start_time": "2019-12-14T20:20:53.782933Z"
    }
   },
   "outputs": [],
   "source": [
    "#Let's rebuild the tree with the synthetic datas\n",
    "tree_synthetic = build_kd_tree(X=X_synthetic)"
   ]
  },
  {
   "cell_type": "code",
   "execution_count": 22,
   "metadata": {
    "ExecuteTime": {
     "end_time": "2019-12-14T20:21:05.978154Z",
     "start_time": "2019-12-14T20:21:05.964582Z"
    }
   },
   "outputs": [
    {
     "name": "stdout",
     "output_type": "stream",
     "text": [
      "The ten nearest neighboors of the random point are : [514598, 264071, 658555, 360623, 691338, 86299, 150982, 893372, 962511, 230941]\n",
      "At the respectives distances : [0.         0.00231382 0.00271042 0.00300724 0.00318502 0.00332685\n",
      " 0.00343238 0.00383698 0.00421902 0.00452162 0.00455144]\n",
      "Execution time : 0.005280017852783203\n"
     ]
    }
   ],
   "source": [
    "#Kd_Tree search\n",
    "k = 10\n",
    "#Get a random index from X_synthetic\n",
    "rand_pt = X_synthetic[np.random.choice(len(X_synthetic))]\n",
    "\n",
    "start_t = time.time()\n",
    "ten_nn , d_nn = k_nn_search_kd_tree(rand_pt, X_synthetic, tree_synthetic, k)\n",
    "end_t = time.time()\n",
    "\n",
    "ten_nn = [ten_nn[i] for i in range(len(ten_nn))][1:k+1]\n",
    "print(\"The ten nearest neighboors of the random point are : \"+str(ten_nn))\n",
    "print(\"At the respectives distances : \"+str(d_nn))\n",
    "print(\"Execution time : \"+str(end_t - start_t))"
   ]
  },
  {
   "cell_type": "code",
   "execution_count": 23,
   "metadata": {
    "ExecuteTime": {
     "end_time": "2019-12-14T20:21:13.863357Z",
     "start_time": "2019-12-14T20:21:05.984215Z"
    }
   },
   "outputs": [
    {
     "name": "stdout",
     "output_type": "stream",
     "text": [
      "The ten nearest neighboors of the random point are : [514598, 264071, 658555, 360623, 691338, 86299, 150982, 893372, 962511, 230941]\n",
      "At the respectives distances : [0.00231382 0.00271042 0.00300724 0.00318502 0.00332685 0.00343238\n",
      " 0.00383698 0.00421902 0.00452162 0.00455144]\n",
      "Execution time : 7.86832594871521\n"
     ]
    }
   ],
   "source": [
    "#Brute force approach\n",
    "start_t = time.time()\n",
    "\n",
    "#Just compute the distance between the random point and every other cities\n",
    "index = np.arange(X_synthetic.shape[0])\n",
    "dist = np.array([np.linalg.norm(X_synthetic[i] - rand_pt) for i in range(X_synthetic.shape[0])])\n",
    "tab = np.array([index, dist])\n",
    "#Sort the index by distance to the random point\n",
    "nn = tab[:,  np.argsort(tab[1])]\n",
    "ten_nn = np.array(nn[0][1:11], dtype=int)\n",
    "#Get the ten nn excluding Paris itself\n",
    "dis_ten_nn = nn[1][1:11]\n",
    "end_t = time.time()\n",
    "\n",
    "print(\"The ten nearest neighboors of the random point are : \" +str([ten_nn[i] for i in range(len(ten_nn))]))\n",
    "print(\"At the respectives distances : \"+str(dis_ten_nn))\n",
    "print(\"Execution time : \"+str(end_t - start_t))"
   ]
  },
  {
   "cell_type": "markdown",
   "metadata": {},
   "source": [
    "With 1.000.000 of random datas, the Kd search algorithm is now approximately **1600 times quicker** than the brute force algorithm. We see here that the complexity in time of these 2 searches are different and can cause a huge difference in the execution time.\n",
    "\n",
    "__The Kd search is much more time efficient__."
   ]
  },
  {
   "cell_type": "markdown",
   "metadata": {},
   "source": [
    "5. What is the depth of the leaf node containing Paris in the kd-tree?<br>\n",
    "Test various leaf sizes (e.g., 1, 10, 100, ...) and comment."
   ]
  },
  {
   "cell_type": "code",
   "execution_count": 24,
   "metadata": {
    "ExecuteTime": {
     "end_time": "2019-12-14T20:21:15.347046Z",
     "start_time": "2019-12-14T20:21:13.865885Z"
    }
   },
   "outputs": [
    {
     "name": "stdout",
     "output_type": "stream",
     "text": [
      "\n",
      "Size of the leafs in the tree : 1\n",
      "The depth of the leaf node containing Paris in the Kd_Tree is : 15\n",
      "\n",
      "Size of the leafs in the tree : 5\n",
      "The depth of the leaf node containing Paris in the Kd_Tree is : 13\n",
      "\n",
      "Size of the leafs in the tree : 10\n",
      "The depth of the leaf node containing Paris in the Kd_Tree is : 12\n",
      "\n",
      "Size of the leafs in the tree : 30\n",
      "The depth of the leaf node containing Paris in the Kd_Tree is : 11\n",
      "\n",
      "Size of the leafs in the tree : 50\n",
      "The depth of the leaf node containing Paris in the Kd_Tree is : 10\n",
      "\n",
      "Size of the leafs in the tree : 100\n",
      "The depth of the leaf node containing Paris in the Kd_Tree is : 10\n",
      "\n",
      "Size of the leafs in the tree : 500\n",
      "The depth of the leaf node containing Paris in the Kd_Tree is : 8\n",
      "\n",
      "Size of the leafs in the tree : 1000\n",
      "The depth of the leaf node containing Paris in the Kd_Tree is : 6\n"
     ]
    }
   ],
   "source": [
    "leaf_sizes = [1, 5, 10, 30, 50, 100, 500, 1000]\n",
    "\n",
    "for i in range(len(leaf_sizes)):\n",
    "    depth = 0\n",
    "    #Build the Kd_Tree with different leaf sizes\n",
    "    tree = build_kd_tree(X, leaf_size=leaf_sizes[i])\n",
    "    #Get the leaf containing Paris\n",
    "    leaf = search_leaf(Paris, X, tree) \n",
    "    #Just go back from the leaf to the root of the tree with the ancestor method\n",
    "    while(leaf != None):\n",
    "        leaf = leaf.ancestor\n",
    "        depth += 1\n",
    "    print(\"\\nSize of the leafs in the tree : \"+str(leaf_sizes[i]))\n",
    "    #Do not count the last iteration in the depth counter\n",
    "    print(\"The depth of the leaf node containing Paris in the Kd_Tree is : \"+str(depth-1))"
   ]
  },
  {
   "cell_type": "markdown",
   "metadata": {},
   "source": [
    "When the leaf size is small, the tree is pretty deep. When the leaf size is big, the tree is shallow. \n",
    "\n",
    "In fact smaller the leaf size is, deeper the tree is."
   ]
  },
  {
   "cell_type": "markdown",
   "metadata": {},
   "source": [
    "6. Build the graph of 3-nearest neighbors. You must return the adjacency matrix of the graph in the sparse format of your choice. How many connected components are there in this graph, considered as undirected (check [this](https://docs.scipy.org/doc/scipy/reference/generated/scipy.sparse.csgraph.connected_components.html))? Show the 3 largest connected components on the map. "
   ]
  },
  {
   "cell_type": "code",
   "execution_count": 25,
   "metadata": {
    "ExecuteTime": {
     "end_time": "2019-12-14T20:21:27.550144Z",
     "start_time": "2019-12-14T20:21:15.349888Z"
    }
   },
   "outputs": [
    {
     "name": "stdout",
     "output_type": "stream",
     "text": [
      "The graph contains 65 connected components\n"
     ]
    }
   ],
   "source": [
    "#Be careful, long time running cell\n",
    "#Compute the 3-nn of every city in the world and store it in lists\n",
    "tree = build_kd_tree(X)\n",
    "k = 3\n",
    "mtx = sparse.dok_matrix((len(X), len(X)), dtype=np.int64)\n",
    "#Let's fill the sparse matrix with the 3 nn of each cities\n",
    "for i in range(len(X)):\n",
    "    city = [long[i], lat[i]]\n",
    "    k_nn = k_nn_search_kd_tree(city, X, tree, k=k)[0][1:k+1]\n",
    "    for j in range(len(k_nn)):\n",
    "        mtx[i, k_nn[j]] = 1\n",
    "\n",
    "#Compute the connected components of our graph\n",
    "n_components, labels = sparse.csgraph.connected_components(csgraph=mtx, directed=False, return_labels=True)\n",
    "print(\"The graph contains \"+str(n_components) + \" connected components\")"
   ]
  },
  {
   "cell_type": "code",
   "execution_count": 26,
   "metadata": {
    "ExecuteTime": {
     "end_time": "2019-12-14T20:21:27.583824Z",
     "start_time": "2019-12-14T20:21:27.552491Z"
    }
   },
   "outputs": [],
   "source": [
    "#Get the indices of the cities belongings to the 3 largest connected components\n",
    "index = np.arange(X.shape[0])\n",
    "\n",
    "#Count how many times a label appear in the labels vector\n",
    "c_c = np.zeros(len(X))\n",
    "for label in labels:\n",
    "    c_c[label] += 1\n",
    "\n",
    "#Sort the array based on number of times a label appear\n",
    "tab = np.array([index, c_c], dtype=int)\n",
    "#Get the 3 largest connected components and the number of elements in each of them\n",
    "tab = tab[:, np.argsort(tab[1])][:, -3:]\n",
    "largest_labels = tab[0]\n",
    "nb_labels = tab[1]\n",
    "\n",
    "#Get the 3 largest clusters\n",
    "X3 = np.where([labels == largest_labels[0]])[1]\n",
    "X2 = np.where([labels == largest_labels[1]])[1]\n",
    "X1 = np.where([labels == largest_labels[2]])[1]"
   ]
  },
  {
   "cell_type": "code",
   "execution_count": 27,
   "metadata": {
    "ExecuteTime": {
     "end_time": "2019-12-14T20:21:28.066660Z",
     "start_time": "2019-12-14T20:21:27.591607Z"
    }
   },
   "outputs": [
    {
     "data": {
      "image/png": "[encoded data removed]",
      "text/plain": [
       "<Figure size 1440x720 with 1 Axes>"
      ]
     },
     "metadata": {
      "needs_background": "light"
     },
     "output_type": "display_data"
    }
   ],
   "source": [
    "#Let's plot the 3 largest connected components\n",
    "plt.figure(figsize = (20,10))\n",
    "_ = plt.scatter(X[:,0], X[:,1], c='b')\n",
    "_ = plt.scatter([long[X1[i]] for i in range(len(X1))], [lat[X1[i]] for i in range(len(X1))], c='r')\n",
    "_ = plt.scatter([long[X2[i]] for i in range(len(X2))], [lat[X2[i]] for i in range(len(X2))], c='g')\n",
    "_ = plt.scatter([long[X3[i]] for i in range(len(X3))], [lat[X3[i]] for i in range(len(X3))], c='y')\n",
    "_ = plt.axis('off')"
   ]
  },
  {
   "cell_type": "markdown",
   "metadata": {},
   "source": [
    "7. (optional) Code the nearest neighbor search with a ball tree and compare the performance with kd-trees."
   ]
  },
  {
   "cell_type": "code",
   "execution_count": 149,
   "metadata": {
    "ExecuteTime": {
     "end_time": "2019-12-15T20:48:01.000791Z",
     "start_time": "2019-12-15T20:48:00.987134Z"
    }
   },
   "outputs": [],
   "source": [
    "#Let's define the Ball_Tree class just as Kd_Tree\n",
    "class Ball_Tree:\n",
    "    def __init__(self, index, ancestor, mins, maxs):\n",
    "        self.index = index\n",
    "        self.ancestor = ancestor\n",
    "        self.radius = None\n",
    "        self.direction = None \n",
    "        self.mins = mins\n",
    "        self.maxs = maxs\n",
    "        self.pivot = None\n",
    "        self.left = None\n",
    "        self.right = None"
   ]
  },
  {
   "cell_type": "code",
   "execution_count": 163,
   "metadata": {
    "ExecuteTime": {
     "end_time": "2019-12-15T20:57:11.095458Z",
     "start_time": "2019-12-15T20:57:11.035767Z"
    }
   },
   "outputs": [],
   "source": [
    "def build_ball_tree(X, index = None, ancestor = None, leaf_size = 30, mins = None, maxs = None, method = 'maxspread'):\n",
    "    '''Build the ball-tree from data.\n",
    "    \n",
    "    Parameters\n",
    "    ----------\n",
    "    X : np.ndarray \n",
    "        Data (n_samples, n_features)\n",
    "    index : np.ndarray or None\n",
    "        Sample indices, within range(n_samples)\n",
    "    ancestor : KD_Tree or None\n",
    "        Ancestor of the current node\n",
    "    leaf_size : int\n",
    "        Leaf size of the kd-tree \n",
    "    method : str, 'maxspread' or 'maxvariance'\n",
    "        Split method \n",
    "        \n",
    "    Returns\n",
    "    -------\n",
    "    tree : Ball_Tree\n",
    "        ball-tree\n",
    "    '''\n",
    "    if index is None:\n",
    "        index = np.arange(X.shape[0])\n",
    "        mins = np.min(X[index], axis = 0)\n",
    "        maxs = np.max(X[index], axis = 0)\n",
    "        \n",
    "    tree = Ball_Tree(index, ancestor, mins, maxs)\n",
    "    if len(index) > leaf_size:\n",
    "        k,i = split(X, index, method)\n",
    "        tree.direction, tree.pivot = k, i\n",
    "        index = np.array(list(set(index) - {i}))\n",
    "        #Compute the farthest point from pivot i\n",
    "        farthest = [sum(np.abs(X[i] - X[j])) for j in index]\n",
    "        max_dis = index[np.where([sum(np.abs(X[i] - X[j])) == max(farthest) for j in index])]    \n",
    "        tree.radius = np.linalg.norm(X[i] - X[max_dis])\n",
    "        \n",
    "        index_left = index[np.where(X[index,k] <= X[i,k])[0]]\n",
    "        maxs_ = maxs.copy()\n",
    "        maxs_[k] = X[i,k]\n",
    "        tree.left = build_ball_tree(X, index_left, tree, leaf_size, mins, maxs_, method)\n",
    "        index_right = index[np.where(X[index,k] > X[i,k])[0]]\n",
    "        mins_ = mins.copy()\n",
    "        mins_[k] = X[i,k]        \n",
    "        tree.right = build_ball_tree(X, index_right, tree, leaf_size, mins_, maxs, method)\n",
    "    return tree"
   ]
  },
  {
   "cell_type": "code",
   "execution_count": 168,
   "metadata": {
    "ExecuteTime": {
     "end_time": "2019-12-15T20:59:46.483577Z",
     "start_time": "2019-12-15T20:59:32.064917Z"
    }
   },
   "outputs": [],
   "source": [
    "ball_tree = build_ball_tree(X)"
   ]
  },
  {
   "cell_type": "code",
   "execution_count": 177,
   "metadata": {
    "ExecuteTime": {
     "end_time": "2019-12-15T21:02:52.739802Z",
     "start_time": "2019-12-15T21:02:52.722059Z"
    }
   },
   "outputs": [],
   "source": [
    "def nn_search_ball_tree(x, X, tree):\n",
    "    '''Search the nearest neighbor of some target.\n",
    "    \n",
    "    Parameters\n",
    "    ----------\n",
    "    x : np.ndarray\n",
    "        Target (n_features,)\n",
    "    X : np.ndarray \n",
    "        Data (n_samples, n_features)\n",
    "    tree : Ball_Tree\n",
    "        ball-tree\n",
    "        \n",
    "    Returns\n",
    "    -------\n",
    "    nn : int\n",
    "        Index of the nearest neighbor\n",
    "    '''\n",
    "    node = search_leaf(x, X, tree)\n",
    "    index = node.index\n",
    "    nn = None\n",
    "    if len(index):\n",
    "        nn = index[np.argmin(np.linalg.norm(X[index] - x, axis = 1))]\n",
    "        dist = np.linalg.norm(X[nn] - x)\n",
    "    \n",
    "    while node.ancestor is not None:\n",
    "        previous = node\n",
    "        node = node.ancestor\n",
    "        if nn is None or np.linalg.norm(X[node.pivot] - x) < dist:\n",
    "            nn = node.pivot\n",
    "            dist = np.linalg.norm(X[nn] - x)\n",
    "        if previous == node.left:\n",
    "            tree_ = node.right\n",
    "        else:\n",
    "            tree_ = node.left\n",
    "        if tree_ is not None and len(tree_.index):\n",
    "            explore = False\n",
    "            if not tree_.pivot:\n",
    "                explore = True\n",
    "            else:\n",
    "                y = np.maximum(tree_.mins, np.minimum(tree_.maxs, x))\n",
    "                explore = (np.linalg.norm(x - y) < dist)\n",
    "            if explore:\n",
    "                ancestor = tree_.ancestor\n",
    "                tree_.ancestor = None\n",
    "                nn_ = nn_search_kd_tree(x, X, tree_)\n",
    "                dist_ = np.linalg.norm(X[nn_] - x)\n",
    "                if dist_ < dist :\n",
    "                    nn, dist = nn_, dist_\n",
    "                tree_.ancestor = ancestor\n",
    "    return nn"
   ]
  },
  {
   "cell_type": "code",
   "execution_count": 190,
   "metadata": {
    "ExecuteTime": {
     "end_time": "2019-12-15T21:04:12.025556Z",
     "start_time": "2019-12-15T21:04:12.013632Z"
    }
   },
   "outputs": [
    {
     "name": "stdout",
     "output_type": "stream",
     "text": [
      "Sekondi\n"
     ]
    }
   ],
   "source": [
    "nn = nn_search_ball_tree(Null_Island, X, ball_tree)\n",
    "print(names[nn])\n",
    "\n",
    "#from sklearn.neighbors import BallTree\n",
    "#ball_tree = BallTree(X, leaf_size=30)"
   ]
  }
 ],
 "metadata": {
  "kernelspec": {
   "display_name": "Python 3",
   "language": "python",
   "name": "python3"
  },
  "language_info": {
   "codemirror_mode": {
    "name": "ipython",
    "version": 3
   },
   "file_extension": ".py",
   "mimetype": "text/x-python",
   "name": "python",
   "nbconvert_exporter": "python",
   "pygments_lexer": "ipython3",
   "version": "3.7.4"
  },
  "notify_time": "5",
  "toc": {
   "base_numbering": 1,
   "nav_menu": {},
   "number_sections": true,
   "sideBar": true,
   "skip_h1_title": true,
   "title_cell": "Table of Contents",
   "title_sidebar": "Contents",
   "toc_cell": true,
   "toc_position": {},
   "toc_section_display": true,
   "toc_window_display": false
  }
 },
 "nbformat": 4,
 "nbformat_minor": 2
}
