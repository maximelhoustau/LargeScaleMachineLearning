{
  "nbformat": 4,
  "nbformat_minor": 0,
  "metadata": {
    "kernelspec": {
      "name": "python3",
      "display_name": "Python 3"
    },
    "language_info": {
      "codemirror_mode": {
        "name": "ipython",
        "version": 3
      },
      "file_extension": ".py",
      "mimetype": "text/x-python",
      "name": "python",
      "nbconvert_exporter": "python",
      "pygments_lexer": "ipython3",
      "version": "3.7.2"
    },
    "colab": {
      "name": "TP1-avazu-blank.ipynb",
      "provenance": [],
      "collapsed_sections": [
        "cF3oNg2BYcWo",
        "lahZdWm6YcXT"
      ],
      "machine_shape": "hm"
    },
    "accelerator": "GPU"
  },
  "cells": [
    {
      "cell_type": "markdown",
      "metadata": {
        "id": "5BnGYg5FYcTb",
        "colab_type": "text"
      },
      "source": [
        "<h1><center>Practice of Large Scale Machine Learning - TP1 Avazu<center></h1>\n",
        "<h2><center>IA317<center></h2>\n"
      ]
    },
    {
      "cell_type": "markdown",
      "metadata": {
        "id": "N2QU9Lk5YcTk",
        "colab_type": "text"
      },
      "source": [
        "#Introduction\n",
        "\n",
        "In online advertising, click-through rate (CTR) is a very important metric for evaluating ad performance. As a result, click prediction systems are essential and widely used for sponsored search and real-time bidding. The goal of this TP is to build and test prediction models on 11 days of Avazu data.\n",
        "\n",
        "#### For any remark or suggestion, please feel free to contact us at: \n",
        "#### pascal.bianchi@telecom-paris.fr\n",
        "#### nidham.gazagnadou@telecom-paris.fr\n",
        "#### kevin.elgui@telecom-paris.fr"
      ]
    },
    {
      "cell_type": "code",
      "metadata": {
        "id": "z2yZusf12lgP",
        "colab_type": "code",
        "outputId": "5aae4f75-7e83-448b-c4da-1dedac31b300",
        "colab": {
          "base_uri": "https://localhost:8080/",
          "height": 122
        }
      },
      "source": [
        "import sys\n",
        "import os\n",
        "from google.colab import drive\n",
        "\n",
        "drive.mount('/content/gdrive')\n",
        "root_path = 'gdrive/My Drive/Colab Notebooks/tp_avazu/tp_avazu'  # your new root path\n",
        "\n",
        "sys.path.append(os.path.join(root_path, 'notebooks')) # for importing from utils.py"
      ],
      "execution_count": 1,
      "outputs": [
        {
          "output_type": "stream",
          "text": [
            "Go to this URL in a browser: https://accounts.google.com/o/oauth2/auth?client_id=947318989803-6bn6qk8qdgf4n4g3pfee6491hc0brc4i.apps.googleusercontent.com&redirect_uri=urn%3aietf%3awg%3aoauth%3a2.0%3aoob&response_type=code&scope=email%20https%3a%2f%2fwww.googleapis.com%2fauth%2fdocs.test%20https%3a%2f%2fwww.googleapis.com%2fauth%2fdrive%20https%3a%2f%2fwww.googleapis.com%2fauth%2fdrive.photos.readonly%20https%3a%2f%2fwww.googleapis.com%2fauth%2fpeopleapi.readonly\n",
            "\n",
            "Enter your authorization code:\n",
            "··········\n",
            "Mounted at /content/gdrive\n"
          ],
          "name": "stdout"
        }
      ]
    },
    {
      "cell_type": "markdown",
      "metadata": {
        "id": "vxsbsRu7YcTo",
        "colab_type": "text"
      },
      "source": [
        "<font color=\"red\">**Question:**\n",
        "    Import the needed packages: numpy, pandas etc..\n",
        "</font>"
      ]
    },
    {
      "cell_type": "code",
      "metadata": {
        "id": "T60UC4foYcTr",
        "colab_type": "code",
        "colab": {}
      },
      "source": [
        "import numpy as np\n",
        "import pandas as pd \n",
        "import matplotlib.pyplot as plt\n",
        "import seaborn as sns\n",
        "import datetime\n",
        "%matplotlib inline"
      ],
      "execution_count": 0,
      "outputs": []
    },
    {
      "cell_type": "code",
      "metadata": {
        "id": "Fz9emRwgHPNC",
        "colab_type": "code",
        "colab": {}
      },
      "source": [
        "## Try to run this cell\n",
        "from utils import plotlift"
      ],
      "execution_count": 0,
      "outputs": []
    },
    {
      "cell_type": "markdown",
      "metadata": {
        "id": "1xrsFhCiYcT5",
        "colab_type": "text"
      },
      "source": [
        "# The dataset"
      ]
    },
    {
      "cell_type": "markdown",
      "metadata": {
        "id": "eOZWhU4lYcT9",
        "colab_type": "text"
      },
      "source": [
        "<font color=\"red\">**Question:**\n",
        "    Load the data *'data_tp/train-1000000'* into a pandas DataFrame. Use the function 'os.path.join()' to indicate the full path. Then, display the first lines with the \".head()\" method.\n",
        "    <br>\n",
        "</font>\n",
        "**Remark**: the features meaning is available at https://www.kaggle.com/c/avazu-ctr-prediction/data"
      ]
    },
    {
      "cell_type": "code",
      "metadata": {
        "id": "tWvQXG4uYcUB",
        "colab_type": "code",
        "colab": {}
      },
      "source": [
        "df = pd.read_csv(os.path.join(root_path, 'data/train-100'))"
      ],
      "execution_count": 0,
      "outputs": []
    },
    {
      "cell_type": "code",
      "metadata": {
        "id": "uLSo2y32YcUK",
        "colab_type": "code",
        "outputId": "9bfb7d1d-62c1-4e2a-a3c2-eef14a6cf0b6",
        "colab": {
          "base_uri": "https://localhost:8080/",
          "height": 224
        }
      },
      "source": [
        "df.head() # Fill here"
      ],
      "execution_count": 80,
      "outputs": [
        {
          "output_type": "execute_result",
          "data": {
            "text/html": [
              "<div>\n",
              "<style scoped>\n",
              "    .dataframe tbody tr th:only-of-type {\n",
              "        vertical-align: middle;\n",
              "    }\n",
              "\n",
              "    .dataframe tbody tr th {\n",
              "        vertical-align: top;\n",
              "    }\n",
              "\n",
              "    .dataframe thead th {\n",
              "        text-align: right;\n",
              "    }\n",
              "</style>\n",
              "<table border=\"1\" class=\"dataframe\">\n",
              "  <thead>\n",
              "    <tr style=\"text-align: right;\">\n",
              "      <th></th>\n",
              "      <th>id</th>\n",
              "      <th>click</th>\n",
              "      <th>hour</th>\n",
              "      <th>C1</th>\n",
              "      <th>banner_pos</th>\n",
              "      <th>site_id</th>\n",
              "      <th>site_domain</th>\n",
              "      <th>site_category</th>\n",
              "      <th>app_id</th>\n",
              "      <th>app_domain</th>\n",
              "      <th>app_category</th>\n",
              "      <th>device_id</th>\n",
              "      <th>device_ip</th>\n",
              "      <th>device_model</th>\n",
              "      <th>device_type</th>\n",
              "      <th>device_conn_type</th>\n",
              "      <th>C14</th>\n",
              "      <th>C15</th>\n",
              "      <th>C16</th>\n",
              "      <th>C17</th>\n",
              "      <th>C18</th>\n",
              "      <th>C19</th>\n",
              "      <th>C20</th>\n",
              "      <th>C21</th>\n",
              "    </tr>\n",
              "  </thead>\n",
              "  <tbody>\n",
              "    <tr>\n",
              "      <th>0</th>\n",
              "      <td>3.983206e+18</td>\n",
              "      <td>0</td>\n",
              "      <td>14102915</td>\n",
              "      <td>1005</td>\n",
              "      <td>1</td>\n",
              "      <td>e151e245</td>\n",
              "      <td>7e091613</td>\n",
              "      <td>f028772b</td>\n",
              "      <td>ecad2386</td>\n",
              "      <td>7801e8d9</td>\n",
              "      <td>07d7df22</td>\n",
              "      <td>a99f214a</td>\n",
              "      <td>fb6566d3</td>\n",
              "      <td>be87996b</td>\n",
              "      <td>1</td>\n",
              "      <td>2</td>\n",
              "      <td>4687</td>\n",
              "      <td>320</td>\n",
              "      <td>50</td>\n",
              "      <td>423</td>\n",
              "      <td>2</td>\n",
              "      <td>39</td>\n",
              "      <td>100148</td>\n",
              "      <td>32</td>\n",
              "    </tr>\n",
              "    <tr>\n",
              "      <th>1</th>\n",
              "      <td>7.756884e+18</td>\n",
              "      <td>0</td>\n",
              "      <td>14103007</td>\n",
              "      <td>1002</td>\n",
              "      <td>0</td>\n",
              "      <td>cb809abf</td>\n",
              "      <td>74acf31a</td>\n",
              "      <td>50e219e0</td>\n",
              "      <td>ecad2386</td>\n",
              "      <td>7801e8d9</td>\n",
              "      <td>07d7df22</td>\n",
              "      <td>9b7af851</td>\n",
              "      <td>ac5a4a77</td>\n",
              "      <td>7e6190f3</td>\n",
              "      <td>0</td>\n",
              "      <td>0</td>\n",
              "      <td>17894</td>\n",
              "      <td>320</td>\n",
              "      <td>50</td>\n",
              "      <td>2039</td>\n",
              "      <td>2</td>\n",
              "      <td>39</td>\n",
              "      <td>100077</td>\n",
              "      <td>32</td>\n",
              "    </tr>\n",
              "    <tr>\n",
              "      <th>2</th>\n",
              "      <td>6.941774e+17</td>\n",
              "      <td>0</td>\n",
              "      <td>14102711</td>\n",
              "      <td>1005</td>\n",
              "      <td>0</td>\n",
              "      <td>85f751fd</td>\n",
              "      <td>c4e18dd6</td>\n",
              "      <td>50e219e0</td>\n",
              "      <td>e9739828</td>\n",
              "      <td>df32afa9</td>\n",
              "      <td>cef3e649</td>\n",
              "      <td>a99f214a</td>\n",
              "      <td>748e298a</td>\n",
              "      <td>3c55fad5</td>\n",
              "      <td>1</td>\n",
              "      <td>0</td>\n",
              "      <td>22684</td>\n",
              "      <td>320</td>\n",
              "      <td>50</td>\n",
              "      <td>2619</td>\n",
              "      <td>1</td>\n",
              "      <td>163</td>\n",
              "      <td>100055</td>\n",
              "      <td>71</td>\n",
              "    </tr>\n",
              "    <tr>\n",
              "      <th>3</th>\n",
              "      <td>2.664154e+18</td>\n",
              "      <td>1</td>\n",
              "      <td>14102903</td>\n",
              "      <td>1005</td>\n",
              "      <td>0</td>\n",
              "      <td>85f751fd</td>\n",
              "      <td>c4e18dd6</td>\n",
              "      <td>50e219e0</td>\n",
              "      <td>a5184c22</td>\n",
              "      <td>b8d325c3</td>\n",
              "      <td>0f2161f8</td>\n",
              "      <td>a99f214a</td>\n",
              "      <td>a50da3d4</td>\n",
              "      <td>c5cc73c1</td>\n",
              "      <td>1</td>\n",
              "      <td>0</td>\n",
              "      <td>23222</td>\n",
              "      <td>320</td>\n",
              "      <td>50</td>\n",
              "      <td>2676</td>\n",
              "      <td>0</td>\n",
              "      <td>35</td>\n",
              "      <td>100176</td>\n",
              "      <td>221</td>\n",
              "    </tr>\n",
              "    <tr>\n",
              "      <th>4</th>\n",
              "      <td>1.480510e+19</td>\n",
              "      <td>0</td>\n",
              "      <td>14102902</td>\n",
              "      <td>1005</td>\n",
              "      <td>1</td>\n",
              "      <td>791b5571</td>\n",
              "      <td>fd13bc73</td>\n",
              "      <td>f028772b</td>\n",
              "      <td>ecad2386</td>\n",
              "      <td>7801e8d9</td>\n",
              "      <td>07d7df22</td>\n",
              "      <td>a99f214a</td>\n",
              "      <td>d5f88679</td>\n",
              "      <td>a5bce124</td>\n",
              "      <td>1</td>\n",
              "      <td>0</td>\n",
              "      <td>8330</td>\n",
              "      <td>320</td>\n",
              "      <td>50</td>\n",
              "      <td>761</td>\n",
              "      <td>3</td>\n",
              "      <td>175</td>\n",
              "      <td>100081</td>\n",
              "      <td>23</td>\n",
              "    </tr>\n",
              "  </tbody>\n",
              "</table>\n",
              "</div>"
            ],
            "text/plain": [
              "             id  click      hour    C1  banner_pos  ...   C17 C18  C19     C20  C21\n",
              "0  3.983206e+18      0  14102915  1005           1  ...   423   2   39  100148   32\n",
              "1  7.756884e+18      0  14103007  1002           0  ...  2039   2   39  100077   32\n",
              "2  6.941774e+17      0  14102711  1005           0  ...  2619   1  163  100055   71\n",
              "3  2.664154e+18      1  14102903  1005           0  ...  2676   0   35  100176  221\n",
              "4  1.480510e+19      0  14102902  1005           1  ...   761   3  175  100081   23\n",
              "\n",
              "[5 rows x 24 columns]"
            ]
          },
          "metadata": {
            "tags": []
          },
          "execution_count": 80
        }
      ]
    },
    {
      "cell_type": "markdown",
      "metadata": {
        "id": "Cbg9-3qRYcUQ",
        "colab_type": "text"
      },
      "source": [
        "<font color=\"red\">**Question:**\n",
        "    What is the 'click' frequency in the dataset?\n",
        "    <br>\n",
        "    Hint: 'click' is a binary output (0 or 1)\n",
        "</font>"
      ]
    },
    {
      "cell_type": "code",
      "metadata": {
        "id": "l-1q2lVuYcUS",
        "colab_type": "code",
        "outputId": "a9aaacc9-a693-4157-fa21-613a97d4ab1b",
        "colab": {
          "base_uri": "https://localhost:8080/",
          "height": 170
        }
      },
      "source": [
        "df['click'].describe() # Fill here"
      ],
      "execution_count": 81,
      "outputs": [
        {
          "output_type": "execute_result",
          "data": {
            "text/plain": [
              "count    1000000.000000\n",
              "mean           0.169971\n",
              "std            0.375608\n",
              "min            0.000000\n",
              "25%            0.000000\n",
              "50%            0.000000\n",
              "75%            0.000000\n",
              "max            1.000000\n",
              "Name: click, dtype: float64"
            ]
          },
          "metadata": {
            "tags": []
          },
          "execution_count": 81
        }
      ]
    },
    {
      "cell_type": "markdown",
      "metadata": {
        "id": "OTyZBmSrKR1z",
        "colab_type": "text"
      },
      "source": [
        "The frequency of 'click' is 17% (mean property is equivalent to frequency with a binary output)"
      ]
    },
    {
      "cell_type": "markdown",
      "metadata": {
        "id": "6dFgRBOeYcUY",
        "colab_type": "text"
      },
      "source": [
        "We note that the Avazu dataset is very unbalanced. The 'click' class represents less than a fifth of the whole database. We already know that a classifier always predicting 'click'=0 will have good preformances in terms of error rate (around 0.17). The ROC and lift curves will be better performance metrics."
      ]
    },
    {
      "cell_type": "markdown",
      "metadata": {
        "id": "BFGwt6vTYcUa",
        "colab_type": "text"
      },
      "source": [
        "<font color=\"red\">**Question:**\n",
        "    What are the categorical features? Using the 'df.nunique()' method, compute the number of distincts values for each of these features.\n",
        "</font>"
      ]
    },
    {
      "cell_type": "code",
      "metadata": {
        "id": "2eLXMTTkYcUb",
        "colab_type": "code",
        "outputId": "f3d0ba7d-6a0d-4bef-b5a3-129804d20b09",
        "colab": {
          "base_uri": "https://localhost:8080/",
          "height": 442
        }
      },
      "source": [
        "df.nunique() # Fill here"
      ],
      "execution_count": 82,
      "outputs": [
        {
          "output_type": "execute_result",
          "data": {
            "text/plain": [
              "id                  1000000\n",
              "click                     2\n",
              "hour                    240\n",
              "C1                        7\n",
              "banner_pos                7\n",
              "site_id                2651\n",
              "site_domain            2871\n",
              "site_category            22\n",
              "app_id                 3157\n",
              "app_domain              198\n",
              "app_category             26\n",
              "device_id            150501\n",
              "device_ip            555248\n",
              "device_model           5168\n",
              "device_type               5\n",
              "device_conn_type          4\n",
              "C14                    2243\n",
              "C15                       8\n",
              "C16                       9\n",
              "C17                     420\n",
              "C18                       4\n",
              "C19                      66\n",
              "C20                     163\n",
              "C21                      60\n",
              "dtype: int64"
            ]
          },
          "metadata": {
            "tags": []
          },
          "execution_count": 82
        }
      ]
    },
    {
      "cell_type": "markdown",
      "metadata": {
        "colab_type": "text",
        "id": "0lirn-2rfmn_"
      },
      "source": [
        "All features are categorical except for id and click.\n",
        "\n",
        "\n",
        "\n"
      ]
    },
    {
      "cell_type": "markdown",
      "metadata": {
        "id": "OGJwlJ6VYcUj",
        "colab_type": "text"
      },
      "source": [
        "<font color=\"red\">**Question:**\n",
        "    If one does a dummy encoding of all categorical variables, what would be the dimension of the model?\n",
        "    In other words: what would be the dimension of our big feature vector encoded with dummies. \n",
        "    <br>\n",
        "    Hint: if you have just 1 feature with 3 categories A, B and C, you would have a vector of dimension 3 (or 2 if you use drop_first=True).\n",
        "</font>"
      ]
    },
    {
      "cell_type": "code",
      "metadata": {
        "id": "DL2wN3tXYcUk",
        "colab_type": "code",
        "outputId": "3b3b20b1-9f64-42b6-c5bf-e6805dd92049",
        "colab": {
          "base_uri": "https://localhost:8080/",
          "height": 34
        }
      },
      "source": [
        "df.nunique().values[2:].sum()"
      ],
      "execution_count": 83,
      "outputs": [
        {
          "output_type": "execute_result",
          "data": {
            "text/plain": [
              "723078"
            ]
          },
          "metadata": {
            "tags": []
          },
          "execution_count": 83
        }
      ]
    },
    {
      "cell_type": "markdown",
      "metadata": {
        "colab_type": "text",
        "id": "4sfr6kkTfn1_"
      },
      "source": [
        "It would be a 723078 dimensions vector (without drop_first=True)"
      ]
    },
    {
      "cell_type": "markdown",
      "metadata": {
        "id": "_PYpWlX6YcUq",
        "colab_type": "text"
      },
      "source": [
        "<font color=\"red\">**Question:**\n",
        "    Analyze the 'hour' column: which format is used? How can we transform/simply this feature?\n",
        "</font>"
      ]
    },
    {
      "cell_type": "code",
      "metadata": {
        "id": "zfbvfYBfYcUr",
        "colab_type": "code",
        "outputId": "6d5b7813-1e92-4a02-b9b8-2a795bf41ffd",
        "colab": {
          "base_uri": "https://localhost:8080/",
          "height": 221
        }
      },
      "source": [
        "print(df['hour'].head()) # Fill here\n",
        "print(df['hour'].tail()) # Fill here"
      ],
      "execution_count": 84,
      "outputs": [
        {
          "output_type": "stream",
          "text": [
            "0    14102915\n",
            "1    14103007\n",
            "2    14102711\n",
            "3    14102903\n",
            "4    14102902\n",
            "Name: hour, dtype: int64\n",
            "999995    14102602\n",
            "999996    14102101\n",
            "999997    14102318\n",
            "999998    14102908\n",
            "999999    14102600\n",
            "Name: hour, dtype: int64\n"
          ],
          "name": "stdout"
        }
      ]
    },
    {
      "cell_type": "markdown",
      "metadata": {
        "colab_type": "text",
        "id": "Wyc_XCRmfoWk"
      },
      "source": [
        "Format used for date: Int (Year/Month/Day/Hour)"
      ]
    },
    {
      "cell_type": "markdown",
      "metadata": {
        "id": "oTQo-GPRYcUw",
        "colab_type": "text"
      },
      "source": [
        "<font color=\"red\">**Question:**\n",
        "    Run and understand the following script.\n",
        "</font>"
      ]
    },
    {
      "cell_type": "code",
      "metadata": {
        "id": "kOKSh2RjYcUz",
        "colab_type": "code",
        "outputId": "8cd98c15-2b87-40f6-8434-002e0c04e163",
        "colab": {
          "base_uri": "https://localhost:8080/",
          "height": 34
        }
      },
      "source": [
        "import datetime\n",
        "\n",
        "def datesplit(originalDate):\n",
        "    originalDate = str(originalDate)\n",
        "    \n",
        "    year = int(\"20\" + originalDate[0:2])\n",
        "    month = int(originalDate[2:4])\n",
        "    day = int(originalDate[4:6])\n",
        "    hour = int(originalDate[6:8])\n",
        "    \n",
        "    return datetime.datetime(year, month, day, hour)\n",
        "\n",
        "# Exemple :\n",
        "datesplit(14102915).weekday(), datesplit(14102915).hour"
      ],
      "execution_count": 85,
      "outputs": [
        {
          "output_type": "execute_result",
          "data": {
            "text/plain": [
              "(2, 15)"
            ]
          },
          "metadata": {
            "tags": []
          },
          "execution_count": 85
        }
      ]
    },
    {
      "cell_type": "markdown",
      "metadata": {
        "id": "nTdTpxMCq8KE",
        "colab_type": "text"
      },
      "source": [
        "The datesplit function extracts the year, month, day and hour of the hour column feature."
      ]
    },
    {
      "cell_type": "markdown",
      "metadata": {
        "id": "CrRiyg01YcU4",
        "colab_type": "text"
      },
      "source": [
        "<font color=\"red\">**Question:**\n",
        "    Using the \".apply( ... )\" method, create a 'weekday' for the day of the week. Then, replace the 'hour' column by the hour.\n",
        "</font>"
      ]
    },
    {
      "cell_type": "markdown",
      "metadata": {
        "id": "hFhI2HFgYcU6",
        "colab_type": "text"
      },
      "source": [
        "To answer this question you have to understand that applies takes a function as argument\n",
        "<br>\n",
        "\"lambda x: ... \" is used to create local unamed function of x\n",
        "<br>\n",
        "Check the documentation: https://docs.python.org/3/tutorial/controlflow.html#lambda-expressions"
      ]
    },
    {
      "cell_type": "code",
      "metadata": {
        "id": "nDWxoncVYcU7",
        "colab_type": "code",
        "outputId": "42c60281-be84-42c2-a5b9-9b15b9fd852f",
        "colab": {
          "base_uri": "https://localhost:8080/",
          "height": 224
        }
      },
      "source": [
        "df['weekday'] = df['hour'].apply(lambda x: datesplit(x).weekday()) # Fill here\n",
        "df['hour'] = df['hour'].apply(lambda x: datesplit(x).hour ) # Fill here\n",
        "df.head()"
      ],
      "execution_count": 86,
      "outputs": [
        {
          "output_type": "execute_result",
          "data": {
            "text/html": [
              "<div>\n",
              "<style scoped>\n",
              "    .dataframe tbody tr th:only-of-type {\n",
              "        vertical-align: middle;\n",
              "    }\n",
              "\n",
              "    .dataframe tbody tr th {\n",
              "        vertical-align: top;\n",
              "    }\n",
              "\n",
              "    .dataframe thead th {\n",
              "        text-align: right;\n",
              "    }\n",
              "</style>\n",
              "<table border=\"1\" class=\"dataframe\">\n",
              "  <thead>\n",
              "    <tr style=\"text-align: right;\">\n",
              "      <th></th>\n",
              "      <th>id</th>\n",
              "      <th>click</th>\n",
              "      <th>hour</th>\n",
              "      <th>C1</th>\n",
              "      <th>banner_pos</th>\n",
              "      <th>site_id</th>\n",
              "      <th>site_domain</th>\n",
              "      <th>site_category</th>\n",
              "      <th>app_id</th>\n",
              "      <th>app_domain</th>\n",
              "      <th>app_category</th>\n",
              "      <th>device_id</th>\n",
              "      <th>device_ip</th>\n",
              "      <th>device_model</th>\n",
              "      <th>device_type</th>\n",
              "      <th>device_conn_type</th>\n",
              "      <th>C14</th>\n",
              "      <th>C15</th>\n",
              "      <th>C16</th>\n",
              "      <th>C17</th>\n",
              "      <th>C18</th>\n",
              "      <th>C19</th>\n",
              "      <th>C20</th>\n",
              "      <th>C21</th>\n",
              "      <th>weekday</th>\n",
              "    </tr>\n",
              "  </thead>\n",
              "  <tbody>\n",
              "    <tr>\n",
              "      <th>0</th>\n",
              "      <td>3.983206e+18</td>\n",
              "      <td>0</td>\n",
              "      <td>15</td>\n",
              "      <td>1005</td>\n",
              "      <td>1</td>\n",
              "      <td>e151e245</td>\n",
              "      <td>7e091613</td>\n",
              "      <td>f028772b</td>\n",
              "      <td>ecad2386</td>\n",
              "      <td>7801e8d9</td>\n",
              "      <td>07d7df22</td>\n",
              "      <td>a99f214a</td>\n",
              "      <td>fb6566d3</td>\n",
              "      <td>be87996b</td>\n",
              "      <td>1</td>\n",
              "      <td>2</td>\n",
              "      <td>4687</td>\n",
              "      <td>320</td>\n",
              "      <td>50</td>\n",
              "      <td>423</td>\n",
              "      <td>2</td>\n",
              "      <td>39</td>\n",
              "      <td>100148</td>\n",
              "      <td>32</td>\n",
              "      <td>2</td>\n",
              "    </tr>\n",
              "    <tr>\n",
              "      <th>1</th>\n",
              "      <td>7.756884e+18</td>\n",
              "      <td>0</td>\n",
              "      <td>7</td>\n",
              "      <td>1002</td>\n",
              "      <td>0</td>\n",
              "      <td>cb809abf</td>\n",
              "      <td>74acf31a</td>\n",
              "      <td>50e219e0</td>\n",
              "      <td>ecad2386</td>\n",
              "      <td>7801e8d9</td>\n",
              "      <td>07d7df22</td>\n",
              "      <td>9b7af851</td>\n",
              "      <td>ac5a4a77</td>\n",
              "      <td>7e6190f3</td>\n",
              "      <td>0</td>\n",
              "      <td>0</td>\n",
              "      <td>17894</td>\n",
              "      <td>320</td>\n",
              "      <td>50</td>\n",
              "      <td>2039</td>\n",
              "      <td>2</td>\n",
              "      <td>39</td>\n",
              "      <td>100077</td>\n",
              "      <td>32</td>\n",
              "      <td>3</td>\n",
              "    </tr>\n",
              "    <tr>\n",
              "      <th>2</th>\n",
              "      <td>6.941774e+17</td>\n",
              "      <td>0</td>\n",
              "      <td>11</td>\n",
              "      <td>1005</td>\n",
              "      <td>0</td>\n",
              "      <td>85f751fd</td>\n",
              "      <td>c4e18dd6</td>\n",
              "      <td>50e219e0</td>\n",
              "      <td>e9739828</td>\n",
              "      <td>df32afa9</td>\n",
              "      <td>cef3e649</td>\n",
              "      <td>a99f214a</td>\n",
              "      <td>748e298a</td>\n",
              "      <td>3c55fad5</td>\n",
              "      <td>1</td>\n",
              "      <td>0</td>\n",
              "      <td>22684</td>\n",
              "      <td>320</td>\n",
              "      <td>50</td>\n",
              "      <td>2619</td>\n",
              "      <td>1</td>\n",
              "      <td>163</td>\n",
              "      <td>100055</td>\n",
              "      <td>71</td>\n",
              "      <td>0</td>\n",
              "    </tr>\n",
              "    <tr>\n",
              "      <th>3</th>\n",
              "      <td>2.664154e+18</td>\n",
              "      <td>1</td>\n",
              "      <td>3</td>\n",
              "      <td>1005</td>\n",
              "      <td>0</td>\n",
              "      <td>85f751fd</td>\n",
              "      <td>c4e18dd6</td>\n",
              "      <td>50e219e0</td>\n",
              "      <td>a5184c22</td>\n",
              "      <td>b8d325c3</td>\n",
              "      <td>0f2161f8</td>\n",
              "      <td>a99f214a</td>\n",
              "      <td>a50da3d4</td>\n",
              "      <td>c5cc73c1</td>\n",
              "      <td>1</td>\n",
              "      <td>0</td>\n",
              "      <td>23222</td>\n",
              "      <td>320</td>\n",
              "      <td>50</td>\n",
              "      <td>2676</td>\n",
              "      <td>0</td>\n",
              "      <td>35</td>\n",
              "      <td>100176</td>\n",
              "      <td>221</td>\n",
              "      <td>2</td>\n",
              "    </tr>\n",
              "    <tr>\n",
              "      <th>4</th>\n",
              "      <td>1.480510e+19</td>\n",
              "      <td>0</td>\n",
              "      <td>2</td>\n",
              "      <td>1005</td>\n",
              "      <td>1</td>\n",
              "      <td>791b5571</td>\n",
              "      <td>fd13bc73</td>\n",
              "      <td>f028772b</td>\n",
              "      <td>ecad2386</td>\n",
              "      <td>7801e8d9</td>\n",
              "      <td>07d7df22</td>\n",
              "      <td>a99f214a</td>\n",
              "      <td>d5f88679</td>\n",
              "      <td>a5bce124</td>\n",
              "      <td>1</td>\n",
              "      <td>0</td>\n",
              "      <td>8330</td>\n",
              "      <td>320</td>\n",
              "      <td>50</td>\n",
              "      <td>761</td>\n",
              "      <td>3</td>\n",
              "      <td>175</td>\n",
              "      <td>100081</td>\n",
              "      <td>23</td>\n",
              "      <td>2</td>\n",
              "    </tr>\n",
              "  </tbody>\n",
              "</table>\n",
              "</div>"
            ],
            "text/plain": [
              "             id  click  hour    C1  banner_pos  ... C18  C19     C20  C21 weekday\n",
              "0  3.983206e+18      0    15  1005           1  ...   2   39  100148   32       2\n",
              "1  7.756884e+18      0     7  1002           0  ...   2   39  100077   32       3\n",
              "2  6.941774e+17      0    11  1005           0  ...   1  163  100055   71       0\n",
              "3  2.664154e+18      1     3  1005           0  ...   0   35  100176  221       2\n",
              "4  1.480510e+19      0     2  1005           1  ...   3  175  100081   23       2\n",
              "\n",
              "[5 rows x 25 columns]"
            ]
          },
          "metadata": {
            "tags": []
          },
          "execution_count": 86
        }
      ]
    },
    {
      "cell_type": "markdown",
      "metadata": {
        "id": "t7e9LOv6YcU_",
        "colab_type": "text"
      },
      "source": [
        "<font color=\"red\">**Question:**\n",
        "    Using the \".groupby( ... )\" method, visualize the influence of the hour and of the day on the 'click' frequency (take the \".mean()\"!). To do so, plot 'click' vs 'hour' and 'click' vs 'weekday' curves.\n",
        "    <br>\n",
        "    Precise the name of the axes.\n",
        "</font>"
      ]
    },
    {
      "cell_type": "code",
      "metadata": {
        "id": "fLJVdQ-6YcVA",
        "colab_type": "code",
        "outputId": "6a4fe7c3-8132-493e-e796-ca39c219396c",
        "colab": {
          "base_uri": "https://localhost:8080/",
          "height": 612
        }
      },
      "source": [
        "print(df.groupby('hour').mean()['click']) # Fill here for the influence of the hour\n",
        "print(df.groupby('weekday').mean()['click']) # Fill here for the influence of the day"
      ],
      "execution_count": 87,
      "outputs": [
        {
          "output_type": "stream",
          "text": [
            "hour\n",
            "0     0.182707\n",
            "1     0.185734\n",
            "2     0.175552\n",
            "3     0.175367\n",
            "4     0.159664\n",
            "5     0.162126\n",
            "6     0.169315\n",
            "7     0.177490\n",
            "8     0.163418\n",
            "9     0.159042\n",
            "10    0.162613\n",
            "11    0.171025\n",
            "12    0.171659\n",
            "13    0.168032\n",
            "14    0.178075\n",
            "15    0.183737\n",
            "16    0.180076\n",
            "17    0.173271\n",
            "18    0.164072\n",
            "19    0.165725\n",
            "20    0.158402\n",
            "21    0.162384\n",
            "22    0.166847\n",
            "23    0.170733\n",
            "Name: click, dtype: float64\n",
            "weekday\n",
            "0    0.183143\n",
            "1    0.161577\n",
            "2    0.158675\n",
            "3    0.173795\n",
            "4    0.173392\n",
            "5    0.183995\n",
            "6    0.183105\n",
            "Name: click, dtype: float64\n"
          ],
          "name": "stdout"
        }
      ]
    },
    {
      "cell_type": "code",
      "metadata": {
        "id": "QD2kpLa-YcVF",
        "colab_type": "code",
        "outputId": "cb7b10e5-0cba-4e8b-f6a1-605e57999090",
        "colab": {
          "base_uri": "https://localhost:8080/",
          "height": 296
        }
      },
      "source": [
        "plt.plot(df.groupby('hour').mean()['click']) # Fill here for the influence of the hour\n",
        "plt.xlabel('Hour')\n",
        "plt.ylabel('Clicks frequency')"
      ],
      "execution_count": 88,
      "outputs": [
        {
          "output_type": "execute_result",
          "data": {
            "text/plain": [
              "Text(0, 0.5, 'Clicks frequency')"
            ]
          },
          "metadata": {
            "tags": []
          },
          "execution_count": 88
        },
        {
          "output_type": "display_data",
          "data": {
            "image/png": "[encoded data removed]",
            "text/plain": [
              "<Figure size 432x288 with 1 Axes>"
            ]
          },
          "metadata": {
            "tags": []
          }
        }
      ]
    },
    {
      "cell_type": "code",
      "metadata": {
        "id": "o3fFdYYTYcVW",
        "colab_type": "code",
        "outputId": "bb7dc91b-a9e9-4b7f-c788-7c135970a8bd",
        "colab": {
          "base_uri": "https://localhost:8080/",
          "height": 298
        }
      },
      "source": [
        "plt.plot(df.groupby('weekday').mean()['click']); # Fill here for the influence of the day\n",
        "plt.xlabel('Weekday')\n",
        "plt.ylabel('Clicks frequency')"
      ],
      "execution_count": 89,
      "outputs": [
        {
          "output_type": "execute_result",
          "data": {
            "text/plain": [
              "Text(0, 0.5, 'Clicks frequency')"
            ]
          },
          "metadata": {
            "tags": []
          },
          "execution_count": 89
        },
        {
          "output_type": "display_data",
          "data": {
            "image/png": "[encoded data removed]",
            "text/plain": [
              "<Figure size 432x288 with 1 Axes>"
            ]
          },
          "metadata": {
            "tags": []
          }
        }
      ]
    },
    {
      "cell_type": "markdown",
      "metadata": {
        "id": "Aw0uqHqTYcVd",
        "colab_type": "text"
      },
      "source": [
        "# Preliminary work and first model"
      ]
    },
    {
      "cell_type": "markdown",
      "metadata": {
        "id": "6hlQCIDoYcVf",
        "colab_type": "text"
      },
      "source": [
        "Start by understanding the features with few modalities:\n",
        "'hour', 'weekday', 'C1', 'banner_pos', 'site_category', 'app_category', 'device_type', 'device_conn_type', 'C15', 'C16', 'C18', 'C21'."
      ]
    },
    {
      "cell_type": "markdown",
      "metadata": {
        "id": "pl8OmuiOYcVg",
        "colab_type": "text"
      },
      "source": [
        "<font color=\"red\">**Question:**\n",
        "    For instance, inspect the columns 'C15' (dimension of the advert) and 'site_category': visualize the clicks mean.\n",
        "</font>"
      ]
    },
    {
      "cell_type": "code",
      "metadata": {
        "id": "T0_3X-c3YcVi",
        "colab_type": "code",
        "outputId": "8fc8e88e-773e-4972-edbd-6eed9f5505e4",
        "colab": {
          "base_uri": "https://localhost:8080/",
          "height": 187
        }
      },
      "source": [
        "print(df.groupby('C15').mean()['click']) # Fill here: inspect 'C15' using '.groupby'"
      ],
      "execution_count": 90,
      "outputs": [
        {
          "output_type": "stream",
          "text": [
            "C15\n",
            "120     0.033708\n",
            "216     0.129612\n",
            "300     0.360537\n",
            "320     0.158767\n",
            "480     0.285714\n",
            "728     0.054144\n",
            "768     0.375000\n",
            "1024    0.166667\n",
            "Name: click, dtype: float64\n"
          ],
          "name": "stdout"
        }
      ]
    },
    {
      "cell_type": "code",
      "metadata": {
        "id": "BjHI9kpZYcVm",
        "colab_type": "code",
        "outputId": "95ab4a1f-aa99-4499-c9f8-9a7fdb43aa95",
        "colab": {
          "base_uri": "https://localhost:8080/",
          "height": 425
        }
      },
      "source": [
        "print(df.groupby('site_category').mean()['click']) # Fill here: inspect 'site_category' using '.groupby'"
      ],
      "execution_count": 91,
      "outputs": [
        {
          "output_type": "stream",
          "text": [
            "site_category\n",
            "0569f928    0.053613\n",
            "28905ebd    0.208076\n",
            "335d28a8    0.089824\n",
            "3e814130    0.284245\n",
            "42a36e14    0.225806\n",
            "50e219e0    0.128597\n",
            "5378d028    0.000000\n",
            "70fb0e29    0.144737\n",
            "72722551    0.059172\n",
            "75fa27f6    0.111305\n",
            "76b2941d    0.035756\n",
            "8fd0aea4    0.015873\n",
            "9ccfa2ea    0.000000\n",
            "a818d37a    0.000000\n",
            "bcf865d9    0.000000\n",
            "c0dd3be3    0.128655\n",
            "c706e647    0.000000\n",
            "da34532e    0.000000\n",
            "dedf689d    0.530449\n",
            "e787de0e    0.000000\n",
            "f028772b    0.179719\n",
            "f66779e6    0.034564\n",
            "Name: click, dtype: float64\n"
          ],
          "name": "stdout"
        }
      ]
    },
    {
      "cell_type": "markdown",
      "metadata": {
        "id": "MLfdMT-qYcVr",
        "colab_type": "text"
      },
      "source": [
        "<font color=\"red\">**Question:**\n",
        "    Some site categories have a null click rate. Why? Display the 'count()' of each modality.\n",
        "    <br><br>\n",
        "    Hint: you can use the method \".value_counts()\"\n",
        "</font>"
      ]
    },
    {
      "cell_type": "code",
      "metadata": {
        "id": "0FkctWqDYcVt",
        "colab_type": "code",
        "outputId": "2ea1f8ba-e8de-4847-dda7-4d19743e1adb",
        "colab": {
          "base_uri": "https://localhost:8080/",
          "height": 408
        }
      },
      "source": [
        "df['site_category'].value_counts() # Fill here"
      ],
      "execution_count": 92,
      "outputs": [
        {
          "output_type": "execute_result",
          "data": {
            "text/plain": [
              "50e219e0    408921\n",
              "f028772b    313339\n",
              "28905ebd    182020\n",
              "3e814130     75667\n",
              "f66779e6      6365\n",
              "75fa27f6      4007\n",
              "335d28a8      3351\n",
              "76b2941d      2573\n",
              "c0dd3be3      1026\n",
              "72722551       676\n",
              "dedf689d       624\n",
              "70fb0e29       608\n",
              "0569f928       429\n",
              "8fd0aea4       189\n",
              "a818d37a        81\n",
              "42a36e14        62\n",
              "e787de0e        28\n",
              "bcf865d9        16\n",
              "5378d028        11\n",
              "9ccfa2ea         5\n",
              "c706e647         1\n",
              "da34532e         1\n",
              "Name: site_category, dtype: int64"
            ]
          },
          "metadata": {
            "tags": []
          },
          "execution_count": 92
        }
      ]
    },
    {
      "cell_type": "markdown",
      "metadata": {
        "id": "ru25QWd0YcVy",
        "colab_type": "text"
      },
      "source": [
        "It is practical to visualize both columns in parallel:"
      ]
    },
    {
      "cell_type": "code",
      "metadata": {
        "id": "9JwsJNMGYcV0",
        "colab_type": "code",
        "outputId": "b64ef4c0-0269-4a1e-a00a-d73459f448fb",
        "colab": {
          "base_uri": "https://localhost:8080/",
          "height": 297
        }
      },
      "source": [
        "col = 'C1'\n",
        "a = pd.DataFrame([df.groupby(col).mean()['click'], df.groupby(col).count()['click']]).transpose()\n",
        "a.columns = ['mean', 'count']\n",
        "a.sort_values(by='count', ascending=False)"
      ],
      "execution_count": 93,
      "outputs": [
        {
          "output_type": "execute_result",
          "data": {
            "text/html": [
              "<div>\n",
              "<style scoped>\n",
              "    .dataframe tbody tr th:only-of-type {\n",
              "        vertical-align: middle;\n",
              "    }\n",
              "\n",
              "    .dataframe tbody tr th {\n",
              "        vertical-align: top;\n",
              "    }\n",
              "\n",
              "    .dataframe thead th {\n",
              "        text-align: right;\n",
              "    }\n",
              "</style>\n",
              "<table border=\"1\" class=\"dataframe\">\n",
              "  <thead>\n",
              "    <tr style=\"text-align: right;\">\n",
              "      <th></th>\n",
              "      <th>mean</th>\n",
              "      <th>count</th>\n",
              "    </tr>\n",
              "    <tr>\n",
              "      <th>C1</th>\n",
              "      <th></th>\n",
              "      <th></th>\n",
              "    </tr>\n",
              "  </thead>\n",
              "  <tbody>\n",
              "    <tr>\n",
              "      <th>1005</th>\n",
              "      <td>0.169474</td>\n",
              "      <td>918606.0</td>\n",
              "    </tr>\n",
              "    <tr>\n",
              "      <th>1002</th>\n",
              "      <td>0.211157</td>\n",
              "      <td>54907.0</td>\n",
              "    </tr>\n",
              "    <tr>\n",
              "      <th>1010</th>\n",
              "      <td>0.095497</td>\n",
              "      <td>22409.0</td>\n",
              "    </tr>\n",
              "    <tr>\n",
              "      <th>1012</th>\n",
              "      <td>0.177295</td>\n",
              "      <td>2854.0</td>\n",
              "    </tr>\n",
              "    <tr>\n",
              "      <th>1007</th>\n",
              "      <td>0.035591</td>\n",
              "      <td>871.0</td>\n",
              "    </tr>\n",
              "    <tr>\n",
              "      <th>1001</th>\n",
              "      <td>0.027027</td>\n",
              "      <td>222.0</td>\n",
              "    </tr>\n",
              "    <tr>\n",
              "      <th>1008</th>\n",
              "      <td>0.106870</td>\n",
              "      <td>131.0</td>\n",
              "    </tr>\n",
              "  </tbody>\n",
              "</table>\n",
              "</div>"
            ],
            "text/plain": [
              "          mean     count\n",
              "C1                      \n",
              "1005  0.169474  918606.0\n",
              "1002  0.211157   54907.0\n",
              "1010  0.095497   22409.0\n",
              "1012  0.177295    2854.0\n",
              "1007  0.035591     871.0\n",
              "1001  0.027027     222.0\n",
              "1008  0.106870     131.0"
            ]
          },
          "metadata": {
            "tags": []
          },
          "execution_count": 93
        }
      ]
    },
    {
      "cell_type": "markdown",
      "metadata": {
        "colab_type": "text",
        "id": "a07QsALahvnV"
      },
      "source": [
        "Some categories has a null click rate because they only appear once in the whole dataset (for exemple c706e647 or da34532e categories), which is very small compared to the size of the dataset."
      ]
    },
    {
      "cell_type": "markdown",
      "metadata": {
        "id": "5iAVEnE4YcV5",
        "colab_type": "text"
      },
      "source": [
        "<font color=\"red\">**Question:**\n",
        "    Divide the dataset into a training and test set with sklearn (use the following options: test_size=0.1, random_state=100).\n",
        "    <br>\n",
        "    Warning: do not use 'id' as a feature.\n",
        "</font>"
      ]
    },
    {
      "cell_type": "code",
      "metadata": {
        "id": "7Mc0hmCsYcV7",
        "colab_type": "code",
        "colab": {}
      },
      "source": [
        "from sklearn.model_selection import train_test_split\n",
        "Xtrain, Xtest, ytrain, ytest = train_test_split(df.drop(['id', 'click'], axis=1), df['click'], random_state=100, test_size=0.1)"
      ],
      "execution_count": 0,
      "outputs": []
    },
    {
      "cell_type": "markdown",
      "metadata": {
        "id": "y94Vsm-wYcV_",
        "colab_type": "text"
      },
      "source": [
        "# First work on a reduced number of features"
      ]
    },
    {
      "cell_type": "markdown",
      "metadata": {
        "id": "HffuIJthYcV_",
        "colab_type": "text"
      },
      "source": [
        "<font color=\"red\">**Question:**\n",
        "    Put in a list the selected columns: 'hour', 'weekday', 'C1', 'banner_pos', 'site_category', 'app_category', 'device_type', 'device_conn_type', 'C15', 'C16', 'C18', 'C21'.\n",
        "</font>"
      ]
    },
    {
      "cell_type": "code",
      "metadata": {
        "id": "b87fxoxuYcWB",
        "colab_type": "code",
        "colab": {}
      },
      "source": [
        "some_columns = ['hour', 'weekday', 'C1', 'banner_pos', 'site_category', 'app_category', \n",
        "                'device_type', 'device_conn_type', 'C15', 'C16', 'C18', 'C21']"
      ],
      "execution_count": 0,
      "outputs": []
    },
    {
      "cell_type": "markdown",
      "metadata": {
        "id": "bZQ0i2YMYcWD",
        "colab_type": "text"
      },
      "source": [
        "<font color=\"red\"> - Importer CategoricalEncoder de sklearn.preprocessing.  \n",
        "- Fitter le CategoricalEncoder sur les données de train restreintes aux colonnes ci-dessus.  \n",
        "- Transformer les données de train et de test en dummies.\n",
        "</font>"
      ]
    },
    {
      "cell_type": "markdown",
      "metadata": {
        "id": "bLD-KxNcYcWF",
        "colab_type": "text"
      },
      "source": [
        "<font color=\"red\">**Question:**\n",
        "    <br>\n",
        "    - Import OneHotEncoder from sklearn.preprocessing\n",
        "    <br>\n",
        "    - Transform the training and the test data restricted to the selected columns\n",
        "</font>"
      ]
    },
    {
      "cell_type": "code",
      "metadata": {
        "id": "GDx0mpYYYcWG",
        "colab_type": "code",
        "colab": {}
      },
      "source": [
        "from sklearn.preprocessing import OneHotEncoder\n",
        "ohe = OneHotEncoder()\n",
        "Xtrain_oh = ohe.fit_transform(Xtrain[some_columns]) # fit the transformation of Xtrain restricted to selected columns\n",
        "Xtest_oh = ohe.transform(Xtest[some_columns]) # and transform Xtest restricted to selected columns"
      ],
      "execution_count": 0,
      "outputs": []
    },
    {
      "cell_type": "markdown",
      "metadata": {
        "id": "FN5GjuyzYcWI",
        "colab_type": "text"
      },
      "source": [
        "<font color=\"red\">**Question:**\n",
        "    What is the new number of features?\n",
        "</font>"
      ]
    },
    {
      "cell_type": "code",
      "metadata": {
        "id": "Syvv31BuYcWL",
        "colab_type": "code",
        "outputId": "18eb6938-d8e4-4a19-ab32-c23ff7b06e3f",
        "colab": {
          "base_uri": "https://localhost:8080/",
          "height": 34
        }
      },
      "source": [
        "Xtrain_oh.shape"
      ],
      "execution_count": 97,
      "outputs": [
        {
          "output_type": "execute_result",
          "data": {
            "text/plain": [
              "(900000, 183)"
            ]
          },
          "metadata": {
            "tags": []
          },
          "execution_count": 97
        }
      ]
    },
    {
      "cell_type": "markdown",
      "metadata": {
        "colab_type": "text",
        "id": "X2JQVVfTi4Zs"
      },
      "source": [
        "New number of features: 183"
      ]
    },
    {
      "cell_type": "markdown",
      "metadata": {
        "id": "HUWRg9VaYcWQ",
        "colab_type": "text"
      },
      "source": [
        "<font color=\"red\">**Question:**\n",
        "    Visualize the first row of the design matrix you have got. Do not forget to convert it into a \"numpy.array\" using the method \".toarray()\".\n",
        "</font>"
      ]
    },
    {
      "cell_type": "code",
      "metadata": {
        "id": "KteEhxlwYcWR",
        "colab_type": "code",
        "outputId": "a139eb78-4564-4536-f8ca-c60a69412e0c",
        "colab": {
          "base_uri": "https://localhost:8080/",
          "height": 153
        }
      },
      "source": [
        "Xtrain_oh = Xtrain_oh.toarray()\n",
        "print(Xtrain_oh[0])"
      ],
      "execution_count": 98,
      "outputs": [
        {
          "output_type": "stream",
          "text": [
            "[0. 0. 0. 0. 0. 0. 0. 0. 0. 0. 1. 0. 0. 0. 0. 0. 0. 0. 0. 0. 0. 0. 0. 0.\n",
            " 1. 0. 0. 0. 0. 0. 0. 0. 0. 0. 0. 0. 1. 0. 0. 1. 0. 0. 0. 0. 0. 0. 0. 0.\n",
            " 0. 0. 1. 0. 0. 0. 0. 0. 0. 0. 0. 0. 0. 0. 0. 0. 0. 0. 0. 0. 0. 0. 1. 0.\n",
            " 0. 0. 0. 0. 0. 0. 0. 0. 0. 0. 0. 0. 0. 0. 0. 0. 0. 0. 0. 0. 0. 0. 0. 0.\n",
            " 1. 0. 0. 0. 1. 0. 0. 0. 0. 1. 0. 0. 0. 0. 0. 0. 1. 0. 0. 0. 0. 0. 0. 1.\n",
            " 0. 0. 0. 0. 0. 0. 0. 0. 0. 0. 0. 0. 0. 0. 0. 0. 0. 0. 0. 0. 0. 0. 0. 0.\n",
            " 0. 1. 0. 0. 0. 0. 0. 0. 0. 0. 0. 0. 0. 0. 0. 0. 0. 0. 0. 0. 0. 0. 0. 0.\n",
            " 0. 0. 0. 0. 0. 0. 0. 0. 0. 0. 0. 0. 0. 0. 0.]\n"
          ],
          "name": "stdout"
        }
      ]
    },
    {
      "cell_type": "markdown",
      "metadata": {
        "id": "GcIpiLHYYcWU",
        "colab_type": "text"
      },
      "source": [
        "<font color=\"red\">**Question:**\n",
        "    Import and fit a logistic regression model on your the encoded data.\n",
        "</font>"
      ]
    },
    {
      "cell_type": "code",
      "metadata": {
        "id": "r8a0SxavYcWV",
        "colab_type": "code",
        "outputId": "7a3248e6-b3ba-4bac-ef3b-77db84a7da58",
        "colab": {
          "base_uri": "https://localhost:8080/",
          "height": 156
        }
      },
      "source": [
        "from sklearn.linear_model import LogisticRegression\n",
        "lr = LogisticRegression()\n",
        "lr.fit(Xtrain_oh, ytrain)"
      ],
      "execution_count": 99,
      "outputs": [
        {
          "output_type": "stream",
          "text": [
            "/usr/local/lib/python3.6/dist-packages/sklearn/linear_model/logistic.py:432: FutureWarning: Default solver will be changed to 'lbfgs' in 0.22. Specify a solver to silence this warning.\n",
            "  FutureWarning)\n"
          ],
          "name": "stderr"
        },
        {
          "output_type": "execute_result",
          "data": {
            "text/plain": [
              "LogisticRegression(C=1.0, class_weight=None, dual=False, fit_intercept=True,\n",
              "                   intercept_scaling=1, l1_ratio=None, max_iter=100,\n",
              "                   multi_class='warn', n_jobs=None, penalty='l2',\n",
              "                   random_state=None, solver='warn', tol=0.0001, verbose=0,\n",
              "                   warm_start=False)"
            ]
          },
          "metadata": {
            "tags": []
          },
          "execution_count": 99
        }
      ]
    },
    {
      "cell_type": "markdown",
      "metadata": {
        "id": "0iuQIQj-YcWZ",
        "colab_type": "text"
      },
      "source": [
        "<font color=\"red\">**Question:**\n",
        "    With '.predict' and 'predict_proba', display the hard and soft decision you get on test data.\n",
        "</font>"
      ]
    },
    {
      "cell_type": "code",
      "metadata": {
        "id": "TYiTfHIWYcWa",
        "colab_type": "code",
        "outputId": "ae9f4706-d9fa-4223-e7d6-afe2ff5dd05f",
        "colab": {
          "base_uri": "https://localhost:8080/",
          "height": 153
        }
      },
      "source": [
        "hard = lr.predict(Xtest_oh)\n",
        "print(hard)\n",
        "soft = lr.predict_proba(Xtest_oh)\n",
        "print(soft)"
      ],
      "execution_count": 100,
      "outputs": [
        {
          "output_type": "stream",
          "text": [
            "[0 0 0 ... 0 0 0]\n",
            "[[0.75813279 0.24186721]\n",
            " [0.73406323 0.26593677]\n",
            " [0.79694425 0.20305575]\n",
            " ...\n",
            " [0.79258462 0.20741538]\n",
            " [0.78551752 0.21448248]\n",
            " [0.87860935 0.12139065]]\n"
          ],
          "name": "stdout"
        }
      ]
    },
    {
      "cell_type": "markdown",
      "metadata": {
        "id": "npfzy9N3YcWc",
        "colab_type": "text"
      },
      "source": [
        "<font color=\"red\">**Question:**\n",
        "    Compute the probability of error using sklearn.metrics 'accuracy_score' function. Comment.\n",
        "</font>"
      ]
    },
    {
      "cell_type": "code",
      "metadata": {
        "id": "hIB33gPiYcWd",
        "colab_type": "code",
        "outputId": "26539a86-c9ff-405c-8195-69db3dfa7f17",
        "colab": {
          "base_uri": "https://localhost:8080/",
          "height": 34
        }
      },
      "source": [
        "from sklearn.metrics import accuracy_score\n",
        "accuracy_score(ytest, hard)"
      ],
      "execution_count": 101,
      "outputs": [
        {
          "output_type": "execute_result",
          "data": {
            "text/plain": [
              "0.83043"
            ]
          },
          "metadata": {
            "tags": []
          },
          "execution_count": 101
        }
      ]
    },
    {
      "cell_type": "markdown",
      "metadata": {
        "colab_type": "text",
        "id": "Pdi72JJUoYb_"
      },
      "source": [
        "The accuracy score is pretty high even if the prediction of the Logistic Regression is always the same : 0. We need the ROC curve to estimate the quality of our regression."
      ]
    },
    {
      "cell_type": "markdown",
      "metadata": {
        "id": "ER4oZTUjYcWf",
        "colab_type": "text"
      },
      "source": [
        "<font color=\"red\">**Question:**\n",
        "    Plot the ROC curve. Then compute the log loss and the Area Under the Curve ROC.\n",
        "</font>"
      ]
    },
    {
      "cell_type": "code",
      "metadata": {
        "id": "Mj-LeKtqYcWf",
        "colab_type": "code",
        "outputId": "fc6f2240-d8a4-4ab9-efce-c8a0f1a75530",
        "colab": {
          "base_uri": "https://localhost:8080/",
          "height": 390
        }
      },
      "source": [
        "from sklearn.metrics import roc_curve\n",
        "\n",
        "false_pos_rate, true_pos_rate, _ = roc_curve(ytest, soft[:,1])\n",
        "false_pos_rate =  false_pos_rate.astype('float')\n",
        "print(false_pos_rate)\n",
        "true_pos_rate =  true_pos_rate.astype('float')\n",
        "print(true_pos_rate)\n",
        "plt.plot(false_pos_rate, true_pos_rate)\n",
        "plt.grid()\n",
        "plt.plot([0, 1], [0, 1], 'r--')\n",
        "plt.xlabel('False Positive Rate', fontsize=16)\n",
        "plt.ylabel('True Positive Rate', fontsize=16)\n",
        "plt.title('ROC curve', fontsize=20)"
      ],
      "execution_count": 102,
      "outputs": [
        {
          "output_type": "stream",
          "text": [
            "[0.00000000e+00 1.20483379e-05 2.40966759e-05 ... 9.99915662e-01\n",
            " 9.99939758e-01 1.00000000e+00]\n",
            "[0.00000000e+00 0.00000000e+00 5.88200694e-05 ... 1.00000000e+00\n",
            " 1.00000000e+00 1.00000000e+00]\n"
          ],
          "name": "stdout"
        },
        {
          "output_type": "execute_result",
          "data": {
            "text/plain": [
              "Text(0.5, 1.0, 'ROC curve')"
            ]
          },
          "metadata": {
            "tags": []
          },
          "execution_count": 102
        },
        {
          "output_type": "display_data",
          "data": {
            "image/png": "[encoded data removed]",
            "text/plain": [
              "<Figure size 432x288 with 1 Axes>"
            ]
          },
          "metadata": {
            "tags": []
          }
        }
      ]
    },
    {
      "cell_type": "code",
      "metadata": {
        "id": "RNxlXhDhYcWi",
        "colab_type": "code",
        "outputId": "003bdb46-b342-49bf-f2c3-bbff72482c45",
        "colab": {
          "base_uri": "https://localhost:8080/",
          "height": 34
        }
      },
      "source": [
        "from sklearn.metrics import log_loss , roc_auc_score\n",
        "\n",
        "log_loss(ytest, soft[:,1]), roc_auc_score(ytest, soft[:,1])"
      ],
      "execution_count": 103,
      "outputs": [
        {
          "output_type": "execute_result",
          "data": {
            "text/plain": [
              "(0.42512042343317613, 0.6762982820621418)"
            ]
          },
          "metadata": {
            "tags": []
          },
          "execution_count": 103
        }
      ]
    },
    {
      "cell_type": "markdown",
      "metadata": {
        "id": "KPbreB3bYcWl",
        "colab_type": "text"
      },
      "source": [
        "<font color=\"red\">**Question:**\n",
        "    Import the 'plot_lift' function from 'utils.py' and plot the lift curve. What is the lift of the first fifth of the population identified by the test?\n",
        "</font>"
      ]
    },
    {
      "cell_type": "code",
      "metadata": {
        "id": "0VxLpfo9YcWl",
        "colab_type": "code",
        "outputId": "e68c9675-5e93-4142-9e5f-68e93ea1b5be",
        "colab": {
          "base_uri": "https://localhost:8080/",
          "height": 322
        }
      },
      "source": [
        "from utils import plotlift\n",
        "\n",
        "plotlift(ytest, soft[:,1])\n",
        "# The following line just plots a vertical line for you to answer the second part of the question\n",
        "plt.axvline(x= 0.2 , linestyle='--', color='r') # Fill here\n",
        "\n",
        "plt.xlabel('Proportion of the dataset', fontsize=16)\n",
        "plt.ylabel('Lift', fontsize=16)\n",
        "plt.title('Lift curve', fontsize=20)\n",
        "plt.plot()"
      ],
      "execution_count": 104,
      "outputs": [
        {
          "output_type": "execute_result",
          "data": {
            "text/plain": [
              "[]"
            ]
          },
          "metadata": {
            "tags": []
          },
          "execution_count": 104
        },
        {
          "output_type": "display_data",
          "data": {
            "image/png": "[encoded data removed]",
            "text/plain": [
              "<Figure size 432x288 with 1 Axes>"
            ]
          },
          "metadata": {
            "tags": []
          }
        }
      ]
    },
    {
      "cell_type": "markdown",
      "metadata": {
        "colab_type": "text",
        "id": "WM_lg75foaLV"
      },
      "source": [
        "The lift of the first fifth of the population is around 2.0."
      ]
    },
    {
      "cell_type": "markdown",
      "metadata": {
        "id": "cF3oNg2BYcWo",
        "colab_type": "text"
      },
      "source": [
        "# Complete model"
      ]
    },
    {
      "cell_type": "markdown",
      "metadata": {
        "id": "guGisntUYcWo",
        "colab_type": "text"
      },
      "source": [
        "As an example, we now focus on the 'site_id' column.\n",
        "\n",
        "<font color=\"red\">**Question:**\n",
        "    <br>\n",
        "    - For each modality, compute the number of occurrences in the dataset and the average of clicks for this modality \n",
        "    <br>\n",
        "    - With 'sns.joiplot', represent the set of points (count, mean) for each modality\n",
        "</font>"
      ]
    },
    {
      "cell_type": "code",
      "metadata": {
        "id": "EWjvCk-JYcWp",
        "colab_type": "code",
        "colab": {}
      },
      "source": [
        "import seaborn as sns"
      ],
      "execution_count": 0,
      "outputs": []
    },
    {
      "cell_type": "code",
      "metadata": {
        "id": "T__2itFfYcWr",
        "colab_type": "code",
        "outputId": "89244c7c-2d02-4ba9-b665-8e9b55dcd21c",
        "colab": {
          "base_uri": "https://localhost:8080/",
          "height": 865
        }
      },
      "source": [
        "col = 'site_id'\n",
        "a = pd.DataFrame([df.groupby(col).mean()['click'], df.groupby(col).count()['click']]).transpose()\n",
        "a.columns = ['mean', 'n_val']\n",
        "sns.jointplot(a['n_val'], a['mean'], alpha=0.25);\n",
        "thres = 10000\n",
        "sns.jointplot(a[a['n_val']<thres]['n_val'], a[a['n_val']<thres]['mean'], alpha=0.25);"
      ],
      "execution_count": 105,
      "outputs": [
        {
          "output_type": "display_data",
          "data": {
            "image/png": "[encoded data removed]",
            "text/plain": [
              "<Figure size 432x432 with 3 Axes>"
            ]
          },
          "metadata": {
            "tags": []
          }
        },
        {
          "output_type": "display_data",
          "data": {
            "image/png": "[encoded data removed]",
            "text/plain": [
              "<Figure size 432x432 with 3 Axes>"
            ]
          },
          "metadata": {
            "tags": []
          }
        }
      ]
    },
    {
      "cell_type": "markdown",
      "metadata": {
        "id": "g8_LIRbIYcWt",
        "colab_type": "text"
      },
      "source": [
        "<font color=\"red\">**Question:**\n",
        "    In the above commands, what does the alpha parameter stand for?\n",
        "</font>"
      ]
    },
    {
      "cell_type": "markdown",
      "metadata": {
        "colab_type": "text",
        "id": "4BBai06xp8eh"
      },
      "source": [
        "The alpha parameter is used to set the transparency of the points plotted."
      ]
    },
    {
      "cell_type": "markdown",
      "metadata": {
        "id": "HNp0HTLAYcWv",
        "colab_type": "text"
      },
      "source": [
        "Several sites with a lot of occurrences in the dataset have a click frequency very different from the mean. It is relevant to keep the column 'site_id' at least for the modalities for which 'count' is very high.\n",
        "\n",
        "<font color=\"red\">**Question:**\n",
        "    Do the same work on the 'device_id' column. What do you notice? What could be the isolated point?\n",
        "</font>"
      ]
    },
    {
      "cell_type": "code",
      "metadata": {
        "id": "bLhTwP7yYcWw",
        "colab_type": "code",
        "outputId": "240c6269-fff1-40d7-d6b3-2f9fb747dd15",
        "colab": {
          "base_uri": "https://localhost:8080/",
          "height": 865
        }
      },
      "source": [
        "col = 'device_id' # Fill here\n",
        "a = pd.DataFrame([df.groupby(col).mean()['click'], df.groupby(col).count()['click']]).transpose()\n",
        "a.columns = ['mean', 'n_val']\n",
        "sns.jointplot(a['n_val'], a['mean'], alpha=0.25);\n",
        "thres = 10000\n",
        "sns.jointplot(a[a['n_val']<thres]['n_val'], a[a['n_val']<thres]['mean'], alpha=0.25);"
      ],
      "execution_count": 106,
      "outputs": [
        {
          "output_type": "display_data",
          "data": {
            "image/png": "[encoded data removed]",
            "text/plain": [
              "<Figure size 432x432 with 3 Axes>"
            ]
          },
          "metadata": {
            "tags": []
          }
        },
        {
          "output_type": "display_data",
          "data": {
            "image/png": "[encoded data removed]",
            "text/plain": [
              "<Figure size 432x432 with 3 Axes>"
            ]
          },
          "metadata": {
            "tags": []
          }
        }
      ]
    },
    {
      "cell_type": "markdown",
      "metadata": {
        "colab_type": "text",
        "id": "HxFRNmVyqI3v"
      },
      "source": [
        "The isolated point could be the one with the occurence of 80000 modalities and a click frequency around 0.18."
      ]
    },
    {
      "cell_type": "markdown",
      "metadata": {
        "id": "q3_evYNkYcWy",
        "colab_type": "text"
      },
      "source": [
        "<font color=\"red\">**Question**:   \n",
        "    In the column df['device_id'], spot the value V corresponding to the largest number of 'count' (using '.value_counts' method). Create a new column df['user'] defined as follows:\n",
        "</font>\n",
        "$$\n",
        "\\text{user} = \\left\\{\\begin{array}[h]{ll} \\text{device_ip + device_model} & \\text{if device_id = V}\\\\ \\text{device_id} & \\text{else.}\\end{array}\\right.\n",
        "$$"
      ]
    },
    {
      "cell_type": "code",
      "metadata": {
        "id": "6_KH9aypYcWz",
        "colab_type": "code",
        "outputId": "b26a22ea-a82f-4f41-d04e-8d86625d0ad5",
        "colab": {
          "base_uri": "https://localhost:8080/",
          "height": 224
        }
      },
      "source": [
        "V = df['device_id'].value_counts # Fill here\n",
        "df['user'] = (df['device_ip'] + df['device_model']) * (df['device_id']==V) + df['device_id'] * (df['device_id']!=V)\n",
        "df.head()"
      ],
      "execution_count": 107,
      "outputs": [
        {
          "output_type": "execute_result",
          "data": {
            "text/html": [
              "<div>\n",
              "<style scoped>\n",
              "    .dataframe tbody tr th:only-of-type {\n",
              "        vertical-align: middle;\n",
              "    }\n",
              "\n",
              "    .dataframe tbody tr th {\n",
              "        vertical-align: top;\n",
              "    }\n",
              "\n",
              "    .dataframe thead th {\n",
              "        text-align: right;\n",
              "    }\n",
              "</style>\n",
              "<table border=\"1\" class=\"dataframe\">\n",
              "  <thead>\n",
              "    <tr style=\"text-align: right;\">\n",
              "      <th></th>\n",
              "      <th>id</th>\n",
              "      <th>click</th>\n",
              "      <th>hour</th>\n",
              "      <th>C1</th>\n",
              "      <th>banner_pos</th>\n",
              "      <th>site_id</th>\n",
              "      <th>site_domain</th>\n",
              "      <th>site_category</th>\n",
              "      <th>app_id</th>\n",
              "      <th>app_domain</th>\n",
              "      <th>app_category</th>\n",
              "      <th>device_id</th>\n",
              "      <th>device_ip</th>\n",
              "      <th>device_model</th>\n",
              "      <th>device_type</th>\n",
              "      <th>device_conn_type</th>\n",
              "      <th>C14</th>\n",
              "      <th>C15</th>\n",
              "      <th>C16</th>\n",
              "      <th>C17</th>\n",
              "      <th>C18</th>\n",
              "      <th>C19</th>\n",
              "      <th>C20</th>\n",
              "      <th>C21</th>\n",
              "      <th>weekday</th>\n",
              "      <th>user</th>\n",
              "    </tr>\n",
              "  </thead>\n",
              "  <tbody>\n",
              "    <tr>\n",
              "      <th>0</th>\n",
              "      <td>3.983206e+18</td>\n",
              "      <td>0</td>\n",
              "      <td>15</td>\n",
              "      <td>1005</td>\n",
              "      <td>1</td>\n",
              "      <td>e151e245</td>\n",
              "      <td>7e091613</td>\n",
              "      <td>f028772b</td>\n",
              "      <td>ecad2386</td>\n",
              "      <td>7801e8d9</td>\n",
              "      <td>07d7df22</td>\n",
              "      <td>a99f214a</td>\n",
              "      <td>fb6566d3</td>\n",
              "      <td>be87996b</td>\n",
              "      <td>1</td>\n",
              "      <td>2</td>\n",
              "      <td>4687</td>\n",
              "      <td>320</td>\n",
              "      <td>50</td>\n",
              "      <td>423</td>\n",
              "      <td>2</td>\n",
              "      <td>39</td>\n",
              "      <td>100148</td>\n",
              "      <td>32</td>\n",
              "      <td>2</td>\n",
              "      <td>a99f214a</td>\n",
              "    </tr>\n",
              "    <tr>\n",
              "      <th>1</th>\n",
              "      <td>7.756884e+18</td>\n",
              "      <td>0</td>\n",
              "      <td>7</td>\n",
              "      <td>1002</td>\n",
              "      <td>0</td>\n",
              "      <td>cb809abf</td>\n",
              "      <td>74acf31a</td>\n",
              "      <td>50e219e0</td>\n",
              "      <td>ecad2386</td>\n",
              "      <td>7801e8d9</td>\n",
              "      <td>07d7df22</td>\n",
              "      <td>9b7af851</td>\n",
              "      <td>ac5a4a77</td>\n",
              "      <td>7e6190f3</td>\n",
              "      <td>0</td>\n",
              "      <td>0</td>\n",
              "      <td>17894</td>\n",
              "      <td>320</td>\n",
              "      <td>50</td>\n",
              "      <td>2039</td>\n",
              "      <td>2</td>\n",
              "      <td>39</td>\n",
              "      <td>100077</td>\n",
              "      <td>32</td>\n",
              "      <td>3</td>\n",
              "      <td>9b7af851</td>\n",
              "    </tr>\n",
              "    <tr>\n",
              "      <th>2</th>\n",
              "      <td>6.941774e+17</td>\n",
              "      <td>0</td>\n",
              "      <td>11</td>\n",
              "      <td>1005</td>\n",
              "      <td>0</td>\n",
              "      <td>85f751fd</td>\n",
              "      <td>c4e18dd6</td>\n",
              "      <td>50e219e0</td>\n",
              "      <td>e9739828</td>\n",
              "      <td>df32afa9</td>\n",
              "      <td>cef3e649</td>\n",
              "      <td>a99f214a</td>\n",
              "      <td>748e298a</td>\n",
              "      <td>3c55fad5</td>\n",
              "      <td>1</td>\n",
              "      <td>0</td>\n",
              "      <td>22684</td>\n",
              "      <td>320</td>\n",
              "      <td>50</td>\n",
              "      <td>2619</td>\n",
              "      <td>1</td>\n",
              "      <td>163</td>\n",
              "      <td>100055</td>\n",
              "      <td>71</td>\n",
              "      <td>0</td>\n",
              "      <td>a99f214a</td>\n",
              "    </tr>\n",
              "    <tr>\n",
              "      <th>3</th>\n",
              "      <td>2.664154e+18</td>\n",
              "      <td>1</td>\n",
              "      <td>3</td>\n",
              "      <td>1005</td>\n",
              "      <td>0</td>\n",
              "      <td>85f751fd</td>\n",
              "      <td>c4e18dd6</td>\n",
              "      <td>50e219e0</td>\n",
              "      <td>a5184c22</td>\n",
              "      <td>b8d325c3</td>\n",
              "      <td>0f2161f8</td>\n",
              "      <td>a99f214a</td>\n",
              "      <td>a50da3d4</td>\n",
              "      <td>c5cc73c1</td>\n",
              "      <td>1</td>\n",
              "      <td>0</td>\n",
              "      <td>23222</td>\n",
              "      <td>320</td>\n",
              "      <td>50</td>\n",
              "      <td>2676</td>\n",
              "      <td>0</td>\n",
              "      <td>35</td>\n",
              "      <td>100176</td>\n",
              "      <td>221</td>\n",
              "      <td>2</td>\n",
              "      <td>a99f214a</td>\n",
              "    </tr>\n",
              "    <tr>\n",
              "      <th>4</th>\n",
              "      <td>1.480510e+19</td>\n",
              "      <td>0</td>\n",
              "      <td>2</td>\n",
              "      <td>1005</td>\n",
              "      <td>1</td>\n",
              "      <td>791b5571</td>\n",
              "      <td>fd13bc73</td>\n",
              "      <td>f028772b</td>\n",
              "      <td>ecad2386</td>\n",
              "      <td>7801e8d9</td>\n",
              "      <td>07d7df22</td>\n",
              "      <td>a99f214a</td>\n",
              "      <td>d5f88679</td>\n",
              "      <td>a5bce124</td>\n",
              "      <td>1</td>\n",
              "      <td>0</td>\n",
              "      <td>8330</td>\n",
              "      <td>320</td>\n",
              "      <td>50</td>\n",
              "      <td>761</td>\n",
              "      <td>3</td>\n",
              "      <td>175</td>\n",
              "      <td>100081</td>\n",
              "      <td>23</td>\n",
              "      <td>2</td>\n",
              "      <td>a99f214a</td>\n",
              "    </tr>\n",
              "  </tbody>\n",
              "</table>\n",
              "</div>"
            ],
            "text/plain": [
              "             id  click  hour    C1  ...     C20  C21 weekday      user\n",
              "0  3.983206e+18      0    15  1005  ...  100148   32       2  a99f214a\n",
              "1  7.756884e+18      0     7  1002  ...  100077   32       3  9b7af851\n",
              "2  6.941774e+17      0    11  1005  ...  100055   71       0  a99f214a\n",
              "3  2.664154e+18      1     3  1005  ...  100176  221       2  a99f214a\n",
              "4  1.480510e+19      0     2  1005  ...  100081   23       2  a99f214a\n",
              "\n",
              "[5 rows x 26 columns]"
            ]
          },
          "metadata": {
            "tags": []
          },
          "execution_count": 107
        }
      ]
    },
    {
      "cell_type": "markdown",
      "metadata": {
        "id": "9irHlnubYcW2",
        "colab_type": "text"
      },
      "source": [
        "<font color=\"red\">**Question**:\n",
        "    Drop the following columns: 'device_id', 'device_model' and 'device_ip'\n",
        "</font>"
      ]
    },
    {
      "cell_type": "code",
      "metadata": {
        "id": "0EfKNjkIYcW3",
        "colab_type": "code",
        "outputId": "5bab7ee1-0257-4c94-a28d-ee51c6901ff8",
        "colab": {
          "base_uri": "https://localhost:8080/",
          "height": 224
        }
      },
      "source": [
        "df.drop(['device_id', 'device_model', 'device_ip'], axis=1, inplace=True)\n",
        "df.head()"
      ],
      "execution_count": 109,
      "outputs": [
        {
          "output_type": "execute_result",
          "data": {
            "text/html": [
              "<div>\n",
              "<style scoped>\n",
              "    .dataframe tbody tr th:only-of-type {\n",
              "        vertical-align: middle;\n",
              "    }\n",
              "\n",
              "    .dataframe tbody tr th {\n",
              "        vertical-align: top;\n",
              "    }\n",
              "\n",
              "    .dataframe thead th {\n",
              "        text-align: right;\n",
              "    }\n",
              "</style>\n",
              "<table border=\"1\" class=\"dataframe\">\n",
              "  <thead>\n",
              "    <tr style=\"text-align: right;\">\n",
              "      <th></th>\n",
              "      <th>id</th>\n",
              "      <th>click</th>\n",
              "      <th>hour</th>\n",
              "      <th>C1</th>\n",
              "      <th>banner_pos</th>\n",
              "      <th>site_id</th>\n",
              "      <th>site_domain</th>\n",
              "      <th>site_category</th>\n",
              "      <th>app_id</th>\n",
              "      <th>app_domain</th>\n",
              "      <th>app_category</th>\n",
              "      <th>device_type</th>\n",
              "      <th>device_conn_type</th>\n",
              "      <th>C14</th>\n",
              "      <th>C15</th>\n",
              "      <th>C16</th>\n",
              "      <th>C17</th>\n",
              "      <th>C18</th>\n",
              "      <th>C19</th>\n",
              "      <th>C20</th>\n",
              "      <th>C21</th>\n",
              "      <th>weekday</th>\n",
              "      <th>user</th>\n",
              "    </tr>\n",
              "  </thead>\n",
              "  <tbody>\n",
              "    <tr>\n",
              "      <th>0</th>\n",
              "      <td>3.983206e+18</td>\n",
              "      <td>0</td>\n",
              "      <td>15</td>\n",
              "      <td>1005</td>\n",
              "      <td>1</td>\n",
              "      <td>e151e245</td>\n",
              "      <td>7e091613</td>\n",
              "      <td>f028772b</td>\n",
              "      <td>ecad2386</td>\n",
              "      <td>7801e8d9</td>\n",
              "      <td>07d7df22</td>\n",
              "      <td>1</td>\n",
              "      <td>2</td>\n",
              "      <td>4687</td>\n",
              "      <td>320</td>\n",
              "      <td>50</td>\n",
              "      <td>423</td>\n",
              "      <td>2</td>\n",
              "      <td>39</td>\n",
              "      <td>100148</td>\n",
              "      <td>32</td>\n",
              "      <td>2</td>\n",
              "      <td>a99f214a</td>\n",
              "    </tr>\n",
              "    <tr>\n",
              "      <th>1</th>\n",
              "      <td>7.756884e+18</td>\n",
              "      <td>0</td>\n",
              "      <td>7</td>\n",
              "      <td>1002</td>\n",
              "      <td>0</td>\n",
              "      <td>cb809abf</td>\n",
              "      <td>74acf31a</td>\n",
              "      <td>50e219e0</td>\n",
              "      <td>ecad2386</td>\n",
              "      <td>7801e8d9</td>\n",
              "      <td>07d7df22</td>\n",
              "      <td>0</td>\n",
              "      <td>0</td>\n",
              "      <td>17894</td>\n",
              "      <td>320</td>\n",
              "      <td>50</td>\n",
              "      <td>2039</td>\n",
              "      <td>2</td>\n",
              "      <td>39</td>\n",
              "      <td>100077</td>\n",
              "      <td>32</td>\n",
              "      <td>3</td>\n",
              "      <td>9b7af851</td>\n",
              "    </tr>\n",
              "    <tr>\n",
              "      <th>2</th>\n",
              "      <td>6.941774e+17</td>\n",
              "      <td>0</td>\n",
              "      <td>11</td>\n",
              "      <td>1005</td>\n",
              "      <td>0</td>\n",
              "      <td>85f751fd</td>\n",
              "      <td>c4e18dd6</td>\n",
              "      <td>50e219e0</td>\n",
              "      <td>e9739828</td>\n",
              "      <td>df32afa9</td>\n",
              "      <td>cef3e649</td>\n",
              "      <td>1</td>\n",
              "      <td>0</td>\n",
              "      <td>22684</td>\n",
              "      <td>320</td>\n",
              "      <td>50</td>\n",
              "      <td>2619</td>\n",
              "      <td>1</td>\n",
              "      <td>163</td>\n",
              "      <td>100055</td>\n",
              "      <td>71</td>\n",
              "      <td>0</td>\n",
              "      <td>a99f214a</td>\n",
              "    </tr>\n",
              "    <tr>\n",
              "      <th>3</th>\n",
              "      <td>2.664154e+18</td>\n",
              "      <td>1</td>\n",
              "      <td>3</td>\n",
              "      <td>1005</td>\n",
              "      <td>0</td>\n",
              "      <td>85f751fd</td>\n",
              "      <td>c4e18dd6</td>\n",
              "      <td>50e219e0</td>\n",
              "      <td>a5184c22</td>\n",
              "      <td>b8d325c3</td>\n",
              "      <td>0f2161f8</td>\n",
              "      <td>1</td>\n",
              "      <td>0</td>\n",
              "      <td>23222</td>\n",
              "      <td>320</td>\n",
              "      <td>50</td>\n",
              "      <td>2676</td>\n",
              "      <td>0</td>\n",
              "      <td>35</td>\n",
              "      <td>100176</td>\n",
              "      <td>221</td>\n",
              "      <td>2</td>\n",
              "      <td>a99f214a</td>\n",
              "    </tr>\n",
              "    <tr>\n",
              "      <th>4</th>\n",
              "      <td>1.480510e+19</td>\n",
              "      <td>0</td>\n",
              "      <td>2</td>\n",
              "      <td>1005</td>\n",
              "      <td>1</td>\n",
              "      <td>791b5571</td>\n",
              "      <td>fd13bc73</td>\n",
              "      <td>f028772b</td>\n",
              "      <td>ecad2386</td>\n",
              "      <td>7801e8d9</td>\n",
              "      <td>07d7df22</td>\n",
              "      <td>1</td>\n",
              "      <td>0</td>\n",
              "      <td>8330</td>\n",
              "      <td>320</td>\n",
              "      <td>50</td>\n",
              "      <td>761</td>\n",
              "      <td>3</td>\n",
              "      <td>175</td>\n",
              "      <td>100081</td>\n",
              "      <td>23</td>\n",
              "      <td>2</td>\n",
              "      <td>a99f214a</td>\n",
              "    </tr>\n",
              "  </tbody>\n",
              "</table>\n",
              "</div>"
            ],
            "text/plain": [
              "             id  click  hour    C1  ...     C20  C21 weekday      user\n",
              "0  3.983206e+18      0    15  1005  ...  100148   32       2  a99f214a\n",
              "1  7.756884e+18      0     7  1002  ...  100077   32       3  9b7af851\n",
              "2  6.941774e+17      0    11  1005  ...  100055   71       0  a99f214a\n",
              "3  2.664154e+18      1     3  1005  ...  100176  221       2  a99f214a\n",
              "4  1.480510e+19      0     2  1005  ...  100081   23       2  a99f214a\n",
              "\n",
              "[5 rows x 23 columns]"
            ]
          },
          "metadata": {
            "tags": []
          },
          "execution_count": 109
        }
      ]
    },
    {
      "cell_type": "markdown",
      "metadata": {
        "id": "Re0avpAtYcW7",
        "colab_type": "text"
      },
      "source": [
        "<font color=\"red\">**Question**:\n",
        "    One could look at the similarity between 'site_id' and 'site_domain'. Merge those columns into a new 'site' column (using the '+' operator)  and delete the old 'site_id' and 'site_domain' columns.\n",
        "</font>"
      ]
    },
    {
      "cell_type": "code",
      "metadata": {
        "id": "RPrMudxPYcW7",
        "colab_type": "code",
        "colab": {}
      },
      "source": [
        "df['site'] = df['site_id']+df['site_domain']\n",
        "df.drop(['site_id', 'site_domain'], axis=1, inplace=True)"
      ],
      "execution_count": 0,
      "outputs": []
    },
    {
      "cell_type": "markdown",
      "metadata": {
        "id": "qBWWV6pnYcW_",
        "colab_type": "text"
      },
      "source": [
        "<font color=\"red\">**Question**:\n",
        "    Once again, split the modified DataFrame 'df' into a train and a test set (with options: test_size=0.1 and random_state=100).\n",
        "    <br>\n",
        "    Warning: do not use 'id' as a feature.\n",
        "</font>"
      ]
    },
    {
      "cell_type": "code",
      "metadata": {
        "id": "XmJrvxlEYcXA",
        "colab_type": "code",
        "colab": {}
      },
      "source": [
        "Xtrain, Xtest, ytrain, ytest = train_test_split(df.drop(['id', 'click'], axis=1), df['click'], random_state=100, test_size=0.1)"
      ],
      "execution_count": 0,
      "outputs": []
    },
    {
      "cell_type": "markdown",
      "metadata": {
        "id": "b7zoMXC5YcXC",
        "colab_type": "text"
      },
      "source": [
        "<font color=\"red\">**Question**:\n",
        "    Define a OneHotEncoder and then, 'fit_transform' the train set.\n",
        "</font>"
      ]
    },
    {
      "cell_type": "code",
      "metadata": {
        "id": "U4RSRj7LYcXC",
        "colab_type": "code",
        "colab": {}
      },
      "source": [
        "ohe = OneHotEncoder(handle_unknown='ignore')\n",
        "Xtrain_oh = ohe.fit_transform(Xtrain) "
      ],
      "execution_count": 0,
      "outputs": []
    },
    {
      "cell_type": "markdown",
      "metadata": {
        "id": "9p2yNLblYcXF",
        "colab_type": "text"
      },
      "source": [
        "<font color=\"red\">**Question**:\n",
        "    Transform the test set. If an error occurs, analyze it and try to solve it by modifying the parameter \"handle_unkown\" of the OneHotEncoder. \n",
        "    <br>\n",
        "    Explain your the problem you encouter and how you solved it. \n",
        "</font>"
      ]
    },
    {
      "cell_type": "code",
      "metadata": {
        "id": "7MeYRj1IYcXG",
        "colab_type": "code",
        "colab": {}
      },
      "source": [
        "Xtest_oh = ohe.transform(Xtest)"
      ],
      "execution_count": 0,
      "outputs": []
    },
    {
      "cell_type": "markdown",
      "metadata": {
        "colab_type": "text",
        "id": "zKXtU2rBwAd-"
      },
      "source": [
        "The error was when we tried to transform X_test : \"Found unknown categories\" . Just pass 'ignore' to the handle_unknown option of the One Hot Encoder object constructor to solve the error."
      ]
    },
    {
      "cell_type": "markdown",
      "metadata": {
        "id": "lrihsX2dYcXH",
        "colab_type": "text"
      },
      "source": [
        "<font color=\"red\">**Question**:\n",
        "    What is the new number of features?\n",
        "</font>"
      ]
    },
    {
      "cell_type": "code",
      "metadata": {
        "id": "8HF2CHhxYcXI",
        "colab_type": "code",
        "outputId": "b8abc7f1-cd6e-4d65-fae7-60eb1972a5e7",
        "colab": {
          "base_uri": "https://localhost:8080/",
          "height": 34
        }
      },
      "source": [
        "Xtrain_oh.shape"
      ],
      "execution_count": 121,
      "outputs": [
        {
          "output_type": "execute_result",
          "data": {
            "text/plain": [
              "(900000, 148482)"
            ]
          },
          "metadata": {
            "tags": []
          },
          "execution_count": 121
        }
      ]
    },
    {
      "cell_type": "markdown",
      "metadata": {
        "colab_type": "text",
        "id": "lZ9kHweWwDEt"
      },
      "source": [
        "The new number of features is : 148482"
      ]
    },
    {
      "cell_type": "markdown",
      "metadata": {
        "id": "KTjjUA6JYcXJ",
        "colab_type": "text"
      },
      "source": [
        "<font color=\"red\">**Question**:\n",
        "    How many modalities have been seen more than a 100 times?\n",
        "</font>"
      ]
    },
    {
      "cell_type": "code",
      "metadata": {
        "id": "Egt0JgByYcXK",
        "colab_type": "code",
        "outputId": "9c64d3eb-6fe3-4066-df31-8fba4fa6eeae",
        "colab": {
          "base_uri": "https://localhost:8080/",
          "height": 51
        }
      },
      "source": [
        "# The following 'n_ones' vector below gives the number of '1' in each column/modality of the Xtrain_oh design matrix.\n",
        "n_ones = np.array(Xtrain_oh.sum(axis=0))\n",
        "print(n_ones)\n",
        "\n",
        "count = 0\n",
        "for i in (n_ones>100)[0]:\n",
        "  if i == True:\n",
        "    count +=1\n",
        "print(count)"
      ],
      "execution_count": 122,
      "outputs": [
        {
          "output_type": "stream",
          "text": [
            "[[1.8913e+04 2.2163e+04 2.7384e+04 ... 2.0000e+01 2.0000e+00 3.0000e+00]]\n",
            "1891\n"
          ],
          "name": "stdout"
        }
      ]
    },
    {
      "cell_type": "markdown",
      "metadata": {
        "colab_type": "text",
        "id": "3bNDd-2dwD3_"
      },
      "source": [
        "There are 1891 modalities seen more than 100 times."
      ]
    },
    {
      "cell_type": "markdown",
      "metadata": {
        "id": "U0h74pNxYcXN",
        "colab_type": "text"
      },
      "source": [
        "The list 'cols_to_keep' below is used to store the indices of the modalities seen more than a 100 times. \n",
        "\n",
        "<font color=\"red\">**Question**:\n",
        "    How does the `enumerate` function work?\n",
        "</font>"
      ]
    },
    {
      "cell_type": "code",
      "metadata": {
        "id": "_YknbprTYcXO",
        "colab_type": "code",
        "colab": {}
      },
      "source": [
        "useful = np.array(n_ones>100)[0]\n",
        "cols_to_keep = [i for i,b in enumerate(useful) if b]"
      ],
      "execution_count": 0,
      "outputs": []
    },
    {
      "cell_type": "markdown",
      "metadata": {
        "colab_type": "text",
        "id": "xMCS7vM9yjt0"
      },
      "source": [
        "The enumerate function is kind of a counter into a loop. It counts the number of times each different value is present."
      ]
    },
    {
      "cell_type": "markdown",
      "metadata": {
        "id": "X0fiY2NBYcXP",
        "colab_type": "text"
      },
      "source": [
        "<font color=\"red\">**Question**:\n",
        "    Using only our restriction on the 'cols_to_keep' columns, retrain a logistic regression model and compare its performance in terms of 'log_loss' and 'roc_auc_curve'.\n",
        "</font>"
      ]
    },
    {
      "cell_type": "code",
      "metadata": {
        "id": "ajFA_JMJYcXR",
        "colab_type": "code",
        "outputId": "b7c9b2ad-a141-4d3d-8b73-e638c66832c7",
        "colab": {
          "base_uri": "https://localhost:8080/",
          "height": 88
        }
      },
      "source": [
        "lr = LogisticRegression()\n",
        "lr.fit(Xtrain_oh[:, cols_to_keep], ytrain)\n",
        "soft = lr.predict_proba(Xtest_oh[:, cols_to_keep])[:,1]\n",
        "log_loss(ytest, soft), roc_auc_score(ytest, soft)"
      ],
      "execution_count": 124,
      "outputs": [
        {
          "output_type": "stream",
          "text": [
            "/usr/local/lib/python3.6/dist-packages/sklearn/linear_model/logistic.py:432: FutureWarning: Default solver will be changed to 'lbfgs' in 0.22. Specify a solver to silence this warning.\n",
            "  FutureWarning)\n"
          ],
          "name": "stderr"
        },
        {
          "output_type": "execute_result",
          "data": {
            "text/plain": [
              "(0.4011212528070636, 0.7387252128807053)"
            ]
          },
          "metadata": {
            "tags": []
          },
          "execution_count": 124
        }
      ]
    },
    {
      "cell_type": "markdown",
      "metadata": {
        "id": "lahZdWm6YcXT",
        "colab_type": "text"
      },
      "source": [
        "# Gradient Boosting Decision Trees"
      ]
    },
    {
      "cell_type": "markdown",
      "metadata": {
        "id": "RkeyRzzmYcXU",
        "colab_type": "text"
      },
      "source": [
        "<font color=\"red\">**Question**:\n",
        "    <br>\n",
        "    - Import GradientBoostingClassifier from scikit learn. \n",
        "    <br>\n",
        "    - Initialize it using 50 estimators and a learning rate of 0.8. Set 'verbose=True' to monitor the progress of the training step.\n",
        "    <br>\n",
        "    - Fit it on the same columns 'cols_to_keep' of Xtrain_oh than for the previous logistic regression.\n",
        "    <br>\n",
        "    - Evaluate its performance as in the previous step.\n",
        "</font>"
      ]
    },
    {
      "cell_type": "code",
      "metadata": {
        "id": "H8XZdPUXYcXV",
        "colab_type": "code",
        "colab": {}
      },
      "source": [
        "from sklearn.ensemble import GradientBoostingClassifier\n",
        "gb = GradientBoostingClassifier(learning_rate=0.8, n_estimators=50, verbose=True) # Fill here"
      ],
      "execution_count": 0,
      "outputs": []
    },
    {
      "cell_type": "code",
      "metadata": {
        "id": "et4JbJETYcXb",
        "colab_type": "code",
        "colab": {
          "base_uri": "https://localhost:8080/",
          "height": 442
        },
        "outputId": "348e9427-03ca-404d-fb6d-dd22e2910588"
      },
      "source": [
        "gb.fit(Xtrain_oh[:, cols_to_keep], ytrain)"
      ],
      "execution_count": 44,
      "outputs": [
        {
          "output_type": "stream",
          "text": [
            "      Iter       Train Loss   Remaining Time \n",
            "         1           0.8743            1.80m\n",
            "         2           0.8646            1.72m\n",
            "         3           0.8583            1.68m\n",
            "         4           0.8535            1.67m\n",
            "         5           0.8503            1.62m\n",
            "         6           0.8464            1.57m\n",
            "         7           0.8441            1.53m\n",
            "         8           0.8418            1.49m\n",
            "         9           0.8404            1.45m\n",
            "        10           0.8383            1.41m\n",
            "        20           0.8283            1.06m\n",
            "        30           0.8233           42.05s\n",
            "        40           0.8192           21.04s\n",
            "        50           0.8155            0.00s\n"
          ],
          "name": "stdout"
        },
        {
          "output_type": "execute_result",
          "data": {
            "text/plain": [
              "GradientBoostingClassifier(criterion='friedman_mse', init=None,\n",
              "                           learning_rate=0.8, loss='deviance', max_depth=3,\n",
              "                           max_features=None, max_leaf_nodes=None,\n",
              "                           min_impurity_decrease=0.0, min_impurity_split=None,\n",
              "                           min_samples_leaf=1, min_samples_split=2,\n",
              "                           min_weight_fraction_leaf=0.0, n_estimators=50,\n",
              "                           n_iter_no_change=None, presort='auto',\n",
              "                           random_state=None, subsample=1.0, tol=0.0001,\n",
              "                           validation_fraction=0.1, verbose=True,\n",
              "                           warm_start=False)"
            ]
          },
          "metadata": {
            "tags": []
          },
          "execution_count": 44
        }
      ]
    },
    {
      "cell_type": "code",
      "metadata": {
        "id": "2mD8vNR-YcXd",
        "colab_type": "code",
        "colab": {
          "base_uri": "https://localhost:8080/",
          "height": 34
        },
        "outputId": "0b3cf1b9-bc26-45f1-a8a8-e8ea8d24d579"
      },
      "source": [
        "soft = gb.predict_proba(Xtest_oh[:, cols_to_keep])[:,1]\n",
        "log_loss(ytest, soft), roc_auc_score(ytest, soft)"
      ],
      "execution_count": 45,
      "outputs": [
        {
          "output_type": "execute_result",
          "data": {
            "text/plain": [
              "(0.4082229084391956, 0.7262841686542544)"
            ]
          },
          "metadata": {
            "tags": []
          },
          "execution_count": 45
        }
      ]
    },
    {
      "cell_type": "markdown",
      "metadata": {
        "id": "LwRasRUrYcXe",
        "colab_type": "text"
      },
      "source": [
        "<font color=\"red\">**Question**:\n",
        "    What does the 'gb.estimators_' output?\n",
        "</font>"
      ]
    },
    {
      "cell_type": "code",
      "metadata": {
        "id": "93aySiwVYcXf",
        "colab_type": "code",
        "colab": {
          "base_uri": "https://localhost:8080/",
          "height": 1000
        },
        "outputId": "c98b95c0-97d5-4697-efcf-d50bbb56365d"
      },
      "source": [
        "gb.estimators_"
      ],
      "execution_count": 46,
      "outputs": [
        {
          "output_type": "execute_result",
          "data": {
            "text/plain": [
              "array([[DecisionTreeRegressor(criterion='friedman_mse', max_depth=3, max_features=None,\n",
              "                      max_leaf_nodes=None, min_impurity_decrease=0.0,\n",
              "                      min_impurity_split=None, min_samples_leaf=1,\n",
              "                      min_samples_split=2, min_weight_fraction_leaf=0.0,\n",
              "                      presort='auto',\n",
              "                      random_state=RandomState(MT19937) at 0x7F6A6AFB3A98,\n",
              "                      splitter='best')],\n",
              "       [DecisionTreeRegressor(criterion='friedman_mse', max_depth=3, max_features=None,\n",
              "                      max_leaf_nodes=None, min_impurity_decrease=0.0,\n",
              "                      min_impurity_split=None, min_samples_leaf=1,\n",
              "                      min_samples_split=2, min_weight_fraction_leaf=0.0,\n",
              "                      presort='auto',\n",
              "                      random_state=RandomState(MT19937) at 0x7F6A6AFB3A98,\n",
              "                      splitter='best')],\n",
              "       [DecisionTreeRegressor(criterion='friedman_mse', max_depth=3, max_features=None,\n",
              "                      max_leaf_nodes=None, min_impurity_decrease=0.0,\n",
              "                      min_impurity_split=None, min_samples_leaf=1,\n",
              "                      min_samples_split=2, min_weight_fraction_leaf=0.0,\n",
              "                      presort='auto',\n",
              "                      random_state=RandomState(MT19937) at 0x7F6A6AFB3A98,\n",
              "                      splitter='best')],\n",
              "       [DecisionTreeRegressor(criterion='friedman_mse', max_depth=3, max_features=None,\n",
              "                      max_leaf_nodes=None, min_impurity_decrease=0.0,\n",
              "                      min_impurity_split=None, min_samples_leaf=1,\n",
              "                      min_samples_split=2, min_weight_fraction_leaf=0.0,\n",
              "                      presort='auto',\n",
              "                      random_state=RandomState(MT19937) at 0x7F6A6AFB3A98,\n",
              "                      splitter='best')],\n",
              "       [DecisionTreeRegressor(criterion='friedman_mse', max_depth=3, max_features=None,\n",
              "                      max_leaf_nodes=None, min_impurity_decrease=0.0,\n",
              "                      min_impurity_split=None, min_samples_leaf=1,\n",
              "                      min_samples_split=2, min_weight_fraction_leaf=0.0,\n",
              "                      presort='auto',\n",
              "                      random_state=RandomState(MT19937) at 0x7F6A6AFB3A98,\n",
              "                      splitter='best')],\n",
              "       [DecisionTreeRegressor(criterion='friedman_mse', max_depth=3, max_features=None,\n",
              "                      max_leaf_nodes=None, min_impurity_decrease=0.0,\n",
              "                      min_impurity_split=None, min_samples_leaf=1,\n",
              "                      min_samples_split=2, min_weight_fraction_leaf=0.0,\n",
              "                      presort='auto',\n",
              "                      random_state=RandomState(MT19937) at 0x7F6A6AFB3A98,\n",
              "                      splitter='best')],\n",
              "       [DecisionTreeRegressor(criterion='friedman_mse', max_depth=3, max_features=None,\n",
              "                      max_leaf_nodes=None, min_impurity_decrease=0.0,\n",
              "                      min_impurity_split=None, min_samples_leaf=1,\n",
              "                      min_samples_split=2, min_weight_fraction_leaf=0.0,\n",
              "                      presort='auto',\n",
              "                      random_state=RandomState(MT19937) at 0x7F6A6AFB3A98,\n",
              "                      splitter='best')],\n",
              "       [DecisionTreeRegressor(criterion='friedman_mse', max_depth=3, max_features=None,\n",
              "                      max_leaf_nodes=None, min_impurity_decrease=0.0,\n",
              "                      min_impurity_split=None, min_samples_leaf=1,\n",
              "                      min_samples_split=2, min_weight_fraction_leaf=0.0,\n",
              "                      presort='auto',\n",
              "                      random_state=RandomState(MT19937) at 0x7F6A6AFB3A98,\n",
              "                      splitter='best')],\n",
              "       [DecisionTreeRegressor(criterion='friedman_mse', max_depth=3, max_features=None,\n",
              "                      max_leaf_nodes=None, min_impurity_decrease=0.0,\n",
              "                      min_impurity_split=None, min_samples_leaf=1,\n",
              "                      min_samples_split=2, min_weight_fraction_leaf=0.0,\n",
              "                      presort='auto',\n",
              "                      random_state=RandomState(MT19937) at 0x7F6A6AFB3A98,\n",
              "                      splitter='best')],\n",
              "       [DecisionTreeRegressor(criterion='friedman_mse', max_depth=3, max_features=None,\n",
              "                      max_leaf_nodes=None, min_impurity_decrease=0.0,\n",
              "                      min_impurity_split=None, min_samples_leaf=1,\n",
              "                      min_samples_split=2, min_weight_fraction_leaf=0.0,\n",
              "                      presort='auto',\n",
              "                      random_state=RandomState(MT19937) at 0x7F6A6AFB3A98,\n",
              "                      splitter='best')],\n",
              "       [DecisionTreeRegressor(criterion='friedman_mse', max_depth=3, max_features=None,\n",
              "                      max_leaf_nodes=None, min_impurity_decrease=0.0,\n",
              "                      min_impurity_split=None, min_samples_leaf=1,\n",
              "                      min_samples_split=2, min_weight_fraction_leaf=0.0,\n",
              "                      presort='auto',\n",
              "                      random_state=RandomState(MT19937) at 0x7F6A6AFB3A98,\n",
              "                      splitter='best')],\n",
              "       [DecisionTreeRegressor(criterion='friedman_mse', max_depth=3, max_features=None,\n",
              "                      max_leaf_nodes=None, min_impurity_decrease=0.0,\n",
              "                      min_impurity_split=None, min_samples_leaf=1,\n",
              "                      min_samples_split=2, min_weight_fraction_leaf=0.0,\n",
              "                      presort='auto',\n",
              "                      random_state=RandomState(MT19937) at 0x7F6A6AFB3A98,\n",
              "                      splitter='best')],\n",
              "       [DecisionTreeRegressor(criterion='friedman_mse', max_depth=3, max_features=None,\n",
              "                      max_leaf_nodes=None, min_impurity_decrease=0.0,\n",
              "                      min_impurity_split=None, min_samples_leaf=1,\n",
              "                      min_samples_split=2, min_weight_fraction_leaf=0.0,\n",
              "                      presort='auto',\n",
              "                      random_state=RandomState(MT19937) at 0x7F6A6AFB3A98,\n",
              "                      splitter='best')],\n",
              "       [DecisionTreeRegressor(criterion='friedman_mse', max_depth=3, max_features=None,\n",
              "                      max_leaf_nodes=None, min_impurity_decrease=0.0,\n",
              "                      min_impurity_split=None, min_samples_leaf=1,\n",
              "                      min_samples_split=2, min_weight_fraction_leaf=0.0,\n",
              "                      presort='auto',\n",
              "                      random_state=RandomState(MT19937) at 0x7F6A6AFB3A98,\n",
              "                      splitter='best')],\n",
              "       [DecisionTreeRegressor(criterion='friedman_mse', max_depth=3, max_features=None,\n",
              "                      max_leaf_nodes=None, min_impurity_decrease=0.0,\n",
              "                      min_impurity_split=None, min_samples_leaf=1,\n",
              "                      min_samples_split=2, min_weight_fraction_leaf=0.0,\n",
              "                      presort='auto',\n",
              "                      random_state=RandomState(MT19937) at 0x7F6A6AFB3A98,\n",
              "                      splitter='best')],\n",
              "       [DecisionTreeRegressor(criterion='friedman_mse', max_depth=3, max_features=None,\n",
              "                      max_leaf_nodes=None, min_impurity_decrease=0.0,\n",
              "                      min_impurity_split=None, min_samples_leaf=1,\n",
              "                      min_samples_split=2, min_weight_fraction_leaf=0.0,\n",
              "                      presort='auto',\n",
              "                      random_state=RandomState(MT19937) at 0x7F6A6AFB3A98,\n",
              "                      splitter='best')],\n",
              "       [DecisionTreeRegressor(criterion='friedman_mse', max_depth=3, max_features=None,\n",
              "                      max_leaf_nodes=None, min_impurity_decrease=0.0,\n",
              "                      min_impurity_split=None, min_samples_leaf=1,\n",
              "                      min_samples_split=2, min_weight_fraction_leaf=0.0,\n",
              "                      presort='auto',\n",
              "                      random_state=RandomState(MT19937) at 0x7F6A6AFB3A98,\n",
              "                      splitter='best')],\n",
              "       [DecisionTreeRegressor(criterion='friedman_mse', max_depth=3, max_features=None,\n",
              "                      max_leaf_nodes=None, min_impurity_decrease=0.0,\n",
              "                      min_impurity_split=None, min_samples_leaf=1,\n",
              "                      min_samples_split=2, min_weight_fraction_leaf=0.0,\n",
              "                      presort='auto',\n",
              "                      random_state=RandomState(MT19937) at 0x7F6A6AFB3A98,\n",
              "                      splitter='best')],\n",
              "       [DecisionTreeRegressor(criterion='friedman_mse', max_depth=3, max_features=None,\n",
              "                      max_leaf_nodes=None, min_impurity_decrease=0.0,\n",
              "                      min_impurity_split=None, min_samples_leaf=1,\n",
              "                      min_samples_split=2, min_weight_fraction_leaf=0.0,\n",
              "                      presort='auto',\n",
              "                      random_state=RandomState(MT19937) at 0x7F6A6AFB3A98,\n",
              "                      splitter='best')],\n",
              "       [DecisionTreeRegressor(criterion='friedman_mse', max_depth=3, max_features=None,\n",
              "                      max_leaf_nodes=None, min_impurity_decrease=0.0,\n",
              "                      min_impurity_split=None, min_samples_leaf=1,\n",
              "                      min_samples_split=2, min_weight_fraction_leaf=0.0,\n",
              "                      presort='auto',\n",
              "                      random_state=RandomState(MT19937) at 0x7F6A6AFB3A98,\n",
              "                      splitter='best')],\n",
              "       [DecisionTreeRegressor(criterion='friedman_mse', max_depth=3, max_features=None,\n",
              "                      max_leaf_nodes=None, min_impurity_decrease=0.0,\n",
              "                      min_impurity_split=None, min_samples_leaf=1,\n",
              "                      min_samples_split=2, min_weight_fraction_leaf=0.0,\n",
              "                      presort='auto',\n",
              "                      random_state=RandomState(MT19937) at 0x7F6A6AFB3A98,\n",
              "                      splitter='best')],\n",
              "       [DecisionTreeRegressor(criterion='friedman_mse', max_depth=3, max_features=None,\n",
              "                      max_leaf_nodes=None, min_impurity_decrease=0.0,\n",
              "                      min_impurity_split=None, min_samples_leaf=1,\n",
              "                      min_samples_split=2, min_weight_fraction_leaf=0.0,\n",
              "                      presort='auto',\n",
              "                      random_state=RandomState(MT19937) at 0x7F6A6AFB3A98,\n",
              "                      splitter='best')],\n",
              "       [DecisionTreeRegressor(criterion='friedman_mse', max_depth=3, max_features=None,\n",
              "                      max_leaf_nodes=None, min_impurity_decrease=0.0,\n",
              "                      min_impurity_split=None, min_samples_leaf=1,\n",
              "                      min_samples_split=2, min_weight_fraction_leaf=0.0,\n",
              "                      presort='auto',\n",
              "                      random_state=RandomState(MT19937) at 0x7F6A6AFB3A98,\n",
              "                      splitter='best')],\n",
              "       [DecisionTreeRegressor(criterion='friedman_mse', max_depth=3, max_features=None,\n",
              "                      max_leaf_nodes=None, min_impurity_decrease=0.0,\n",
              "                      min_impurity_split=None, min_samples_leaf=1,\n",
              "                      min_samples_split=2, min_weight_fraction_leaf=0.0,\n",
              "                      presort='auto',\n",
              "                      random_state=RandomState(MT19937) at 0x7F6A6AFB3A98,\n",
              "                      splitter='best')],\n",
              "       [DecisionTreeRegressor(criterion='friedman_mse', max_depth=3, max_features=None,\n",
              "                      max_leaf_nodes=None, min_impurity_decrease=0.0,\n",
              "                      min_impurity_split=None, min_samples_leaf=1,\n",
              "                      min_samples_split=2, min_weight_fraction_leaf=0.0,\n",
              "                      presort='auto',\n",
              "                      random_state=RandomState(MT19937) at 0x7F6A6AFB3A98,\n",
              "                      splitter='best')],\n",
              "       [DecisionTreeRegressor(criterion='friedman_mse', max_depth=3, max_features=None,\n",
              "                      max_leaf_nodes=None, min_impurity_decrease=0.0,\n",
              "                      min_impurity_split=None, min_samples_leaf=1,\n",
              "                      min_samples_split=2, min_weight_fraction_leaf=0.0,\n",
              "                      presort='auto',\n",
              "                      random_state=RandomState(MT19937) at 0x7F6A6AFB3A98,\n",
              "                      splitter='best')],\n",
              "       [DecisionTreeRegressor(criterion='friedman_mse', max_depth=3, max_features=None,\n",
              "                      max_leaf_nodes=None, min_impurity_decrease=0.0,\n",
              "                      min_impurity_split=None, min_samples_leaf=1,\n",
              "                      min_samples_split=2, min_weight_fraction_leaf=0.0,\n",
              "                      presort='auto',\n",
              "                      random_state=RandomState(MT19937) at 0x7F6A6AFB3A98,\n",
              "                      splitter='best')],\n",
              "       [DecisionTreeRegressor(criterion='friedman_mse', max_depth=3, max_features=None,\n",
              "                      max_leaf_nodes=None, min_impurity_decrease=0.0,\n",
              "                      min_impurity_split=None, min_samples_leaf=1,\n",
              "                      min_samples_split=2, min_weight_fraction_leaf=0.0,\n",
              "                      presort='auto',\n",
              "                      random_state=RandomState(MT19937) at 0x7F6A6AFB3A98,\n",
              "                      splitter='best')],\n",
              "       [DecisionTreeRegressor(criterion='friedman_mse', max_depth=3, max_features=None,\n",
              "                      max_leaf_nodes=None, min_impurity_decrease=0.0,\n",
              "                      min_impurity_split=None, min_samples_leaf=1,\n",
              "                      min_samples_split=2, min_weight_fraction_leaf=0.0,\n",
              "                      presort='auto',\n",
              "                      random_state=RandomState(MT19937) at 0x7F6A6AFB3A98,\n",
              "                      splitter='best')],\n",
              "       [DecisionTreeRegressor(criterion='friedman_mse', max_depth=3, max_features=None,\n",
              "                      max_leaf_nodes=None, min_impurity_decrease=0.0,\n",
              "                      min_impurity_split=None, min_samples_leaf=1,\n",
              "                      min_samples_split=2, min_weight_fraction_leaf=0.0,\n",
              "                      presort='auto',\n",
              "                      random_state=RandomState(MT19937) at 0x7F6A6AFB3A98,\n",
              "                      splitter='best')],\n",
              "       [DecisionTreeRegressor(criterion='friedman_mse', max_depth=3, max_features=None,\n",
              "                      max_leaf_nodes=None, min_impurity_decrease=0.0,\n",
              "                      min_impurity_split=None, min_samples_leaf=1,\n",
              "                      min_samples_split=2, min_weight_fraction_leaf=0.0,\n",
              "                      presort='auto',\n",
              "                      random_state=RandomState(MT19937) at 0x7F6A6AFB3A98,\n",
              "                      splitter='best')],\n",
              "       [DecisionTreeRegressor(criterion='friedman_mse', max_depth=3, max_features=None,\n",
              "                      max_leaf_nodes=None, min_impurity_decrease=0.0,\n",
              "                      min_impurity_split=None, min_samples_leaf=1,\n",
              "                      min_samples_split=2, min_weight_fraction_leaf=0.0,\n",
              "                      presort='auto',\n",
              "                      random_state=RandomState(MT19937) at 0x7F6A6AFB3A98,\n",
              "                      splitter='best')],\n",
              "       [DecisionTreeRegressor(criterion='friedman_mse', max_depth=3, max_features=None,\n",
              "                      max_leaf_nodes=None, min_impurity_decrease=0.0,\n",
              "                      min_impurity_split=None, min_samples_leaf=1,\n",
              "                      min_samples_split=2, min_weight_fraction_leaf=0.0,\n",
              "                      presort='auto',\n",
              "                      random_state=RandomState(MT19937) at 0x7F6A6AFB3A98,\n",
              "                      splitter='best')],\n",
              "       [DecisionTreeRegressor(criterion='friedman_mse', max_depth=3, max_features=None,\n",
              "                      max_leaf_nodes=None, min_impurity_decrease=0.0,\n",
              "                      min_impurity_split=None, min_samples_leaf=1,\n",
              "                      min_samples_split=2, min_weight_fraction_leaf=0.0,\n",
              "                      presort='auto',\n",
              "                      random_state=RandomState(MT19937) at 0x7F6A6AFB3A98,\n",
              "                      splitter='best')],\n",
              "       [DecisionTreeRegressor(criterion='friedman_mse', max_depth=3, max_features=None,\n",
              "                      max_leaf_nodes=None, min_impurity_decrease=0.0,\n",
              "                      min_impurity_split=None, min_samples_leaf=1,\n",
              "                      min_samples_split=2, min_weight_fraction_leaf=0.0,\n",
              "                      presort='auto',\n",
              "                      random_state=RandomState(MT19937) at 0x7F6A6AFB3A98,\n",
              "                      splitter='best')],\n",
              "       [DecisionTreeRegressor(criterion='friedman_mse', max_depth=3, max_features=None,\n",
              "                      max_leaf_nodes=None, min_impurity_decrease=0.0,\n",
              "                      min_impurity_split=None, min_samples_leaf=1,\n",
              "                      min_samples_split=2, min_weight_fraction_leaf=0.0,\n",
              "                      presort='auto',\n",
              "                      random_state=RandomState(MT19937) at 0x7F6A6AFB3A98,\n",
              "                      splitter='best')],\n",
              "       [DecisionTreeRegressor(criterion='friedman_mse', max_depth=3, max_features=None,\n",
              "                      max_leaf_nodes=None, min_impurity_decrease=0.0,\n",
              "                      min_impurity_split=None, min_samples_leaf=1,\n",
              "                      min_samples_split=2, min_weight_fraction_leaf=0.0,\n",
              "                      presort='auto',\n",
              "                      random_state=RandomState(MT19937) at 0x7F6A6AFB3A98,\n",
              "                      splitter='best')],\n",
              "       [DecisionTreeRegressor(criterion='friedman_mse', max_depth=3, max_features=None,\n",
              "                      max_leaf_nodes=None, min_impurity_decrease=0.0,\n",
              "                      min_impurity_split=None, min_samples_leaf=1,\n",
              "                      min_samples_split=2, min_weight_fraction_leaf=0.0,\n",
              "                      presort='auto',\n",
              "                      random_state=RandomState(MT19937) at 0x7F6A6AFB3A98,\n",
              "                      splitter='best')],\n",
              "       [DecisionTreeRegressor(criterion='friedman_mse', max_depth=3, max_features=None,\n",
              "                      max_leaf_nodes=None, min_impurity_decrease=0.0,\n",
              "                      min_impurity_split=None, min_samples_leaf=1,\n",
              "                      min_samples_split=2, min_weight_fraction_leaf=0.0,\n",
              "                      presort='auto',\n",
              "                      random_state=RandomState(MT19937) at 0x7F6A6AFB3A98,\n",
              "                      splitter='best')],\n",
              "       [DecisionTreeRegressor(criterion='friedman_mse', max_depth=3, max_features=None,\n",
              "                      max_leaf_nodes=None, min_impurity_decrease=0.0,\n",
              "                      min_impurity_split=None, min_samples_leaf=1,\n",
              "                      min_samples_split=2, min_weight_fraction_leaf=0.0,\n",
              "                      presort='auto',\n",
              "                      random_state=RandomState(MT19937) at 0x7F6A6AFB3A98,\n",
              "                      splitter='best')],\n",
              "       [DecisionTreeRegressor(criterion='friedman_mse', max_depth=3, max_features=None,\n",
              "                      max_leaf_nodes=None, min_impurity_decrease=0.0,\n",
              "                      min_impurity_split=None, min_samples_leaf=1,\n",
              "                      min_samples_split=2, min_weight_fraction_leaf=0.0,\n",
              "                      presort='auto',\n",
              "                      random_state=RandomState(MT19937) at 0x7F6A6AFB3A98,\n",
              "                      splitter='best')],\n",
              "       [DecisionTreeRegressor(criterion='friedman_mse', max_depth=3, max_features=None,\n",
              "                      max_leaf_nodes=None, min_impurity_decrease=0.0,\n",
              "                      min_impurity_split=None, min_samples_leaf=1,\n",
              "                      min_samples_split=2, min_weight_fraction_leaf=0.0,\n",
              "                      presort='auto',\n",
              "                      random_state=RandomState(MT19937) at 0x7F6A6AFB3A98,\n",
              "                      splitter='best')],\n",
              "       [DecisionTreeRegressor(criterion='friedman_mse', max_depth=3, max_features=None,\n",
              "                      max_leaf_nodes=None, min_impurity_decrease=0.0,\n",
              "                      min_impurity_split=None, min_samples_leaf=1,\n",
              "                      min_samples_split=2, min_weight_fraction_leaf=0.0,\n",
              "                      presort='auto',\n",
              "                      random_state=RandomState(MT19937) at 0x7F6A6AFB3A98,\n",
              "                      splitter='best')],\n",
              "       [DecisionTreeRegressor(criterion='friedman_mse', max_depth=3, max_features=None,\n",
              "                      max_leaf_nodes=None, min_impurity_decrease=0.0,\n",
              "                      min_impurity_split=None, min_samples_leaf=1,\n",
              "                      min_samples_split=2, min_weight_fraction_leaf=0.0,\n",
              "                      presort='auto',\n",
              "                      random_state=RandomState(MT19937) at 0x7F6A6AFB3A98,\n",
              "                      splitter='best')],\n",
              "       [DecisionTreeRegressor(criterion='friedman_mse', max_depth=3, max_features=None,\n",
              "                      max_leaf_nodes=None, min_impurity_decrease=0.0,\n",
              "                      min_impurity_split=None, min_samples_leaf=1,\n",
              "                      min_samples_split=2, min_weight_fraction_leaf=0.0,\n",
              "                      presort='auto',\n",
              "                      random_state=RandomState(MT19937) at 0x7F6A6AFB3A98,\n",
              "                      splitter='best')],\n",
              "       [DecisionTreeRegressor(criterion='friedman_mse', max_depth=3, max_features=None,\n",
              "                      max_leaf_nodes=None, min_impurity_decrease=0.0,\n",
              "                      min_impurity_split=None, min_samples_leaf=1,\n",
              "                      min_samples_split=2, min_weight_fraction_leaf=0.0,\n",
              "                      presort='auto',\n",
              "                      random_state=RandomState(MT19937) at 0x7F6A6AFB3A98,\n",
              "                      splitter='best')],\n",
              "       [DecisionTreeRegressor(criterion='friedman_mse', max_depth=3, max_features=None,\n",
              "                      max_leaf_nodes=None, min_impurity_decrease=0.0,\n",
              "                      min_impurity_split=None, min_samples_leaf=1,\n",
              "                      min_samples_split=2, min_weight_fraction_leaf=0.0,\n",
              "                      presort='auto',\n",
              "                      random_state=RandomState(MT19937) at 0x7F6A6AFB3A98,\n",
              "                      splitter='best')],\n",
              "       [DecisionTreeRegressor(criterion='friedman_mse', max_depth=3, max_features=None,\n",
              "                      max_leaf_nodes=None, min_impurity_decrease=0.0,\n",
              "                      min_impurity_split=None, min_samples_leaf=1,\n",
              "                      min_samples_split=2, min_weight_fraction_leaf=0.0,\n",
              "                      presort='auto',\n",
              "                      random_state=RandomState(MT19937) at 0x7F6A6AFB3A98,\n",
              "                      splitter='best')],\n",
              "       [DecisionTreeRegressor(criterion='friedman_mse', max_depth=3, max_features=None,\n",
              "                      max_leaf_nodes=None, min_impurity_decrease=0.0,\n",
              "                      min_impurity_split=None, min_samples_leaf=1,\n",
              "                      min_samples_split=2, min_weight_fraction_leaf=0.0,\n",
              "                      presort='auto',\n",
              "                      random_state=RandomState(MT19937) at 0x7F6A6AFB3A98,\n",
              "                      splitter='best')],\n",
              "       [DecisionTreeRegressor(criterion='friedman_mse', max_depth=3, max_features=None,\n",
              "                      max_leaf_nodes=None, min_impurity_decrease=0.0,\n",
              "                      min_impurity_split=None, min_samples_leaf=1,\n",
              "                      min_samples_split=2, min_weight_fraction_leaf=0.0,\n",
              "                      presort='auto',\n",
              "                      random_state=RandomState(MT19937) at 0x7F6A6AFB3A98,\n",
              "                      splitter='best')]], dtype=object)"
            ]
          },
          "metadata": {
            "tags": []
          },
          "execution_count": 46
        }
      ]
    },
    {
      "cell_type": "markdown",
      "metadata": {
        "colab_type": "text",
        "id": "XR6NDWxJ3_et"
      },
      "source": [
        "'gb.estimators_' returns an array containing the 50 fitted estimators objects we used to train our classifier. "
      ]
    },
    {
      "cell_type": "markdown",
      "metadata": {
        "id": "ti_dNmw8YcXi",
        "colab_type": "text"
      },
      "source": [
        "We now try to use the 'gb' classifier to generate features that will be relevant inputs for the logistic regression.\n",
        "\n",
        "<font color=\"red\">**Question**:\n",
        "    With the 'gb.apply()' method, generate a transformation 'leafs_train' of the training set 'Xtrain_oh[:, cols_to_keep]' for which the n-th column corresponds to the number of the leaf returned by the estimator n.\n",
        "</font>"
      ]
    },
    {
      "cell_type": "code",
      "metadata": {
        "id": "cmJhb7tcYcXi",
        "colab_type": "code",
        "colab": {
          "base_uri": "https://localhost:8080/",
          "height": 850
        },
        "outputId": "9fdd6b82-ea15-4864-a280-b4803fe82201"
      },
      "source": [
        "# Test here the gb.apply method on Xtrain[:, cols_to_keep]\n",
        "gb.apply(Xtrain_oh[:, cols_to_keep])"
      ],
      "execution_count": 47,
      "outputs": [
        {
          "output_type": "execute_result",
          "data": {
            "text/plain": [
              "array([[[ 3.],\n",
              "        [ 3.],\n",
              "        [ 3.],\n",
              "        ...,\n",
              "        [ 3.],\n",
              "        [ 3.],\n",
              "        [ 3.]],\n",
              "\n",
              "       [[ 3.],\n",
              "        [ 3.],\n",
              "        [ 3.],\n",
              "        ...,\n",
              "        [ 3.],\n",
              "        [ 3.],\n",
              "        [ 3.]],\n",
              "\n",
              "       [[ 3.],\n",
              "        [ 3.],\n",
              "        [ 3.],\n",
              "        ...,\n",
              "        [ 3.],\n",
              "        [ 3.],\n",
              "        [ 3.]],\n",
              "\n",
              "       ...,\n",
              "\n",
              "       [[ 3.],\n",
              "        [ 3.],\n",
              "        [ 3.],\n",
              "        ...,\n",
              "        [ 3.],\n",
              "        [ 3.],\n",
              "        [ 3.]],\n",
              "\n",
              "       [[ 3.],\n",
              "        [ 3.],\n",
              "        [ 3.],\n",
              "        ...,\n",
              "        [ 3.],\n",
              "        [ 3.],\n",
              "        [ 3.]],\n",
              "\n",
              "       [[ 3.],\n",
              "        [13.],\n",
              "        [ 3.],\n",
              "        ...,\n",
              "        [ 3.],\n",
              "        [ 3.],\n",
              "        [ 3.]]])"
            ]
          },
          "metadata": {
            "tags": []
          },
          "execution_count": 47
        }
      ]
    },
    {
      "cell_type": "markdown",
      "metadata": {
        "id": "f88rLF6fYcXk",
        "colab_type": "text"
      },
      "source": [
        "After your applied gb.apply on Xtrain_oh[:, cols_to_keep], remember that we have only one class to predict (click = 0 or 1). So, do not forget to slice your output with [:, :, 0] in order to keep, firstly, all the samples, and secondly all your 50 estimators.\n",
        "\n",
        "Hint: you can have a look at the dimensions of your output with .shape !"
      ]
    },
    {
      "cell_type": "code",
      "metadata": {
        "id": "jiZ-Q28JYcXk",
        "colab_type": "code",
        "colab": {
          "base_uri": "https://localhost:8080/",
          "height": 51
        },
        "outputId": "9521ce5e-f8d0-440a-d7b2-52a4c1f19c74"
      },
      "source": [
        "leafs_train = pd.DataFrame(gb.apply(Xtrain_oh[:, cols_to_keep])[:, :, 0]) # Fill here\n",
        "print(leafs_train.shape)\n",
        "leafs_test = pd.DataFrame(gb.apply(Xtest_oh[:, cols_to_keep])[:, :, 0])\n",
        "print(leafs_test.shape)"
      ],
      "execution_count": 48,
      "outputs": [
        {
          "output_type": "stream",
          "text": [
            "(900000, 50)\n",
            "(100000, 50)\n"
          ],
          "name": "stdout"
        }
      ]
    },
    {
      "cell_type": "markdown",
      "metadata": {
        "id": "qzp8_EGTYcXm",
        "colab_type": "text"
      },
      "source": [
        "<font color=\"red\">**Question**:\n",
        "    Encode these new features into dummies.\n",
        "</font>"
      ]
    },
    {
      "cell_type": "code",
      "metadata": {
        "id": "9NJku301YcXn",
        "colab_type": "code",
        "colab": {
          "base_uri": "https://localhost:8080/",
          "height": 105
        },
        "outputId": "e7f14503-8696-4369-e4d4-afd807cc90a6"
      },
      "source": [
        "ohe = OneHotEncoder() # Fill here an argument if needed\n",
        "leafs_train_oh = ohe.fit_transform(leafs_train)\n",
        "leafs_test_oh = ohe.transform(leafs_test)"
      ],
      "execution_count": 49,
      "outputs": [
        {
          "output_type": "stream",
          "text": [
            "/usr/local/lib/python3.6/dist-packages/sklearn/preprocessing/_encoders.py:415: FutureWarning: The handling of integer data will change in version 0.22. Currently, the categories are determined based on the range [0, max(values)], while in the future they will be determined based on the unique values.\n",
            "If you want the future behaviour and silence this warning, you can specify \"categories='auto'\".\n",
            "In case you used a LabelEncoder before this OneHotEncoder to convert the categories to integers, then you can now use the OneHotEncoder directly.\n",
            "  warnings.warn(msg, FutureWarning)\n"
          ],
          "name": "stderr"
        }
      ]
    },
    {
      "cell_type": "markdown",
      "metadata": {
        "id": "2HLSbinZYcXp",
        "colab_type": "text"
      },
      "source": [
        "<font color=\"red\">**Question**:\n",
        "    With the \"hstack\" function, create a new matrix of features by concatenating horizontally our new features \"leafs_train_oh\" and \"leafs_test_oh\", and previous features used for logistic regression (e.g. in \"Xtrain_oh[:, cols_to_keep]\").\n",
        "</font>\n",
        "<br><br>\n",
        "**Remark**: we use \"hstack\" from scipy.sparse (and not from numpy) because the output of our OneHotEncoder is a sparse array. You can verify it with the command \"type(Xtrain_oh)\"."
      ]
    },
    {
      "cell_type": "code",
      "metadata": {
        "id": "wjhhFyZvYcXp",
        "colab_type": "code",
        "colab": {}
      },
      "source": [
        "from scipy.sparse import csr_matrix, hstack\n",
        "\n",
        "Xtrain_concat = hstack([ leafs_train_oh , Xtrain_oh[:, cols_to_keep]]) # Fill here\n",
        "Xtest_concat = hstack([ leafs_test_oh , Xtest_oh[:, cols_to_keep]]) "
      ],
      "execution_count": 0,
      "outputs": []
    },
    {
      "cell_type": "markdown",
      "metadata": {
        "id": "xU9nmnoAYcXr",
        "colab_type": "text"
      },
      "source": [
        "<font color=\"red\">**Question**:\n",
        "    Run a logistic regression on the new features and evaluate its performance as before. \n",
        "    <br>\n",
        "    Warning: be patient, fitting should take about 5 minutes on Google Colab.\n",
        "</font>"
      ]
    },
    {
      "cell_type": "code",
      "metadata": {
        "id": "GENT6fHnYcXs",
        "colab_type": "code",
        "colab": {
          "base_uri": "https://localhost:8080/",
          "height": 88
        },
        "outputId": "bb1bddb3-4efe-49a1-e56d-5816cdee4136"
      },
      "source": [
        "lr = LogisticRegression()\n",
        "lr.fit(Xtrain_concat, ytrain)\n",
        "soft = lr.predict_proba(Xtest_concat)[:,1]\n",
        "log_loss(ytest, soft), roc_auc_score(ytest, soft)"
      ],
      "execution_count": 51,
      "outputs": [
        {
          "output_type": "stream",
          "text": [
            "/usr/local/lib/python3.6/dist-packages/sklearn/linear_model/logistic.py:432: FutureWarning: Default solver will be changed to 'lbfgs' in 0.22. Specify a solver to silence this warning.\n",
            "  FutureWarning)\n"
          ],
          "name": "stderr"
        },
        {
          "output_type": "execute_result",
          "data": {
            "text/plain": [
              "(0.3998561336627306, 0.7416499626818659)"
            ]
          },
          "metadata": {
            "tags": []
          },
          "execution_count": 51
        }
      ]
    },
    {
      "cell_type": "markdown",
      "metadata": {
        "id": "0ZtUqINfYcX2",
        "colab_type": "text"
      },
      "source": [
        "<font color=\"red\">**Question**:\n",
        "    <br>\n",
        "    - Import XGBClassifier from xgboost package.\n",
        "    <br>\n",
        "    - Initialize it using the same number of estimators and learning rate as before. Set the 'n_jobs' to -1.\n",
        "    <br>\n",
        "    - Fit it on the same columns 'cols_to_keep' of Xtrain_oh than for the previous logistic regression.\n",
        "    <br>\n",
        "    - Evaluate its performance and compare it to the GradientBoosting classifier of scikit learn. How is the error? Does it take more time to run?\n",
        "</font>"
      ]
    },
    {
      "cell_type": "code",
      "metadata": {
        "id": "n2SeSnz_YcX3",
        "colab_type": "code",
        "colab": {
          "base_uri": "https://localhost:8080/",
          "height": 918
        },
        "outputId": "47e404a8-f0c0-4e1d-dd8b-4acdbf660e68"
      },
      "source": [
        "from xgboost import XGBClassifier\n",
        "\n",
        "xgb = XGBClassifier(learning_rate=0.8 , n_estimators=50 , n_jobs=-1 , verbosity=2)\n",
        "%time xgb.fit(Xtrain_oh[:, cols_to_keep], ytrain)\n",
        "soft = xgb.predict_proba(Xtest_oh[:, cols_to_keep])[:,1]\n",
        "log_loss(ytest, soft), roc_auc_score(ytest, soft)"
      ],
      "execution_count": 52,
      "outputs": [
        {
          "output_type": "stream",
          "text": [
            "[12:56:28] INFO: /workspace/src/tree/updater_prune.cc:74: tree pruning end, 1 roots, 14 extra nodes, 0 pruned nodes, max_depth=3\n",
            "[12:56:29] INFO: /workspace/src/tree/updater_prune.cc:74: tree pruning end, 1 roots, 14 extra nodes, 0 pruned nodes, max_depth=3\n",
            "[12:56:29] INFO: /workspace/src/tree/updater_prune.cc:74: tree pruning end, 1 roots, 14 extra nodes, 0 pruned nodes, max_depth=3\n",
            "[12:56:29] INFO: /workspace/src/tree/updater_prune.cc:74: tree pruning end, 1 roots, 14 extra nodes, 0 pruned nodes, max_depth=3\n",
            "[12:56:30] INFO: /workspace/src/tree/updater_prune.cc:74: tree pruning end, 1 roots, 14 extra nodes, 0 pruned nodes, max_depth=3\n",
            "[12:56:30] INFO: /workspace/src/tree/updater_prune.cc:74: tree pruning end, 1 roots, 14 extra nodes, 0 pruned nodes, max_depth=3\n",
            "[12:56:30] INFO: /workspace/src/tree/updater_prune.cc:74: tree pruning end, 1 roots, 14 extra nodes, 0 pruned nodes, max_depth=3\n",
            "[12:56:31] INFO: /workspace/src/tree/updater_prune.cc:74: tree pruning end, 1 roots, 12 extra nodes, 0 pruned nodes, max_depth=3\n",
            "[12:56:31] INFO: /workspace/src/tree/updater_prune.cc:74: tree pruning end, 1 roots, 10 extra nodes, 0 pruned nodes, max_depth=3\n",
            "[12:56:32] INFO: /workspace/src/tree/updater_prune.cc:74: tree pruning end, 1 roots, 14 extra nodes, 0 pruned nodes, max_depth=3\n",
            "[12:56:32] INFO: /workspace/src/tree/updater_prune.cc:74: tree pruning end, 1 roots, 14 extra nodes, 0 pruned nodes, max_depth=3\n",
            "[12:56:32] INFO: /workspace/src/tree/updater_prune.cc:74: tree pruning end, 1 roots, 10 extra nodes, 0 pruned nodes, max_depth=3\n",
            "[12:56:33] INFO: /workspace/src/tree/updater_prune.cc:74: tree pruning end, 1 roots, 14 extra nodes, 0 pruned nodes, max_depth=3\n",
            "[12:56:33] INFO: /workspace/src/tree/updater_prune.cc:74: tree pruning end, 1 roots, 14 extra nodes, 0 pruned nodes, max_depth=3\n",
            "[12:56:34] INFO: /workspace/src/tree/updater_prune.cc:74: tree pruning end, 1 roots, 14 extra nodes, 0 pruned nodes, max_depth=3\n",
            "[12:56:34] INFO: /workspace/src/tree/updater_prune.cc:74: tree pruning end, 1 roots, 14 extra nodes, 0 pruned nodes, max_depth=3\n",
            "[12:56:34] INFO: /workspace/src/tree/updater_prune.cc:74: tree pruning end, 1 roots, 14 extra nodes, 0 pruned nodes, max_depth=3\n",
            "[12:56:35] INFO: /workspace/src/tree/updater_prune.cc:74: tree pruning end, 1 roots, 12 extra nodes, 0 pruned nodes, max_depth=3\n",
            "[12:56:35] INFO: /workspace/src/tree/updater_prune.cc:74: tree pruning end, 1 roots, 12 extra nodes, 0 pruned nodes, max_depth=3\n",
            "[12:56:35] INFO: /workspace/src/tree/updater_prune.cc:74: tree pruning end, 1 roots, 12 extra nodes, 0 pruned nodes, max_depth=3\n",
            "[12:56:36] INFO: /workspace/src/tree/updater_prune.cc:74: tree pruning end, 1 roots, 14 extra nodes, 0 pruned nodes, max_depth=3\n",
            "[12:56:36] INFO: /workspace/src/tree/updater_prune.cc:74: tree pruning end, 1 roots, 14 extra nodes, 0 pruned nodes, max_depth=3\n",
            "[12:56:37] INFO: /workspace/src/tree/updater_prune.cc:74: tree pruning end, 1 roots, 14 extra nodes, 0 pruned nodes, max_depth=3\n",
            "[12:56:37] INFO: /workspace/src/tree/updater_prune.cc:74: tree pruning end, 1 roots, 14 extra nodes, 0 pruned nodes, max_depth=3\n",
            "[12:56:37] INFO: /workspace/src/tree/updater_prune.cc:74: tree pruning end, 1 roots, 14 extra nodes, 0 pruned nodes, max_depth=3\n",
            "[12:56:38] INFO: /workspace/src/tree/updater_prune.cc:74: tree pruning end, 1 roots, 14 extra nodes, 0 pruned nodes, max_depth=3\n",
            "[12:56:38] INFO: /workspace/src/tree/updater_prune.cc:74: tree pruning end, 1 roots, 14 extra nodes, 0 pruned nodes, max_depth=3\n",
            "[12:56:38] INFO: /workspace/src/tree/updater_prune.cc:74: tree pruning end, 1 roots, 14 extra nodes, 0 pruned nodes, max_depth=3\n",
            "[12:56:39] INFO: /workspace/src/tree/updater_prune.cc:74: tree pruning end, 1 roots, 10 extra nodes, 0 pruned nodes, max_depth=3\n",
            "[12:56:39] INFO: /workspace/src/tree/updater_prune.cc:74: tree pruning end, 1 roots, 14 extra nodes, 0 pruned nodes, max_depth=3\n",
            "[12:56:40] INFO: /workspace/src/tree/updater_prune.cc:74: tree pruning end, 1 roots, 14 extra nodes, 0 pruned nodes, max_depth=3\n",
            "[12:56:40] INFO: /workspace/src/tree/updater_prune.cc:74: tree pruning end, 1 roots, 14 extra nodes, 0 pruned nodes, max_depth=3\n",
            "[12:56:40] INFO: /workspace/src/tree/updater_prune.cc:74: tree pruning end, 1 roots, 14 extra nodes, 0 pruned nodes, max_depth=3\n",
            "[12:56:41] INFO: /workspace/src/tree/updater_prune.cc:74: tree pruning end, 1 roots, 12 extra nodes, 0 pruned nodes, max_depth=3\n",
            "[12:56:41] INFO: /workspace/src/tree/updater_prune.cc:74: tree pruning end, 1 roots, 12 extra nodes, 0 pruned nodes, max_depth=3\n",
            "[12:56:42] INFO: /workspace/src/tree/updater_prune.cc:74: tree pruning end, 1 roots, 14 extra nodes, 0 pruned nodes, max_depth=3\n",
            "[12:56:42] INFO: /workspace/src/tree/updater_prune.cc:74: tree pruning end, 1 roots, 14 extra nodes, 0 pruned nodes, max_depth=3\n",
            "[12:56:42] INFO: /workspace/src/tree/updater_prune.cc:74: tree pruning end, 1 roots, 14 extra nodes, 0 pruned nodes, max_depth=3\n",
            "[12:56:43] INFO: /workspace/src/tree/updater_prune.cc:74: tree pruning end, 1 roots, 12 extra nodes, 0 pruned nodes, max_depth=3\n",
            "[12:56:43] INFO: /workspace/src/tree/updater_prune.cc:74: tree pruning end, 1 roots, 14 extra nodes, 0 pruned nodes, max_depth=3\n",
            "[12:56:43] INFO: /workspace/src/tree/updater_prune.cc:74: tree pruning end, 1 roots, 14 extra nodes, 0 pruned nodes, max_depth=3\n",
            "[12:56:44] INFO: /workspace/src/tree/updater_prune.cc:74: tree pruning end, 1 roots, 14 extra nodes, 0 pruned nodes, max_depth=3\n",
            "[12:56:44] INFO: /workspace/src/tree/updater_prune.cc:74: tree pruning end, 1 roots, 14 extra nodes, 0 pruned nodes, max_depth=3\n",
            "[12:56:45] INFO: /workspace/src/tree/updater_prune.cc:74: tree pruning end, 1 roots, 14 extra nodes, 0 pruned nodes, max_depth=3\n",
            "[12:56:45] INFO: /workspace/src/tree/updater_prune.cc:74: tree pruning end, 1 roots, 14 extra nodes, 0 pruned nodes, max_depth=3\n",
            "[12:56:45] INFO: /workspace/src/tree/updater_prune.cc:74: tree pruning end, 1 roots, 14 extra nodes, 0 pruned nodes, max_depth=3\n",
            "[12:56:46] INFO: /workspace/src/tree/updater_prune.cc:74: tree pruning end, 1 roots, 12 extra nodes, 0 pruned nodes, max_depth=3\n",
            "[12:56:46] INFO: /workspace/src/tree/updater_prune.cc:74: tree pruning end, 1 roots, 14 extra nodes, 0 pruned nodes, max_depth=3\n",
            "[12:56:47] INFO: /workspace/src/tree/updater_prune.cc:74: tree pruning end, 1 roots, 12 extra nodes, 0 pruned nodes, max_depth=3\n",
            "[12:56:47] INFO: /workspace/src/tree/updater_prune.cc:74: tree pruning end, 1 roots, 14 extra nodes, 0 pruned nodes, max_depth=3\n",
            "CPU times: user 43.4 s, sys: 347 ms, total: 43.7 s\n",
            "Wall time: 24.8 s\n"
          ],
          "name": "stdout"
        },
        {
          "output_type": "execute_result",
          "data": {
            "text/plain": [
              "(0.40789666015213355, 0.7244454605414952)"
            ]
          },
          "metadata": {
            "tags": []
          },
          "execution_count": 52
        }
      ]
    },
    {
      "cell_type": "markdown",
      "metadata": {
        "id": "lmHBObZPnDpY",
        "colab_type": "text"
      },
      "source": [
        "The performance of the xgboost library is better than the sklearn library in terms of gradient boosting classifier: it is quicker and the roc_auc_error is better (0.724 against 0.726)."
      ]
    },
    {
      "cell_type": "markdown",
      "metadata": {
        "id": "55dxXIaDYcX6",
        "colab_type": "text"
      },
      "source": [
        "<font color=\"red\">**Question**:\n",
        "    Increase the number of estimators and visualize the impact on performance. You might have to adapt the learning rate. On Google Colab, here are the approximate training times<br> \n",
        "    - nb_estimators=256  and lr=0.8 ~  4 min<br>\n",
        "    - nb_estimators=512  and lr=0.6 ~  8 min<br>\n",
        "    - nb_estimators=1024 and lr=0.5 ~ 16 min\n",
        "</font>"
      ]
    },
    {
      "cell_type": "code",
      "metadata": {
        "id": "Ggzx0320YcX7",
        "colab_type": "code",
        "colab": {
          "base_uri": "https://localhost:8080/",
          "height": 462
        },
        "outputId": "9d1598e6-94a3-4248-ccf0-344d9fe8b9fb"
      },
      "source": [
        "nb_estimators = [256, 512, 1024]\n",
        "lr = [0.8, 0.6, 0.5]\n",
        "loss = []\n",
        "roc_score = []\n",
        "\n",
        "for i in range(3):\n",
        "  print(\"nb_estimators : \"+str(nb_estimators[i])+\" , learning_rate = \"+str(lr[i]))\n",
        "  xgb = XGBClassifier( n_estimators = nb_estimators[i] , learning_rate = lr[i] , n_jobs=-1)\n",
        "  %time xgb.fit(Xtrain_oh[:, cols_to_keep], ytrain)\n",
        "  soft = xgb.predict_proba(Xtest_oh[:, cols_to_keep])\n",
        "  loss.append(log_loss(ytest, soft))\n",
        "  roc_score.append(roc_auc_score(ytest, soft[:,1]))\n",
        "\n",
        "fig, axs = plt.subplots(2)\n",
        "fig.suptitle('Scores depending on the number of leafs')\n",
        "axs[0].plot(nb_estimators, loss)\n",
        "axs[0].set(ylabel = 'log_loss')\n",
        "axs[1].plot(nb_estimators, roc_score)\n",
        "axs[1].set(xlabel = 'nb_estimators', ylabel = 'roc_auc_score')\n",
        "plt.show()"
      ],
      "execution_count": 102,
      "outputs": [
        {
          "output_type": "stream",
          "text": [
            "nb_estimators : 256 , learning_rate = 0.8\n",
            "CPU times: user 3min 12s, sys: 510 ms, total: 3min 13s\n",
            "Wall time: 1min 40s\n",
            "nb_estimators : 512 , learning_rate = 0.6\n",
            "CPU times: user 6min 22s, sys: 424 ms, total: 6min 23s\n",
            "Wall time: 3min 16s\n",
            "nb_estimators : 1024 , learning_rate = 0.5\n",
            "CPU times: user 12min 39s, sys: 668 ms, total: 12min 40s\n",
            "Wall time: 6min 28s\n"
          ],
          "name": "stdout"
        },
        {
          "output_type": "display_data",
          "data": {
            "image/png": "[encoded data removed]",
            "text/plain": [
              "<Figure size 432x288 with 2 Axes>"
            ]
          },
          "metadata": {
            "tags": []
          }
        }
      ]
    },
    {
      "cell_type": "markdown",
      "metadata": {
        "id": "CdGiGxdHYcX-",
        "colab_type": "text"
      },
      "source": [
        "# Features hashing and random forest"
      ]
    },
    {
      "cell_type": "markdown",
      "metadata": {
        "id": "Xl78yaijYcX_",
        "colab_type": "text"
      },
      "source": [
        "We restart with raw features before dummy encoding: Xtrain, Xtest.\n",
        "\n",
        "<font color=\"red\">**Question**:\n",
        "    Display again the number of modalities per feature in Xtrain. Use '.nunique()'\n",
        "</font>"
      ]
    },
    {
      "cell_type": "code",
      "metadata": {
        "id": "Pq6zsDXsYcYA",
        "colab_type": "code",
        "colab": {
          "base_uri": "https://localhost:8080/",
          "height": 374
        },
        "outputId": "cd3f20cf-e1c9-4482-86c0-82673f53709d"
      },
      "source": [
        "Xtrain.nunique()"
      ],
      "execution_count": 125,
      "outputs": [
        {
          "output_type": "execute_result",
          "data": {
            "text/plain": [
              "hour                    24\n",
              "C1                       7\n",
              "banner_pos               7\n",
              "site_category           22\n",
              "app_id                3054\n",
              "app_domain             196\n",
              "app_category            26\n",
              "device_type              5\n",
              "device_conn_type         4\n",
              "C14                   2225\n",
              "C15                      8\n",
              "C16                      9\n",
              "C17                    420\n",
              "C18                      4\n",
              "C19                     66\n",
              "C20                    163\n",
              "C21                     60\n",
              "weekday                  7\n",
              "user                136733\n",
              "site                  5442\n",
              "dtype: int64"
            ]
          },
          "metadata": {
            "tags": []
          },
          "execution_count": 125
        }
      ]
    },
    {
      "cell_type": "markdown",
      "metadata": {
        "id": "qIcJGDaxYcYC",
        "colab_type": "text"
      },
      "source": [
        "We want to define a transformation which regroups the least frequent modalities into a label 'isRare'. In order to do so, we decide to define our own Transformer.\n",
        "\n",
        "<font color=\"red\">**Question**:\n",
        "    Understand the different steps of 'fit' and 'transform'.\n",
        "</font>"
      ]
    },
    {
      "cell_type": "code",
      "metadata": {
        "id": "a7rJE9cSYcYC",
        "colab_type": "code",
        "colab": {}
      },
      "source": [
        "from sklearn.base import BaseEstimator, TransformerMixin\n",
        "\n",
        "class MergeRareTransformer(BaseEstimator, TransformerMixin):\n",
        "    \n",
        "    def __init__(self, col_names, threshold):\n",
        "        self.col_names = col_names\n",
        "        self.threshold = threshold\n",
        "\n",
        "    def fit(self, X, y=None):\n",
        "\n",
        "        X = pd.DataFrame(X)\n",
        "        counts_dict_list = []\n",
        "        ################## READ THIS #########################\n",
        "        for i in range(len(self.col_names)):\n",
        "            \n",
        "            serie = X[self.col_names[i]].value_counts()  # Série des counts de chaque modalité\n",
        "            rare_indexes = serie[serie<self.threshold[i]].index  # A quoi correspondent ces indices ?\n",
        "            frequent_indexes = serie[serie>=self.threshold[i]].index  # A quoi correspondent ces indices ?\n",
        "            dico = {x:'isRare' for x in rare_indexes}\n",
        "            dico.update({x: str(x) for x in frequent_indexes})\n",
        "            counts_dict_list.append(dico)   # Quel est le dictionnaire obtenu ?\n",
        "            \n",
        "        ######################################################\n",
        "            \n",
        "        self.counts_dict_list_ = counts_dict_list\n",
        "        return self\n",
        "\n",
        "    def transform(self, X):\n",
        "\n",
        "        Xt = pd.DataFrame()\n",
        "        ################## READ THIS #########################\n",
        "        for col, count_dict in zip(self.col_names, self.counts_dict_list_):\n",
        "            Xt[col] = X[col].apply(lambda x:count_dict[x] if x in count_dict else 'isRare')\n",
        "            # A quoi sert le \"else 'isRare'\" dans la transformation de la colonne ?\n",
        "        ######################################################\n",
        "\n",
        "        return Xt\n"
      ],
      "execution_count": 0,
      "outputs": []
    },
    {
      "cell_type": "markdown",
      "metadata": {
        "id": "IJqAjGMkYcYE",
        "colab_type": "text"
      },
      "source": [
        "<font color=\"red\">**Question:**\n",
        "    <br>\n",
        "    - Fit and transform the training set. To do so, merge all modalities occuring at least 20 times in each column.\n",
        "    <br>\n",
        "    - Transform the test set.\n",
        "</font>"
      ]
    },
    {
      "cell_type": "code",
      "metadata": {
        "id": "cO4wJxgOYcYF",
        "colab_type": "code",
        "colab": {}
      },
      "source": [
        "mg = MergeRareTransformer(col_names=Xtrain.columns, threshold=[20]*len(Xtrain.columns))\n",
        "Xtrain_mg = mg.fit_transform(Xtrain) # Fill here with fit_transform\n",
        "Xtest_mg = mg.transform(Xtest)"
      ],
      "execution_count": 0,
      "outputs": []
    },
    {
      "cell_type": "markdown",
      "metadata": {
        "id": "M0X1rEVJYcYI",
        "colab_type": "text"
      },
      "source": [
        "<font color=\"red\">**Question:**\n",
        "   How many elements of the column Xtrain_mg['app_domain'] are now labeled as 'rare'? Use the '.value_counts()' method.\n",
        "</font>"
      ]
    },
    {
      "cell_type": "code",
      "metadata": {
        "id": "5A3oL0BgYcYI",
        "colab_type": "code",
        "colab": {
          "base_uri": "https://localhost:8080/",
          "height": 935
        },
        "outputId": "2cdd78df-0a22-468b-9daa-150e229f2f16"
      },
      "source": [
        "Xtrain_mg['app_domain'].value_counts()"
      ],
      "execution_count": 128,
      "outputs": [
        {
          "output_type": "execute_result",
          "data": {
            "text/plain": [
              "7801e8d9    606390\n",
              "2347f47a    116467\n",
              "ae637522     41928\n",
              "5c5a694b     25289\n",
              "82e27996     16869\n",
              "d9b5648e     15709\n",
              "0e8616ad     14784\n",
              "b9528b13     14284\n",
              "b8d325c3     11953\n",
              "aefc06bd      6644\n",
              "df32afa9      6412\n",
              "33da2e74      5911\n",
              "6f7ca2ba      4990\n",
              "5b9c592b      2448\n",
              "885c7f3f      1468\n",
              "5c620f04      1419\n",
              "45a51db4      1219\n",
              "b5f3b24a      1093\n",
              "813f3323       544\n",
              "0654b444       514\n",
              "isRare         513\n",
              "ad63ec9b       388\n",
              "c6824def       306\n",
              "15ec7f39       275\n",
              "a8b0bf20       266\n",
              "99b4c806       219\n",
              "828da833       185\n",
              "448ca2e3       167\n",
              "f2f777fb       157\n",
              "43cf4f06       149\n",
              "47464e95        99\n",
              "d6feb1a4        95\n",
              "2b627705        89\n",
              "1ea19ec4        72\n",
              "db829551        69\n",
              "6a0a3a9d        59\n",
              "18eb4e75        56\n",
              "0d79ee56        53\n",
              "9ec164d3        51\n",
              "e5d5313f        46\n",
              "b12ff13e        42\n",
              "27ee373d        36\n",
              "b408d42a        30\n",
              "5ac0b939        28\n",
              "1ed56ded        27\n",
              "bb6bcbae        27\n",
              "3feeed1e        26\n",
              "15c23f8e        25\n",
              "63f57be0        25\n",
              "7eec2ab0        24\n",
              "7a9371fa        21\n",
              "afdf1f54        20\n",
              "dcdba109        20\n",
              "Name: app_domain, dtype: int64"
            ]
          },
          "metadata": {
            "tags": []
          },
          "execution_count": 128
        }
      ]
    },
    {
      "cell_type": "markdown",
      "metadata": {
        "id": "o-nmKaUYrwAL",
        "colab_type": "text"
      },
      "source": [
        "There are 513 rare elements in the app_domain column."
      ]
    },
    {
      "cell_type": "markdown",
      "metadata": {
        "id": "4YqrBBiSYcYK",
        "colab_type": "text"
      },
      "source": [
        "<font color=\"red\">**Question:**\n",
        "   In the new train set, display the number of modalities for each feature.\n",
        "</font>"
      ]
    },
    {
      "cell_type": "code",
      "metadata": {
        "id": "g_jA_EBDYcYL",
        "colab_type": "code",
        "colab": {
          "base_uri": "https://localhost:8080/",
          "height": 374
        },
        "outputId": "e78ec1cc-d4d5-47fb-bf01-5b656ed9da70"
      },
      "source": [
        "Xtrain_mg.nunique()"
      ],
      "execution_count": 129,
      "outputs": [
        {
          "output_type": "execute_result",
          "data": {
            "text/plain": [
              "hour                  24\n",
              "C1                     7\n",
              "banner_pos             7\n",
              "site_category         18\n",
              "app_id               613\n",
              "app_domain            53\n",
              "app_category          19\n",
              "device_type            5\n",
              "device_conn_type       4\n",
              "C14                 1339\n",
              "C15                    8\n",
              "C16                    9\n",
              "C17                  381\n",
              "C18                    4\n",
              "C19                   63\n",
              "C20                  148\n",
              "C21                   60\n",
              "weekday                7\n",
              "user                  34\n",
              "site                 889\n",
              "dtype: int64"
            ]
          },
          "metadata": {
            "tags": []
          },
          "execution_count": 129
        }
      ]
    },
    {
      "cell_type": "markdown",
      "metadata": {
        "id": "0W2O7eoxYcYO",
        "colab_type": "text"
      },
      "source": [
        "Modalities are arbitrary object, such as '234', 'isRare', etc. We will now transorm them into integers with the hashing trick.\n",
        "\n",
        "<font color=\"red\">**Question:**\n",
        "   To better understand how the 'hash' function is working, apply it to a string of your choice.\n",
        "</font>"
      ]
    },
    {
      "cell_type": "code",
      "metadata": {
        "id": "4Xn6l5okYcYP",
        "colab_type": "code",
        "colab": {
          "base_uri": "https://localhost:8080/",
          "height": 34
        },
        "outputId": "cf0f0569-4b6a-4b9e-b837-0a98c35c12ae"
      },
      "source": [
        "import hashlib\n",
        "hash('234') # Fill here"
      ],
      "execution_count": 130,
      "outputs": [
        {
          "output_type": "execute_result",
          "data": {
            "text/plain": [
              "-698078637829414013"
            ]
          },
          "metadata": {
            "tags": []
          },
          "execution_count": 130
        }
      ]
    },
    {
      "cell_type": "markdown",
      "metadata": {
        "id": "m0xFTKrSYcYT",
        "colab_type": "text"
      },
      "source": [
        "<font color=\"red\">**Question:**\n",
        "   Create two new datasets 'Xtrain_ha' and 'Xtest_ha' containing the output of the hashing process. Use the '.apply' method to transform iteratively the columns by mapping to each value its remainder in the euclidean division of the hash by 1000000. \n",
        "   Example:\n",
        "</font>\n",
        "</font>\n",
        "<p>\n",
        "<center>\n",
        "2060777048690<font color=\"red\">918393</font>  -->  918393\n",
        "</center>\n",
        "Remark: do not forget that the function 'hash' has to take a string as input."
      ]
    },
    {
      "cell_type": "code",
      "metadata": {
        "id": "Su-b4TJKYcYT",
        "colab_type": "code",
        "colab": {}
      },
      "source": [
        "Xtrain_ha = pd.DataFrame()\n",
        "Xtest_ha = pd.DataFrame()\n",
        "for col in Xtrain_mg.columns:\n",
        "    Xtrain_ha[col] = Xtrain_mg[col].apply(lambda x : hash(x)%1000000 ) # Fill here defining a lambda function\n",
        "    Xtest_ha[col] = Xtest_mg[col].apply(lambda x : hash(x)%1000000 )"
      ],
      "execution_count": 0,
      "outputs": []
    },
    {
      "cell_type": "markdown",
      "metadata": {
        "id": "uvVesMxDYcYV",
        "colab_type": "text"
      },
      "source": [
        "<font color=\"red\">**Question:**\n",
        "   Visualize the content of the DataFrames you have obtained.\n",
        "</font>"
      ]
    },
    {
      "cell_type": "code",
      "metadata": {
        "id": "lJAHncnZYcYW",
        "colab_type": "code",
        "colab": {
          "base_uri": "https://localhost:8080/",
          "height": 224
        },
        "outputId": "fb374ad5-dc84-426c-f297-0b483573f0ad"
      },
      "source": [
        "Xtrain_ha.head()"
      ],
      "execution_count": 132,
      "outputs": [
        {
          "output_type": "execute_result",
          "data": {
            "text/html": [
              "<div>\n",
              "<style scoped>\n",
              "    .dataframe tbody tr th:only-of-type {\n",
              "        vertical-align: middle;\n",
              "    }\n",
              "\n",
              "    .dataframe tbody tr th {\n",
              "        vertical-align: top;\n",
              "    }\n",
              "\n",
              "    .dataframe thead th {\n",
              "        text-align: right;\n",
              "    }\n",
              "</style>\n",
              "<table border=\"1\" class=\"dataframe\">\n",
              "  <thead>\n",
              "    <tr style=\"text-align: right;\">\n",
              "      <th></th>\n",
              "      <th>hour</th>\n",
              "      <th>C1</th>\n",
              "      <th>banner_pos</th>\n",
              "      <th>site_category</th>\n",
              "      <th>app_id</th>\n",
              "      <th>app_domain</th>\n",
              "      <th>app_category</th>\n",
              "      <th>device_type</th>\n",
              "      <th>device_conn_type</th>\n",
              "      <th>C14</th>\n",
              "      <th>C15</th>\n",
              "      <th>C16</th>\n",
              "      <th>C17</th>\n",
              "      <th>C18</th>\n",
              "      <th>C19</th>\n",
              "      <th>C20</th>\n",
              "      <th>C21</th>\n",
              "      <th>weekday</th>\n",
              "      <th>user</th>\n",
              "      <th>site</th>\n",
              "    </tr>\n",
              "  </thead>\n",
              "  <tbody>\n",
              "    <tr>\n",
              "      <th>92438</th>\n",
              "      <td>811527</td>\n",
              "      <td>966521</td>\n",
              "      <td>637202</td>\n",
              "      <td>39686</td>\n",
              "      <td>407291</td>\n",
              "      <td>581236</td>\n",
              "      <td>33708</td>\n",
              "      <td>634240</td>\n",
              "      <td>364895</td>\n",
              "      <td>258313</td>\n",
              "      <td>185680</td>\n",
              "      <td>468507</td>\n",
              "      <td>805982</td>\n",
              "      <td>880975</td>\n",
              "      <td>68395</td>\n",
              "      <td>496650</td>\n",
              "      <td>442631</td>\n",
              "      <td>880975</td>\n",
              "      <td>343363</td>\n",
              "      <td>866274</td>\n",
              "    </tr>\n",
              "    <tr>\n",
              "      <th>60898</th>\n",
              "      <td>764736</td>\n",
              "      <td>558093</td>\n",
              "      <td>880975</td>\n",
              "      <td>39686</td>\n",
              "      <td>919775</td>\n",
              "      <td>854467</td>\n",
              "      <td>938513</td>\n",
              "      <td>637202</td>\n",
              "      <td>245071</td>\n",
              "      <td>258313</td>\n",
              "      <td>185680</td>\n",
              "      <td>468507</td>\n",
              "      <td>805982</td>\n",
              "      <td>880975</td>\n",
              "      <td>68395</td>\n",
              "      <td>496650</td>\n",
              "      <td>442631</td>\n",
              "      <td>637202</td>\n",
              "      <td>343363</td>\n",
              "      <td>866274</td>\n",
              "    </tr>\n",
              "    <tr>\n",
              "      <th>556199</th>\n",
              "      <td>634240</td>\n",
              "      <td>558093</td>\n",
              "      <td>880975</td>\n",
              "      <td>15167</td>\n",
              "      <td>26697</td>\n",
              "      <td>581236</td>\n",
              "      <td>418902</td>\n",
              "      <td>637202</td>\n",
              "      <td>245071</td>\n",
              "      <td>692520</td>\n",
              "      <td>185680</td>\n",
              "      <td>468507</td>\n",
              "      <td>421804</td>\n",
              "      <td>880975</td>\n",
              "      <td>841072</td>\n",
              "      <td>496650</td>\n",
              "      <td>26140</td>\n",
              "      <td>880975</td>\n",
              "      <td>465854</td>\n",
              "      <td>56592</td>\n",
              "    </tr>\n",
              "    <tr>\n",
              "      <th>193129</th>\n",
              "      <td>876305</td>\n",
              "      <td>558093</td>\n",
              "      <td>637202</td>\n",
              "      <td>15167</td>\n",
              "      <td>26697</td>\n",
              "      <td>581236</td>\n",
              "      <td>418902</td>\n",
              "      <td>637202</td>\n",
              "      <td>880975</td>\n",
              "      <td>154232</td>\n",
              "      <td>185680</td>\n",
              "      <td>468507</td>\n",
              "      <td>662133</td>\n",
              "      <td>880975</td>\n",
              "      <td>983713</td>\n",
              "      <td>428040</td>\n",
              "      <td>874672</td>\n",
              "      <td>637202</td>\n",
              "      <td>465854</td>\n",
              "      <td>260448</td>\n",
              "    </tr>\n",
              "    <tr>\n",
              "      <th>231985</th>\n",
              "      <td>676845</td>\n",
              "      <td>558093</td>\n",
              "      <td>880975</td>\n",
              "      <td>195513</td>\n",
              "      <td>26697</td>\n",
              "      <td>581236</td>\n",
              "      <td>418902</td>\n",
              "      <td>637202</td>\n",
              "      <td>880975</td>\n",
              "      <td>139078</td>\n",
              "      <td>185680</td>\n",
              "      <td>468507</td>\n",
              "      <td>805982</td>\n",
              "      <td>880975</td>\n",
              "      <td>68395</td>\n",
              "      <td>104322</td>\n",
              "      <td>442631</td>\n",
              "      <td>77620</td>\n",
              "      <td>465854</td>\n",
              "      <td>889011</td>\n",
              "    </tr>\n",
              "  </tbody>\n",
              "</table>\n",
              "</div>"
            ],
            "text/plain": [
              "          hour      C1  banner_pos  ...  weekday    user    site\n",
              "92438   811527  966521      637202  ...   880975  343363  866274\n",
              "60898   764736  558093      880975  ...   637202  343363  866274\n",
              "556199  634240  558093      880975  ...   880975  465854   56592\n",
              "193129  876305  558093      637202  ...   637202  465854  260448\n",
              "231985  676845  558093      880975  ...    77620  465854  889011\n",
              "\n",
              "[5 rows x 20 columns]"
            ]
          },
          "metadata": {
            "tags": []
          },
          "execution_count": 132
        }
      ]
    },
    {
      "cell_type": "markdown",
      "metadata": {
        "id": "4Xt7l9rvYcYX",
        "colab_type": "text"
      },
      "source": [
        "<font color=\"red\">**Question:**\n",
        "    <br>\n",
        "    - Train a RandomForestClassifier on Xtrain_ha and evaluate its performance on Xtest_ha. Chose 256 estimators, min_samples_leaf=20 and verbose=1 in order to monitor the fitting step. (If you have enough time, try later with 1024 estimators and min_samples_leaf=20).\n",
        "    <br>\n",
        "    - How do you fix 'n_jobs'? \n",
        "</font>"
      ]
    },
    {
      "cell_type": "code",
      "metadata": {
        "id": "1CtFMlwKYcYX",
        "colab_type": "code",
        "colab": {
          "base_uri": "https://localhost:8080/",
          "height": 204
        },
        "outputId": "15094c08-89d2-4b96-c408-2b4c7bd0eead"
      },
      "source": [
        "from sklearn.ensemble import RandomForestClassifier\n",
        "rf = RandomForestClassifier(n_estimators=256, min_samples_leaf=20, verbose=1, n_jobs=-1)\n",
        "rf.fit(Xtrain_ha, ytrain)"
      ],
      "execution_count": 62,
      "outputs": [
        {
          "output_type": "stream",
          "text": [
            "[Parallel(n_jobs=-1)]: Using backend ThreadingBackend with 2 concurrent workers.\n",
            "[Parallel(n_jobs=-1)]: Done  46 tasks      | elapsed:  1.0min\n",
            "[Parallel(n_jobs=-1)]: Done 196 tasks      | elapsed:  3.9min\n",
            "[Parallel(n_jobs=-1)]: Done 256 out of 256 | elapsed:  4.9min finished\n"
          ],
          "name": "stderr"
        },
        {
          "output_type": "execute_result",
          "data": {
            "text/plain": [
              "RandomForestClassifier(bootstrap=True, class_weight=None, criterion='gini',\n",
              "                       max_depth=None, max_features='auto', max_leaf_nodes=None,\n",
              "                       min_impurity_decrease=0.0, min_impurity_split=None,\n",
              "                       min_samples_leaf=20, min_samples_split=2,\n",
              "                       min_weight_fraction_leaf=0.0, n_estimators=256,\n",
              "                       n_jobs=-1, oob_score=False, random_state=None, verbose=1,\n",
              "                       warm_start=False)"
            ]
          },
          "metadata": {
            "tags": []
          },
          "execution_count": 62
        }
      ]
    },
    {
      "cell_type": "code",
      "metadata": {
        "id": "h170ZelZYcYa",
        "colab_type": "code",
        "colab": {
          "base_uri": "https://localhost:8080/",
          "height": 102
        },
        "outputId": "60af75ea-181a-4d0d-cb49-0773858f16c2"
      },
      "source": [
        "soft = rf.predict_proba(Xtest_ha)[:,1]\n",
        "log_loss(ytest, soft), roc_auc_score(ytest, soft)"
      ],
      "execution_count": 63,
      "outputs": [
        {
          "output_type": "stream",
          "text": [
            "[Parallel(n_jobs=2)]: Using backend ThreadingBackend with 2 concurrent workers.\n",
            "[Parallel(n_jobs=2)]: Done  46 tasks      | elapsed:    0.7s\n",
            "[Parallel(n_jobs=2)]: Done 196 tasks      | elapsed:    3.0s\n",
            "[Parallel(n_jobs=2)]: Done 256 out of 256 | elapsed:    4.0s finished\n"
          ],
          "name": "stderr"
        },
        {
          "output_type": "execute_result",
          "data": {
            "text/plain": [
              "(0.4011428590982772, 0.7406680125101647)"
            ]
          },
          "metadata": {
            "tags": []
          },
          "execution_count": 63
        }
      ]
    },
    {
      "cell_type": "markdown",
      "metadata": {
        "id": "3V1PmiFGYcYb",
        "colab_type": "text"
      },
      "source": [
        "<font color=\"red\">**Question:**\n",
        "   Compare with xgboost performance on the same hashed dataset, with n_estimators=256, n_jobs=-1, learning_rate=1.0. (If you have enough time try n_estimators=1024, n_jobs=-1, learning_rate=0.5, it will perform better than a Random Forest of 1024 trees).\n",
        "</font>"
      ]
    },
    {
      "cell_type": "code",
      "metadata": {
        "id": "efxpo945YcYc",
        "colab_type": "code",
        "colab": {
          "base_uri": "https://localhost:8080/",
          "height": 68
        },
        "outputId": "3ee97faa-62ae-4041-9256-8c703ad23825"
      },
      "source": [
        "xgb = XGBClassifier(n_estimators = 256 , learning_rate = 1.0 , n_jobs=-1) # Fill here\n",
        "%time xgb.fit( Xtrain_ha, ytrain ) # the '%time' command will return the execution time of the fitting step\n",
        "soft= xgb.predict_proba(Xtest_ha)\n",
        "log_loss(ytest, soft), roc_auc_score(ytest, soft[:,1])"
      ],
      "execution_count": 64,
      "outputs": [
        {
          "output_type": "stream",
          "text": [
            "CPU times: user 1min 33s, sys: 118 ms, total: 1min 33s\n",
            "Wall time: 47.7 s\n"
          ],
          "name": "stdout"
        },
        {
          "output_type": "execute_result",
          "data": {
            "text/plain": [
              "(0.4053310283930233, 0.7308636968298179)"
            ]
          },
          "metadata": {
            "tags": []
          },
          "execution_count": 64
        }
      ]
    },
    {
      "cell_type": "markdown",
      "metadata": {
        "id": "wMYymLqWjxmE",
        "colab_type": "text"
      },
      "source": [
        "The Random Forest Classifier is sligthly better than the XGBoost Classifier in terms of loss and roc_auc_score."
      ]
    },
    {
      "cell_type": "markdown",
      "metadata": {
        "id": "sQEvD6v9YcYf",
        "colab_type": "text"
      },
      "source": [
        "<font color=\"red\">**Question:**\n",
        "    Plot the ROC and the lift curves for the obtained classifier (xgboost on hashed data). What is the lift of the first fifth of the population identified by the test?\n",
        "</font>"
      ]
    },
    {
      "cell_type": "code",
      "metadata": {
        "id": "BTaxpNu8YcYg",
        "colab_type": "code",
        "colab": {
          "base_uri": "https://localhost:8080/",
          "height": 373
        },
        "outputId": "2c96ca8c-95b9-440e-a58f-6c0816d7f133"
      },
      "source": [
        "# Plot the ROC curve here\n",
        "\n",
        "false_pos_rate, true_pos_rate, _ = roc_curve(ytest, soft[:,1])\n",
        "false_pos_rate =  false_pos_rate.astype('float')\n",
        "print(false_pos_rate)\n",
        "true_pos_rate =  true_pos_rate.astype('float')\n",
        "print(true_pos_rate)\n",
        "plt.plot(false_pos_rate, true_pos_rate)\n",
        "plt.grid()\n",
        "plt.plot([0, 1], [0, 1], 'r--')\n",
        "plt.xlabel('False Positive Rate', fontsize=16)\n",
        "plt.ylabel('True Positive Rate', fontsize=16)\n",
        "plt.title('ROC curve', fontsize=20)"
      ],
      "execution_count": 65,
      "outputs": [
        {
          "output_type": "stream",
          "text": [
            "[0.         0.         0.         ... 0.99995181 0.9999759  1.        ]\n",
            "[0.00000000e+00 5.88200694e-05 8.23480972e-04 ... 1.00000000e+00\n",
            " 1.00000000e+00 1.00000000e+00]\n"
          ],
          "name": "stdout"
        },
        {
          "output_type": "execute_result",
          "data": {
            "text/plain": [
              "Text(0.5, 1.0, 'ROC curve')"
            ]
          },
          "metadata": {
            "tags": []
          },
          "execution_count": 65
        },
        {
          "output_type": "display_data",
          "data": {
            "image/png": "[encoded data removed]",
            "text/plain": [
              "<Figure size 432x288 with 1 Axes>"
            ]
          },
          "metadata": {
            "tags": []
          }
        }
      ]
    },
    {
      "cell_type": "code",
      "metadata": {
        "id": "t5X212VxYcYf",
        "colab_type": "code",
        "colab": {
          "base_uri": "https://localhost:8080/",
          "height": 322
        },
        "outputId": "edba14f9-fa30-4003-c0d4-238dfa3653b6"
      },
      "source": [
        "# Plot the lift curve here\n",
        "plotlift(ytest, soft[:,1])\n",
        "# The following line just plots a vertical line for you to answer the second part of the question\n",
        "plt.axvline(x= 0.2 , linestyle='--', color='r') # Fill here\n",
        "\n",
        "plt.xlabel('Proportion of the dataset', fontsize=16)\n",
        "plt.ylabel('Lift', fontsize=16)\n",
        "plt.title('Lift curve', fontsize=20)\n",
        "plt.plot()"
      ],
      "execution_count": 66,
      "outputs": [
        {
          "output_type": "execute_result",
          "data": {
            "text/plain": [
              "[]"
            ]
          },
          "metadata": {
            "tags": []
          },
          "execution_count": 66
        },
        {
          "output_type": "display_data",
          "data": {
            "image/png": "[encoded data removed]",
            "text/plain": [
              "<Figure size 432x288 with 1 Axes>"
            ]
          },
          "metadata": {
            "tags": []
          }
        }
      ]
    },
    {
      "cell_type": "markdown",
      "metadata": {
        "colab_type": "text",
        "id": "drSyzM_M8YJk"
      },
      "source": [
        "The lift of the first fifth of the population is around 2.0."
      ]
    },
    {
      "cell_type": "markdown",
      "metadata": {
        "id": "bs1_k3-hYcYj",
        "colab_type": "text"
      },
      "source": [
        "Hashing produces columns of integers arbitrarily ordered. One can wonder if adding more columns hashed in a different fashion would lead to better performance. \n",
        "\n",
        "<font color=\"red\">**Question:**\n",
        "    Add hashed columns by recursively hashing the previous ones: complete the following code. \n",
        "</font>"
      ]
    },
    {
      "cell_type": "code",
      "metadata": {
        "id": "q2X9YoNvYcYj",
        "colab_type": "code",
        "colab": {}
      },
      "source": [
        "Xtrain_haha = pd.DataFrame(Xtrain_ha).copy()\n",
        "Xtest_haha = pd.DataFrame(Xtest_ha).copy()\n",
        "\n",
        "n_hash = 3\n",
        "cols = Xtrain_ha.columns\n",
        "for l in range(n_hash):\n",
        "    for col in cols:\n",
        "        Xtrain_haha[col + '-hash'] = Xtrain_haha[col].apply(lambda x : hash(x)%1000000 )\n",
        "        Xtest_haha[col + '-hash'] = Xtest_haha[col].apply(lambda x : hash(x)%1000000 )\n",
        "    cols = [col + '-hash' for col in cols]"
      ],
      "execution_count": 0,
      "outputs": []
    },
    {
      "cell_type": "markdown",
      "metadata": {
        "id": "OgdtITAfYcYq",
        "colab_type": "text"
      },
      "source": [
        "<font color=\"red\">**Question:**\n",
        "    Evaluate the performance of a random forest and/or an xgboost clasifier (chose 256 estimators first and learning rate of 1.0 for xgboost) on these enlarged dataset. Is the performance better than when hasing features once?\n",
        "</font>"
      ]
    },
    {
      "cell_type": "code",
      "metadata": {
        "id": "DOk1idKAYcYr",
        "colab_type": "code",
        "colab": {
          "base_uri": "https://localhost:8080/",
          "height": 68
        },
        "outputId": "6215b88a-9bcb-477b-cff0-4eee0f559e92"
      },
      "source": [
        "xgb = XGBClassifier( n_estimators = 256 , learning_rate = 1.0 , n_jobs=-1) # Fill here\n",
        "%time xgb.fit( Xtrain_haha, ytrain ) # the '%time' command will return the execution time of the fitting step\n",
        "soft = xgb.predict_proba(Xtest_haha)\n",
        "log_loss(ytest, soft), roc_auc_score(ytest, soft[:,1])"
      ],
      "execution_count": 68,
      "outputs": [
        {
          "output_type": "stream",
          "text": [
            "CPU times: user 4min 53s, sys: 948 ms, total: 4min 54s\n",
            "Wall time: 2min 30s\n"
          ],
          "name": "stdout"
        },
        {
          "output_type": "execute_result",
          "data": {
            "text/plain": [
              "(0.4053310283930233, 0.7308636968298179)"
            ]
          },
          "metadata": {
            "tags": []
          },
          "execution_count": 68
        }
      ]
    },
    {
      "cell_type": "code",
      "metadata": {
        "id": "QW3nb8YKYcYt",
        "colab_type": "code",
        "colab": {
          "base_uri": "https://localhost:8080/",
          "height": 170
        },
        "outputId": "a1b4556b-af6d-40f1-f1a6-1e97fb92cdd1"
      },
      "source": [
        "rf = RandomForestClassifier(n_estimators=256, min_samples_leaf=20, verbose=1, n_jobs=-1)\n",
        "rf.fit(Xtrain_haha, ytrain)\n",
        "soft = rf.predict_proba(Xtest_haha)[:,1]\n",
        "log_loss(ytest, soft), roc_auc_score(ytest, soft)"
      ],
      "execution_count": 69,
      "outputs": [
        {
          "output_type": "stream",
          "text": [
            "[Parallel(n_jobs=-1)]: Using backend ThreadingBackend with 2 concurrent workers.\n",
            "[Parallel(n_jobs=-1)]: Done  46 tasks      | elapsed:  1.6min\n",
            "[Parallel(n_jobs=-1)]: Done 196 tasks      | elapsed:  6.7min\n",
            "[Parallel(n_jobs=-1)]: Done 256 out of 256 | elapsed:  8.7min finished\n",
            "[Parallel(n_jobs=2)]: Using backend ThreadingBackend with 2 concurrent workers.\n",
            "[Parallel(n_jobs=2)]: Done  46 tasks      | elapsed:    1.0s\n",
            "[Parallel(n_jobs=2)]: Done 196 tasks      | elapsed:    4.1s\n",
            "[Parallel(n_jobs=2)]: Done 256 out of 256 | elapsed:    5.3s finished\n"
          ],
          "name": "stderr"
        },
        {
          "output_type": "execute_result",
          "data": {
            "text/plain": [
              "(0.3998735166914739, 0.7422845052905283)"
            ]
          },
          "metadata": {
            "tags": []
          },
          "execution_count": 69
        }
      ]
    },
    {
      "cell_type": "markdown",
      "metadata": {
        "colab_type": "text",
        "id": "xusvruj8NWTp"
      },
      "source": [
        "The Random Forest Classifier is a bit better than the XGBoost Classifier for the double hashed dataset. \n",
        "\n",
        "Best result with single hashed data: (0.4011428590982772, 0.7406680125101647)\n",
        "\n",
        "Best result with double hashed data: (0.3998735166914739, 0.7422845052905283)\n",
        "\n",
        "We can se ethe influence of the double hashed features that improve slightly the performances."
      ]
    },
    {
      "cell_type": "markdown",
      "metadata": {
        "id": "7CxxdsyAYcYu",
        "colab_type": "text"
      },
      "source": [
        "Good job! :-) "
      ]
    },
    {
      "cell_type": "markdown",
      "metadata": {
        "colab_type": "text",
        "id": "3NTILkwg8fFQ"
      },
      "source": [
        "<font color=\"red\">**Bonus Question:**\n",
        "    If you have enough time (about 2 hours ...), try to fit both random forest and xgboost models with 1024 estimators (and a learning rate of 0.5 for xgboost) on these enlarged datasets.<br>\n",
        "    - Which one performs better?<br> \n",
        "    - Can you see the improvement due to the addition of more hashed features?\n",
        "</font>"
      ]
    },
    {
      "cell_type": "code",
      "metadata": {
        "id": "MO88fPXO8-9E",
        "colab_type": "code",
        "colab": {
          "base_uri": "https://localhost:8080/",
          "height": 119
        },
        "outputId": "5febb37a-5195-4ce8-f8f0-d896065d3bb7"
      },
      "source": [
        "xgb = XGBClassifier( n_estimators = 1024 , learning_rate = 0.5 , n_jobs=-1)\n",
        "%time xgb.fit(Xtrain_haha, ytrain) \n",
        "soft= xgb.predict_proba(Xtest_haha)\n",
        "print(log_loss(ytest, soft), roc_auc_score(ytest, soft[:,1]))\n",
        "\n",
        "rf = RandomForestClassifier(n_estimators=1024, min_samples_leaf=20, n_jobs=-1)\n",
        "%time rf.fit(Xtrain_haha, ytrain)\n",
        "soft = rf.predict_proba(Xtest_haha)[:,1]\n",
        "print(log_loss(ytest, soft), roc_auc_score(ytest, soft))"
      ],
      "execution_count": 138,
      "outputs": [
        {
          "output_type": "stream",
          "text": [
            "CPU times: user 48min 30s, sys: 561 ms, total: 48min 30s\n",
            "Wall time: 12min 13s\n",
            "0.39777053367077764 0.7464900761172688\n",
            "CPU times: user 1h 17min 32s, sys: 4.76 s, total: 1h 17min 37s\n",
            "Wall time: 19min 33s\n",
            "0.3994526261919568 0.7433139684772463\n"
          ],
          "name": "stdout"
        }
      ]
    },
    {
      "cell_type": "markdown",
      "metadata": {
        "id": "0E6V_3YOf-uc",
        "colab_type": "text"
      },
      "source": [
        "The XGBoost model performs a bit better than the random forest with the same number of estimators in terms of loss, roc_auc_score and time of execution for the double hashed dataset.\n",
        "\n",
        "Indeed the number of estimators influence on the performance of the classifiers."
      ]
    },
    {
      "cell_type": "markdown",
      "metadata": {
        "collapsed": true,
        "id": "gmT_UJvZIIWT",
        "colab_type": "text"
      },
      "source": [
        "# Field-aware Factorization Machines\n",
        "<br>\n",
        "<font color=\"red\">\n",
        "Display the names of the columns of the matrix Xtrain_ha\n",
        "</font>"
      ]
    },
    {
      "cell_type": "code",
      "metadata": {
        "id": "gLVRw6AtIIWU",
        "colab_type": "code",
        "colab": {
          "base_uri": "https://localhost:8080/",
          "height": 85
        },
        "outputId": "d2d5ea6e-1c58-42f8-b956-4ec7b74beee2"
      },
      "source": [
        "Xtrain_ha.columns"
      ],
      "execution_count": 80,
      "outputs": [
        {
          "output_type": "execute_result",
          "data": {
            "text/plain": [
              "Index(['hour', 'C1', 'banner_pos', 'site_category', 'app_id', 'app_domain',\n",
              "       'app_category', 'device_type', 'device_conn_type', 'C14', 'C15', 'C16',\n",
              "       'C17', 'C18', 'C19', 'C20', 'C21', 'weekday', 'user', 'site'],\n",
              "      dtype='object')"
            ]
          },
          "metadata": {
            "tags": []
          },
          "execution_count": 80
        }
      ]
    },
    {
      "cell_type": "markdown",
      "metadata": {
        "id": "jePx6DkuIIWU",
        "colab_type": "text"
      },
      "source": [
        "<font color=\"red\">\n",
        "Create a list of lists of the columns. The n-th sub-list is composed of the names of the columns of the n-th field.</font>"
      ]
    },
    {
      "cell_type": "code",
      "metadata": {
        "id": "Xw5rYhwJIIWV",
        "colab_type": "code",
        "colab": {}
      },
      "source": [
        "fields = []\n",
        "fields.append( [ 'hour', 'C1'] )\n",
        "fields.append( ['banner_pos', 'site_category', 'app_id',\n",
        "       'app_domain', 'app_category', 'site'] )\n",
        "fields.append( ['device_type', 'device_conn_type', 'C14',\n",
        "       'C15', 'C16', 'C17', 'C18', 'C19', 'C20', 'C21'])\n",
        "fields.append( ['weekday', 'user'])"
      ],
      "execution_count": 0,
      "outputs": []
    },
    {
      "cell_type": "markdown",
      "metadata": {
        "id": "ZUu2FXaSIIWW",
        "colab_type": "text"
      },
      "source": [
        "<font color=\"red\">\n",
        "With the enumerate function, let generate a dictionary which associates each column name with its field.\n"
      ]
    },
    {
      "cell_type": "code",
      "metadata": {
        "id": "tWzYMksxIIWX",
        "colab_type": "code",
        "colab": {
          "base_uri": "https://localhost:8080/",
          "height": 54
        },
        "outputId": "471f3cc2-63b3-4db1-ff5f-a85a9e9d77ab"
      },
      "source": [
        "dicFields = { name_col : i for i,f in enumerate(fields) for name_col in f}\n",
        "print(dicFields)"
      ],
      "execution_count": 82,
      "outputs": [
        {
          "output_type": "stream",
          "text": [
            "{'hour': 0, 'C1': 0, 'banner_pos': 1, 'site_category': 1, 'app_id': 1, 'app_domain': 1, 'app_category': 1, 'site': 1, 'device_type': 2, 'device_conn_type': 2, 'C14': 2, 'C15': 2, 'C16': 2, 'C17': 2, 'C18': 2, 'C19': 2, 'C20': 2, 'C21': 2, 'weekday': 3, 'user': 3}\n"
          ],
          "name": "stdout"
        }
      ]
    },
    {
      "cell_type": "markdown",
      "metadata": {
        "id": "o2Scxx_CIIWZ",
        "colab_type": "text"
      },
      "source": [
        "We need to make sure that two different columns have different modalities. For this, we add in front of each modality a characteristic string of the column.\n",
        "\n",
        "<font color=\"red\">Perform this transformation with the apply method</font>\n"
      ]
    },
    {
      "cell_type": "code",
      "metadata": {
        "id": "Y253v6YBIIWa",
        "colab_type": "code",
        "colab": {
          "base_uri": "https://localhost:8080/",
          "height": 493
        },
        "outputId": "fe327ee6-50d3-4895-c28f-67727fda2e23"
      },
      "source": [
        "Xtrain_ffm = pd.DataFrame()\n",
        "Xtest_ffm = pd.DataFrame()\n",
        "for col in Xtrain_ha.columns:\n",
        "    Xtrain_ffm[col] = Xtrain_ha[col].apply(lambda x: col+str(x))\n",
        "    Xtest_ffm[col] = Xtest_ha[col].apply(lambda x: col+str(x))\n",
        "print(Xtrain_ha)\n",
        "print(Xtrain_ffm)"
      ],
      "execution_count": 83,
      "outputs": [
        {
          "output_type": "stream",
          "text": [
            "          hour      C1  banner_pos  ...  weekday    user    site\n",
            "92438   553802  616072      562409  ...   652019  357065  486456\n",
            "60898   242194  815427      652019  ...   562409  357065  486456\n",
            "556199  337987  815427      652019  ...   652019  681733  872010\n",
            "193129  807077  815427      562409  ...   562409  681733  971046\n",
            "231985  125946  815427      652019  ...    34065  681733  862346\n",
            "...        ...     ...         ...  ...      ...     ...     ...\n",
            "864087  562010  815427      562409  ...   197079  681733   26095\n",
            "778087  807077  815427      652019  ...   562409  681733  486456\n",
            "210755  278820  815427      652019  ...   397134  681733  846172\n",
            "56088   958500  815427      562409  ...   397134  681733  748785\n",
            "824840   34065  815427      652019  ...   562409  681733  862346\n",
            "\n",
            "[900000 rows x 20 columns]\n",
            "              hour        C1  ...        user        site\n",
            "92438   hour553802  C1616072  ...  user357065  site486456\n",
            "60898   hour242194  C1815427  ...  user357065  site486456\n",
            "556199  hour337987  C1815427  ...  user681733  site872010\n",
            "193129  hour807077  C1815427  ...  user681733  site971046\n",
            "231985  hour125946  C1815427  ...  user681733  site862346\n",
            "...            ...       ...  ...         ...         ...\n",
            "864087  hour562010  C1815427  ...  user681733   site26095\n",
            "778087  hour807077  C1815427  ...  user681733  site486456\n",
            "210755  hour278820  C1815427  ...  user681733  site846172\n",
            "56088   hour958500  C1815427  ...  user681733  site748785\n",
            "824840   hour34065  C1815427  ...  user681733  site862346\n",
            "\n",
            "[900000 rows x 20 columns]\n"
          ],
          "name": "stdout"
        }
      ]
    },
    {
      "cell_type": "markdown",
      "metadata": {
        "id": "yrhsnGjIIIWb",
        "colab_type": "text"
      },
      "source": [
        "With np.unique, we create the list of all the modalities appearing in all the columns."
      ]
    },
    {
      "cell_type": "code",
      "metadata": {
        "id": "7fcTcK4rIIWb",
        "colab_type": "code",
        "colab": {
          "base_uri": "https://localhost:8080/",
          "height": 54
        },
        "outputId": "1b872dcf-8d70-41ab-dd87-57af00d25633"
      },
      "source": [
        "allvals = []\n",
        "allcols_ffm = [col for f in fields for col in f]  # Toutes les colonnes appartenant à l'un des champs\n",
        "for col in allcols_ffm:\n",
        "    allvals.append(np.unique(Xtrain_ffm[col]))\n",
        "allvals= [val for sublist in allvals for val in sublist]\n",
        "print(allvals)"
      ],
      "execution_count": 84,
      "outputs": [
        {
          "output_type": "stream",
          "text": [
            "['hour104394', 'hour125946', 'hour197079', 'hour242194', 'hour243778', 'hour278820', 'hour31136', 'hour33435', 'hour337987', 'hour34065', 'hour397134', 'hour412291', 'hour538497', 'hour538987', 'hour553802', 'hour562010', 'hour562409', 'hour572607', 'hour598367', 'hour652019', 'hour695719', 'hour807077', 'hour886922', 'hour958500', 'C1125892', 'C1616072', 'C1725909', 'C1736940', 'C1815427', 'C191888', 'C1960715', 'banner_pos197079', 'banner_pos278820', 'banner_pos33435', 'banner_pos337987', 'banner_pos397134', 'banner_pos562409', 'banner_pos652019', 'site_category122930', 'site_category214337', 'site_category226713', 'site_category236893', 'site_category248187', 'site_category292857', 'site_category321172', 'site_category340905', 'site_category357065', 'site_category370875', 'site_category379309', 'site_category427558', 'site_category452481', 'site_category614985', 'site_category647219', 'site_category859408', 'site_category878403', 'site_category96627', 'app_id103375', 'app_id105433', 'app_id105960', 'app_id109021', 'app_id113883', 'app_id114306', 'app_id114769', 'app_id117040', 'app_id117988', 'app_id118512', 'app_id118581', 'app_id119357', 'app_id120198', 'app_id121454', 'app_id121640', 'app_id123484', 'app_id124120', 'app_id12446', 'app_id124790', 'app_id12679', 'app_id128989', 'app_id129087', 'app_id136163', 'app_id136583', 'app_id141658', 'app_id142537', 'app_id14372', 'app_id144166', 'app_id144861', 'app_id147694', 'app_id148428', 'app_id148580', 'app_id152458', 'app_id15402', 'app_id155996', 'app_id161332', 'app_id165821', 'app_id166729', 'app_id167833', 'app_id168718', 'app_id170477', 'app_id17111', 'app_id171202', 'app_id172190', 'app_id17374', 'app_id17397', 'app_id174318', 'app_id174588', 'app_id174707', 'app_id178186', 'app_id178891', 'app_id180452', 'app_id183189', 'app_id184610', 'app_id185124', 'app_id188031', 'app_id188520', 'app_id190024', 'app_id190477', 'app_id195675', 'app_id195729', 'app_id196016', 'app_id198789', 'app_id199283', 'app_id199408', 'app_id199495', 'app_id199618', 'app_id20175', 'app_id208435', 'app_id209199', 'app_id209619', 'app_id211084', 'app_id211648', 'app_id214969', 'app_id215594', 'app_id218837', 'app_id22054', 'app_id221001', 'app_id222996', 'app_id223510', 'app_id224612', 'app_id22505', 'app_id226785', 'app_id226890', 'app_id230854', 'app_id234232', 'app_id235432', 'app_id236780', 'app_id238267', 'app_id238361', 'app_id241925', 'app_id244259', 'app_id24536', 'app_id247140', 'app_id248233', 'app_id249877', 'app_id250270', 'app_id251600', 'app_id251918', 'app_id252629', 'app_id253079', 'app_id2531', 'app_id253472', 'app_id257595', 'app_id259656', 'app_id260108', 'app_id262920', 'app_id264808', 'app_id265612', 'app_id265715', 'app_id267014', 'app_id268047', 'app_id269395', 'app_id271014', 'app_id271502', 'app_id271545', 'app_id272517', 'app_id273280', 'app_id27380', 'app_id274395', 'app_id275884', 'app_id276186', 'app_id279634', 'app_id28254', 'app_id286239', 'app_id286847', 'app_id287151', 'app_id287481', 'app_id287987', 'app_id288345', 'app_id293377', 'app_id293852', 'app_id29491', 'app_id295593', 'app_id295805', 'app_id296960', 'app_id297676', 'app_id299197', 'app_id299770', 'app_id300539', 'app_id303154', 'app_id303439', 'app_id305051', 'app_id311708', 'app_id312124', 'app_id312773', 'app_id313912', 'app_id314680', 'app_id315578', 'app_id318606', 'app_id319312', 'app_id321543', 'app_id323399', 'app_id324219', 'app_id3250', 'app_id327853', 'app_id328191', 'app_id328732', 'app_id332579', 'app_id335362', 'app_id340257', 'app_id340578', 'app_id341602', 'app_id343637', 'app_id345088', 'app_id345918', 'app_id3478', 'app_id348768', 'app_id350571', 'app_id353662', 'app_id354846', 'app_id356056', 'app_id357065', 'app_id35952', 'app_id360433', 'app_id362803', 'app_id364060', 'app_id365900', 'app_id368395', 'app_id368662', 'app_id370869', 'app_id371330', 'app_id373794', 'app_id375963', 'app_id376667', 'app_id377475', 'app_id377769', 'app_id38087', 'app_id383139', 'app_id384286', 'app_id384641', 'app_id385803', 'app_id390246', 'app_id390848', 'app_id39114', 'app_id391738', 'app_id392368', 'app_id393808', 'app_id395196', 'app_id395562', 'app_id39566', 'app_id396467', 'app_id396801', 'app_id397331', 'app_id398239', 'app_id399796', 'app_id401031', 'app_id401598', 'app_id40411', 'app_id405521', 'app_id407079', 'app_id40743', 'app_id409881', 'app_id412985', 'app_id413597', 'app_id413757', 'app_id414066', 'app_id414198', 'app_id415787', 'app_id416200', 'app_id423277', 'app_id426056', 'app_id427285', 'app_id428787', 'app_id429981', 'app_id430174', 'app_id433766', 'app_id43417', 'app_id434238', 'app_id434842', 'app_id43528', 'app_id435956', 'app_id43652', 'app_id439505', 'app_id443814', 'app_id444027', 'app_id444237', 'app_id444606', 'app_id446192', 'app_id447237', 'app_id448750', 'app_id449524', 'app_id45043', 'app_id450570', 'app_id452567', 'app_id460410', 'app_id464287', 'app_id464407', 'app_id464763', 'app_id469259', 'app_id469313', 'app_id472897', 'app_id475879', 'app_id475933', 'app_id477265', 'app_id478466', 'app_id478566', 'app_id483221', 'app_id483811', 'app_id486664', 'app_id487018', 'app_id489313', 'app_id491214', 'app_id492279', 'app_id492982', 'app_id493507', 'app_id496154', 'app_id497013', 'app_id498784', 'app_id498906', 'app_id5013', 'app_id502521', 'app_id507296', 'app_id508885', 'app_id509712', 'app_id514598', 'app_id516651', 'app_id516989', 'app_id517287', 'app_id517665', 'app_id519645', 'app_id519781', 'app_id519846', 'app_id520440', 'app_id521579', 'app_id522447', 'app_id522679', 'app_id524161', 'app_id526228', 'app_id526321', 'app_id529526', 'app_id530072', 'app_id531374', 'app_id531384', 'app_id532004', 'app_id532195', 'app_id532825', 'app_id536250', 'app_id537218', 'app_id538019', 'app_id538352', 'app_id54405', 'app_id544105', 'app_id547424', 'app_id549898', 'app_id552629', 'app_id553785', 'app_id554860', 'app_id556483', 'app_id556829', 'app_id557090', 'app_id558994', 'app_id560520', 'app_id560916', 'app_id561418', 'app_id566038', 'app_id566932', 'app_id568200', 'app_id569729', 'app_id570997', 'app_id572025', 'app_id572757', 'app_id575944', 'app_id580490', 'app_id58132', 'app_id587289', 'app_id587862', 'app_id588132', 'app_id58844', 'app_id588963', 'app_id589296', 'app_id592048', 'app_id592759', 'app_id594740', 'app_id595271', 'app_id595640', 'app_id595880', 'app_id596600', 'app_id598183', 'app_id60058', 'app_id601958', 'app_id604074', 'app_id604114', 'app_id60490', 'app_id606092', 'app_id611340', 'app_id611444', 'app_id614429', 'app_id615685', 'app_id617047', 'app_id621506', 'app_id622422', 'app_id623016', 'app_id623309', 'app_id624790', 'app_id631726', 'app_id632095', 'app_id636544', 'app_id636646', 'app_id640802', 'app_id641883', 'app_id642027', 'app_id642241', 'app_id64300', 'app_id64331', 'app_id645145', 'app_id645437', 'app_id645975', 'app_id649699', 'app_id651609', 'app_id652000', 'app_id65670', 'app_id657209', 'app_id657517', 'app_id657583', 'app_id658860', 'app_id663275', 'app_id663625', 'app_id663634', 'app_id663713', 'app_id664440', 'app_id666785', 'app_id670489', 'app_id672882', 'app_id673141', 'app_id673748', 'app_id680381', 'app_id680915', 'app_id682645', 'app_id683386', 'app_id684086', 'app_id685212', 'app_id685752', 'app_id687450', 'app_id688750', 'app_id689589', 'app_id690437', 'app_id690601', 'app_id691066', 'app_id692362', 'app_id693796', 'app_id69633', 'app_id697107', 'app_id69755', 'app_id698324', 'app_id699102', 'app_id69950', 'app_id699535', 'app_id701280', 'app_id702269', 'app_id702770', 'app_id705462', 'app_id708107', 'app_id708251', 'app_id708804', 'app_id711310', 'app_id711884', 'app_id712881', 'app_id713342', 'app_id713713', 'app_id715721', 'app_id71645', 'app_id717517', 'app_id720948', 'app_id721146', 'app_id722463', 'app_id723529', 'app_id723664', 'app_id725477', 'app_id725933', 'app_id726723', 'app_id727018', 'app_id733438', 'app_id733513', 'app_id73623', 'app_id73843', 'app_id746689', 'app_id747645', 'app_id748659', 'app_id751353', 'app_id752219', 'app_id752270', 'app_id752419', 'app_id752556', 'app_id753123', 'app_id753915', 'app_id756663', 'app_id760817', 'app_id762425', 'app_id762443', 'app_id764083', 'app_id764421', 'app_id76456', 'app_id76591', 'app_id772162', 'app_id78068', 'app_id780694', 'app_id781444', 'app_id784086', 'app_id785612', 'app_id787352', 'app_id789078', 'app_id789464', 'app_id791239', 'app_id791631', 'app_id793269', 'app_id795058', 'app_id795984', 'app_id796562', 'app_id797580', 'app_id798928', 'app_id801919', 'app_id802230', 'app_id803004', 'app_id803392', 'app_id80395', 'app_id807436', 'app_id807983', 'app_id810158', 'app_id812277', 'app_id816282', 'app_id816559', 'app_id817780', 'app_id818479', 'app_id81871', 'app_id818892', 'app_id819527', 'app_id820125', 'app_id821283', 'app_id822752', 'app_id823529', 'app_id823862', 'app_id826380', 'app_id826577', 'app_id828965', 'app_id829020', 'app_id83023', 'app_id830956', 'app_id831487', 'app_id833169', 'app_id834640', 'app_id836721', 'app_id837536', 'app_id837546', 'app_id839311', 'app_id840077', 'app_id840804', 'app_id842218', 'app_id850757', 'app_id851209', 'app_id851522', 'app_id851977', 'app_id854927', 'app_id861044', 'app_id861479', 'app_id862006', 'app_id862225', 'app_id863652', 'app_id863975', 'app_id866976', 'app_id86978', 'app_id873940', 'app_id874838', 'app_id875319', 'app_id875696', 'app_id875769', 'app_id877700', 'app_id879841', 'app_id879897', 'app_id881667', 'app_id883011', 'app_id885481', 'app_id886142', 'app_id88616', 'app_id886555', 'app_id888394', 'app_id889583', 'app_id890751', 'app_id890970', 'app_id89287', 'app_id892940', 'app_id896875', 'app_id897295', 'app_id899001', 'app_id899514', 'app_id899885', 'app_id902612', 'app_id903350', 'app_id905411', 'app_id905819', 'app_id906575', 'app_id907352', 'app_id907597', 'app_id908998', 'app_id909144', 'app_id909293', 'app_id915673', 'app_id915752', 'app_id917382', 'app_id918955', 'app_id922427', 'app_id925831', 'app_id927244', 'app_id928657', 'app_id928904', 'app_id931183', 'app_id933004', 'app_id933908', 'app_id934314', 'app_id934686', 'app_id938544', 'app_id942956', 'app_id943079', 'app_id943972', 'app_id945222', 'app_id945336', 'app_id945877', 'app_id94947', 'app_id951372', 'app_id958465', 'app_id961362', 'app_id96234', 'app_id96543', 'app_id966084', 'app_id966169', 'app_id967283', 'app_id96887', 'app_id969459', 'app_id973318', 'app_id974393', 'app_id974480', 'app_id974670', 'app_id975047', 'app_id975386', 'app_id976707', 'app_id977160', 'app_id979438', 'app_id980442', 'app_id980796', 'app_id981228', 'app_id981341', 'app_id986129', 'app_id986712', 'app_id987418', 'app_id989458', 'app_id989904', 'app_id990564', 'app_id991282', 'app_id991302', 'app_id99370', 'app_id995194', 'app_id996788', 'app_id997964', 'app_domain129482', 'app_domain144609', 'app_domain166945', 'app_domain173808', 'app_domain192652', 'app_domain193830', 'app_domain204923', 'app_domain211273', 'app_domain235217', 'app_domain239687', 'app_domain255730', 'app_domain255867', 'app_domain26485', 'app_domain274196', 'app_domain306443', 'app_domain320955', 'app_domain345897', 'app_domain3568', 'app_domain357065', 'app_domain363066', 'app_domain392094', 'app_domain408107', 'app_domain421779', 'app_domain422290', 'app_domain427558', 'app_domain445803', 'app_domain480640', 'app_domain485459', 'app_domain501802', 'app_domain520638', 'app_domain521815', 'app_domain530157', 'app_domain539229', 'app_domain559449', 'app_domain598494', 'app_domain616226', 'app_domain629488', 'app_domain641345', 'app_domain648877', 'app_domain672956', 'app_domain679636', 'app_domain69731', 'app_domain710153', 'app_domain758890', 'app_domain787897', 'app_domain7916', 'app_domain799394', 'app_domain822761', 'app_domain844168', 'app_domain889400', 'app_domain906074', 'app_domain907962', 'app_domain946192', 'app_category213092', 'app_category223258', 'app_category239222', 'app_category262313', 'app_category304764', 'app_category334602', 'app_category357065', 'app_category382257', 'app_category407069', 'app_category486674', 'app_category648532', 'app_category660356', 'app_category70951', 'app_category723326', 'app_category737556', 'app_category80165', 'app_category888961', 'app_category911231', 'app_category94175', 'site100372', 'site101101', 'site102393', 'site103807', 'site104489', 'site104641', 'site105792', 'site106124', 'site106247', 'site106634', 'site107645', 'site110660', 'site111087', 'site11254', 'site113590', 'site114078', 'site114303', 'site114388', 'site114650', 'site117060', 'site117202', 'site118317', 'site118830', 'site11909', 'site121579', 'site121973', 'site122273', 'site122298', 'site122330', 'site122402', 'site123294', 'site123984', 'site125126', 'site126802', 'site127534', 'site127841', 'site127912', 'site129378', 'site129760', 'site129999', 'site132301', 'site132370', 'site133900', 'site134237', 'site134670', 'site137043', 'site137733', 'site140224', 'site144115', 'site144715', 'site144903', 'site145499', 'site148511', 'site150', 'site150023', 'site150070', 'site150118', 'site153964', 'site153966', 'site154553', 'site154843', 'site155074', 'site155943', 'site157050', 'site158680', 'site160294', 'site160306', 'site160383', 'site161151', 'site161915', 'site163614', 'site164611', 'site167308', 'site16755', 'site167581', 'site168451', 'site169100', 'site169117', 'site170325', 'site171082', 'site172937', 'site174037', 'site174474', 'site176628', 'site177046', 'site179689', 'site179749', 'site180397', 'site181721', 'site182306', 'site182769', 'site187885', 'site187989', 'site188192', 'site188215', 'site189048', 'site189168', 'site189381', 'site189622', 'site189713', 'site189999', 'site192505', 'site193137', 'site195385', 'site195932', 'site197589', 'site199041', 'site201523', 'site201550', 'site202227', 'site202609', 'site202985', 'site203743', 'site203961', 'site204733', 'site20507', 'site205839', 'site209784', 'site212371', 'site21396', 'site216213', 'site217746', 'site218182', 'site2193', 'site221805', 'site222603', 'site223349', 'site224349', 'site225908', 'site227943', 'site22858', 'site22988', 'site230632', 'site232485', 'site233119', 'site235359', 'site235431', 'site236459', 'site236477', 'site2365', 'site236728', 'site237228', 'site241158', 'site241336', 'site241680', 'site243814', 'site248190', 'site24947', 'site251244', 'site25315', 'site253385', 'site253462', 'site255312', 'site255848', 'site256119', 'site256173', 'site256358', 'site257277', 'site258224', 'site26095', 'site260956', 'site261512', 'site262089', 'site262329', 'site262350', 'site262369', 'site262706', 'site263182', 'site263222', 'site264903', 'site267102', 'site267106', 'site267618', 'site267923', 'site268168', 'site269702', 'site270682', 'site27243', 'site273745', 'site274036', 'site274218', 'site276656', 'site278015', 'site279490', 'site281700', 'site281734', 'site283847', 'site283948', 'site284745', 'site285604', 'site286202', 'site286462', 'site287851', 'site289630', 'site290326', 'site290415', 'site292761', 'site294268', 'site294410', 'site296696', 'site297648', 'site298605', 'site29865', 'site301642', 'site302621', 'site302765', 'site302833', 'site302867', 'site30349', 'site305707', 'site309331', 'site310565', 'site31097', 'site312223', 'site31313', 'site314038', 'site318190', 'site322254', 'site323897', 'site324229', 'site325365', 'site326025', 'site326325', 'site326917', 'site327746', 'site330834', 'site331487', 'site332067', 'site332938', 'site332956', 'site337318', 'site337462', 'site338334', 'site340379', 'site340603', 'site34183', 'site342292', 'site343604', 'site343747', 'site346112', 'site347432', 'site348055', 'site348916', 'site349046', 'site34968', 'site350625', 'site351258', 'site351800', 'site352325', 'site352408', 'site352424', 'site35243', 'site353418', 'site353483', 'site353937', 'site354858', 'site354861', 'site355802', 'site356567', 'site357065', 'site358640', 'site359877', 'site360179', 'site36128', 'site361374', 'site363558', 'site363735', 'site366761', 'site36768', 'site368053', 'site370793', 'site370980', 'site371379', 'site372771', 'site373030', 'site373278', 'site373769', 'site373960', 'site37481', 'site374954', 'site376191', 'site379050', 'site37946', 'site380044', 'site380154', 'site381142', 'site382192', 'site382377', 'site384653', 'site385749', 'site38738', 'site388687', 'site388754', 'site389227', 'site392841', 'site394090', 'site395780', 'site396635', 'site399136', 'site402337', 'site403642', 'site403925', 'site405704', 'site405795', 'site407567', 'site408992', 'site409676', 'site410472', 'site41352', 'site414866', 'site416593', 'site417610', 'site419074', 'site419847', 'site420581', 'site421013', 'site421089', 'site423590', 'site424132', 'site425194', 'site42520', 'site428653', 'site429925', 'site430005', 'site432394', 'site434945', 'site437677', 'site438104', 'site43837', 'site439001', 'site441617', 'site443661', 'site445365', 'site44571', 'site448798', 'site449452', 'site451249', 'site452185', 'site452372', 'site453195', 'site455847', 'site457001', 'site459007', 'site4595', 'site460675', 'site46075', 'site461041', 'site461532', 'site462125', 'site463833', 'site46492', 'site466907', 'site466998', 'site468681', 'site472165', 'site472713', 'site474221', 'site474786', 'site477662', 'site478544', 'site479106', 'site479206', 'site480763', 'site481134', 'site482070', 'site482144', 'site482389', 'site482968', 'site484445', 'site484601', 'site486069', 'site486456', 'site48652', 'site486958', 'site487565', 'site487586', 'site487722', 'site487852', 'site488206', 'site488637', 'site488855', 'site489103', 'site489687', 'site490439', 'site491256', 'site49274', 'site492862', 'site494168', 'site494271', 'site500953', 'site502191', 'site503273', 'site504613', 'site505399', 'site505902', 'site506090', 'site506778', 'site506808', 'site509499', 'site509513', 'site510025', 'site511105', 'site511941', 'site514097', 'site516396', 'site516785', 'site517921', 'site518114', 'site520046', 'site52010', 'site520439', 'site522971', 'site524603', 'site525036', 'site525263', 'site526336', 'site527178', 'site528315', 'site529698', 'site531748', 'site531974', 'site533446', 'site535938', 'site537061', 'site537988', 'site539322', 'site541560', 'site542013', 'site542904', 'site543938', 'site545342', 'site545344', 'site547552', 'site548435', 'site550379', 'site550892', 'site551037', 'site552110', 'site552216', 'site553410', 'site553876', 'site555122', 'site555416', 'site55742', 'site557798', 'site560022', 'site560136', 'site561765', 'site563559', 'site564608', 'site565345', 'site566464', 'site568099', 'site568350', 'site568703', 'site57182', 'site572687', 'site572798', 'site573035', 'site575110', 'site576204', 'site579124', 'site581003', 'site581518', 'site581661', 'site582232', 'site583133', 'site583948', 'site585819', 'site587229', 'site587297', 'site58735', 'site587374', 'site58819', 'site588295', 'site588453', 'site590624', 'site590908', 'site592931', 'site593321', 'site594279', 'site594481', 'site595108', 'site598311', 'site599752', 'site599816', 'site600238', 'site601351', 'site6017', 'site601831', 'site602024', 'site602835', 'site602990', 'site603686', 'site603868', 'site604740', 'site605003', 'site605694', 'site60921', 'site611574', 'site61298', 'site613970', 'site613994', 'site614330', 'site615803', 'site617120', 'site618964', 'site621184', 'site62152', 'site622109', 'site623065', 'site624152', 'site626195', 'site6264', 'site627482', 'site628880', 'site629943', 'site630299', 'site630878', 'site631156', 'site632083', 'site63421', 'site634456', 'site634460', 'site635105', 'site635829', 'site636190', 'site636584', 'site636684', 'site637148', 'site637489', 'site639327', 'site640092', 'site640702', 'site641265', 'site642630', 'site644209', 'site645485', 'site646921', 'site65015', 'site651529', 'site651783', 'site651823', 'site654563', 'site656545', 'site656714', 'site658175', 'site660250', 'site660300', 'site660937', 'site66116', 'site661958', 'site662481', 'site66338', 'site663625', 'site663947', 'site665769', 'site66694', 'site669230', 'site672159', 'site673151', 'site673172', 'site67599', 'site676838', 'site677829', 'site67813', 'site679409', 'site681453', 'site685236', 'site689447', 'site68946', 'site690646', 'site691034', 'site692915', 'site693677', 'site695434', 'site698828', 'site699406', 'site70074', 'site701663', 'site704090', 'site705642', 'site708094', 'site708560', 'site710625', 'site710932', 'site711133', 'site711515', 'site712322', 'site712830', 'site714499', 'site715082', 'site716179', 'site717414', 'site717419', 'site718659', 'site72199', 'site723665', 'site723753', 'site724757', 'site725663', 'site72681', 'site72770', 'site728687', 'site729271', 'site729810', 'site730077', 'site7301', 'site730615', 'site730676', 'site731126', 'site732815', 'site73687', 'site737037', 'site737377', 'site73865', 'site739229', 'site739588', 'site742816', 'site743191', 'site745003', 'site745767', 'site746219', 'site746519', 'site746757', 'site747178', 'site748785', 'site750170', 'site750234', 'site75066', 'site752030', 'site754046', 'site755698', 'site755979', 'site756127', 'site75629', 'site756309', 'site757668', 'site759806', 'site760095', 'site760884', 'site761676', 'site763088', 'site765616', 'site766323', 'site766638', 'site766656', 'site768642', 'site772786', 'site77316', 'site773396', 'site773549', 'site774923', 'site77626', 'site776587', 'site776770', 'site777133', 'site777488', 'site779090', 'site779601', 'site779917', 'site781677', 'site7818', 'site783773', 'site784381', 'site787951', 'site789281', 'site789571', 'site790045', 'site791681', 'site792564', 'site794758', 'site799047', 'site799662', 'site801451', 'site802732', 'site803650', 'site804319', 'site805104', 'site806409', 'site807684', 'site807916', 'site809651', 'site811271', 'site811346', 'site811592', 'site813829', 'site814492', 'site814737', 'site818561', 'site819318', 'site819803', 'site820301', 'site820596', 'site820644', 'site821846', 'site822280', 'site827346', 'site827820', 'site829597', 'site830635', 'site831618', 'site831632', 'site831923', 'site832227', 'site833409', 'site833521', 'site834304', 'site835582', 'site835614', 'site835889', 'site836382', 'site836623', 'site837550', 'site838150', 'site839560', 'site840277', 'site841542', 'site842413', 'site843050', 'site844189', 'site844725', 'site845662', 'site845820', 'site845919', 'site846172', 'site847760', 'site848483', 'site848642', 'site849796', 'site850955', 'site85254', 'site853096', 'site853937', 'site854524', 'site854574', 'site854698', 'site854900', 'site85652', 'site856607', 'site857639', 'site859009', 'site860772', 'site861603', 'site862346', 'site864581', 'site864688', 'site864777', 'site866176', 'site86682', 'site867620', 'site86878', 'site869195', 'site869801', 'site870405', 'site870528', 'site872010', 'site872284', 'site872530', 'site87386', 'site873939', 'site875089', 'site876757', 'site877841', 'site878721', 'site879447', 'site880588', 'site881225', 'site882871', 'site883773', 'site885014', 'site886617', 'site886769', 'site887695', 'site888656', 'site889980', 'site890476', 'site891132', 'site891354', 'site891779', 'site893891', 'site895581', 'site895826', 'site89612', 'site896747', 'site897515', 'site897929', 'site899517', 'site900163', 'site901204', 'site901808', 'site904253', 'site904362', 'site904581', 'site904615', 'site905193', 'site907986', 'site910432', 'site911108', 'site91259', 'site913718', 'site914630', 'site915796', 'site916220', 'site917550', 'site919542', 'site919719', 'site919771', 'site921170', 'site922297', 'site922452', 'site923670', 'site924387', 'site927350', 'site92794', 'site928267', 'site92904', 'site929205', 'site930453', 'site930887', 'site931351', 'site93248', 'site933088', 'site93329', 'site933557', 'site933810', 'site936837', 'site937355', 'site937469', 'site937942', 'site938599', 'site941339', 'site941887', 'site941950', 'site943533', 'site945446', 'site946338', 'site946859', 'site947668', 'site950205', 'site95058', 'site951544', 'site952783', 'site954524', 'site955447', 'site95586', 'site955911', 'site956251', 'site957684', 'site958515', 'site95903', 'site959264', 'site960578', 'site961276', 'site962486', 'site963034', 'site96311', 'site963456', 'site964209', 'site964256', 'site96487', 'site965077', 'site966263', 'site968771', 'site970210', 'site971046', 'site971181', 'site97330', 'site974518', 'site974659', 'site974835', 'site975338', 'site976119', 'site97823', 'site978509', 'site97905', 'site979895', 'site980348', 'site98415', 'site98797', 'site988453', 'site988877', 'site992868', 'site993204', 'site993499', 'site994385', 'site995303', 'site996182', 'site997581', 'device_type33435', 'device_type337987', 'device_type357065', 'device_type562409', 'device_type652019', 'device_conn_type197079', 'device_conn_type33435', 'device_conn_type397134', 'device_conn_type652019', 'C14100373', 'C14100468', 'C14101973', 'C14102519', 'C14102843', 'C14103373', 'C14103393', 'C14103558', 'C14104027', 'C1410468', 'C14104699', 'C14105254', 'C14105431', 'C14106264', 'C14106661', 'C14106898', 'C14107347', 'C14107508', 'C1410760', 'C1410782', 'C14107820', 'C14107971', 'C14108997', 'C14110684', 'C14110868', 'C14111106', 'C14111611', 'C14111808', 'C14112805', 'C14112812', 'C14112926', 'C14113068', 'C14113885', 'C1411437', 'C14114967', 'C14115155', 'C14115300', 'C14115934', 'C14116890', 'C14117924', 'C1411937', 'C14120861', 'C14120921', 'C14122258', 'C14122378', 'C14122750', 'C14122791', 'C14123110', 'C14123340', 'C14124064', 'C14124787', 'C14125760', 'C14126318', 'C14126718', 'C14127123', 'C14128079', 'C14129542', 'C14130972', 'C14133647', 'C14133969', 'C14134072', 'C14134176', 'C14134472', 'C14135596', 'C14136455', 'C14136667', 'C14136804', 'C14139060', 'C14140033', 'C14140711', 'C14140767', 'C14141797', 'C14141866', 'C14142197', 'C14142884', 'C14143417', 'C14143702', 'C14143781', 'C14144089', 'C1414479', 'C14145161', 'C14145376', 'C14145407', 'C14145785', 'C14146122', 'C1414670', 'C14147886', 'C14149280', 'C1414949', 'C14150247', 'C1415036', 'C14151459', 'C14151626', 'C14152590', 'C14152823', 'C14153039', 'C14153575', 'C14153875', 'C14155945', 'C1415628', 'C14156457', 'C14156801', 'C14157391', 'C14158032', 'C14159498', 'C14160597', 'C14164194', 'C14164638', 'C14167695', 'C14169652', 'C14169795', 'C14170937', 'C14171145', 'C14171443', 'C14171914', 'C14172482', 'C14172544', 'C14172741', 'C14172929', 'C14173634', 'C14173726', 'C14175033', 'C14176793', 'C14176827', 'C1417726', 'C14177501', 'C14177768', 'C1417840', 'C14181826', 'C14181884', 'C14182310', 'C14182549', 'C14182577', 'C14183456', 'C14183612', 'C14184214', 'C14186237', 'C14187178', 'C14187376', 'C14187691', 'C14188399', 'C14189197', 'C14189262', 'C14189513', 'C14190031', 'C14190599', 'C14190646', 'C14191496', 'C1419290', 'C14192926', 'C14193123', 'C14193470', 'C14193704', 'C14193813', 'C14193850', 'C14194892', 'C14195000', 'C14195439', 'C1419609', 'C14196809', 'C14196892', 'C14197928', 'C14198661', 'C14200048', 'C14200867', 'C14201507', 'C14202204', 'C14203277', 'C14206625', 'C14206827', 'C14207974', 'C14209138', 'C14210072', 'C14210083', 'C14210563', 'C14211487', 'C14211491', 'C1421266', 'C1421323', 'C14214185', 'C14215496', 'C14215872', 'C14216209', 'C14216750', 'C14217341', 'C14219656', 'C14220943', 'C14221365', 'C14224420', 'C14224804', 'C1422597', 'C14226198', 'C14226349', 'C14226449', 'C14226638', 'C14227189', 'C14227427', 'C14228906', 'C14229823', 'C1422998', 'C14231399', 'C14231815', 'C14232185', 'C1423233', 'C14232557', 'C14232781', 'C142328', 'C14232924', 'C14233307', 'C14233863', 'C14234484', 'C14235496', 'C14236011', 'C14236389', 'C14237143', 'C14238433', 'C14239244', 'C14239327', 'C14239722', 'C14240924', 'C14241108', 'C14241176', 'C14241656', 'C14241820', 'C14242732', 'C1424327', 'C14243455', 'C14244038', 'C14244961', 'C14246731', 'C14247058', 'C1424749', 'C14248144', 'C1424858', 'C14249177', 'C1425053', 'C14250664', 'C14250780', 'C1425284', 'C1425326', 'C14253913', 'C14254814', 'C14255133', 'C14255569', 'C14255591', 'C14256194', 'C1425673', 'C14257357', 'C14257663', 'C14258175', 'C1425826', 'C14258832', 'C14259285', 'C14259493', 'C1426278', 'C14263534', 'C14263816', 'C14265143', 'C14265208', 'C14265890', 'C14266226', 'C14266379', 'C14266932', 'C14267358', 'C14267410', 'C14268010', 'C14268800', 'C14269791', 'C14269803', 'C14271260', 'C142725', 'C14272999', 'C14273557', 'C14273823', 'C14274315', 'C1427445', 'C14274633', 'C14274824', 'C1427486', 'C14274897', 'C1427500', 'C14275824', 'C14275939', 'C14276072', 'C14276106', 'C14276878', 'C1427729', 'C14277904', 'C14278971', 'C14279442', 'C14280047', 'C14281898', 'C14282403', 'C14282735', 'C14282859', 'C14284614', 'C14285377', 'C14285426', 'C14285518', 'C14285776', 'C14287268', 'C14288645', 'C14289450', 'C14289604', 'C14289630', 'C14290479', 'C14290626', 'C14290753', 'C14290854', 'C14290906', 'C14292016', 'C14292280', 'C1429256', 'C14293298', 'C14294056', 'C14295083', 'C14295180', 'C14297034', 'C14297345', 'C142976', 'C14297906', 'C14298330', 'C14298354', 'C14299138', 'C14299285', 'C14299358', 'C143', 'C14300342', 'C14301042', 'C14301165', 'C14301586', 'C14302095', 'C14302142', 'C14302276', 'C14303556', 'C14303877', 'C14305402', 'C14306942', 'C14309130', 'C14309786', 'C14310291', 'C14310559', 'C14310619', 'C14311217', 'C14311296', 'C14311531', 'C14311555', 'C14311674', 'C1431235', 'C14313355', 'C14315097', 'C14315318', 'C14315777', 'C14316833', 'C14317655', 'C14318174', 'C14318854', 'C14319308', 'C14321745', 'C14321871', 'C14322845', 'C1432452', 'C14324533', 'C14324607', 'C14324680', 'C14327639', 'C1432882', 'C14329046', 'C14329179', 'C14330024', 'C14330289', 'C14330619', 'C14330996', 'C14331990', 'C14332539', 'C14333263', 'C14333395', 'C14333783', 'C1433509', 'C14336327', 'C14336497', 'C14336524', 'C14337239', 'C1433792', 'C14339335', 'C1434040', 'C14342247', 'C14342302', 'C14342647', 'C14343731', 'C14344475', 'C14345629', 'C14346186', 'C14346898', 'C14347078', 'C14348604', 'C14351029', 'C14351463', 'C14351904', 'C14352829', 'C14353243', 'C14355542', 'C1435583', 'C14357065', 'C14357576', 'C14358065', 'C14359451', 'C14360091', 'C14360577', 'C14360690', 'C14360721', 'C14361545', 'C14362755', 'C14362865', 'C14363439', 'C14364230', 'C14364394', 'C14364975', 'C14365267', 'C14365537', 'C14365716', 'C14366196', 'C14367648', 'C14367732', 'C14367772', 'C14368336', 'C14369118', 'C14369755', 'C14370534', 'C14370628', 'C14371165', 'C14374399', 'C14375355', 'C14375562', 'C14377503', 'C14378', 'C14378554', 'C14378970', 'C14379128', 'C14382610', 'C14384322', 'C14387235', 'C1438730', 'C14388891', 'C14388992', 'C14390069', 'C14391508', 'C14391603', 'C14392081', 'C14392144', 'C14393077', 'C14393473', 'C14393876', 'C14394806', 'C14396476', 'C14398488', 'C14398745', 'C1439928', 'C14399432', 'C14399672', 'C14399973', 'C14401165', 'C14402755', 'C14403254', 'C14404594', 'C14406920', 'C14406990', 'C14408460', 'C14408578', 'C14408620', 'C14410033', 'C14410691', 'C14411400', 'C14413189', 'C14413643', 'C14413843', 'C14414382', 'C1441657', 'C14417095', 'C14417446', 'C14417652', 'C14417689', 'C14418250', 'C14418674', 'C14419662', 'C14420774', 'C14422513', 'C14423015', 'C14423903', 'C14424593', 'C14425499', 'C14425677', 'C14425959', 'C14426166', 'C14427246', 'C14427704', 'C14428956', 'C14431702', 'C14434200', 'C14436100', 'C14436119', 'C14436592', 'C14437509', 'C14437716', 'C14438109', 'C1443857', 'C14440285', 'C14441206', 'C14442833', 'C14443781', 'C1444608', 'C14446090', 'C14446165', 'C1444663', 'C14446645', 'C14446689', 'C14447275', 'C14447715', 'C14449687', 'C14449893', 'C14449919', 'C14450211', 'C1445025', 'C14450611', 'C14450849', 'C14451066', 'C14451758', 'C14451865', 'C14453115', 'C14453494', 'C14454276', 'C14454396', 'C14454502', 'C14454611', 'C14455538', 'C14455623', 'C14456899', 'C14457343', 'C1445788', 'C14458298', 'C14460756', 'C14462678', 'C144628', 'C14463124', 'C14463302', 'C14463588', 'C14463751', 'C14464433', 'C14465304', 'C14465583', 'C14467532', 'C14467621', 'C14467840', 'C14468142', 'C14468618', 'C14469063', 'C14469218', 'C14469850', 'C1446993', 'C14471670', 'C1447184', 'C1447201', 'C14472025', 'C14472402', 'C14474171', 'C1447460', 'C14474948', 'C14475063', 'C14475872', 'C14476903', 'C14476933', 'C14477264', 'C1447771', 'C14477875', 'C14478078', 'C14479008', 'C1447923', 'C14479611', 'C14479641', 'C14480094', 'C14480142', 'C14481280', 'C14482549', 'C14483194', 'C1448399', 'C14484391', 'C14484825', 'C14485449', 'C14485469', 'C14485743', 'C14485914', 'C1448725', 'C14487611', 'C14487653', 'C1448824', 'C14488400', 'C1448869', 'C1449003', 'C14490817', 'C14491157', 'C14491834', 'C14492361', 'C14492634', 'C14492901', 'C14493', 'C14493818', 'C14495021', 'C14496065', 'C14496388', 'C14498494', 'C14499713', 'C14500103', 'C14501599', 'C14501748', 'C14502288', 'C14503135', 'C14504154', 'C1450447', 'C14504823', 'C14505286', 'C14506359', 'C14507346', 'C14507440', 'C14507576', 'C14507766', 'C14508264', 'C14508900', 'C14509139', 'C14510738', 'C14511276', 'C14512733', 'C14513643', 'C14513915', 'C14514342', 'C14515233', 'C14516733', 'C14516900', 'C14518232', 'C14518962', 'C14519558', 'C14521247', 'C14521317', 'C14521493', 'C14521587', 'C14521620', 'C14521738', 'C14521904', 'C14521932', 'C14521959', 'C1452346', 'C14523738', 'C14525118', 'C14525551', 'C14527635', 'C14529802', 'C14529883', 'C14530525', 'C14531658', 'C14531750', 'C14531840', 'C14532233', 'C14535843', 'C14536292', 'C14536945', 'C14537450', 'C14538663', 'C14538772', 'C14539498', 'C14539750', 'C14540893', 'C14541821', 'C14542153', 'C14542417', 'C1454327', 'C1454360', 'C14543683', 'C1454401', 'C14544909', 'C14545014', 'C14545033', 'C14545724', 'C14545835', 'C14547413', 'C14548382', 'C14548578', 'C14549950', 'C14550147', 'C1455247', 'C14554237', 'C14555248', 'C14555807', 'C14556798', 'C14557900', 'C14558479', 'C14558853', 'C14559592', 'C14559744', 'C14560691', 'C14560852', 'C14560965', 'C14561665', 'C1456257', 'C14564419', 'C14564604', 'C14564693', 'C14564990', 'C14565509', 'C14566865', 'C14567293', 'C14567773', 'C14568055', 'C14569271', 'C1456942', 'C14570394', 'C1457074', 'C14571682', 'C14572037', 'C14572577', 'C14572668', 'C14573690', 'C14574028', 'C14574085', 'C14574145', 'C14575097', 'C14575814', 'C14575915', 'C14576132', 'C14577127', 'C1457790', 'C14578071', 'C14578959', 'C14579286', 'C14579792', 'C1457987', 'C14580604', 'C14580970', 'C14582365', 'C14583740', 'C14584448', 'C14585488', 'C14585711', 'C14585791', 'C14586331', 'C14586431', 'C1458797', 'C14588245', 'C14588846', 'C14589585', 'C14590816', 'C1459182', 'C14591832', 'C14593098', 'C1459341', 'C14593755', 'C14594851', 'C14595218', 'C14596603', 'C14596906', 'C14598080', 'C14600301', 'C14601385', 'C14602507', 'C14604064', 'C14604389', 'C14604826', 'C14605119', 'C1460611', 'C14607838', 'C14608034', 'C14608771', 'C14608938', 'C14609141', 'C1460991', 'C1461046', 'C14611002', 'C14611794', 'C14612454', 'C14613661', 'C14613887', 'C14614135', 'C1461571', 'C14617335', 'C14617800', 'C14618333', 'C14618340', 'C14620345', 'C14620589', 'C14620698', 'C14621093', 'C14621586', 'C14622075', 'C14622797', 'C1462414', 'C14624155', 'C14624866', 'C14625216', 'C14626182', 'C14628323', 'C14628790', 'C14629758', 'C14630015', 'C14630903', 'C14631057', 'C14632472', 'C14632786', 'C14633993', 'C14634502', 'C14636102', 'C14636828', 'C14637424', 'C14638068', 'C14638931', 'C14639076', 'C14640419', 'C14641018', 'C14641247', 'C14642870', 'C14643018', 'C14643865', 'C14646383', 'C14647349', 'C14650286', 'C14651320', 'C14651774', 'C14652616', 'C14653635', 'C14654194', 'C14654520', 'C14654880', 'C14657716', 'C14657795', 'C14658004', 'C14658647', 'C14658924', 'C1465929', 'C14659394', 'C14660713', 'C1466083', 'C14662079', 'C1466219', 'C14662704', 'C14663097', 'C14663626', 'C14663890', 'C1466519', 'C14665926', 'C14666169', 'C14666440', 'C14666699', 'C14666958', 'C14669244', 'C14670372', 'C14670839', 'C14672647', 'C14673684', 'C14673835', 'C14674617', 'C14675357', 'C1467646', 'C14677702', 'C14677885', 'C14678002', 'C14679187', 'C14679760', 'C14679905', 'C14680229', 'C14680777', 'C14680969', 'C14681364', 'C14681507', 'C14681758', 'C14682019', 'C14682432', 'C14682696', 'C14683329', 'C14685205', 'C14685866', 'C14687879', 'C1468823', 'C1468857', 'C14688960', 'C14690790', 'C14692509', 'C14692817', 'C14693024', 'C14693342', 'C14693966', 'C14694073', 'C14694419', 'C14695007', 'C14695207', 'C14696852', 'C14698682', 'C14699392', 'C14701078', 'C14702500', 'C14703123', 'C1470356', 'C14704474', 'C14704792', 'C1470605', 'C14706398', 'C14706938', 'C14708088', 'C14708351', 'C14709402', 'C14709898', 'C14710240', 'C14711717', 'C14712098', 'C14712181', 'C14713050', 'C1471311', 'C14713210', 'C14714003', 'C14714158', 'C14714466', 'C14714491', 'C14714639', 'C14715190', 'C14715811', 'C14716120', 'C14717443', 'C14718225', 'C1471892', 'C14718924', 'C14719382', 'C1471939', 'C14719461', 'C14719660', 'C14725154', 'C14726133', 'C14726375', 'C14728103', 'C14728732', 'C14729500', 'C1472953', 'C14729876', 'C14731455', 'C14731788', 'C14733474', 'C14734949', 'C14736476', 'C14736963', 'C14737041', 'C14738408', 'C14738483', 'C14740170', 'C14740232', 'C14740323', 'C14740905', 'C14742011', 'C14742171', 'C14742231', 'C1474321', 'C1474333', 'C1474655', 'C14746755', 'C14747654', 'C14749544', 'C14749812', 'C14750198', 'C14751484', 'C14751550', 'C14751720', 'C14752937', 'C14753188', 'C14753264', 'C1475333', 'C14754303', 'C1475580', 'C14758364', 'C14759293', 'C14759809', 'C14760081', 'C14760271', 'C14760461', 'C14760609', 'C14760762', 'C14761028', 'C14761048', 'C14762034', 'C14762208', 'C14762354', 'C14762385', 'C1476251', 'C1476313', 'C14764733', 'C14764977', 'C14765501', 'C14766176', 'C1476675', 'C1476740', 'C14767739', 'C14767996', 'C14768998', 'C1476968', 'C14772539', 'C14773901', 'C14775262', 'C14777465', 'C14778064', 'C14778457', 'C14778865', 'C1477995', 'C14781073', 'C14782427', 'C14782606', 'C14782818', 'C14783374', 'C14785259', 'C14789255', 'C14790922', 'C1479117', 'C14792451', 'C14792607', 'C14794049', 'C14794082', 'C14794138', 'C14794354', 'C14794593', 'C14795685', 'C14795981', 'C14797829', 'C14798027', 'C1479858', 'C14798741', 'C14798788', 'C14800883', 'C14801108', 'C14802413', 'C14802672', 'C14802763', 'C14803919', 'C1480483', 'C14804871', 'C14805343', 'C14806198', 'C14808713', 'C14809077', 'C14809475', 'C14811288', 'C14811484', 'C14811995', 'C14812471', 'C14812841', 'C14813441', 'C14814230', 'C14815320', 'C14816695', 'C14817086', 'C14817746', 'C14817876', 'C1481814', 'C14819911', 'C14820183', 'C14820634', 'C14821357', 'C14821531', 'C14822143', 'C14822373', 'C14825078', 'C14825740', 'C14825807', 'C14829322', 'C14830512', 'C1483076', 'C14832043', 'C14832081', 'C1483273', 'C14833004', 'C14833466', 'C14834604', 'C14835386', 'C148363', 'C14836486', 'C14836876', 'C14837333', 'C14838344', 'C14840599', 'C14840636', 'C1484099', 'C14841732', 'C14844756', 'C14845022', 'C14847267', 'C14847479', 'C14847509', 'C14847819', 'C1484813', 'C14848370', 'C14849667', 'C14850351', 'C1485158', 'C14851963', 'C14852273', 'C14852285', 'C14852756', 'C14854839', 'C14856686', 'C1485708', 'C14858285', 'C14858434', 'C14859351', 'C14861126', 'C14861731', 'C14862625', 'C14862865', 'C14862978', 'C14863923', 'C14867112', 'C14867237', 'C14868164', 'C14868280', 'C14868916', 'C14869187', 'C14869800', 'C1486983', 'C14870186', 'C14871584', 'C14872009', 'C14872141', 'C14872971', 'C14876638', 'C14877793', 'C14878351', 'C14879233', 'C14881261', 'C14881291', 'C14881344', 'C14881412', 'C14881876', 'C14883305', 'C14883890', 'C14884071', 'C14884544', 'C14885284', 'C14886706', 'C14887194', 'C14887698', 'C14887826', 'C1488808', 'C14888900', 'C14890104', 'C1489082', 'C14891222', 'C14891630', 'C14892712', 'C14892806', 'C14892986', 'C14896183', 'C14896337', 'C14896845', 'C14897940', 'C14898266', 'C14898472', 'C14899022', 'C1489931', 'C1489986', 'C14900435', 'C14901159', 'C14901354', 'C14901440', 'C14901738', 'C14902737', 'C14903274', 'C14903703', 'C14904112', 'C14905495', 'C14905642', 'C14906008', 'C14906471', 'C14907335', 'C14907509', 'C14907530', 'C14908125', 'C14908798', 'C14909153', 'C14909696', 'C14909784', 'C14910465', 'C14910964', 'C14911264', 'C14911871', 'C14912064', 'C14912068', 'C14913249', 'C14913707', 'C14913750', 'C14914210', 'C14915301', 'C14916387', 'C14919252', 'C14919540', 'C14919778', 'C14920454', 'C14920743', 'C14921066', 'C14922512', 'C14923281', 'C14923879', 'C14924596', 'C14924695', 'C14924788', 'C14924789', 'C14924939', 'C14924975', 'C14925274', 'C14925367', 'C14925548', 'C14926027', 'C14926293', 'C1492679', 'C14926969', 'C14927220', 'C14928322', 'C14929353', 'C14929745', 'C14930827', 'C14931126', 'C1493178', 'C14932078', 'C14934242', 'C14934396', 'C14935177', 'C14936539', 'C14936656', 'C14938105', 'C14938702', 'C14939675', 'C14939748', 'C14939930', 'C14940454', 'C14940507', 'C14940744', 'C14941258', 'C1494154', 'C14944062', 'C14944843', 'C14945556', 'C1494561', 'C14945771', 'C14945887', 'C14945996', 'C14946809', 'C14947013', 'C14947018', 'C14950319', 'C14950805', 'C14951347', 'C14951421', 'C14951515', 'C14952021', 'C14952256', 'C14952876', 'C1495422', 'C14955721', 'C1495593', 'C14956307', 'C1495785', 'C14958122', 'C14958128', 'C14960919', 'C14961386', 'C14961534', 'C14962127', 'C14962245', 'C14963659', 'C14964336', 'C14964523', 'C14964656', 'C14965293', 'C14965451', 'C14965455', 'C14965520', 'C14966239', 'C14966675', 'C1496672', 'C14967262', 'C14967275', 'C14967644', 'C14968083', 'C14968681', 'C14968710', 'C14969096', 'C14970766', 'C14971338', 'C14973203', 'C14973243', 'C14973510', 'C14973660', 'C14973984', 'C14974530', 'C14974733', 'C14974960', 'C14975153', 'C14976449', 'C1497669', 'C14976804', 'C14977890', 'C14977968', 'C14978193', 'C14978462', 'C14978709', 'C14978936', 'C14979165', 'C14979375', 'C14980774', 'C14981320', 'C14981759', 'C14982049', 'C14983567', 'C14983885', 'C14985181', 'C1498626', 'C14986272', 'C14987247', 'C14988469', 'C1498962', 'C14989988', 'C14990295', 'C14991298', 'C14992440', 'C14993778', 'C14994469', 'C14995553', 'C14995944', 'C14997421', 'C14997905', 'C14998014', 'C14998403', 'C14998547', 'C14998602', 'C14999104', 'C14999130', 'C14999607', 'C15183442', 'C15218995', 'C15222818', 'C15410673', 'C15535044', 'C15574497', 'C15661068', 'C15871596', 'C16285168', 'C16299306', 'C16410673', 'C16535044', 'C16574497', 'C16598367', 'C16661068', 'C16842220', 'C1697580', 'C17100090', 'C17101994', 'C17107347', 'C1710774', 'C17114953', 'C1711517', 'C17115604', 'C17117061', 'C17119636', 'C17121393', 'C17122080', 'C17125398', 'C1713157', 'C17134933', 'C17136719', 'C17145463', 'C17145500', 'C17146018', 'C17146877', 'C17149885', 'C17149897', 'C17154258', 'C17154898', 'C17157716', 'C17158287', 'C17163325', 'C17167890', 'C17169572', 'C17171484', 'C17176202', 'C171779', 'C17179048', 'C17179508', 'C17180425', 'C17182931', 'C17185421', 'C17187445', 'C1718892', 'C17191362', 'C17192099', 'C17194561', 'C17195513', 'C17197004', 'C17202178', 'C17205169', 'C17205508', 'C17208259', 'C17210332', 'C17211113', 'C1721183', 'C17212726', 'C17214711', 'C17220952', 'C17221572', 'C1722630', 'C17230682', 'C17230854', 'C17232950', 'C17233195', 'C17236609', 'C17241267', 'C17242262', 'C17245082', 'C17245352', 'C17248109', 'C17248393', 'C17249185', 'C17252881', 'C17253324', 'C17258007', 'C17260803', 'C17266896', 'C17267466', 'C17274663', 'C17275983', 'C17277206', 'C17279794', 'C17280736', 'C17281465', 'C17285859', 'C17286688', 'C17287215', 'C17291456', 'C17292424', 'C17295592', 'C17302210', 'C17305625', 'C17307413', 'C17307918', 'C17311745', 'C17320290', 'C1732223', 'C17324158', 'C17326267', 'C1733053', 'C17331993', 'C17335698', 'C17335856', 'C17337991', 'C17342880', 'C17344868', 'C1734843', 'C17349535', 'C17352813', 'C1735313', 'C17353276', 'C17354204', 'C17354760', 'C17355151', 'C17356044', 'C17357065', 'C17357953', 'C17360099', 'C17362508', 'C17362568', 'C17364509', 'C17364904', 'C17367151', 'C17370792', 'C17378410', 'C17381584', 'C17387451', 'C17391976', 'C1739451', 'C17399513', 'C17401054', 'C17405436', 'C17409553', 'C17412470', 'C17415675', 'C17415953', 'C17417045', 'C17418581', 'C17422379', 'C1742253', 'C17423625', 'C174243', 'C1742447', 'C17426461', 'C17427454', 'C17429896', 'C17432248', 'C17434057', 'C17434191', 'C17435637', 'C17439018', 'C17442828', 'C17443142', 'C17445589', 'C17446649', 'C1744696', 'C1744727', 'C17447877', 'C17451756', 'C17455432', 'C17459420', 'C17459794', 'C17461721', 'C17465205', 'C17468067', 'C17468462', 'C17473554', 'C17477339', 'C17478399', 'C17483793', 'C17490182', 'C17492694', 'C17495140', 'C1750394', 'C1750600', 'C17511321', 'C17513181', 'C17516349', 'C1752036', 'C17521124', 'C17523529', 'C17524160', 'C17525643', 'C17525854', 'C17526761', 'C17527898', 'C17528541', 'C17529072', 'C17531810', 'C17532953', 'C17536167', 'C17539813', 'C17545337', 'C17545724', 'C17547233', 'C1755422', 'C17554883', 'C17558058', 'C17560451', 'C17564893', 'C17567475', 'C17568343', 'C17568939', 'C17569329', 'C1757246', 'C17573528', 'C17577114', 'C175773', 'C1757779', 'C17578594', 'C17581125', 'C1758372', 'C17584355', 'C17585235', 'C17586591', 'C17589594', 'C17589736', 'C17594452', 'C1759482', 'C17596259', 'C17597519', 'C17599561', 'C17599890', 'C17601156', 'C17602079', 'C17602144', 'C17608074', 'C17608712', 'C17609158', 'C17610456', 'C17611829', 'C17612547', 'C17627048', 'C17630784', 'C17631742', 'C17632524', 'C1763364', 'C17635526', 'C17638856', 'C17642831', 'C17644558', 'C17646025', 'C17646613', 'C17649550', 'C17651648', 'C17652494', 'C17652779', 'C17653501', 'C17655473', 'C17656477', 'C17658247', 'C17661068', 'C17667881', 'C17669068', 'C17673894', 'C17674104', 'C17677379', 'C17677783', 'C17679054', 'C1768026', 'C1768083', 'C17684623', 'C17687883', 'C17691068', 'C17693444', 'C17701628', 'C17702793', 'C17704788', 'C1770596', 'C17706102', 'C17709971', 'C17710945', 'C1771248', 'C17713473', 'C17724201', 'C17724801', 'C17729530', 'C17733', 'C17736213', 'C17736739', 'C17737591', 'C17737694', 'C17739167', 'C1773941', 'C17740979', 'C17746895', 'C17748189', 'C17754874', 'C17756805', 'C17762651', 'C17773970', 'C17774520', 'C17775932', 'C17777032', 'C1778172', 'C17782078', 'C17782807', 'C17784244', 'C17785768', 'C17786890', 'C17787982', 'C17788322', 'C17798709', 'C17798892', 'C17807885', 'C17808954', 'C17809206', 'C17809825', 'C17810127', 'C1781086', 'C17811406', 'C17815365', 'C17819124', 'C17823854', 'C1782501', 'C17825887', 'C17826443', 'C17827215', 'C17833311', 'C17835673', 'C17841082', 'C17845623', 'C17849051', 'C17853288', 'C17855572', 'C178567', 'C17857424', 'C17859406', 'C17860710', 'C17861824', 'C17867060', 'C178693', 'C17870381', 'C17871059', 'C17871503', 'C17872081', 'C17872321', 'C17874360', 'C17879813', 'C17879992', 'C17883071', 'C17886527', 'C17888697', 'C17890815', 'C17891971', 'C17893068', 'C17893229', 'C17897252', 'C1790107', 'C17903885', 'C17904044', 'C17904627', 'C17905173', 'C17907042', 'C1790846', 'C17912600', 'C17912693', 'C17917102', 'C1791888', 'C17919216', 'C17927343', 'C17929216', 'C17931409', 'C17931569', 'C17932105', 'C17937811', 'C17938441', 'C17939470', 'C17944456', 'C17951642', 'C17957003', 'C17958749', 'C17958830', 'C17959369', 'C17959870', 'C17965403', 'C17969761', 'C17974306', 'C17975770', 'C17978934', 'C17988292', 'C17989093', 'C1799114', 'C17991491', 'C17992792', 'C17995634', 'C18197079', 'C18397134', 'C18562409', 'C18652019', 'C19101403', 'C19103707', 'C19113210', 'C19114386', 'C19132666', 'C19135847', 'C19137260', 'C19140883', 'C191561', 'C19167616', 'C19210183', 'C19221060', 'C19237135', 'C19256829', 'C19257365', 'C193086', 'C19311583', 'C19352577', 'C1935313', 'C19356187', 'C19357065', 'C19381138', 'C19396892', 'C19402927', 'C19409665', 'C19410218', 'C19418877', 'C19507102', 'C19512367', 'C19519209', 'C19524611', 'C19535714', 'C19585072', 'C19593463', 'C19594958', 'C19597519', 'C196076', 'C19611829', 'C19617540', 'C19619093', 'C19631090', 'C19641561', 'C1965848', 'C19690273', 'C19695644', 'C19701195', 'C19747590', 'C1974867', 'C19769503', 'C197859', 'C19811406', 'C19818522', 'C19838237', 'C19846511', 'C19852228', 'C19863163', 'C19879505', 'C19915962', 'C19924835', 'C19934220', 'C19967451', 'C19974597', 'C19977263', 'C20105818', 'C20123983', 'C20141632', 'C20150339', 'C20155166', 'C20158306', 'C20158983', 'C20160407', 'C20162433', 'C20164603', 'C20166758', 'C20176339', 'C20182188', 'C20187244', 'C20191784', 'C20193030', 'C20199363', 'C20202092', 'C20202628', 'C20203768', 'C2020790', 'C20212304', 'C20213411', 'C20245104', 'C20250936', 'C20255294', 'C20259507', 'C20280268', 'C20280813', 'C20287745', 'C20289294', 'C20289735', 'C20289824', 'C20306956', 'C20310385', 'C20310951', 'C20314892', 'C20320909', 'C20323148', 'C20334282', 'C20338111', 'C20339809', 'C20343573', 'C20357065', 'C20360252', 'C20360609', 'C20378135', 'C20384193', 'C20386200', 'C20386446', 'C20395666', 'C20399849', 'C20402572', 'C20407372', 'C20409955', 'C20411748', 'C20427946', 'C20429575', 'C20430146', 'C20435054', 'C20441719', 'C20455371', 'C2045545', 'C20462789', 'C20464157', 'C20464892', 'C20466701', 'C20466877', 'C20475381', 'C2047841', 'C20478593', 'C2048119', 'C20481386', 'C20483568', 'C20497801', 'C20498818', 'C20499032', 'C20499217', 'C20507523', 'C2051441', 'C20531931', 'C20533075', 'C2053406', 'C20544716', 'C20549244', 'C20558834', 'C20566068', 'C2057699', 'C20580439', 'C20591207', 'C20592005', 'C20594182', 'C20602339', 'C20608224', 'C20612318', 'C20612615', 'C20618075', 'C20622530', 'C20627597', 'C20633691', 'C20638850', 'C20696605', 'C20712300', 'C20720768', 'C20729563', 'C20734569', 'C20740388', 'C20740717', 'C20744099', 'C2074492', 'C20752228', 'C20753315', 'C20762156', 'C20767790', 'C20774109', 'C20779977', 'C207921', 'C20800551', 'C20802246', 'C20808031', 'C20809286', 'C20813122', 'C20831636', 'C208392', 'C2084182', 'C20843860', 'C2085257', 'C20852926', 'C20881727', 'C20887341', 'C20888119', 'C20890918', 'C20892809', 'C20908726', 'C20909595', 'C20911472', 'C20919209', 'C20930463', 'C20941271', 'C20944629', 'C20951307', 'C20960476', 'C2096254', 'C20968751', 'C20978173', 'C20982400', 'C20995280', 'C20997681', 'C21100090', 'C21102960', 'C21104394', 'C21125946', 'C21154755', 'C21156646', 'C2118559', 'C2121346', 'C21221795', 'C21224730', 'C21241444', 'C21243778', 'C21255230', 'C21256829', 'C21285168', 'C21288704', 'C21344179', 'C2135516', 'C21357065', 'C21377538', 'C2137813', 'C21393858', 'C21398735', 'C21412291', 'C2146459', 'C21518006', 'C2152247', 'C21543548', 'C21546682', 'C21562409', 'C21595094', 'C21598367', 'C2159953', 'C21614434', 'C2163743', 'C21641561', 'C21656287', 'C2166827', 'C2167320', 'C2168026', 'C21695644', 'C21695719', 'C21702006', 'C21718147', 'C21718695', 'C21735878', 'C21738202', 'C21751604', 'C21796690', 'C21818522', 'C21822727', 'C21838237', 'C21845176', 'C21846946', 'C21859755', 'C21901090', 'C21902250', 'C21931439', 'C21944777', 'C21978904', 'weekday197079', 'weekday33435', 'weekday337987', 'weekday34065', 'weekday397134', 'weekday562409', 'weekday652019', 'user117652', 'user139491', 'user163119', 'user192838', 'user227616', 'user245217', 'user268351', 'user269859', 'user318635', 'user331335', 'user357065', 'user358527', 'user36712', 'user382749', 'user407050', 'user43011', 'user461233', 'user505193', 'user52022', 'user544666', 'user658142', 'user681733', 'user698924', 'user700050', 'user700466', 'user7289', 'user774265', 'user797946', 'user816865', 'user817425', 'user829115', 'user944904', 'user977251', 'user981173']\n"
          ],
          "name": "stdout"
        }
      ]
    },
    {
      "cell_type": "markdown",
      "metadata": {
        "id": "OBLCa95zIIWc",
        "colab_type": "text"
      },
      "source": [
        "<font color=\"red\">\n",
        "Using enumerate method, create a dictionary that at each value associates its rank in the allvals list.</font>"
      ]
    },
    {
      "cell_type": "code",
      "metadata": {
        "id": "TlcO1vu0IIWc",
        "colab_type": "code",
        "colab": {
          "base_uri": "https://localhost:8080/",
          "height": 54
        },
        "outputId": "ea7a70ff-91a0-4785-86ac-a0748ea17751"
      },
      "source": [
        "dicFeat = {val:i for i,val in enumerate(allvals)}\n",
        "print(dicFeat)"
      ],
      "execution_count": 85,
      "outputs": [
        {
          "output_type": "stream",
          "text": [
            "{'hour104394': 0, 'hour125946': 1, 'hour197079': 2, 'hour242194': 3, 'hour243778': 4, 'hour278820': 5, 'hour31136': 6, 'hour33435': 7, 'hour337987': 8, 'hour34065': 9, 'hour397134': 10, 'hour412291': 11, 'hour538497': 12, 'hour538987': 13, 'hour553802': 14, 'hour562010': 15, 'hour562409': 16, 'hour572607': 17, 'hour598367': 18, 'hour652019': 19, 'hour695719': 20, 'hour807077': 21, 'hour886922': 22, 'hour958500': 23, 'C1125892': 24, 'C1616072': 25, 'C1725909': 26, 'C1736940': 27, 'C1815427': 28, 'C191888': 29, 'C1960715': 30, 'banner_pos197079': 31, 'banner_pos278820': 32, 'banner_pos33435': 33, 'banner_pos337987': 34, 'banner_pos397134': 35, 'banner_pos562409': 36, 'banner_pos652019': 37, 'site_category122930': 38, 'site_category214337': 39, 'site_category226713': 40, 'site_category236893': 41, 'site_category248187': 42, 'site_category292857': 43, 'site_category321172': 44, 'site_category340905': 45, 'site_category357065': 46, 'site_category370875': 47, 'site_category379309': 48, 'site_category427558': 49, 'site_category452481': 50, 'site_category614985': 51, 'site_category647219': 52, 'site_category859408': 53, 'site_category878403': 54, 'site_category96627': 55, 'app_id103375': 56, 'app_id105433': 57, 'app_id105960': 58, 'app_id109021': 59, 'app_id113883': 60, 'app_id114306': 61, 'app_id114769': 62, 'app_id117040': 63, 'app_id117988': 64, 'app_id118512': 65, 'app_id118581': 66, 'app_id119357': 67, 'app_id120198': 68, 'app_id121454': 69, 'app_id121640': 70, 'app_id123484': 71, 'app_id124120': 72, 'app_id12446': 73, 'app_id124790': 74, 'app_id12679': 75, 'app_id128989': 76, 'app_id129087': 77, 'app_id136163': 78, 'app_id136583': 79, 'app_id141658': 80, 'app_id142537': 81, 'app_id14372': 82, 'app_id144166': 83, 'app_id144861': 84, 'app_id147694': 85, 'app_id148428': 86, 'app_id148580': 87, 'app_id152458': 88, 'app_id15402': 89, 'app_id155996': 90, 'app_id161332': 91, 'app_id165821': 92, 'app_id166729': 93, 'app_id167833': 94, 'app_id168718': 95, 'app_id170477': 96, 'app_id17111': 97, 'app_id171202': 98, 'app_id172190': 99, 'app_id17374': 100, 'app_id17397': 101, 'app_id174318': 102, 'app_id174588': 103, 'app_id174707': 104, 'app_id178186': 105, 'app_id178891': 106, 'app_id180452': 107, 'app_id183189': 108, 'app_id184610': 109, 'app_id185124': 110, 'app_id188031': 111, 'app_id188520': 112, 'app_id190024': 113, 'app_id190477': 114, 'app_id195675': 115, 'app_id195729': 116, 'app_id196016': 117, 'app_id198789': 118, 'app_id199283': 119, 'app_id199408': 120, 'app_id199495': 121, 'app_id199618': 122, 'app_id20175': 123, 'app_id208435': 124, 'app_id209199': 125, 'app_id209619': 126, 'app_id211084': 127, 'app_id211648': 128, 'app_id214969': 129, 'app_id215594': 130, 'app_id218837': 131, 'app_id22054': 132, 'app_id221001': 133, 'app_id222996': 134, 'app_id223510': 135, 'app_id224612': 136, 'app_id22505': 137, 'app_id226785': 138, 'app_id226890': 139, 'app_id230854': 140, 'app_id234232': 141, 'app_id235432': 142, 'app_id236780': 143, 'app_id238267': 144, 'app_id238361': 145, 'app_id241925': 146, 'app_id244259': 147, 'app_id24536': 148, 'app_id247140': 149, 'app_id248233': 150, 'app_id249877': 151, 'app_id250270': 152, 'app_id251600': 153, 'app_id251918': 154, 'app_id252629': 155, 'app_id253079': 156, 'app_id2531': 157, 'app_id253472': 158, 'app_id257595': 159, 'app_id259656': 160, 'app_id260108': 161, 'app_id262920': 162, 'app_id264808': 163, 'app_id265612': 164, 'app_id265715': 165, 'app_id267014': 166, 'app_id268047': 167, 'app_id269395': 168, 'app_id271014': 169, 'app_id271502': 170, 'app_id271545': 171, 'app_id272517': 172, 'app_id273280': 173, 'app_id27380': 174, 'app_id274395': 175, 'app_id275884': 176, 'app_id276186': 177, 'app_id279634': 178, 'app_id28254': 179, 'app_id286239': 180, 'app_id286847': 181, 'app_id287151': 182, 'app_id287481': 183, 'app_id287987': 184, 'app_id288345': 185, 'app_id293377': 186, 'app_id293852': 187, 'app_id29491': 188, 'app_id295593': 189, 'app_id295805': 190, 'app_id296960': 191, 'app_id297676': 192, 'app_id299197': 193, 'app_id299770': 194, 'app_id300539': 195, 'app_id303154': 196, 'app_id303439': 197, 'app_id305051': 198, 'app_id311708': 199, 'app_id312124': 200, 'app_id312773': 201, 'app_id313912': 202, 'app_id314680': 203, 'app_id315578': 204, 'app_id318606': 205, 'app_id319312': 206, 'app_id321543': 207, 'app_id323399': 208, 'app_id324219': 209, 'app_id3250': 210, 'app_id327853': 211, 'app_id328191': 212, 'app_id328732': 213, 'app_id332579': 214, 'app_id335362': 215, 'app_id340257': 216, 'app_id340578': 217, 'app_id341602': 218, 'app_id343637': 219, 'app_id345088': 220, 'app_id345918': 221, 'app_id3478': 222, 'app_id348768': 223, 'app_id350571': 224, 'app_id353662': 225, 'app_id354846': 226, 'app_id356056': 227, 'app_id357065': 228, 'app_id35952': 229, 'app_id360433': 230, 'app_id362803': 231, 'app_id364060': 232, 'app_id365900': 233, 'app_id368395': 234, 'app_id368662': 235, 'app_id370869': 236, 'app_id371330': 237, 'app_id373794': 238, 'app_id375963': 239, 'app_id376667': 240, 'app_id377475': 241, 'app_id377769': 242, 'app_id38087': 243, 'app_id383139': 244, 'app_id384286': 245, 'app_id384641': 246, 'app_id385803': 247, 'app_id390246': 248, 'app_id390848': 249, 'app_id39114': 250, 'app_id391738': 251, 'app_id392368': 252, 'app_id393808': 253, 'app_id395196': 254, 'app_id395562': 255, 'app_id39566': 256, 'app_id396467': 257, 'app_id396801': 258, 'app_id397331': 259, 'app_id398239': 260, 'app_id399796': 261, 'app_id401031': 262, 'app_id401598': 263, 'app_id40411': 264, 'app_id405521': 265, 'app_id407079': 266, 'app_id40743': 267, 'app_id409881': 268, 'app_id412985': 269, 'app_id413597': 270, 'app_id413757': 271, 'app_id414066': 272, 'app_id414198': 273, 'app_id415787': 274, 'app_id416200': 275, 'app_id423277': 276, 'app_id426056': 277, 'app_id427285': 278, 'app_id428787': 279, 'app_id429981': 280, 'app_id430174': 281, 'app_id433766': 282, 'app_id43417': 283, 'app_id434238': 284, 'app_id434842': 285, 'app_id43528': 286, 'app_id435956': 287, 'app_id43652': 288, 'app_id439505': 289, 'app_id443814': 290, 'app_id444027': 291, 'app_id444237': 292, 'app_id444606': 293, 'app_id446192': 294, 'app_id447237': 295, 'app_id448750': 296, 'app_id449524': 297, 'app_id45043': 298, 'app_id450570': 299, 'app_id452567': 300, 'app_id460410': 301, 'app_id464287': 302, 'app_id464407': 303, 'app_id464763': 304, 'app_id469259': 305, 'app_id469313': 306, 'app_id472897': 307, 'app_id475879': 308, 'app_id475933': 309, 'app_id477265': 310, 'app_id478466': 311, 'app_id478566': 312, 'app_id483221': 313, 'app_id483811': 314, 'app_id486664': 315, 'app_id487018': 316, 'app_id489313': 317, 'app_id491214': 318, 'app_id492279': 319, 'app_id492982': 320, 'app_id493507': 321, 'app_id496154': 322, 'app_id497013': 323, 'app_id498784': 324, 'app_id498906': 325, 'app_id5013': 326, 'app_id502521': 327, 'app_id507296': 328, 'app_id508885': 329, 'app_id509712': 330, 'app_id514598': 331, 'app_id516651': 332, 'app_id516989': 333, 'app_id517287': 334, 'app_id517665': 335, 'app_id519645': 336, 'app_id519781': 337, 'app_id519846': 338, 'app_id520440': 339, 'app_id521579': 340, 'app_id522447': 341, 'app_id522679': 342, 'app_id524161': 343, 'app_id526228': 344, 'app_id526321': 345, 'app_id529526': 346, 'app_id530072': 347, 'app_id531374': 348, 'app_id531384': 349, 'app_id532004': 350, 'app_id532195': 351, 'app_id532825': 352, 'app_id536250': 353, 'app_id537218': 354, 'app_id538019': 355, 'app_id538352': 356, 'app_id54405': 357, 'app_id544105': 358, 'app_id547424': 359, 'app_id549898': 360, 'app_id552629': 361, 'app_id553785': 362, 'app_id554860': 363, 'app_id556483': 364, 'app_id556829': 365, 'app_id557090': 366, 'app_id558994': 367, 'app_id560520': 368, 'app_id560916': 369, 'app_id561418': 370, 'app_id566038': 371, 'app_id566932': 372, 'app_id568200': 373, 'app_id569729': 374, 'app_id570997': 375, 'app_id572025': 376, 'app_id572757': 377, 'app_id575944': 378, 'app_id580490': 379, 'app_id58132': 380, 'app_id587289': 381, 'app_id587862': 382, 'app_id588132': 383, 'app_id58844': 384, 'app_id588963': 385, 'app_id589296': 386, 'app_id592048': 387, 'app_id592759': 388, 'app_id594740': 389, 'app_id595271': 390, 'app_id595640': 391, 'app_id595880': 392, 'app_id596600': 393, 'app_id598183': 394, 'app_id60058': 395, 'app_id601958': 396, 'app_id604074': 397, 'app_id604114': 398, 'app_id60490': 399, 'app_id606092': 400, 'app_id611340': 401, 'app_id611444': 402, 'app_id614429': 403, 'app_id615685': 404, 'app_id617047': 405, 'app_id621506': 406, 'app_id622422': 407, 'app_id623016': 408, 'app_id623309': 409, 'app_id624790': 410, 'app_id631726': 411, 'app_id632095': 412, 'app_id636544': 413, 'app_id636646': 414, 'app_id640802': 415, 'app_id641883': 416, 'app_id642027': 417, 'app_id642241': 418, 'app_id64300': 419, 'app_id64331': 420, 'app_id645145': 421, 'app_id645437': 422, 'app_id645975': 423, 'app_id649699': 424, 'app_id651609': 425, 'app_id652000': 426, 'app_id65670': 427, 'app_id657209': 428, 'app_id657517': 429, 'app_id657583': 430, 'app_id658860': 431, 'app_id663275': 432, 'app_id663625': 433, 'app_id663634': 434, 'app_id663713': 435, 'app_id664440': 436, 'app_id666785': 437, 'app_id670489': 438, 'app_id672882': 439, 'app_id673141': 440, 'app_id673748': 441, 'app_id680381': 442, 'app_id680915': 443, 'app_id682645': 444, 'app_id683386': 445, 'app_id684086': 446, 'app_id685212': 447, 'app_id685752': 448, 'app_id687450': 449, 'app_id688750': 450, 'app_id689589': 451, 'app_id690437': 452, 'app_id690601': 453, 'app_id691066': 454, 'app_id692362': 455, 'app_id693796': 456, 'app_id69633': 457, 'app_id697107': 458, 'app_id69755': 459, 'app_id698324': 460, 'app_id699102': 461, 'app_id69950': 462, 'app_id699535': 463, 'app_id701280': 464, 'app_id702269': 465, 'app_id702770': 466, 'app_id705462': 467, 'app_id708107': 468, 'app_id708251': 469, 'app_id708804': 470, 'app_id711310': 471, 'app_id711884': 472, 'app_id712881': 473, 'app_id713342': 474, 'app_id713713': 475, 'app_id715721': 476, 'app_id71645': 477, 'app_id717517': 478, 'app_id720948': 479, 'app_id721146': 480, 'app_id722463': 481, 'app_id723529': 482, 'app_id723664': 483, 'app_id725477': 484, 'app_id725933': 485, 'app_id726723': 486, 'app_id727018': 487, 'app_id733438': 488, 'app_id733513': 489, 'app_id73623': 490, 'app_id73843': 491, 'app_id746689': 492, 'app_id747645': 493, 'app_id748659': 494, 'app_id751353': 495, 'app_id752219': 496, 'app_id752270': 497, 'app_id752419': 498, 'app_id752556': 499, 'app_id753123': 500, 'app_id753915': 501, 'app_id756663': 502, 'app_id760817': 503, 'app_id762425': 504, 'app_id762443': 505, 'app_id764083': 506, 'app_id764421': 507, 'app_id76456': 508, 'app_id76591': 509, 'app_id772162': 510, 'app_id78068': 511, 'app_id780694': 512, 'app_id781444': 513, 'app_id784086': 514, 'app_id785612': 515, 'app_id787352': 516, 'app_id789078': 517, 'app_id789464': 518, 'app_id791239': 519, 'app_id791631': 520, 'app_id793269': 521, 'app_id795058': 522, 'app_id795984': 523, 'app_id796562': 524, 'app_id797580': 525, 'app_id798928': 526, 'app_id801919': 527, 'app_id802230': 528, 'app_id803004': 529, 'app_id803392': 530, 'app_id80395': 531, 'app_id807436': 532, 'app_id807983': 533, 'app_id810158': 534, 'app_id812277': 535, 'app_id816282': 536, 'app_id816559': 537, 'app_id817780': 538, 'app_id818479': 539, 'app_id81871': 540, 'app_id818892': 541, 'app_id819527': 542, 'app_id820125': 543, 'app_id821283': 544, 'app_id822752': 545, 'app_id823529': 546, 'app_id823862': 547, 'app_id826380': 548, 'app_id826577': 549, 'app_id828965': 550, 'app_id829020': 551, 'app_id83023': 552, 'app_id830956': 553, 'app_id831487': 554, 'app_id833169': 555, 'app_id834640': 556, 'app_id836721': 557, 'app_id837536': 558, 'app_id837546': 559, 'app_id839311': 560, 'app_id840077': 561, 'app_id840804': 562, 'app_id842218': 563, 'app_id850757': 564, 'app_id851209': 565, 'app_id851522': 566, 'app_id851977': 567, 'app_id854927': 568, 'app_id861044': 569, 'app_id861479': 570, 'app_id862006': 571, 'app_id862225': 572, 'app_id863652': 573, 'app_id863975': 574, 'app_id866976': 575, 'app_id86978': 576, 'app_id873940': 577, 'app_id874838': 578, 'app_id875319': 579, 'app_id875696': 580, 'app_id875769': 581, 'app_id877700': 582, 'app_id879841': 583, 'app_id879897': 584, 'app_id881667': 585, 'app_id883011': 586, 'app_id885481': 587, 'app_id886142': 588, 'app_id88616': 589, 'app_id886555': 590, 'app_id888394': 591, 'app_id889583': 592, 'app_id890751': 593, 'app_id890970': 594, 'app_id89287': 595, 'app_id892940': 596, 'app_id896875': 597, 'app_id897295': 598, 'app_id899001': 599, 'app_id899514': 600, 'app_id899885': 601, 'app_id902612': 602, 'app_id903350': 603, 'app_id905411': 604, 'app_id905819': 605, 'app_id906575': 606, 'app_id907352': 607, 'app_id907597': 608, 'app_id908998': 609, 'app_id909144': 610, 'app_id909293': 611, 'app_id915673': 612, 'app_id915752': 613, 'app_id917382': 614, 'app_id918955': 615, 'app_id922427': 616, 'app_id925831': 617, 'app_id927244': 618, 'app_id928657': 619, 'app_id928904': 620, 'app_id931183': 621, 'app_id933004': 622, 'app_id933908': 623, 'app_id934314': 624, 'app_id934686': 625, 'app_id938544': 626, 'app_id942956': 627, 'app_id943079': 628, 'app_id943972': 629, 'app_id945222': 630, 'app_id945336': 631, 'app_id945877': 632, 'app_id94947': 633, 'app_id951372': 634, 'app_id958465': 635, 'app_id961362': 636, 'app_id96234': 637, 'app_id96543': 638, 'app_id966084': 639, 'app_id966169': 640, 'app_id967283': 641, 'app_id96887': 642, 'app_id969459': 643, 'app_id973318': 644, 'app_id974393': 645, 'app_id974480': 646, 'app_id974670': 647, 'app_id975047': 648, 'app_id975386': 649, 'app_id976707': 650, 'app_id977160': 651, 'app_id979438': 652, 'app_id980442': 653, 'app_id980796': 654, 'app_id981228': 655, 'app_id981341': 656, 'app_id986129': 657, 'app_id986712': 658, 'app_id987418': 659, 'app_id989458': 660, 'app_id989904': 661, 'app_id990564': 662, 'app_id991282': 663, 'app_id991302': 664, 'app_id99370': 665, 'app_id995194': 666, 'app_id996788': 667, 'app_id997964': 668, 'app_domain129482': 669, 'app_domain144609': 670, 'app_domain166945': 671, 'app_domain173808': 672, 'app_domain192652': 673, 'app_domain193830': 674, 'app_domain204923': 675, 'app_domain211273': 676, 'app_domain235217': 677, 'app_domain239687': 678, 'app_domain255730': 679, 'app_domain255867': 680, 'app_domain26485': 681, 'app_domain274196': 682, 'app_domain306443': 683, 'app_domain320955': 684, 'app_domain345897': 685, 'app_domain3568': 686, 'app_domain357065': 687, 'app_domain363066': 688, 'app_domain392094': 689, 'app_domain408107': 690, 'app_domain421779': 691, 'app_domain422290': 692, 'app_domain427558': 693, 'app_domain445803': 694, 'app_domain480640': 695, 'app_domain485459': 696, 'app_domain501802': 697, 'app_domain520638': 698, 'app_domain521815': 699, 'app_domain530157': 700, 'app_domain539229': 701, 'app_domain559449': 702, 'app_domain598494': 703, 'app_domain616226': 704, 'app_domain629488': 705, 'app_domain641345': 706, 'app_domain648877': 707, 'app_domain672956': 708, 'app_domain679636': 709, 'app_domain69731': 710, 'app_domain710153': 711, 'app_domain758890': 712, 'app_domain787897': 713, 'app_domain7916': 714, 'app_domain799394': 715, 'app_domain822761': 716, 'app_domain844168': 717, 'app_domain889400': 718, 'app_domain906074': 719, 'app_domain907962': 720, 'app_domain946192': 721, 'app_category213092': 722, 'app_category223258': 723, 'app_category239222': 724, 'app_category262313': 725, 'app_category304764': 726, 'app_category334602': 727, 'app_category357065': 728, 'app_category382257': 729, 'app_category407069': 730, 'app_category486674': 731, 'app_category648532': 732, 'app_category660356': 733, 'app_category70951': 734, 'app_category723326': 735, 'app_category737556': 736, 'app_category80165': 737, 'app_category888961': 738, 'app_category911231': 739, 'app_category94175': 740, 'site100372': 741, 'site101101': 742, 'site102393': 743, 'site103807': 744, 'site104489': 745, 'site104641': 746, 'site105792': 747, 'site106124': 748, 'site106247': 749, 'site106634': 750, 'site107645': 751, 'site110660': 752, 'site111087': 753, 'site11254': 754, 'site113590': 755, 'site114078': 756, 'site114303': 757, 'site114388': 758, 'site114650': 759, 'site117060': 760, 'site117202': 761, 'site118317': 762, 'site118830': 763, 'site11909': 764, 'site121579': 765, 'site121973': 766, 'site122273': 767, 'site122298': 768, 'site122330': 769, 'site122402': 770, 'site123294': 771, 'site123984': 772, 'site125126': 773, 'site126802': 774, 'site127534': 775, 'site127841': 776, 'site127912': 777, 'site129378': 778, 'site129760': 779, 'site129999': 780, 'site132301': 781, 'site132370': 782, 'site133900': 783, 'site134237': 784, 'site134670': 785, 'site137043': 786, 'site137733': 787, 'site140224': 788, 'site144115': 789, 'site144715': 790, 'site144903': 791, 'site145499': 792, 'site148511': 793, 'site150': 794, 'site150023': 795, 'site150070': 796, 'site150118': 797, 'site153964': 798, 'site153966': 799, 'site154553': 800, 'site154843': 801, 'site155074': 802, 'site155943': 803, 'site157050': 804, 'site158680': 805, 'site160294': 806, 'site160306': 807, 'site160383': 808, 'site161151': 809, 'site161915': 810, 'site163614': 811, 'site164611': 812, 'site167308': 813, 'site16755': 814, 'site167581': 815, 'site168451': 816, 'site169100': 817, 'site169117': 818, 'site170325': 819, 'site171082': 820, 'site172937': 821, 'site174037': 822, 'site174474': 823, 'site176628': 824, 'site177046': 825, 'site179689': 826, 'site179749': 827, 'site180397': 828, 'site181721': 829, 'site182306': 830, 'site182769': 831, 'site187885': 832, 'site187989': 833, 'site188192': 834, 'site188215': 835, 'site189048': 836, 'site189168': 837, 'site189381': 838, 'site189622': 839, 'site189713': 840, 'site189999': 841, 'site192505': 842, 'site193137': 843, 'site195385': 844, 'site195932': 845, 'site197589': 846, 'site199041': 847, 'site201523': 848, 'site201550': 849, 'site202227': 850, 'site202609': 851, 'site202985': 852, 'site203743': 853, 'site203961': 854, 'site204733': 855, 'site20507': 856, 'site205839': 857, 'site209784': 858, 'site212371': 859, 'site21396': 860, 'site216213': 861, 'site217746': 862, 'site218182': 863, 'site2193': 864, 'site221805': 865, 'site222603': 866, 'site223349': 867, 'site224349': 868, 'site225908': 869, 'site227943': 870, 'site22858': 871, 'site22988': 872, 'site230632': 873, 'site232485': 874, 'site233119': 875, 'site235359': 876, 'site235431': 877, 'site236459': 878, 'site236477': 879, 'site2365': 880, 'site236728': 881, 'site237228': 882, 'site241158': 883, 'site241336': 884, 'site241680': 885, 'site243814': 886, 'site248190': 887, 'site24947': 888, 'site251244': 889, 'site25315': 890, 'site253385': 891, 'site253462': 892, 'site255312': 893, 'site255848': 894, 'site256119': 895, 'site256173': 896, 'site256358': 897, 'site257277': 898, 'site258224': 899, 'site26095': 900, 'site260956': 901, 'site261512': 902, 'site262089': 903, 'site262329': 904, 'site262350': 905, 'site262369': 906, 'site262706': 907, 'site263182': 908, 'site263222': 909, 'site264903': 910, 'site267102': 911, 'site267106': 912, 'site267618': 913, 'site267923': 914, 'site268168': 915, 'site269702': 916, 'site270682': 917, 'site27243': 918, 'site273745': 919, 'site274036': 920, 'site274218': 921, 'site276656': 922, 'site278015': 923, 'site279490': 924, 'site281700': 925, 'site281734': 926, 'site283847': 927, 'site283948': 928, 'site284745': 929, 'site285604': 930, 'site286202': 931, 'site286462': 932, 'site287851': 933, 'site289630': 934, 'site290326': 935, 'site290415': 936, 'site292761': 937, 'site294268': 938, 'site294410': 939, 'site296696': 940, 'site297648': 941, 'site298605': 942, 'site29865': 943, 'site301642': 944, 'site302621': 945, 'site302765': 946, 'site302833': 947, 'site302867': 948, 'site30349': 949, 'site305707': 950, 'site309331': 951, 'site310565': 952, 'site31097': 953, 'site312223': 954, 'site31313': 955, 'site314038': 956, 'site318190': 957, 'site322254': 958, 'site323897': 959, 'site324229': 960, 'site325365': 961, 'site326025': 962, 'site326325': 963, 'site326917': 964, 'site327746': 965, 'site330834': 966, 'site331487': 967, 'site332067': 968, 'site332938': 969, 'site332956': 970, 'site337318': 971, 'site337462': 972, 'site338334': 973, 'site340379': 974, 'site340603': 975, 'site34183': 976, 'site342292': 977, 'site343604': 978, 'site343747': 979, 'site346112': 980, 'site347432': 981, 'site348055': 982, 'site348916': 983, 'site349046': 984, 'site34968': 985, 'site350625': 986, 'site351258': 987, 'site351800': 988, 'site352325': 989, 'site352408': 990, 'site352424': 991, 'site35243': 992, 'site353418': 993, 'site353483': 994, 'site353937': 995, 'site354858': 996, 'site354861': 997, 'site355802': 998, 'site356567': 999, 'site357065': 1000, 'site358640': 1001, 'site359877': 1002, 'site360179': 1003, 'site36128': 1004, 'site361374': 1005, 'site363558': 1006, 'site363735': 1007, 'site366761': 1008, 'site36768': 1009, 'site368053': 1010, 'site370793': 1011, 'site370980': 1012, 'site371379': 1013, 'site372771': 1014, 'site373030': 1015, 'site373278': 1016, 'site373769': 1017, 'site373960': 1018, 'site37481': 1019, 'site374954': 1020, 'site376191': 1021, 'site379050': 1022, 'site37946': 1023, 'site380044': 1024, 'site380154': 1025, 'site381142': 1026, 'site382192': 1027, 'site382377': 1028, 'site384653': 1029, 'site385749': 1030, 'site38738': 1031, 'site388687': 1032, 'site388754': 1033, 'site389227': 1034, 'site392841': 1035, 'site394090': 1036, 'site395780': 1037, 'site396635': 1038, 'site399136': 1039, 'site402337': 1040, 'site403642': 1041, 'site403925': 1042, 'site405704': 1043, 'site405795': 1044, 'site407567': 1045, 'site408992': 1046, 'site409676': 1047, 'site410472': 1048, 'site41352': 1049, 'site414866': 1050, 'site416593': 1051, 'site417610': 1052, 'site419074': 1053, 'site419847': 1054, 'site420581': 1055, 'site421013': 1056, 'site421089': 1057, 'site423590': 1058, 'site424132': 1059, 'site425194': 1060, 'site42520': 1061, 'site428653': 1062, 'site429925': 1063, 'site430005': 1064, 'site432394': 1065, 'site434945': 1066, 'site437677': 1067, 'site438104': 1068, 'site43837': 1069, 'site439001': 1070, 'site441617': 1071, 'site443661': 1072, 'site445365': 1073, 'site44571': 1074, 'site448798': 1075, 'site449452': 1076, 'site451249': 1077, 'site452185': 1078, 'site452372': 1079, 'site453195': 1080, 'site455847': 1081, 'site457001': 1082, 'site459007': 1083, 'site4595': 1084, 'site460675': 1085, 'site46075': 1086, 'site461041': 1087, 'site461532': 1088, 'site462125': 1089, 'site463833': 1090, 'site46492': 1091, 'site466907': 1092, 'site466998': 1093, 'site468681': 1094, 'site472165': 1095, 'site472713': 1096, 'site474221': 1097, 'site474786': 1098, 'site477662': 1099, 'site478544': 1100, 'site479106': 1101, 'site479206': 1102, 'site480763': 1103, 'site481134': 1104, 'site482070': 1105, 'site482144': 1106, 'site482389': 1107, 'site482968': 1108, 'site484445': 1109, 'site484601': 1110, 'site486069': 1111, 'site486456': 1112, 'site48652': 1113, 'site486958': 1114, 'site487565': 1115, 'site487586': 1116, 'site487722': 1117, 'site487852': 1118, 'site488206': 1119, 'site488637': 1120, 'site488855': 1121, 'site489103': 1122, 'site489687': 1123, 'site490439': 1124, 'site491256': 1125, 'site49274': 1126, 'site492862': 1127, 'site494168': 1128, 'site494271': 1129, 'site500953': 1130, 'site502191': 1131, 'site503273': 1132, 'site504613': 1133, 'site505399': 1134, 'site505902': 1135, 'site506090': 1136, 'site506778': 1137, 'site506808': 1138, 'site509499': 1139, 'site509513': 1140, 'site510025': 1141, 'site511105': 1142, 'site511941': 1143, 'site514097': 1144, 'site516396': 1145, 'site516785': 1146, 'site517921': 1147, 'site518114': 1148, 'site520046': 1149, 'site52010': 1150, 'site520439': 1151, 'site522971': 1152, 'site524603': 1153, 'site525036': 1154, 'site525263': 1155, 'site526336': 1156, 'site527178': 1157, 'site528315': 1158, 'site529698': 1159, 'site531748': 1160, 'site531974': 1161, 'site533446': 1162, 'site535938': 1163, 'site537061': 1164, 'site537988': 1165, 'site539322': 1166, 'site541560': 1167, 'site542013': 1168, 'site542904': 1169, 'site543938': 1170, 'site545342': 1171, 'site545344': 1172, 'site547552': 1173, 'site548435': 1174, 'site550379': 1175, 'site550892': 1176, 'site551037': 1177, 'site552110': 1178, 'site552216': 1179, 'site553410': 1180, 'site553876': 1181, 'site555122': 1182, 'site555416': 1183, 'site55742': 1184, 'site557798': 1185, 'site560022': 1186, 'site560136': 1187, 'site561765': 1188, 'site563559': 1189, 'site564608': 1190, 'site565345': 1191, 'site566464': 1192, 'site568099': 1193, 'site568350': 1194, 'site568703': 1195, 'site57182': 1196, 'site572687': 1197, 'site572798': 1198, 'site573035': 1199, 'site575110': 1200, 'site576204': 1201, 'site579124': 1202, 'site581003': 1203, 'site581518': 1204, 'site581661': 1205, 'site582232': 1206, 'site583133': 1207, 'site583948': 1208, 'site585819': 1209, 'site587229': 1210, 'site587297': 1211, 'site58735': 1212, 'site587374': 1213, 'site58819': 1214, 'site588295': 1215, 'site588453': 1216, 'site590624': 1217, 'site590908': 1218, 'site592931': 1219, 'site593321': 1220, 'site594279': 1221, 'site594481': 1222, 'site595108': 1223, 'site598311': 1224, 'site599752': 1225, 'site599816': 1226, 'site600238': 1227, 'site601351': 1228, 'site6017': 1229, 'site601831': 1230, 'site602024': 1231, 'site602835': 1232, 'site602990': 1233, 'site603686': 1234, 'site603868': 1235, 'site604740': 1236, 'site605003': 1237, 'site605694': 1238, 'site60921': 1239, 'site611574': 1240, 'site61298': 1241, 'site613970': 1242, 'site613994': 1243, 'site614330': 1244, 'site615803': 1245, 'site617120': 1246, 'site618964': 1247, 'site621184': 1248, 'site62152': 1249, 'site622109': 1250, 'site623065': 1251, 'site624152': 1252, 'site626195': 1253, 'site6264': 1254, 'site627482': 1255, 'site628880': 1256, 'site629943': 1257, 'site630299': 1258, 'site630878': 1259, 'site631156': 1260, 'site632083': 1261, 'site63421': 1262, 'site634456': 1263, 'site634460': 1264, 'site635105': 1265, 'site635829': 1266, 'site636190': 1267, 'site636584': 1268, 'site636684': 1269, 'site637148': 1270, 'site637489': 1271, 'site639327': 1272, 'site640092': 1273, 'site640702': 1274, 'site641265': 1275, 'site642630': 1276, 'site644209': 1277, 'site645485': 1278, 'site646921': 1279, 'site65015': 1280, 'site651529': 1281, 'site651783': 1282, 'site651823': 1283, 'site654563': 1284, 'site656545': 1285, 'site656714': 1286, 'site658175': 1287, 'site660250': 1288, 'site660300': 1289, 'site660937': 1290, 'site66116': 1291, 'site661958': 1292, 'site662481': 1293, 'site66338': 1294, 'site663625': 1295, 'site663947': 1296, 'site665769': 1297, 'site66694': 1298, 'site669230': 1299, 'site672159': 1300, 'site673151': 1301, 'site673172': 1302, 'site67599': 1303, 'site676838': 1304, 'site677829': 1305, 'site67813': 1306, 'site679409': 1307, 'site681453': 1308, 'site685236': 1309, 'site689447': 1310, 'site68946': 1311, 'site690646': 1312, 'site691034': 1313, 'site692915': 1314, 'site693677': 1315, 'site695434': 1316, 'site698828': 1317, 'site699406': 1318, 'site70074': 1319, 'site701663': 1320, 'site704090': 1321, 'site705642': 1322, 'site708094': 1323, 'site708560': 1324, 'site710625': 1325, 'site710932': 1326, 'site711133': 1327, 'site711515': 1328, 'site712322': 1329, 'site712830': 1330, 'site714499': 1331, 'site715082': 1332, 'site716179': 1333, 'site717414': 1334, 'site717419': 1335, 'site718659': 1336, 'site72199': 1337, 'site723665': 1338, 'site723753': 1339, 'site724757': 1340, 'site725663': 1341, 'site72681': 1342, 'site72770': 1343, 'site728687': 1344, 'site729271': 1345, 'site729810': 1346, 'site730077': 1347, 'site7301': 1348, 'site730615': 1349, 'site730676': 1350, 'site731126': 1351, 'site732815': 1352, 'site73687': 1353, 'site737037': 1354, 'site737377': 1355, 'site73865': 1356, 'site739229': 1357, 'site739588': 1358, 'site742816': 1359, 'site743191': 1360, 'site745003': 1361, 'site745767': 1362, 'site746219': 1363, 'site746519': 1364, 'site746757': 1365, 'site747178': 1366, 'site748785': 1367, 'site750170': 1368, 'site750234': 1369, 'site75066': 1370, 'site752030': 1371, 'site754046': 1372, 'site755698': 1373, 'site755979': 1374, 'site756127': 1375, 'site75629': 1376, 'site756309': 1377, 'site757668': 1378, 'site759806': 1379, 'site760095': 1380, 'site760884': 1381, 'site761676': 1382, 'site763088': 1383, 'site765616': 1384, 'site766323': 1385, 'site766638': 1386, 'site766656': 1387, 'site768642': 1388, 'site772786': 1389, 'site77316': 1390, 'site773396': 1391, 'site773549': 1392, 'site774923': 1393, 'site77626': 1394, 'site776587': 1395, 'site776770': 1396, 'site777133': 1397, 'site777488': 1398, 'site779090': 1399, 'site779601': 1400, 'site779917': 1401, 'site781677': 1402, 'site7818': 1403, 'site783773': 1404, 'site784381': 1405, 'site787951': 1406, 'site789281': 1407, 'site789571': 1408, 'site790045': 1409, 'site791681': 1410, 'site792564': 1411, 'site794758': 1412, 'site799047': 1413, 'site799662': 1414, 'site801451': 1415, 'site802732': 1416, 'site803650': 1417, 'site804319': 1418, 'site805104': 1419, 'site806409': 1420, 'site807684': 1421, 'site807916': 1422, 'site809651': 1423, 'site811271': 1424, 'site811346': 1425, 'site811592': 1426, 'site813829': 1427, 'site814492': 1428, 'site814737': 1429, 'site818561': 1430, 'site819318': 1431, 'site819803': 1432, 'site820301': 1433, 'site820596': 1434, 'site820644': 1435, 'site821846': 1436, 'site822280': 1437, 'site827346': 1438, 'site827820': 1439, 'site829597': 1440, 'site830635': 1441, 'site831618': 1442, 'site831632': 1443, 'site831923': 1444, 'site832227': 1445, 'site833409': 1446, 'site833521': 1447, 'site834304': 1448, 'site835582': 1449, 'site835614': 1450, 'site835889': 1451, 'site836382': 1452, 'site836623': 1453, 'site837550': 1454, 'site838150': 1455, 'site839560': 1456, 'site840277': 1457, 'site841542': 1458, 'site842413': 1459, 'site843050': 1460, 'site844189': 1461, 'site844725': 1462, 'site845662': 1463, 'site845820': 1464, 'site845919': 1465, 'site846172': 1466, 'site847760': 1467, 'site848483': 1468, 'site848642': 1469, 'site849796': 1470, 'site850955': 1471, 'site85254': 1472, 'site853096': 1473, 'site853937': 1474, 'site854524': 1475, 'site854574': 1476, 'site854698': 1477, 'site854900': 1478, 'site85652': 1479, 'site856607': 1480, 'site857639': 1481, 'site859009': 1482, 'site860772': 1483, 'site861603': 1484, 'site862346': 1485, 'site864581': 1486, 'site864688': 1487, 'site864777': 1488, 'site866176': 1489, 'site86682': 1490, 'site867620': 1491, 'site86878': 1492, 'site869195': 1493, 'site869801': 1494, 'site870405': 1495, 'site870528': 1496, 'site872010': 1497, 'site872284': 1498, 'site872530': 1499, 'site87386': 1500, 'site873939': 1501, 'site875089': 1502, 'site876757': 1503, 'site877841': 1504, 'site878721': 1505, 'site879447': 1506, 'site880588': 1507, 'site881225': 1508, 'site882871': 1509, 'site883773': 1510, 'site885014': 1511, 'site886617': 1512, 'site886769': 1513, 'site887695': 1514, 'site888656': 1515, 'site889980': 1516, 'site890476': 1517, 'site891132': 1518, 'site891354': 1519, 'site891779': 1520, 'site893891': 1521, 'site895581': 1522, 'site895826': 1523, 'site89612': 1524, 'site896747': 1525, 'site897515': 1526, 'site897929': 1527, 'site899517': 1528, 'site900163': 1529, 'site901204': 1530, 'site901808': 1531, 'site904253': 1532, 'site904362': 1533, 'site904581': 1534, 'site904615': 1535, 'site905193': 1536, 'site907986': 1537, 'site910432': 1538, 'site911108': 1539, 'site91259': 1540, 'site913718': 1541, 'site914630': 1542, 'site915796': 1543, 'site916220': 1544, 'site917550': 1545, 'site919542': 1546, 'site919719': 1547, 'site919771': 1548, 'site921170': 1549, 'site922297': 1550, 'site922452': 1551, 'site923670': 1552, 'site924387': 1553, 'site927350': 1554, 'site92794': 1555, 'site928267': 1556, 'site92904': 1557, 'site929205': 1558, 'site930453': 1559, 'site930887': 1560, 'site931351': 1561, 'site93248': 1562, 'site933088': 1563, 'site93329': 1564, 'site933557': 1565, 'site933810': 1566, 'site936837': 1567, 'site937355': 1568, 'site937469': 1569, 'site937942': 1570, 'site938599': 1571, 'site941339': 1572, 'site941887': 1573, 'site941950': 1574, 'site943533': 1575, 'site945446': 1576, 'site946338': 1577, 'site946859': 1578, 'site947668': 1579, 'site950205': 1580, 'site95058': 1581, 'site951544': 1582, 'site952783': 1583, 'site954524': 1584, 'site955447': 1585, 'site95586': 1586, 'site955911': 1587, 'site956251': 1588, 'site957684': 1589, 'site958515': 1590, 'site95903': 1591, 'site959264': 1592, 'site960578': 1593, 'site961276': 1594, 'site962486': 1595, 'site963034': 1596, 'site96311': 1597, 'site963456': 1598, 'site964209': 1599, 'site964256': 1600, 'site96487': 1601, 'site965077': 1602, 'site966263': 1603, 'site968771': 1604, 'site970210': 1605, 'site971046': 1606, 'site971181': 1607, 'site97330': 1608, 'site974518': 1609, 'site974659': 1610, 'site974835': 1611, 'site975338': 1612, 'site976119': 1613, 'site97823': 1614, 'site978509': 1615, 'site97905': 1616, 'site979895': 1617, 'site980348': 1618, 'site98415': 1619, 'site98797': 1620, 'site988453': 1621, 'site988877': 1622, 'site992868': 1623, 'site993204': 1624, 'site993499': 1625, 'site994385': 1626, 'site995303': 1627, 'site996182': 1628, 'site997581': 1629, 'device_type33435': 1630, 'device_type337987': 1631, 'device_type357065': 1632, 'device_type562409': 1633, 'device_type652019': 1634, 'device_conn_type197079': 1635, 'device_conn_type33435': 1636, 'device_conn_type397134': 1637, 'device_conn_type652019': 1638, 'C14100373': 1639, 'C14100468': 1640, 'C14101973': 1641, 'C14102519': 1642, 'C14102843': 1643, 'C14103373': 1644, 'C14103393': 1645, 'C14103558': 1646, 'C14104027': 1647, 'C1410468': 1648, 'C14104699': 1649, 'C14105254': 1650, 'C14105431': 1651, 'C14106264': 1652, 'C14106661': 1653, 'C14106898': 1654, 'C14107347': 1655, 'C14107508': 1656, 'C1410760': 1657, 'C1410782': 1658, 'C14107820': 1659, 'C14107971': 1660, 'C14108997': 1661, 'C14110684': 1662, 'C14110868': 1663, 'C14111106': 1664, 'C14111611': 1665, 'C14111808': 1666, 'C14112805': 1667, 'C14112812': 1668, 'C14112926': 1669, 'C14113068': 1670, 'C14113885': 1671, 'C1411437': 1672, 'C14114967': 1673, 'C14115155': 1674, 'C14115300': 1675, 'C14115934': 1676, 'C14116890': 1677, 'C14117924': 1678, 'C1411937': 1679, 'C14120861': 1680, 'C14120921': 1681, 'C14122258': 1682, 'C14122378': 1683, 'C14122750': 1684, 'C14122791': 1685, 'C14123110': 1686, 'C14123340': 1687, 'C14124064': 1688, 'C14124787': 1689, 'C14125760': 1690, 'C14126318': 1691, 'C14126718': 1692, 'C14127123': 1693, 'C14128079': 1694, 'C14129542': 1695, 'C14130972': 1696, 'C14133647': 1697, 'C14133969': 1698, 'C14134072': 1699, 'C14134176': 1700, 'C14134472': 1701, 'C14135596': 1702, 'C14136455': 1703, 'C14136667': 1704, 'C14136804': 1705, 'C14139060': 1706, 'C14140033': 1707, 'C14140711': 1708, 'C14140767': 1709, 'C14141797': 1710, 'C14141866': 1711, 'C14142197': 1712, 'C14142884': 1713, 'C14143417': 1714, 'C14143702': 1715, 'C14143781': 1716, 'C14144089': 1717, 'C1414479': 1718, 'C14145161': 1719, 'C14145376': 1720, 'C14145407': 1721, 'C14145785': 1722, 'C14146122': 1723, 'C1414670': 1724, 'C14147886': 1725, 'C14149280': 1726, 'C1414949': 1727, 'C14150247': 1728, 'C1415036': 1729, 'C14151459': 1730, 'C14151626': 1731, 'C14152590': 1732, 'C14152823': 1733, 'C14153039': 1734, 'C14153575': 1735, 'C14153875': 1736, 'C14155945': 1737, 'C1415628': 1738, 'C14156457': 1739, 'C14156801': 1740, 'C14157391': 1741, 'C14158032': 1742, 'C14159498': 1743, 'C14160597': 1744, 'C14164194': 1745, 'C14164638': 1746, 'C14167695': 1747, 'C14169652': 1748, 'C14169795': 1749, 'C14170937': 1750, 'C14171145': 1751, 'C14171443': 1752, 'C14171914': 1753, 'C14172482': 1754, 'C14172544': 1755, 'C14172741': 1756, 'C14172929': 1757, 'C14173634': 1758, 'C14173726': 1759, 'C14175033': 1760, 'C14176793': 1761, 'C14176827': 1762, 'C1417726': 1763, 'C14177501': 1764, 'C14177768': 1765, 'C1417840': 1766, 'C14181826': 1767, 'C14181884': 1768, 'C14182310': 1769, 'C14182549': 1770, 'C14182577': 1771, 'C14183456': 1772, 'C14183612': 1773, 'C14184214': 1774, 'C14186237': 1775, 'C14187178': 1776, 'C14187376': 1777, 'C14187691': 1778, 'C14188399': 1779, 'C14189197': 1780, 'C14189262': 1781, 'C14189513': 1782, 'C14190031': 1783, 'C14190599': 1784, 'C14190646': 1785, 'C14191496': 1786, 'C1419290': 1787, 'C14192926': 1788, 'C14193123': 1789, 'C14193470': 1790, 'C14193704': 1791, 'C14193813': 1792, 'C14193850': 1793, 'C14194892': 1794, 'C14195000': 1795, 'C14195439': 1796, 'C1419609': 1797, 'C14196809': 1798, 'C14196892': 1799, 'C14197928': 1800, 'C14198661': 1801, 'C14200048': 1802, 'C14200867': 1803, 'C14201507': 1804, 'C14202204': 1805, 'C14203277': 1806, 'C14206625': 1807, 'C14206827': 1808, 'C14207974': 1809, 'C14209138': 1810, 'C14210072': 1811, 'C14210083': 1812, 'C14210563': 1813, 'C14211487': 1814, 'C14211491': 1815, 'C1421266': 1816, 'C1421323': 1817, 'C14214185': 1818, 'C14215496': 1819, 'C14215872': 1820, 'C14216209': 1821, 'C14216750': 1822, 'C14217341': 1823, 'C14219656': 1824, 'C14220943': 1825, 'C14221365': 1826, 'C14224420': 1827, 'C14224804': 1828, 'C1422597': 1829, 'C14226198': 1830, 'C14226349': 1831, 'C14226449': 1832, 'C14226638': 1833, 'C14227189': 1834, 'C14227427': 1835, 'C14228906': 1836, 'C14229823': 1837, 'C1422998': 1838, 'C14231399': 1839, 'C14231815': 1840, 'C14232185': 1841, 'C1423233': 1842, 'C14232557': 1843, 'C14232781': 1844, 'C142328': 1845, 'C14232924': 1846, 'C14233307': 1847, 'C14233863': 1848, 'C14234484': 1849, 'C14235496': 1850, 'C14236011': 1851, 'C14236389': 1852, 'C14237143': 1853, 'C14238433': 1854, 'C14239244': 1855, 'C14239327': 1856, 'C14239722': 1857, 'C14240924': 1858, 'C14241108': 1859, 'C14241176': 1860, 'C14241656': 1861, 'C14241820': 1862, 'C14242732': 1863, 'C1424327': 1864, 'C14243455': 1865, 'C14244038': 1866, 'C14244961': 1867, 'C14246731': 1868, 'C14247058': 1869, 'C1424749': 1870, 'C14248144': 1871, 'C1424858': 1872, 'C14249177': 1873, 'C1425053': 1874, 'C14250664': 1875, 'C14250780': 1876, 'C1425284': 1877, 'C1425326': 1878, 'C14253913': 1879, 'C14254814': 1880, 'C14255133': 1881, 'C14255569': 1882, 'C14255591': 1883, 'C14256194': 1884, 'C1425673': 1885, 'C14257357': 1886, 'C14257663': 1887, 'C14258175': 1888, 'C1425826': 1889, 'C14258832': 1890, 'C14259285': 1891, 'C14259493': 1892, 'C1426278': 1893, 'C14263534': 1894, 'C14263816': 1895, 'C14265143': 1896, 'C14265208': 1897, 'C14265890': 1898, 'C14266226': 1899, 'C14266379': 1900, 'C14266932': 1901, 'C14267358': 1902, 'C14267410': 1903, 'C14268010': 1904, 'C14268800': 1905, 'C14269791': 1906, 'C14269803': 1907, 'C14271260': 1908, 'C142725': 1909, 'C14272999': 1910, 'C14273557': 1911, 'C14273823': 1912, 'C14274315': 1913, 'C1427445': 1914, 'C14274633': 1915, 'C14274824': 1916, 'C1427486': 1917, 'C14274897': 1918, 'C1427500': 1919, 'C14275824': 1920, 'C14275939': 1921, 'C14276072': 1922, 'C14276106': 1923, 'C14276878': 1924, 'C1427729': 1925, 'C14277904': 1926, 'C14278971': 1927, 'C14279442': 1928, 'C14280047': 1929, 'C14281898': 1930, 'C14282403': 1931, 'C14282735': 1932, 'C14282859': 1933, 'C14284614': 1934, 'C14285377': 1935, 'C14285426': 1936, 'C14285518': 1937, 'C14285776': 1938, 'C14287268': 1939, 'C14288645': 1940, 'C14289450': 1941, 'C14289604': 1942, 'C14289630': 1943, 'C14290479': 1944, 'C14290626': 1945, 'C14290753': 1946, 'C14290854': 1947, 'C14290906': 1948, 'C14292016': 1949, 'C14292280': 1950, 'C1429256': 1951, 'C14293298': 1952, 'C14294056': 1953, 'C14295083': 1954, 'C14295180': 1955, 'C14297034': 1956, 'C14297345': 1957, 'C142976': 1958, 'C14297906': 1959, 'C14298330': 1960, 'C14298354': 1961, 'C14299138': 1962, 'C14299285': 1963, 'C14299358': 1964, 'C143': 1965, 'C14300342': 1966, 'C14301042': 1967, 'C14301165': 1968, 'C14301586': 1969, 'C14302095': 1970, 'C14302142': 1971, 'C14302276': 1972, 'C14303556': 1973, 'C14303877': 1974, 'C14305402': 1975, 'C14306942': 1976, 'C14309130': 1977, 'C14309786': 1978, 'C14310291': 1979, 'C14310559': 1980, 'C14310619': 1981, 'C14311217': 1982, 'C14311296': 1983, 'C14311531': 1984, 'C14311555': 1985, 'C14311674': 1986, 'C1431235': 1987, 'C14313355': 1988, 'C14315097': 1989, 'C14315318': 1990, 'C14315777': 1991, 'C14316833': 1992, 'C14317655': 1993, 'C14318174': 1994, 'C14318854': 1995, 'C14319308': 1996, 'C14321745': 1997, 'C14321871': 1998, 'C14322845': 1999, 'C1432452': 2000, 'C14324533': 2001, 'C14324607': 2002, 'C14324680': 2003, 'C14327639': 2004, 'C1432882': 2005, 'C14329046': 2006, 'C14329179': 2007, 'C14330024': 2008, 'C14330289': 2009, 'C14330619': 2010, 'C14330996': 2011, 'C14331990': 2012, 'C14332539': 2013, 'C14333263': 2014, 'C14333395': 2015, 'C14333783': 2016, 'C1433509': 2017, 'C14336327': 2018, 'C14336497': 2019, 'C14336524': 2020, 'C14337239': 2021, 'C1433792': 2022, 'C14339335': 2023, 'C1434040': 2024, 'C14342247': 2025, 'C14342302': 2026, 'C14342647': 2027, 'C14343731': 2028, 'C14344475': 2029, 'C14345629': 2030, 'C14346186': 2031, 'C14346898': 2032, 'C14347078': 2033, 'C14348604': 2034, 'C14351029': 2035, 'C14351463': 2036, 'C14351904': 2037, 'C14352829': 2038, 'C14353243': 2039, 'C14355542': 2040, 'C1435583': 2041, 'C14357065': 2042, 'C14357576': 2043, 'C14358065': 2044, 'C14359451': 2045, 'C14360091': 2046, 'C14360577': 2047, 'C14360690': 2048, 'C14360721': 2049, 'C14361545': 2050, 'C14362755': 2051, 'C14362865': 2052, 'C14363439': 2053, 'C14364230': 2054, 'C14364394': 2055, 'C14364975': 2056, 'C14365267': 2057, 'C14365537': 2058, 'C14365716': 2059, 'C14366196': 2060, 'C14367648': 2061, 'C14367732': 2062, 'C14367772': 2063, 'C14368336': 2064, 'C14369118': 2065, 'C14369755': 2066, 'C14370534': 2067, 'C14370628': 2068, 'C14371165': 2069, 'C14374399': 2070, 'C14375355': 2071, 'C14375562': 2072, 'C14377503': 2073, 'C14378': 2074, 'C14378554': 2075, 'C14378970': 2076, 'C14379128': 2077, 'C14382610': 2078, 'C14384322': 2079, 'C14387235': 2080, 'C1438730': 2081, 'C14388891': 2082, 'C14388992': 2083, 'C14390069': 2084, 'C14391508': 2085, 'C14391603': 2086, 'C14392081': 2087, 'C14392144': 2088, 'C14393077': 2089, 'C14393473': 2090, 'C14393876': 2091, 'C14394806': 2092, 'C14396476': 2093, 'C14398488': 2094, 'C14398745': 2095, 'C1439928': 2096, 'C14399432': 2097, 'C14399672': 2098, 'C14399973': 2099, 'C14401165': 2100, 'C14402755': 2101, 'C14403254': 2102, 'C14404594': 2103, 'C14406920': 2104, 'C14406990': 2105, 'C14408460': 2106, 'C14408578': 2107, 'C14408620': 2108, 'C14410033': 2109, 'C14410691': 2110, 'C14411400': 2111, 'C14413189': 2112, 'C14413643': 2113, 'C14413843': 2114, 'C14414382': 2115, 'C1441657': 2116, 'C14417095': 2117, 'C14417446': 2118, 'C14417652': 2119, 'C14417689': 2120, 'C14418250': 2121, 'C14418674': 2122, 'C14419662': 2123, 'C14420774': 2124, 'C14422513': 2125, 'C14423015': 2126, 'C14423903': 2127, 'C14424593': 2128, 'C14425499': 2129, 'C14425677': 2130, 'C14425959': 2131, 'C14426166': 2132, 'C14427246': 2133, 'C14427704': 2134, 'C14428956': 2135, 'C14431702': 2136, 'C14434200': 2137, 'C14436100': 2138, 'C14436119': 2139, 'C14436592': 2140, 'C14437509': 2141, 'C14437716': 2142, 'C14438109': 2143, 'C1443857': 2144, 'C14440285': 2145, 'C14441206': 2146, 'C14442833': 2147, 'C14443781': 2148, 'C1444608': 2149, 'C14446090': 2150, 'C14446165': 2151, 'C1444663': 2152, 'C14446645': 2153, 'C14446689': 2154, 'C14447275': 2155, 'C14447715': 2156, 'C14449687': 2157, 'C14449893': 2158, 'C14449919': 2159, 'C14450211': 2160, 'C1445025': 2161, 'C14450611': 2162, 'C14450849': 2163, 'C14451066': 2164, 'C14451758': 2165, 'C14451865': 2166, 'C14453115': 2167, 'C14453494': 2168, 'C14454276': 2169, 'C14454396': 2170, 'C14454502': 2171, 'C14454611': 2172, 'C14455538': 2173, 'C14455623': 2174, 'C14456899': 2175, 'C14457343': 2176, 'C1445788': 2177, 'C14458298': 2178, 'C14460756': 2179, 'C14462678': 2180, 'C144628': 2181, 'C14463124': 2182, 'C14463302': 2183, 'C14463588': 2184, 'C14463751': 2185, 'C14464433': 2186, 'C14465304': 2187, 'C14465583': 2188, 'C14467532': 2189, 'C14467621': 2190, 'C14467840': 2191, 'C14468142': 2192, 'C14468618': 2193, 'C14469063': 2194, 'C14469218': 2195, 'C14469850': 2196, 'C1446993': 2197, 'C14471670': 2198, 'C1447184': 2199, 'C1447201': 2200, 'C14472025': 2201, 'C14472402': 2202, 'C14474171': 2203, 'C1447460': 2204, 'C14474948': 2205, 'C14475063': 2206, 'C14475872': 2207, 'C14476903': 2208, 'C14476933': 2209, 'C14477264': 2210, 'C1447771': 2211, 'C14477875': 2212, 'C14478078': 2213, 'C14479008': 2214, 'C1447923': 2215, 'C14479611': 2216, 'C14479641': 2217, 'C14480094': 2218, 'C14480142': 2219, 'C14481280': 2220, 'C14482549': 2221, 'C14483194': 2222, 'C1448399': 2223, 'C14484391': 2224, 'C14484825': 2225, 'C14485449': 2226, 'C14485469': 2227, 'C14485743': 2228, 'C14485914': 2229, 'C1448725': 2230, 'C14487611': 2231, 'C14487653': 2232, 'C1448824': 2233, 'C14488400': 2234, 'C1448869': 2235, 'C1449003': 2236, 'C14490817': 2237, 'C14491157': 2238, 'C14491834': 2239, 'C14492361': 2240, 'C14492634': 2241, 'C14492901': 2242, 'C14493': 2243, 'C14493818': 2244, 'C14495021': 2245, 'C14496065': 2246, 'C14496388': 2247, 'C14498494': 2248, 'C14499713': 2249, 'C14500103': 2250, 'C14501599': 2251, 'C14501748': 2252, 'C14502288': 2253, 'C14503135': 2254, 'C14504154': 2255, 'C1450447': 2256, 'C14504823': 2257, 'C14505286': 2258, 'C14506359': 2259, 'C14507346': 2260, 'C14507440': 2261, 'C14507576': 2262, 'C14507766': 2263, 'C14508264': 2264, 'C14508900': 2265, 'C14509139': 2266, 'C14510738': 2267, 'C14511276': 2268, 'C14512733': 2269, 'C14513643': 2270, 'C14513915': 2271, 'C14514342': 2272, 'C14515233': 2273, 'C14516733': 2274, 'C14516900': 2275, 'C14518232': 2276, 'C14518962': 2277, 'C14519558': 2278, 'C14521247': 2279, 'C14521317': 2280, 'C14521493': 2281, 'C14521587': 2282, 'C14521620': 2283, 'C14521738': 2284, 'C14521904': 2285, 'C14521932': 2286, 'C14521959': 2287, 'C1452346': 2288, 'C14523738': 2289, 'C14525118': 2290, 'C14525551': 2291, 'C14527635': 2292, 'C14529802': 2293, 'C14529883': 2294, 'C14530525': 2295, 'C14531658': 2296, 'C14531750': 2297, 'C14531840': 2298, 'C14532233': 2299, 'C14535843': 2300, 'C14536292': 2301, 'C14536945': 2302, 'C14537450': 2303, 'C14538663': 2304, 'C14538772': 2305, 'C14539498': 2306, 'C14539750': 2307, 'C14540893': 2308, 'C14541821': 2309, 'C14542153': 2310, 'C14542417': 2311, 'C1454327': 2312, 'C1454360': 2313, 'C14543683': 2314, 'C1454401': 2315, 'C14544909': 2316, 'C14545014': 2317, 'C14545033': 2318, 'C14545724': 2319, 'C14545835': 2320, 'C14547413': 2321, 'C14548382': 2322, 'C14548578': 2323, 'C14549950': 2324, 'C14550147': 2325, 'C1455247': 2326, 'C14554237': 2327, 'C14555248': 2328, 'C14555807': 2329, 'C14556798': 2330, 'C14557900': 2331, 'C14558479': 2332, 'C14558853': 2333, 'C14559592': 2334, 'C14559744': 2335, 'C14560691': 2336, 'C14560852': 2337, 'C14560965': 2338, 'C14561665': 2339, 'C1456257': 2340, 'C14564419': 2341, 'C14564604': 2342, 'C14564693': 2343, 'C14564990': 2344, 'C14565509': 2345, 'C14566865': 2346, 'C14567293': 2347, 'C14567773': 2348, 'C14568055': 2349, 'C14569271': 2350, 'C1456942': 2351, 'C14570394': 2352, 'C1457074': 2353, 'C14571682': 2354, 'C14572037': 2355, 'C14572577': 2356, 'C14572668': 2357, 'C14573690': 2358, 'C14574028': 2359, 'C14574085': 2360, 'C14574145': 2361, 'C14575097': 2362, 'C14575814': 2363, 'C14575915': 2364, 'C14576132': 2365, 'C14577127': 2366, 'C1457790': 2367, 'C14578071': 2368, 'C14578959': 2369, 'C14579286': 2370, 'C14579792': 2371, 'C1457987': 2372, 'C14580604': 2373, 'C14580970': 2374, 'C14582365': 2375, 'C14583740': 2376, 'C14584448': 2377, 'C14585488': 2378, 'C14585711': 2379, 'C14585791': 2380, 'C14586331': 2381, 'C14586431': 2382, 'C1458797': 2383, 'C14588245': 2384, 'C14588846': 2385, 'C14589585': 2386, 'C14590816': 2387, 'C1459182': 2388, 'C14591832': 2389, 'C14593098': 2390, 'C1459341': 2391, 'C14593755': 2392, 'C14594851': 2393, 'C14595218': 2394, 'C14596603': 2395, 'C14596906': 2396, 'C14598080': 2397, 'C14600301': 2398, 'C14601385': 2399, 'C14602507': 2400, 'C14604064': 2401, 'C14604389': 2402, 'C14604826': 2403, 'C14605119': 2404, 'C1460611': 2405, 'C14607838': 2406, 'C14608034': 2407, 'C14608771': 2408, 'C14608938': 2409, 'C14609141': 2410, 'C1460991': 2411, 'C1461046': 2412, 'C14611002': 2413, 'C14611794': 2414, 'C14612454': 2415, 'C14613661': 2416, 'C14613887': 2417, 'C14614135': 2418, 'C1461571': 2419, 'C14617335': 2420, 'C14617800': 2421, 'C14618333': 2422, 'C14618340': 2423, 'C14620345': 2424, 'C14620589': 2425, 'C14620698': 2426, 'C14621093': 2427, 'C14621586': 2428, 'C14622075': 2429, 'C14622797': 2430, 'C1462414': 2431, 'C14624155': 2432, 'C14624866': 2433, 'C14625216': 2434, 'C14626182': 2435, 'C14628323': 2436, 'C14628790': 2437, 'C14629758': 2438, 'C14630015': 2439, 'C14630903': 2440, 'C14631057': 2441, 'C14632472': 2442, 'C14632786': 2443, 'C14633993': 2444, 'C14634502': 2445, 'C14636102': 2446, 'C14636828': 2447, 'C14637424': 2448, 'C14638068': 2449, 'C14638931': 2450, 'C14639076': 2451, 'C14640419': 2452, 'C14641018': 2453, 'C14641247': 2454, 'C14642870': 2455, 'C14643018': 2456, 'C14643865': 2457, 'C14646383': 2458, 'C14647349': 2459, 'C14650286': 2460, 'C14651320': 2461, 'C14651774': 2462, 'C14652616': 2463, 'C14653635': 2464, 'C14654194': 2465, 'C14654520': 2466, 'C14654880': 2467, 'C14657716': 2468, 'C14657795': 2469, 'C14658004': 2470, 'C14658647': 2471, 'C14658924': 2472, 'C1465929': 2473, 'C14659394': 2474, 'C14660713': 2475, 'C1466083': 2476, 'C14662079': 2477, 'C1466219': 2478, 'C14662704': 2479, 'C14663097': 2480, 'C14663626': 2481, 'C14663890': 2482, 'C1466519': 2483, 'C14665926': 2484, 'C14666169': 2485, 'C14666440': 2486, 'C14666699': 2487, 'C14666958': 2488, 'C14669244': 2489, 'C14670372': 2490, 'C14670839': 2491, 'C14672647': 2492, 'C14673684': 2493, 'C14673835': 2494, 'C14674617': 2495, 'C14675357': 2496, 'C1467646': 2497, 'C14677702': 2498, 'C14677885': 2499, 'C14678002': 2500, 'C14679187': 2501, 'C14679760': 2502, 'C14679905': 2503, 'C14680229': 2504, 'C14680777': 2505, 'C14680969': 2506, 'C14681364': 2507, 'C14681507': 2508, 'C14681758': 2509, 'C14682019': 2510, 'C14682432': 2511, 'C14682696': 2512, 'C14683329': 2513, 'C14685205': 2514, 'C14685866': 2515, 'C14687879': 2516, 'C1468823': 2517, 'C1468857': 2518, 'C14688960': 2519, 'C14690790': 2520, 'C14692509': 2521, 'C14692817': 2522, 'C14693024': 2523, 'C14693342': 2524, 'C14693966': 2525, 'C14694073': 2526, 'C14694419': 2527, 'C14695007': 2528, 'C14695207': 2529, 'C14696852': 2530, 'C14698682': 2531, 'C14699392': 2532, 'C14701078': 2533, 'C14702500': 2534, 'C14703123': 2535, 'C1470356': 2536, 'C14704474': 2537, 'C14704792': 2538, 'C1470605': 2539, 'C14706398': 2540, 'C14706938': 2541, 'C14708088': 2542, 'C14708351': 2543, 'C14709402': 2544, 'C14709898': 2545, 'C14710240': 2546, 'C14711717': 2547, 'C14712098': 2548, 'C14712181': 2549, 'C14713050': 2550, 'C1471311': 2551, 'C14713210': 2552, 'C14714003': 2553, 'C14714158': 2554, 'C14714466': 2555, 'C14714491': 2556, 'C14714639': 2557, 'C14715190': 2558, 'C14715811': 2559, 'C14716120': 2560, 'C14717443': 2561, 'C14718225': 2562, 'C1471892': 2563, 'C14718924': 2564, 'C14719382': 2565, 'C1471939': 2566, 'C14719461': 2567, 'C14719660': 2568, 'C14725154': 2569, 'C14726133': 2570, 'C14726375': 2571, 'C14728103': 2572, 'C14728732': 2573, 'C14729500': 2574, 'C1472953': 2575, 'C14729876': 2576, 'C14731455': 2577, 'C14731788': 2578, 'C14733474': 2579, 'C14734949': 2580, 'C14736476': 2581, 'C14736963': 2582, 'C14737041': 2583, 'C14738408': 2584, 'C14738483': 2585, 'C14740170': 2586, 'C14740232': 2587, 'C14740323': 2588, 'C14740905': 2589, 'C14742011': 2590, 'C14742171': 2591, 'C14742231': 2592, 'C1474321': 2593, 'C1474333': 2594, 'C1474655': 2595, 'C14746755': 2596, 'C14747654': 2597, 'C14749544': 2598, 'C14749812': 2599, 'C14750198': 2600, 'C14751484': 2601, 'C14751550': 2602, 'C14751720': 2603, 'C14752937': 2604, 'C14753188': 2605, 'C14753264': 2606, 'C1475333': 2607, 'C14754303': 2608, 'C1475580': 2609, 'C14758364': 2610, 'C14759293': 2611, 'C14759809': 2612, 'C14760081': 2613, 'C14760271': 2614, 'C14760461': 2615, 'C14760609': 2616, 'C14760762': 2617, 'C14761028': 2618, 'C14761048': 2619, 'C14762034': 2620, 'C14762208': 2621, 'C14762354': 2622, 'C14762385': 2623, 'C1476251': 2624, 'C1476313': 2625, 'C14764733': 2626, 'C14764977': 2627, 'C14765501': 2628, 'C14766176': 2629, 'C1476675': 2630, 'C1476740': 2631, 'C14767739': 2632, 'C14767996': 2633, 'C14768998': 2634, 'C1476968': 2635, 'C14772539': 2636, 'C14773901': 2637, 'C14775262': 2638, 'C14777465': 2639, 'C14778064': 2640, 'C14778457': 2641, 'C14778865': 2642, 'C1477995': 2643, 'C14781073': 2644, 'C14782427': 2645, 'C14782606': 2646, 'C14782818': 2647, 'C14783374': 2648, 'C14785259': 2649, 'C14789255': 2650, 'C14790922': 2651, 'C1479117': 2652, 'C14792451': 2653, 'C14792607': 2654, 'C14794049': 2655, 'C14794082': 2656, 'C14794138': 2657, 'C14794354': 2658, 'C14794593': 2659, 'C14795685': 2660, 'C14795981': 2661, 'C14797829': 2662, 'C14798027': 2663, 'C1479858': 2664, 'C14798741': 2665, 'C14798788': 2666, 'C14800883': 2667, 'C14801108': 2668, 'C14802413': 2669, 'C14802672': 2670, 'C14802763': 2671, 'C14803919': 2672, 'C1480483': 2673, 'C14804871': 2674, 'C14805343': 2675, 'C14806198': 2676, 'C14808713': 2677, 'C14809077': 2678, 'C14809475': 2679, 'C14811288': 2680, 'C14811484': 2681, 'C14811995': 2682, 'C14812471': 2683, 'C14812841': 2684, 'C14813441': 2685, 'C14814230': 2686, 'C14815320': 2687, 'C14816695': 2688, 'C14817086': 2689, 'C14817746': 2690, 'C14817876': 2691, 'C1481814': 2692, 'C14819911': 2693, 'C14820183': 2694, 'C14820634': 2695, 'C14821357': 2696, 'C14821531': 2697, 'C14822143': 2698, 'C14822373': 2699, 'C14825078': 2700, 'C14825740': 2701, 'C14825807': 2702, 'C14829322': 2703, 'C14830512': 2704, 'C1483076': 2705, 'C14832043': 2706, 'C14832081': 2707, 'C1483273': 2708, 'C14833004': 2709, 'C14833466': 2710, 'C14834604': 2711, 'C14835386': 2712, 'C148363': 2713, 'C14836486': 2714, 'C14836876': 2715, 'C14837333': 2716, 'C14838344': 2717, 'C14840599': 2718, 'C14840636': 2719, 'C1484099': 2720, 'C14841732': 2721, 'C14844756': 2722, 'C14845022': 2723, 'C14847267': 2724, 'C14847479': 2725, 'C14847509': 2726, 'C14847819': 2727, 'C1484813': 2728, 'C14848370': 2729, 'C14849667': 2730, 'C14850351': 2731, 'C1485158': 2732, 'C14851963': 2733, 'C14852273': 2734, 'C14852285': 2735, 'C14852756': 2736, 'C14854839': 2737, 'C14856686': 2738, 'C1485708': 2739, 'C14858285': 2740, 'C14858434': 2741, 'C14859351': 2742, 'C14861126': 2743, 'C14861731': 2744, 'C14862625': 2745, 'C14862865': 2746, 'C14862978': 2747, 'C14863923': 2748, 'C14867112': 2749, 'C14867237': 2750, 'C14868164': 2751, 'C14868280': 2752, 'C14868916': 2753, 'C14869187': 2754, 'C14869800': 2755, 'C1486983': 2756, 'C14870186': 2757, 'C14871584': 2758, 'C14872009': 2759, 'C14872141': 2760, 'C14872971': 2761, 'C14876638': 2762, 'C14877793': 2763, 'C14878351': 2764, 'C14879233': 2765, 'C14881261': 2766, 'C14881291': 2767, 'C14881344': 2768, 'C14881412': 2769, 'C14881876': 2770, 'C14883305': 2771, 'C14883890': 2772, 'C14884071': 2773, 'C14884544': 2774, 'C14885284': 2775, 'C14886706': 2776, 'C14887194': 2777, 'C14887698': 2778, 'C14887826': 2779, 'C1488808': 2780, 'C14888900': 2781, 'C14890104': 2782, 'C1489082': 2783, 'C14891222': 2784, 'C14891630': 2785, 'C14892712': 2786, 'C14892806': 2787, 'C14892986': 2788, 'C14896183': 2789, 'C14896337': 2790, 'C14896845': 2791, 'C14897940': 2792, 'C14898266': 2793, 'C14898472': 2794, 'C14899022': 2795, 'C1489931': 2796, 'C1489986': 2797, 'C14900435': 2798, 'C14901159': 2799, 'C14901354': 2800, 'C14901440': 2801, 'C14901738': 2802, 'C14902737': 2803, 'C14903274': 2804, 'C14903703': 2805, 'C14904112': 2806, 'C14905495': 2807, 'C14905642': 2808, 'C14906008': 2809, 'C14906471': 2810, 'C14907335': 2811, 'C14907509': 2812, 'C14907530': 2813, 'C14908125': 2814, 'C14908798': 2815, 'C14909153': 2816, 'C14909696': 2817, 'C14909784': 2818, 'C14910465': 2819, 'C14910964': 2820, 'C14911264': 2821, 'C14911871': 2822, 'C14912064': 2823, 'C14912068': 2824, 'C14913249': 2825, 'C14913707': 2826, 'C14913750': 2827, 'C14914210': 2828, 'C14915301': 2829, 'C14916387': 2830, 'C14919252': 2831, 'C14919540': 2832, 'C14919778': 2833, 'C14920454': 2834, 'C14920743': 2835, 'C14921066': 2836, 'C14922512': 2837, 'C14923281': 2838, 'C14923879': 2839, 'C14924596': 2840, 'C14924695': 2841, 'C14924788': 2842, 'C14924789': 2843, 'C14924939': 2844, 'C14924975': 2845, 'C14925274': 2846, 'C14925367': 2847, 'C14925548': 2848, 'C14926027': 2849, 'C14926293': 2850, 'C1492679': 2851, 'C14926969': 2852, 'C14927220': 2853, 'C14928322': 2854, 'C14929353': 2855, 'C14929745': 2856, 'C14930827': 2857, 'C14931126': 2858, 'C1493178': 2859, 'C14932078': 2860, 'C14934242': 2861, 'C14934396': 2862, 'C14935177': 2863, 'C14936539': 2864, 'C14936656': 2865, 'C14938105': 2866, 'C14938702': 2867, 'C14939675': 2868, 'C14939748': 2869, 'C14939930': 2870, 'C14940454': 2871, 'C14940507': 2872, 'C14940744': 2873, 'C14941258': 2874, 'C1494154': 2875, 'C14944062': 2876, 'C14944843': 2877, 'C14945556': 2878, 'C1494561': 2879, 'C14945771': 2880, 'C14945887': 2881, 'C14945996': 2882, 'C14946809': 2883, 'C14947013': 2884, 'C14947018': 2885, 'C14950319': 2886, 'C14950805': 2887, 'C14951347': 2888, 'C14951421': 2889, 'C14951515': 2890, 'C14952021': 2891, 'C14952256': 2892, 'C14952876': 2893, 'C1495422': 2894, 'C14955721': 2895, 'C1495593': 2896, 'C14956307': 2897, 'C1495785': 2898, 'C14958122': 2899, 'C14958128': 2900, 'C14960919': 2901, 'C14961386': 2902, 'C14961534': 2903, 'C14962127': 2904, 'C14962245': 2905, 'C14963659': 2906, 'C14964336': 2907, 'C14964523': 2908, 'C14964656': 2909, 'C14965293': 2910, 'C14965451': 2911, 'C14965455': 2912, 'C14965520': 2913, 'C14966239': 2914, 'C14966675': 2915, 'C1496672': 2916, 'C14967262': 2917, 'C14967275': 2918, 'C14967644': 2919, 'C14968083': 2920, 'C14968681': 2921, 'C14968710': 2922, 'C14969096': 2923, 'C14970766': 2924, 'C14971338': 2925, 'C14973203': 2926, 'C14973243': 2927, 'C14973510': 2928, 'C14973660': 2929, 'C14973984': 2930, 'C14974530': 2931, 'C14974733': 2932, 'C14974960': 2933, 'C14975153': 2934, 'C14976449': 2935, 'C1497669': 2936, 'C14976804': 2937, 'C14977890': 2938, 'C14977968': 2939, 'C14978193': 2940, 'C14978462': 2941, 'C14978709': 2942, 'C14978936': 2943, 'C14979165': 2944, 'C14979375': 2945, 'C14980774': 2946, 'C14981320': 2947, 'C14981759': 2948, 'C14982049': 2949, 'C14983567': 2950, 'C14983885': 2951, 'C14985181': 2952, 'C1498626': 2953, 'C14986272': 2954, 'C14987247': 2955, 'C14988469': 2956, 'C1498962': 2957, 'C14989988': 2958, 'C14990295': 2959, 'C14991298': 2960, 'C14992440': 2961, 'C14993778': 2962, 'C14994469': 2963, 'C14995553': 2964, 'C14995944': 2965, 'C14997421': 2966, 'C14997905': 2967, 'C14998014': 2968, 'C14998403': 2969, 'C14998547': 2970, 'C14998602': 2971, 'C14999104': 2972, 'C14999130': 2973, 'C14999607': 2974, 'C15183442': 2975, 'C15218995': 2976, 'C15222818': 2977, 'C15410673': 2978, 'C15535044': 2979, 'C15574497': 2980, 'C15661068': 2981, 'C15871596': 2982, 'C16285168': 2983, 'C16299306': 2984, 'C16410673': 2985, 'C16535044': 2986, 'C16574497': 2987, 'C16598367': 2988, 'C16661068': 2989, 'C16842220': 2990, 'C1697580': 2991, 'C17100090': 2992, 'C17101994': 2993, 'C17107347': 2994, 'C1710774': 2995, 'C17114953': 2996, 'C1711517': 2997, 'C17115604': 2998, 'C17117061': 2999, 'C17119636': 3000, 'C17121393': 3001, 'C17122080': 3002, 'C17125398': 3003, 'C1713157': 3004, 'C17134933': 3005, 'C17136719': 3006, 'C17145463': 3007, 'C17145500': 3008, 'C17146018': 3009, 'C17146877': 3010, 'C17149885': 3011, 'C17149897': 3012, 'C17154258': 3013, 'C17154898': 3014, 'C17157716': 3015, 'C17158287': 3016, 'C17163325': 3017, 'C17167890': 3018, 'C17169572': 3019, 'C17171484': 3020, 'C17176202': 3021, 'C171779': 3022, 'C17179048': 3023, 'C17179508': 3024, 'C17180425': 3025, 'C17182931': 3026, 'C17185421': 3027, 'C17187445': 3028, 'C1718892': 3029, 'C17191362': 3030, 'C17192099': 3031, 'C17194561': 3032, 'C17195513': 3033, 'C17197004': 3034, 'C17202178': 3035, 'C17205169': 3036, 'C17205508': 3037, 'C17208259': 3038, 'C17210332': 3039, 'C17211113': 3040, 'C1721183': 3041, 'C17212726': 3042, 'C17214711': 3043, 'C17220952': 3044, 'C17221572': 3045, 'C1722630': 3046, 'C17230682': 3047, 'C17230854': 3048, 'C17232950': 3049, 'C17233195': 3050, 'C17236609': 3051, 'C17241267': 3052, 'C17242262': 3053, 'C17245082': 3054, 'C17245352': 3055, 'C17248109': 3056, 'C17248393': 3057, 'C17249185': 3058, 'C17252881': 3059, 'C17253324': 3060, 'C17258007': 3061, 'C17260803': 3062, 'C17266896': 3063, 'C17267466': 3064, 'C17274663': 3065, 'C17275983': 3066, 'C17277206': 3067, 'C17279794': 3068, 'C17280736': 3069, 'C17281465': 3070, 'C17285859': 3071, 'C17286688': 3072, 'C17287215': 3073, 'C17291456': 3074, 'C17292424': 3075, 'C17295592': 3076, 'C17302210': 3077, 'C17305625': 3078, 'C17307413': 3079, 'C17307918': 3080, 'C17311745': 3081, 'C17320290': 3082, 'C1732223': 3083, 'C17324158': 3084, 'C17326267': 3085, 'C1733053': 3086, 'C17331993': 3087, 'C17335698': 3088, 'C17335856': 3089, 'C17337991': 3090, 'C17342880': 3091, 'C17344868': 3092, 'C1734843': 3093, 'C17349535': 3094, 'C17352813': 3095, 'C1735313': 3096, 'C17353276': 3097, 'C17354204': 3098, 'C17354760': 3099, 'C17355151': 3100, 'C17356044': 3101, 'C17357065': 3102, 'C17357953': 3103, 'C17360099': 3104, 'C17362508': 3105, 'C17362568': 3106, 'C17364509': 3107, 'C17364904': 3108, 'C17367151': 3109, 'C17370792': 3110, 'C17378410': 3111, 'C17381584': 3112, 'C17387451': 3113, 'C17391976': 3114, 'C1739451': 3115, 'C17399513': 3116, 'C17401054': 3117, 'C17405436': 3118, 'C17409553': 3119, 'C17412470': 3120, 'C17415675': 3121, 'C17415953': 3122, 'C17417045': 3123, 'C17418581': 3124, 'C17422379': 3125, 'C1742253': 3126, 'C17423625': 3127, 'C174243': 3128, 'C1742447': 3129, 'C17426461': 3130, 'C17427454': 3131, 'C17429896': 3132, 'C17432248': 3133, 'C17434057': 3134, 'C17434191': 3135, 'C17435637': 3136, 'C17439018': 3137, 'C17442828': 3138, 'C17443142': 3139, 'C17445589': 3140, 'C17446649': 3141, 'C1744696': 3142, 'C1744727': 3143, 'C17447877': 3144, 'C17451756': 3145, 'C17455432': 3146, 'C17459420': 3147, 'C17459794': 3148, 'C17461721': 3149, 'C17465205': 3150, 'C17468067': 3151, 'C17468462': 3152, 'C17473554': 3153, 'C17477339': 3154, 'C17478399': 3155, 'C17483793': 3156, 'C17490182': 3157, 'C17492694': 3158, 'C17495140': 3159, 'C1750394': 3160, 'C1750600': 3161, 'C17511321': 3162, 'C17513181': 3163, 'C17516349': 3164, 'C1752036': 3165, 'C17521124': 3166, 'C17523529': 3167, 'C17524160': 3168, 'C17525643': 3169, 'C17525854': 3170, 'C17526761': 3171, 'C17527898': 3172, 'C17528541': 3173, 'C17529072': 3174, 'C17531810': 3175, 'C17532953': 3176, 'C17536167': 3177, 'C17539813': 3178, 'C17545337': 3179, 'C17545724': 3180, 'C17547233': 3181, 'C1755422': 3182, 'C17554883': 3183, 'C17558058': 3184, 'C17560451': 3185, 'C17564893': 3186, 'C17567475': 3187, 'C17568343': 3188, 'C17568939': 3189, 'C17569329': 3190, 'C1757246': 3191, 'C17573528': 3192, 'C17577114': 3193, 'C175773': 3194, 'C1757779': 3195, 'C17578594': 3196, 'C17581125': 3197, 'C1758372': 3198, 'C17584355': 3199, 'C17585235': 3200, 'C17586591': 3201, 'C17589594': 3202, 'C17589736': 3203, 'C17594452': 3204, 'C1759482': 3205, 'C17596259': 3206, 'C17597519': 3207, 'C17599561': 3208, 'C17599890': 3209, 'C17601156': 3210, 'C17602079': 3211, 'C17602144': 3212, 'C17608074': 3213, 'C17608712': 3214, 'C17609158': 3215, 'C17610456': 3216, 'C17611829': 3217, 'C17612547': 3218, 'C17627048': 3219, 'C17630784': 3220, 'C17631742': 3221, 'C17632524': 3222, 'C1763364': 3223, 'C17635526': 3224, 'C17638856': 3225, 'C17642831': 3226, 'C17644558': 3227, 'C17646025': 3228, 'C17646613': 3229, 'C17649550': 3230, 'C17651648': 3231, 'C17652494': 3232, 'C17652779': 3233, 'C17653501': 3234, 'C17655473': 3235, 'C17656477': 3236, 'C17658247': 3237, 'C17661068': 3238, 'C17667881': 3239, 'C17669068': 3240, 'C17673894': 3241, 'C17674104': 3242, 'C17677379': 3243, 'C17677783': 3244, 'C17679054': 3245, 'C1768026': 3246, 'C1768083': 3247, 'C17684623': 3248, 'C17687883': 3249, 'C17691068': 3250, 'C17693444': 3251, 'C17701628': 3252, 'C17702793': 3253, 'C17704788': 3254, 'C1770596': 3255, 'C17706102': 3256, 'C17709971': 3257, 'C17710945': 3258, 'C1771248': 3259, 'C17713473': 3260, 'C17724201': 3261, 'C17724801': 3262, 'C17729530': 3263, 'C17733': 3264, 'C17736213': 3265, 'C17736739': 3266, 'C17737591': 3267, 'C17737694': 3268, 'C17739167': 3269, 'C1773941': 3270, 'C17740979': 3271, 'C17746895': 3272, 'C17748189': 3273, 'C17754874': 3274, 'C17756805': 3275, 'C17762651': 3276, 'C17773970': 3277, 'C17774520': 3278, 'C17775932': 3279, 'C17777032': 3280, 'C1778172': 3281, 'C17782078': 3282, 'C17782807': 3283, 'C17784244': 3284, 'C17785768': 3285, 'C17786890': 3286, 'C17787982': 3287, 'C17788322': 3288, 'C17798709': 3289, 'C17798892': 3290, 'C17807885': 3291, 'C17808954': 3292, 'C17809206': 3293, 'C17809825': 3294, 'C17810127': 3295, 'C1781086': 3296, 'C17811406': 3297, 'C17815365': 3298, 'C17819124': 3299, 'C17823854': 3300, 'C1782501': 3301, 'C17825887': 3302, 'C17826443': 3303, 'C17827215': 3304, 'C17833311': 3305, 'C17835673': 3306, 'C17841082': 3307, 'C17845623': 3308, 'C17849051': 3309, 'C17853288': 3310, 'C17855572': 3311, 'C178567': 3312, 'C17857424': 3313, 'C17859406': 3314, 'C17860710': 3315, 'C17861824': 3316, 'C17867060': 3317, 'C178693': 3318, 'C17870381': 3319, 'C17871059': 3320, 'C17871503': 3321, 'C17872081': 3322, 'C17872321': 3323, 'C17874360': 3324, 'C17879813': 3325, 'C17879992': 3326, 'C17883071': 3327, 'C17886527': 3328, 'C17888697': 3329, 'C17890815': 3330, 'C17891971': 3331, 'C17893068': 3332, 'C17893229': 3333, 'C17897252': 3334, 'C1790107': 3335, 'C17903885': 3336, 'C17904044': 3337, 'C17904627': 3338, 'C17905173': 3339, 'C17907042': 3340, 'C1790846': 3341, 'C17912600': 3342, 'C17912693': 3343, 'C17917102': 3344, 'C1791888': 3345, 'C17919216': 3346, 'C17927343': 3347, 'C17929216': 3348, 'C17931409': 3349, 'C17931569': 3350, 'C17932105': 3351, 'C17937811': 3352, 'C17938441': 3353, 'C17939470': 3354, 'C17944456': 3355, 'C17951642': 3356, 'C17957003': 3357, 'C17958749': 3358, 'C17958830': 3359, 'C17959369': 3360, 'C17959870': 3361, 'C17965403': 3362, 'C17969761': 3363, 'C17974306': 3364, 'C17975770': 3365, 'C17978934': 3366, 'C17988292': 3367, 'C17989093': 3368, 'C1799114': 3369, 'C17991491': 3370, 'C17992792': 3371, 'C17995634': 3372, 'C18197079': 3373, 'C18397134': 3374, 'C18562409': 3375, 'C18652019': 3376, 'C19101403': 3377, 'C19103707': 3378, 'C19113210': 3379, 'C19114386': 3380, 'C19132666': 3381, 'C19135847': 3382, 'C19137260': 3383, 'C19140883': 3384, 'C191561': 3385, 'C19167616': 3386, 'C19210183': 3387, 'C19221060': 3388, 'C19237135': 3389, 'C19256829': 3390, 'C19257365': 3391, 'C193086': 3392, 'C19311583': 3393, 'C19352577': 3394, 'C1935313': 3395, 'C19356187': 3396, 'C19357065': 3397, 'C19381138': 3398, 'C19396892': 3399, 'C19402927': 3400, 'C19409665': 3401, 'C19410218': 3402, 'C19418877': 3403, 'C19507102': 3404, 'C19512367': 3405, 'C19519209': 3406, 'C19524611': 3407, 'C19535714': 3408, 'C19585072': 3409, 'C19593463': 3410, 'C19594958': 3411, 'C19597519': 3412, 'C196076': 3413, 'C19611829': 3414, 'C19617540': 3415, 'C19619093': 3416, 'C19631090': 3417, 'C19641561': 3418, 'C1965848': 3419, 'C19690273': 3420, 'C19695644': 3421, 'C19701195': 3422, 'C19747590': 3423, 'C1974867': 3424, 'C19769503': 3425, 'C197859': 3426, 'C19811406': 3427, 'C19818522': 3428, 'C19838237': 3429, 'C19846511': 3430, 'C19852228': 3431, 'C19863163': 3432, 'C19879505': 3433, 'C19915962': 3434, 'C19924835': 3435, 'C19934220': 3436, 'C19967451': 3437, 'C19974597': 3438, 'C19977263': 3439, 'C20105818': 3440, 'C20123983': 3441, 'C20141632': 3442, 'C20150339': 3443, 'C20155166': 3444, 'C20158306': 3445, 'C20158983': 3446, 'C20160407': 3447, 'C20162433': 3448, 'C20164603': 3449, 'C20166758': 3450, 'C20176339': 3451, 'C20182188': 3452, 'C20187244': 3453, 'C20191784': 3454, 'C20193030': 3455, 'C20199363': 3456, 'C20202092': 3457, 'C20202628': 3458, 'C20203768': 3459, 'C2020790': 3460, 'C20212304': 3461, 'C20213411': 3462, 'C20245104': 3463, 'C20250936': 3464, 'C20255294': 3465, 'C20259507': 3466, 'C20280268': 3467, 'C20280813': 3468, 'C20287745': 3469, 'C20289294': 3470, 'C20289735': 3471, 'C20289824': 3472, 'C20306956': 3473, 'C20310385': 3474, 'C20310951': 3475, 'C20314892': 3476, 'C20320909': 3477, 'C20323148': 3478, 'C20334282': 3479, 'C20338111': 3480, 'C20339809': 3481, 'C20343573': 3482, 'C20357065': 3483, 'C20360252': 3484, 'C20360609': 3485, 'C20378135': 3486, 'C20384193': 3487, 'C20386200': 3488, 'C20386446': 3489, 'C20395666': 3490, 'C20399849': 3491, 'C20402572': 3492, 'C20407372': 3493, 'C20409955': 3494, 'C20411748': 3495, 'C20427946': 3496, 'C20429575': 3497, 'C20430146': 3498, 'C20435054': 3499, 'C20441719': 3500, 'C20455371': 3501, 'C2045545': 3502, 'C20462789': 3503, 'C20464157': 3504, 'C20464892': 3505, 'C20466701': 3506, 'C20466877': 3507, 'C20475381': 3508, 'C2047841': 3509, 'C20478593': 3510, 'C2048119': 3511, 'C20481386': 3512, 'C20483568': 3513, 'C20497801': 3514, 'C20498818': 3515, 'C20499032': 3516, 'C20499217': 3517, 'C20507523': 3518, 'C2051441': 3519, 'C20531931': 3520, 'C20533075': 3521, 'C2053406': 3522, 'C20544716': 3523, 'C20549244': 3524, 'C20558834': 3525, 'C20566068': 3526, 'C2057699': 3527, 'C20580439': 3528, 'C20591207': 3529, 'C20592005': 3530, 'C20594182': 3531, 'C20602339': 3532, 'C20608224': 3533, 'C20612318': 3534, 'C20612615': 3535, 'C20618075': 3536, 'C20622530': 3537, 'C20627597': 3538, 'C20633691': 3539, 'C20638850': 3540, 'C20696605': 3541, 'C20712300': 3542, 'C20720768': 3543, 'C20729563': 3544, 'C20734569': 3545, 'C20740388': 3546, 'C20740717': 3547, 'C20744099': 3548, 'C2074492': 3549, 'C20752228': 3550, 'C20753315': 3551, 'C20762156': 3552, 'C20767790': 3553, 'C20774109': 3554, 'C20779977': 3555, 'C207921': 3556, 'C20800551': 3557, 'C20802246': 3558, 'C20808031': 3559, 'C20809286': 3560, 'C20813122': 3561, 'C20831636': 3562, 'C208392': 3563, 'C2084182': 3564, 'C20843860': 3565, 'C2085257': 3566, 'C20852926': 3567, 'C20881727': 3568, 'C20887341': 3569, 'C20888119': 3570, 'C20890918': 3571, 'C20892809': 3572, 'C20908726': 3573, 'C20909595': 3574, 'C20911472': 3575, 'C20919209': 3576, 'C20930463': 3577, 'C20941271': 3578, 'C20944629': 3579, 'C20951307': 3580, 'C20960476': 3581, 'C2096254': 3582, 'C20968751': 3583, 'C20978173': 3584, 'C20982400': 3585, 'C20995280': 3586, 'C20997681': 3587, 'C21100090': 3588, 'C21102960': 3589, 'C21104394': 3590, 'C21125946': 3591, 'C21154755': 3592, 'C21156646': 3593, 'C2118559': 3594, 'C2121346': 3595, 'C21221795': 3596, 'C21224730': 3597, 'C21241444': 3598, 'C21243778': 3599, 'C21255230': 3600, 'C21256829': 3601, 'C21285168': 3602, 'C21288704': 3603, 'C21344179': 3604, 'C2135516': 3605, 'C21357065': 3606, 'C21377538': 3607, 'C2137813': 3608, 'C21393858': 3609, 'C21398735': 3610, 'C21412291': 3611, 'C2146459': 3612, 'C21518006': 3613, 'C2152247': 3614, 'C21543548': 3615, 'C21546682': 3616, 'C21562409': 3617, 'C21595094': 3618, 'C21598367': 3619, 'C2159953': 3620, 'C21614434': 3621, 'C2163743': 3622, 'C21641561': 3623, 'C21656287': 3624, 'C2166827': 3625, 'C2167320': 3626, 'C2168026': 3627, 'C21695644': 3628, 'C21695719': 3629, 'C21702006': 3630, 'C21718147': 3631, 'C21718695': 3632, 'C21735878': 3633, 'C21738202': 3634, 'C21751604': 3635, 'C21796690': 3636, 'C21818522': 3637, 'C21822727': 3638, 'C21838237': 3639, 'C21845176': 3640, 'C21846946': 3641, 'C21859755': 3642, 'C21901090': 3643, 'C21902250': 3644, 'C21931439': 3645, 'C21944777': 3646, 'C21978904': 3647, 'weekday197079': 3648, 'weekday33435': 3649, 'weekday337987': 3650, 'weekday34065': 3651, 'weekday397134': 3652, 'weekday562409': 3653, 'weekday652019': 3654, 'user117652': 3655, 'user139491': 3656, 'user163119': 3657, 'user192838': 3658, 'user227616': 3659, 'user245217': 3660, 'user268351': 3661, 'user269859': 3662, 'user318635': 3663, 'user331335': 3664, 'user357065': 3665, 'user358527': 3666, 'user36712': 3667, 'user382749': 3668, 'user407050': 3669, 'user43011': 3670, 'user461233': 3671, 'user505193': 3672, 'user52022': 3673, 'user544666': 3674, 'user658142': 3675, 'user681733': 3676, 'user698924': 3677, 'user700050': 3678, 'user700466': 3679, 'user7289': 3680, 'user774265': 3681, 'user797946': 3682, 'user816865': 3683, 'user817425': 3684, 'user829115': 3685, 'user944904': 3686, 'user977251': 3687, 'user981173': 3688}\n"
          ],
          "name": "stdout"
        }
      ]
    },
    {
      "cell_type": "markdown",
      "metadata": {
        "id": "qS4cP1SgIIWd",
        "colab_type": "text"
      },
      "source": [
        "We build dataframe from dicFeat as follows:\n",
        "in each \"col\" column, the value \"x\" is replaced by the string \"f: v: 1\", where f is the field associated with the column and v is the index of the modality x.\n",
        "<font color=\"red\">\n",
        "Study the following code</font>"
      ]
    },
    {
      "cell_type": "code",
      "metadata": {
        "id": "FLXawWuYIIWd",
        "colab_type": "code",
        "colab": {
          "base_uri": "https://localhost:8080/",
          "height": 241
        },
        "outputId": "2d251e6f-c02e-4285-8f65-d6bcb4e5c35d"
      },
      "source": [
        "print(allcols_ffm)\n",
        "for col in allcols_ffm:\n",
        "    f = dicFields[col]\n",
        "    Xtrain_ffm[col] = Xtrain_ffm[col].apply(lambda x:\"{}:{}:1\".format(f,dicFeat[x]) if x in dicFeat else \"\")\n",
        "    Xtest_ffm[col] = Xtest_ffm[col].apply(lambda x:\"{}:{}:1\".format(f,dicFeat[x]) if x in dicFeat else \"\")\n",
        "Xtrain_ffm.head()"
      ],
      "execution_count": 86,
      "outputs": [
        {
          "output_type": "stream",
          "text": [
            "['hour', 'C1', 'banner_pos', 'site_category', 'app_id', 'app_domain', 'app_category', 'site', 'device_type', 'device_conn_type', 'C14', 'C15', 'C16', 'C17', 'C18', 'C19', 'C20', 'C21', 'weekday', 'user']\n"
          ],
          "name": "stdout"
        },
        {
          "output_type": "execute_result",
          "data": {
            "text/html": [
              "<div>\n",
              "<style scoped>\n",
              "    .dataframe tbody tr th:only-of-type {\n",
              "        vertical-align: middle;\n",
              "    }\n",
              "\n",
              "    .dataframe tbody tr th {\n",
              "        vertical-align: top;\n",
              "    }\n",
              "\n",
              "    .dataframe thead th {\n",
              "        text-align: right;\n",
              "    }\n",
              "</style>\n",
              "<table border=\"1\" class=\"dataframe\">\n",
              "  <thead>\n",
              "    <tr style=\"text-align: right;\">\n",
              "      <th></th>\n",
              "      <th>hour</th>\n",
              "      <th>C1</th>\n",
              "      <th>banner_pos</th>\n",
              "      <th>site_category</th>\n",
              "      <th>app_id</th>\n",
              "      <th>app_domain</th>\n",
              "      <th>app_category</th>\n",
              "      <th>device_type</th>\n",
              "      <th>device_conn_type</th>\n",
              "      <th>C14</th>\n",
              "      <th>C15</th>\n",
              "      <th>C16</th>\n",
              "      <th>C17</th>\n",
              "      <th>C18</th>\n",
              "      <th>C19</th>\n",
              "      <th>C20</th>\n",
              "      <th>C21</th>\n",
              "      <th>weekday</th>\n",
              "      <th>user</th>\n",
              "      <th>site</th>\n",
              "    </tr>\n",
              "  </thead>\n",
              "  <tbody>\n",
              "    <tr>\n",
              "      <th>92438</th>\n",
              "      <td>0:14:1</td>\n",
              "      <td>0:25:1</td>\n",
              "      <td>1:36:1</td>\n",
              "      <td>1:55:1</td>\n",
              "      <td>1:353:1</td>\n",
              "      <td>1:680:1</td>\n",
              "      <td>1:727:1</td>\n",
              "      <td>2:1631:1</td>\n",
              "      <td>2:1635:1</td>\n",
              "      <td>2:1800:1</td>\n",
              "      <td>2:2980:1</td>\n",
              "      <td>2:2984:1</td>\n",
              "      <td>2:3133:1</td>\n",
              "      <td>2:3376:1</td>\n",
              "      <td>2:3390:1</td>\n",
              "      <td>2:3545:1</td>\n",
              "      <td>2:3596:1</td>\n",
              "      <td>3:3654:1</td>\n",
              "      <td>3:3665:1</td>\n",
              "      <td>1:1112:1</td>\n",
              "    </tr>\n",
              "    <tr>\n",
              "      <th>60898</th>\n",
              "      <td>0:3:1</td>\n",
              "      <td>0:28:1</td>\n",
              "      <td>1:37:1</td>\n",
              "      <td>1:55:1</td>\n",
              "      <td>1:477:1</td>\n",
              "      <td>1:689:1</td>\n",
              "      <td>1:725:1</td>\n",
              "      <td>2:1633:1</td>\n",
              "      <td>2:1637:1</td>\n",
              "      <td>2:1800:1</td>\n",
              "      <td>2:2980:1</td>\n",
              "      <td>2:2984:1</td>\n",
              "      <td>2:3133:1</td>\n",
              "      <td>2:3376:1</td>\n",
              "      <td>2:3390:1</td>\n",
              "      <td>2:3545:1</td>\n",
              "      <td>2:3596:1</td>\n",
              "      <td>3:3653:1</td>\n",
              "      <td>3:3665:1</td>\n",
              "      <td>1:1112:1</td>\n",
              "    </tr>\n",
              "    <tr>\n",
              "      <th>556199</th>\n",
              "      <td>0:8:1</td>\n",
              "      <td>0:28:1</td>\n",
              "      <td>1:37:1</td>\n",
              "      <td>1:38:1</td>\n",
              "      <td>1:267:1</td>\n",
              "      <td>1:680:1</td>\n",
              "      <td>1:724:1</td>\n",
              "      <td>2:1633:1</td>\n",
              "      <td>2:1637:1</td>\n",
              "      <td>2:2244:1</td>\n",
              "      <td>2:2980:1</td>\n",
              "      <td>2:2984:1</td>\n",
              "      <td>2:3262:1</td>\n",
              "      <td>2:3376:1</td>\n",
              "      <td>2:3421:1</td>\n",
              "      <td>2:3545:1</td>\n",
              "      <td>2:3616:1</td>\n",
              "      <td>3:3654:1</td>\n",
              "      <td>3:3676:1</td>\n",
              "      <td>1:1497:1</td>\n",
              "    </tr>\n",
              "    <tr>\n",
              "      <th>193129</th>\n",
              "      <td>0:21:1</td>\n",
              "      <td>0:28:1</td>\n",
              "      <td>1:36:1</td>\n",
              "      <td>1:38:1</td>\n",
              "      <td>1:267:1</td>\n",
              "      <td>1:680:1</td>\n",
              "      <td>1:724:1</td>\n",
              "      <td>2:1633:1</td>\n",
              "      <td>2:1638:1</td>\n",
              "      <td>2:2943:1</td>\n",
              "      <td>2:2980:1</td>\n",
              "      <td>2:2984:1</td>\n",
              "      <td>2:3360:1</td>\n",
              "      <td>2:3376:1</td>\n",
              "      <td>2:3401:1</td>\n",
              "      <td>2:3456:1</td>\n",
              "      <td>2:3593:1</td>\n",
              "      <td>3:3653:1</td>\n",
              "      <td>3:3676:1</td>\n",
              "      <td>1:1606:1</td>\n",
              "    </tr>\n",
              "    <tr>\n",
              "      <th>231985</th>\n",
              "      <td>0:1:1</td>\n",
              "      <td>0:28:1</td>\n",
              "      <td>1:37:1</td>\n",
              "      <td>1:41:1</td>\n",
              "      <td>1:267:1</td>\n",
              "      <td>1:680:1</td>\n",
              "      <td>1:724:1</td>\n",
              "      <td>2:1633:1</td>\n",
              "      <td>2:1638:1</td>\n",
              "      <td>2:2797:1</td>\n",
              "      <td>2:2980:1</td>\n",
              "      <td>2:2984:1</td>\n",
              "      <td>2:3133:1</td>\n",
              "      <td>2:3376:1</td>\n",
              "      <td>2:3390:1</td>\n",
              "      <td>2:3465:1</td>\n",
              "      <td>2:3596:1</td>\n",
              "      <td>3:3651:1</td>\n",
              "      <td>3:3676:1</td>\n",
              "      <td>1:1485:1</td>\n",
              "    </tr>\n",
              "  </tbody>\n",
              "</table>\n",
              "</div>"
            ],
            "text/plain": [
              "          hour      C1 banner_pos  ...   weekday      user      site\n",
              "92438   0:14:1  0:25:1     1:36:1  ...  3:3654:1  3:3665:1  1:1112:1\n",
              "60898    0:3:1  0:28:1     1:37:1  ...  3:3653:1  3:3665:1  1:1112:1\n",
              "556199   0:8:1  0:28:1     1:37:1  ...  3:3654:1  3:3676:1  1:1497:1\n",
              "193129  0:21:1  0:28:1     1:36:1  ...  3:3653:1  3:3676:1  1:1606:1\n",
              "231985   0:1:1  0:28:1     1:37:1  ...  3:3651:1  3:3676:1  1:1485:1\n",
              "\n",
              "[5 rows x 20 columns]"
            ]
          },
          "metadata": {
            "tags": []
          },
          "execution_count": 86
        }
      ]
    },
    {
      "cell_type": "markdown",
      "metadata": {
        "id": "O8jnU8x8IIWe",
        "colab_type": "text"
      },
      "source": [
        "<font color=\"red\">For the two resulting dataframes, concatenate on the left the corresponding ytrain (or ytest) click column</font>"
      ]
    },
    {
      "cell_type": "code",
      "metadata": {
        "id": "6vVXBrtVIIWe",
        "colab_type": "code",
        "colab": {}
      },
      "source": [
        "yXtrain_ffm = pd.concat([ytrain, Xtrain_ffm], axis=1)\n",
        "yXtest_ffm = pd.concat([ytest, Xtest_ffm], axis=1)"
      ],
      "execution_count": 0,
      "outputs": []
    },
    {
      "cell_type": "markdown",
      "metadata": {
        "id": "2yKP8AdSIIWf",
        "colab_type": "text"
      },
      "source": [
        "<font color=\"red\">What does the following cell produce?</font>"
      ]
    },
    {
      "cell_type": "code",
      "metadata": {
        "id": "vlCgqefuIIWg",
        "colab_type": "code",
        "colab": {
          "base_uri": "https://localhost:8080/",
          "height": 51
        },
        "outputId": "77038ee7-b5d4-4b81-c152-f7b3ea344476"
      },
      "source": [
        "train_w = yXtrain_ffm.apply(lambda row:' '.join(map(str, row.values)),axis=1).values\n",
        "test_w = yXtest_ffm.apply(lambda row:' '.join(map(str, row.values)),axis=1).values\n",
        "print(train_w.shape)\n",
        "print(test_w.shape)"
      ],
      "execution_count": 88,
      "outputs": [
        {
          "output_type": "stream",
          "text": [
            "(900000,)\n",
            "(100000,)\n"
          ],
          "name": "stdout"
        }
      ]
    },
    {
      "cell_type": "code",
      "metadata": {
        "id": "BhJ48ZplVL2e",
        "colab_type": "code",
        "colab": {
          "base_uri": "https://localhost:8080/",
          "height": 34
        },
        "outputId": "276a4bbb-0eaf-4628-905d-f1f786b1b61d"
      },
      "source": [
        "!pwd"
      ],
      "execution_count": 90,
      "outputs": [
        {
          "output_type": "stream",
          "text": [
            "/content/gdrive/My Drive/Colab Notebooks/tp_avazu/tp_avazu/notebooks\n"
          ],
          "name": "stdout"
        }
      ]
    },
    {
      "cell_type": "markdown",
      "metadata": {
        "id": "7VI0cKgcIIWm",
        "colab_type": "text"
      },
      "source": [
        "<font color=\"red\">Write the above dataframe in a text file</font>"
      ]
    },
    {
      "cell_type": "code",
      "metadata": {
        "id": "fdJFgYQuIIWo",
        "colab_type": "code",
        "colab": {}
      },
      "source": [
        "#Uncomment the first line if you are in the root directory\n",
        "#We need to be in the notebooks directory\n",
        "\n",
        "#os.chdir(os.path.join(root_path, 'notebooks'))\n",
        "#os.chdir('notebooks')\n",
        "\n",
        "thefile = open('train.txt','w')\n",
        "for item in train_w:\n",
        "    thefile.write(\"%s\\n\" % item)\n",
        "thefile.close()\n",
        "\n",
        "thefile = open('test.txt','w')\n",
        "for item in test_w:\n",
        "    thefile.write(\"%s\\n\" % item)\n",
        "thefile.close()"
      ],
      "execution_count": 0,
      "outputs": []
    },
    {
      "cell_type": "markdown",
      "metadata": {
        "id": "h5b_f5TugqTc",
        "colab_type": "text"
      },
      "source": [
        "For an unknown reason the Google Colab machine stopped to run the executables after allowing it, so I did every fit and prediction of FFM models on my own laptop."
      ]
    },
    {
      "cell_type": "markdown",
      "metadata": {
        "id": "Z3-j2EGuIIWo",
        "colab_type": "text"
      },
      "source": [
        "To learn the FFM model, we use the LibFFM library https://www.csie.ntu.edu.tw/~cjlin/libffm/\n",
        "In the notebooks / directory there are two executables: ffm-train and ffm-predict.\n",
        "In jupyter notebook, the exclamation point! allows to launch a bash command.\n",
        "The use is as follows:\n",
        "\n",
        "-   `ffm-train'\n",
        "\n",
        "    usage: ffm-train [options] training_set_file [model_file]\n",
        "\n",
        "    options:  \n",
        "    -l <lambda>: set regularization parameter (default 0.00002)  \n",
        "    -k <factor>: set number of latent factors (default 4)  \n",
        "    -t <iteration>: set number of iterations (default 15)  \n",
        "    -r <eta>: set learning rate (default 0.2)  \n",
        "    -s <nr_threads>: set number of threads (default 1)  \n",
        "    -p <path>: set path to the validation set  \n",
        "    --quiet: quiet model (no output)  \n",
        "    --no-norm: disable instance-wise normalization  \n",
        "    --auto-stop: stop at the iteration that achieves the best validation loss (must be used with -p)  \n",
        "<br>\n",
        "<font color=\"red\">Learn the model. We can :\n",
        "- use an regularizer of 0.00001\n",
        "- use a learning rate of 0.05\n",
        "- use of the order of 15 latent factors\n",
        "- carry out the order of 30 iterations\n",
        "- with the -p option, change the test file to validation parameters\n",
        "- activate the --autostop mode\n",
        "</font> "
      ]
    },
    {
      "cell_type": "code",
      "metadata": {
        "id": "zgFB_Wz7IIWp",
        "colab_type": "code",
        "colab": {}
      },
      "source": [
        "!chmod u+x ./ffm-t"
      ],
      "execution_count": 0,
      "outputs": []
    },
    {
      "cell_type": "code",
      "metadata": {
        "id": "rNbXAMEzYzwm",
        "colab_type": "code",
        "colab": {}
      },
      "source": [
        "!./ffm-t -l 0.00001 -r 0.05 -k 15 -t 30 -p test.txt --auto-stop train.txt model.ffm"
      ],
      "execution_count": 0,
      "outputs": []
    },
    {
      "cell_type": "markdown",
      "metadata": {
        "id": "ksgNKsj8IIWs",
        "colab_type": "text"
      },
      "source": [
        "The use of ffm-predict is: ffm-predict filename-test file-name-model file-in-which-write-the-prediction \n",
        "<font color=\"red\">Perform the prediction</font>"
      ]
    },
    {
      "cell_type": "code",
      "metadata": {
        "id": "8J6KBW8OIIWs",
        "colab_type": "code",
        "colab": {}
      },
      "source": [
        "!chmod u+x ./ffm-pre\n",
        "! ./ffm-pre test.txt model.ffm test-predicted.txt"
      ],
      "execution_count": 0,
      "outputs": []
    },
    {
      "cell_type": "markdown",
      "metadata": {
        "id": "pp02SsNnIIWt",
        "colab_type": "text"
      },
      "source": [
        "<font color=\"red\">Compute the log_loss and area under the roc curve (ROC AUC).</font>"
      ]
    },
    {
      "cell_type": "code",
      "metadata": {
        "id": "nFFrqJyZIIWu",
        "colab_type": "code",
        "colab": {
          "base_uri": "https://localhost:8080/",
          "height": 34
        },
        "outputId": "89ca5a73-964d-4a29-e580-7bfb1f035169"
      },
      "source": [
        "soft = pd.read_csv('test-predicted.txt', header=None)\n",
        "log_loss(ytest, soft), roc_auc_score(ytest, soft)"
      ],
      "execution_count": 116,
      "outputs": [
        {
          "output_type": "execute_result",
          "data": {
            "text/plain": [
              "(0.396455469313833, 0.7488228167561424)"
            ]
          },
          "metadata": {
            "tags": []
          },
          "execution_count": 116
        }
      ]
    },
    {
      "cell_type": "markdown",
      "metadata": {
        "collapsed": true,
        "colab_type": "text",
        "id": "vqR8fOOBOqxx"
      },
      "source": [
        "# Blending"
      ]
    },
    {
      "cell_type": "markdown",
      "metadata": {
        "colab_type": "text",
        "id": "7-3iP_FwOqxw"
      },
      "source": [
        "<font color=\"red\">\n",
        "Split Xtrain in two: Xtrain_meth and Xtrain_blend.</font>"
      ]
    },
    {
      "cell_type": "code",
      "metadata": {
        "colab_type": "code",
        "id": "VOz5fHUgOqxr",
        "colab": {}
      },
      "source": [
        "Xtrain_meth, Xtrain_blend, ytrain_meth, ytrain_blend = train_test_split(Xtrain,ytrain,test_size=0.2)"
      ],
      "execution_count": 0,
      "outputs": []
    },
    {
      "cell_type": "markdown",
      "metadata": {
        "collapsed": true,
        "colab_type": "text",
        "id": "taRGY6UDOqxq"
      },
      "source": [
        "<font color=\"red\">\n",
        "Train a logistic regression on XTrain_meth. Then compute its score on Xtrain_blend and save the score in a vector.</font>"
      ]
    },
    {
      "cell_type": "code",
      "metadata": {
        "colab_type": "code",
        "id": "iLZ9eMbEOqxo",
        "colab": {
          "base_uri": "https://localhost:8080/",
          "height": 71
        },
        "outputId": "1bda2659-e28d-40a0-a3e4-ae2aabc29bcf"
      },
      "source": [
        "#Let's encode the dataset and perform the logistic regression\n",
        "lr = LogisticRegression()\n",
        "ohe = OneHotEncoder(handle_unknown='ignore')\n",
        "\n",
        "Xtrain_meth_oh = ohe.fit_transform(Xtrain_meth)\n",
        "Xtrain_blend_oh = ohe.transform(Xtrain_blend)\n",
        "Xtest_oh = ohe.transform(Xtest)\n",
        "\n",
        "lr.fit(Xtrain_meth_oh, ytrain_meth)\n",
        "soft_log_reg = lr.predict_proba(Xtrain_blend_oh)\n",
        "soft_log_reg_test = lr.predict_proba(Xtest_oh)"
      ],
      "execution_count": 118,
      "outputs": [
        {
          "output_type": "stream",
          "text": [
            "/usr/local/lib/python3.6/dist-packages/sklearn/linear_model/logistic.py:432: FutureWarning: Default solver will be changed to 'lbfgs' in 0.22. Specify a solver to silence this warning.\n",
            "  FutureWarning)\n"
          ],
          "name": "stderr"
        }
      ]
    },
    {
      "cell_type": "markdown",
      "metadata": {
        "colab_type": "text",
        "id": "dENR18QvOqxn"
      },
      "source": [
        "<font color=\"red\">\n",
        "Do the same thing with XGBoost (save the score).</font>"
      ]
    },
    {
      "cell_type": "code",
      "metadata": {
        "colab_type": "code",
        "id": "8H4Z6I86Oqxl",
        "colab": {
          "base_uri": "https://localhost:8080/",
          "height": 1000
        },
        "outputId": "c5fcba01-fb72-4089-9065-18c369dbf115"
      },
      "source": [
        "xgb = XGBClassifier(learning_rate=0.8 , n_estimators=256 , n_jobs=-1 , verbosity=2)\n",
        "%time xgb.fit(Xtrain_meth_oh, ytrain_meth)\n",
        "soft_xgb = xgb.predict_proba(Xtrain_blend_oh)\n",
        "soft_xgb_test = xgb.predict_proba(Xtest_oh)"
      ],
      "execution_count": 119,
      "outputs": [
        {
          "output_type": "stream",
          "text": [
            "[14:41:22] INFO: /workspace/src/tree/updater_prune.cc:74: tree pruning end, 1 roots, 14 extra nodes, 0 pruned nodes, max_depth=3\n",
            "[14:41:23] INFO: /workspace/src/tree/updater_prune.cc:74: tree pruning end, 1 roots, 14 extra nodes, 0 pruned nodes, max_depth=3\n",
            "[14:41:23] INFO: /workspace/src/tree/updater_prune.cc:74: tree pruning end, 1 roots, 14 extra nodes, 0 pruned nodes, max_depth=3\n",
            "[14:41:23] INFO: /workspace/src/tree/updater_prune.cc:74: tree pruning end, 1 roots, 14 extra nodes, 0 pruned nodes, max_depth=3\n",
            "[14:41:24] INFO: /workspace/src/tree/updater_prune.cc:74: tree pruning end, 1 roots, 14 extra nodes, 0 pruned nodes, max_depth=3\n",
            "[14:41:24] INFO: /workspace/src/tree/updater_prune.cc:74: tree pruning end, 1 roots, 12 extra nodes, 0 pruned nodes, max_depth=3\n",
            "[14:41:25] INFO: /workspace/src/tree/updater_prune.cc:74: tree pruning end, 1 roots, 12 extra nodes, 0 pruned nodes, max_depth=3\n",
            "[14:41:25] INFO: /workspace/src/tree/updater_prune.cc:74: tree pruning end, 1 roots, 8 extra nodes, 0 pruned nodes, max_depth=3\n",
            "[14:41:25] INFO: /workspace/src/tree/updater_prune.cc:74: tree pruning end, 1 roots, 14 extra nodes, 0 pruned nodes, max_depth=3\n",
            "[14:41:26] INFO: /workspace/src/tree/updater_prune.cc:74: tree pruning end, 1 roots, 12 extra nodes, 0 pruned nodes, max_depth=3\n",
            "[14:41:26] INFO: /workspace/src/tree/updater_prune.cc:74: tree pruning end, 1 roots, 14 extra nodes, 0 pruned nodes, max_depth=3\n",
            "[14:41:27] INFO: /workspace/src/tree/updater_prune.cc:74: tree pruning end, 1 roots, 14 extra nodes, 0 pruned nodes, max_depth=3\n",
            "[14:41:27] INFO: /workspace/src/tree/updater_prune.cc:74: tree pruning end, 1 roots, 14 extra nodes, 0 pruned nodes, max_depth=3\n",
            "[14:41:27] INFO: /workspace/src/tree/updater_prune.cc:74: tree pruning end, 1 roots, 14 extra nodes, 0 pruned nodes, max_depth=3\n",
            "[14:41:28] INFO: /workspace/src/tree/updater_prune.cc:74: tree pruning end, 1 roots, 14 extra nodes, 0 pruned nodes, max_depth=3\n",
            "[14:41:28] INFO: /workspace/src/tree/updater_prune.cc:74: tree pruning end, 1 roots, 14 extra nodes, 0 pruned nodes, max_depth=3\n",
            "[14:41:29] INFO: /workspace/src/tree/updater_prune.cc:74: tree pruning end, 1 roots, 14 extra nodes, 0 pruned nodes, max_depth=3\n",
            "[14:41:29] INFO: /workspace/src/tree/updater_prune.cc:74: tree pruning end, 1 roots, 8 extra nodes, 0 pruned nodes, max_depth=3\n",
            "[14:41:29] INFO: /workspace/src/tree/updater_prune.cc:74: tree pruning end, 1 roots, 14 extra nodes, 0 pruned nodes, max_depth=3\n",
            "[14:41:30] INFO: /workspace/src/tree/updater_prune.cc:74: tree pruning end, 1 roots, 10 extra nodes, 0 pruned nodes, max_depth=3\n",
            "[14:41:30] INFO: /workspace/src/tree/updater_prune.cc:74: tree pruning end, 1 roots, 14 extra nodes, 0 pruned nodes, max_depth=3\n",
            "[14:41:31] INFO: /workspace/src/tree/updater_prune.cc:74: tree pruning end, 1 roots, 10 extra nodes, 0 pruned nodes, max_depth=3\n",
            "[14:41:31] INFO: /workspace/src/tree/updater_prune.cc:74: tree pruning end, 1 roots, 14 extra nodes, 0 pruned nodes, max_depth=3\n",
            "[14:41:31] INFO: /workspace/src/tree/updater_prune.cc:74: tree pruning end, 1 roots, 12 extra nodes, 0 pruned nodes, max_depth=3\n",
            "[14:41:32] INFO: /workspace/src/tree/updater_prune.cc:74: tree pruning end, 1 roots, 14 extra nodes, 0 pruned nodes, max_depth=3\n",
            "[14:41:32] INFO: /workspace/src/tree/updater_prune.cc:74: tree pruning end, 1 roots, 14 extra nodes, 0 pruned nodes, max_depth=3\n",
            "[14:41:33] INFO: /workspace/src/tree/updater_prune.cc:74: tree pruning end, 1 roots, 14 extra nodes, 0 pruned nodes, max_depth=3\n",
            "[14:41:33] INFO: /workspace/src/tree/updater_prune.cc:74: tree pruning end, 1 roots, 10 extra nodes, 0 pruned nodes, max_depth=3\n",
            "[14:41:33] INFO: /workspace/src/tree/updater_prune.cc:74: tree pruning end, 1 roots, 10 extra nodes, 0 pruned nodes, max_depth=3\n",
            "[14:41:34] INFO: /workspace/src/tree/updater_prune.cc:74: tree pruning end, 1 roots, 12 extra nodes, 0 pruned nodes, max_depth=3\n",
            "[14:41:34] INFO: /workspace/src/tree/updater_prune.cc:74: tree pruning end, 1 roots, 12 extra nodes, 0 pruned nodes, max_depth=3\n",
            "[14:41:34] INFO: /workspace/src/tree/updater_prune.cc:74: tree pruning end, 1 roots, 12 extra nodes, 0 pruned nodes, max_depth=3\n",
            "[14:41:35] INFO: /workspace/src/tree/updater_prune.cc:74: tree pruning end, 1 roots, 14 extra nodes, 0 pruned nodes, max_depth=3\n",
            "[14:41:35] INFO: /workspace/src/tree/updater_prune.cc:74: tree pruning end, 1 roots, 14 extra nodes, 0 pruned nodes, max_depth=3\n",
            "[14:41:36] INFO: /workspace/src/tree/updater_prune.cc:74: tree pruning end, 1 roots, 14 extra nodes, 0 pruned nodes, max_depth=3\n",
            "[14:41:36] INFO: /workspace/src/tree/updater_prune.cc:74: tree pruning end, 1 roots, 12 extra nodes, 0 pruned nodes, max_depth=3\n",
            "[14:41:36] INFO: /workspace/src/tree/updater_prune.cc:74: tree pruning end, 1 roots, 14 extra nodes, 0 pruned nodes, max_depth=3\n",
            "[14:41:37] INFO: /workspace/src/tree/updater_prune.cc:74: tree pruning end, 1 roots, 14 extra nodes, 0 pruned nodes, max_depth=3\n",
            "[14:41:37] INFO: /workspace/src/tree/updater_prune.cc:74: tree pruning end, 1 roots, 12 extra nodes, 0 pruned nodes, max_depth=3\n",
            "[14:41:38] INFO: /workspace/src/tree/updater_prune.cc:74: tree pruning end, 1 roots, 14 extra nodes, 0 pruned nodes, max_depth=3\n",
            "[14:41:38] INFO: /workspace/src/tree/updater_prune.cc:74: tree pruning end, 1 roots, 8 extra nodes, 0 pruned nodes, max_depth=3\n",
            "[14:41:38] INFO: /workspace/src/tree/updater_prune.cc:74: tree pruning end, 1 roots, 12 extra nodes, 0 pruned nodes, max_depth=3\n",
            "[14:41:39] INFO: /workspace/src/tree/updater_prune.cc:74: tree pruning end, 1 roots, 14 extra nodes, 0 pruned nodes, max_depth=3\n",
            "[14:41:39] INFO: /workspace/src/tree/updater_prune.cc:74: tree pruning end, 1 roots, 14 extra nodes, 0 pruned nodes, max_depth=3\n",
            "[14:41:40] INFO: /workspace/src/tree/updater_prune.cc:74: tree pruning end, 1 roots, 12 extra nodes, 0 pruned nodes, max_depth=3\n",
            "[14:41:40] INFO: /workspace/src/tree/updater_prune.cc:74: tree pruning end, 1 roots, 14 extra nodes, 0 pruned nodes, max_depth=3\n",
            "[14:41:40] INFO: /workspace/src/tree/updater_prune.cc:74: tree pruning end, 1 roots, 8 extra nodes, 0 pruned nodes, max_depth=3\n",
            "[14:41:41] INFO: /workspace/src/tree/updater_prune.cc:74: tree pruning end, 1 roots, 8 extra nodes, 0 pruned nodes, max_depth=3\n",
            "[14:41:41] INFO: /workspace/src/tree/updater_prune.cc:74: tree pruning end, 1 roots, 10 extra nodes, 0 pruned nodes, max_depth=3\n",
            "[14:41:42] INFO: /workspace/src/tree/updater_prune.cc:74: tree pruning end, 1 roots, 12 extra nodes, 0 pruned nodes, max_depth=3\n",
            "[14:41:42] INFO: /workspace/src/tree/updater_prune.cc:74: tree pruning end, 1 roots, 14 extra nodes, 0 pruned nodes, max_depth=3\n",
            "[14:41:42] INFO: /workspace/src/tree/updater_prune.cc:74: tree pruning end, 1 roots, 10 extra nodes, 0 pruned nodes, max_depth=3\n",
            "[14:41:43] INFO: /workspace/src/tree/updater_prune.cc:74: tree pruning end, 1 roots, 14 extra nodes, 0 pruned nodes, max_depth=3\n",
            "[14:41:43] INFO: /workspace/src/tree/updater_prune.cc:74: tree pruning end, 1 roots, 10 extra nodes, 0 pruned nodes, max_depth=3\n",
            "[14:41:44] INFO: /workspace/src/tree/updater_prune.cc:74: tree pruning end, 1 roots, 14 extra nodes, 0 pruned nodes, max_depth=3\n",
            "[14:41:44] INFO: /workspace/src/tree/updater_prune.cc:74: tree pruning end, 1 roots, 14 extra nodes, 0 pruned nodes, max_depth=3\n",
            "[14:41:44] INFO: /workspace/src/tree/updater_prune.cc:74: tree pruning end, 1 roots, 14 extra nodes, 0 pruned nodes, max_depth=3\n",
            "[14:41:45] INFO: /workspace/src/tree/updater_prune.cc:74: tree pruning end, 1 roots, 8 extra nodes, 0 pruned nodes, max_depth=3\n",
            "[14:41:45] INFO: /workspace/src/tree/updater_prune.cc:74: tree pruning end, 1 roots, 14 extra nodes, 0 pruned nodes, max_depth=3\n",
            "[14:41:46] INFO: /workspace/src/tree/updater_prune.cc:74: tree pruning end, 1 roots, 14 extra nodes, 0 pruned nodes, max_depth=3\n",
            "[14:41:46] INFO: /workspace/src/tree/updater_prune.cc:74: tree pruning end, 1 roots, 8 extra nodes, 0 pruned nodes, max_depth=3\n",
            "[14:41:46] INFO: /workspace/src/tree/updater_prune.cc:74: tree pruning end, 1 roots, 12 extra nodes, 0 pruned nodes, max_depth=3\n",
            "[14:41:47] INFO: /workspace/src/tree/updater_prune.cc:74: tree pruning end, 1 roots, 14 extra nodes, 0 pruned nodes, max_depth=3\n",
            "[14:41:47] INFO: /workspace/src/tree/updater_prune.cc:74: tree pruning end, 1 roots, 14 extra nodes, 0 pruned nodes, max_depth=3\n",
            "[14:41:48] INFO: /workspace/src/tree/updater_prune.cc:74: tree pruning end, 1 roots, 10 extra nodes, 0 pruned nodes, max_depth=3\n",
            "[14:41:48] INFO: /workspace/src/tree/updater_prune.cc:74: tree pruning end, 1 roots, 8 extra nodes, 0 pruned nodes, max_depth=3\n",
            "[14:41:48] INFO: /workspace/src/tree/updater_prune.cc:74: tree pruning end, 1 roots, 8 extra nodes, 0 pruned nodes, max_depth=3\n",
            "[14:41:49] INFO: /workspace/src/tree/updater_prune.cc:74: tree pruning end, 1 roots, 14 extra nodes, 0 pruned nodes, max_depth=3\n",
            "[14:41:49] INFO: /workspace/src/tree/updater_prune.cc:74: tree pruning end, 1 roots, 14 extra nodes, 0 pruned nodes, max_depth=3\n",
            "[14:41:50] INFO: /workspace/src/tree/updater_prune.cc:74: tree pruning end, 1 roots, 14 extra nodes, 0 pruned nodes, max_depth=3\n",
            "[14:41:50] INFO: /workspace/src/tree/updater_prune.cc:74: tree pruning end, 1 roots, 12 extra nodes, 0 pruned nodes, max_depth=3\n",
            "[14:41:50] INFO: /workspace/src/tree/updater_prune.cc:74: tree pruning end, 1 roots, 12 extra nodes, 0 pruned nodes, max_depth=3\n",
            "[14:41:51] INFO: /workspace/src/tree/updater_prune.cc:74: tree pruning end, 1 roots, 14 extra nodes, 0 pruned nodes, max_depth=3\n",
            "[14:41:51] INFO: /workspace/src/tree/updater_prune.cc:74: tree pruning end, 1 roots, 12 extra nodes, 0 pruned nodes, max_depth=3\n",
            "[14:41:52] INFO: /workspace/src/tree/updater_prune.cc:74: tree pruning end, 1 roots, 12 extra nodes, 0 pruned nodes, max_depth=3\n",
            "[14:41:52] INFO: /workspace/src/tree/updater_prune.cc:74: tree pruning end, 1 roots, 14 extra nodes, 0 pruned nodes, max_depth=3\n",
            "[14:41:52] INFO: /workspace/src/tree/updater_prune.cc:74: tree pruning end, 1 roots, 14 extra nodes, 0 pruned nodes, max_depth=3\n",
            "[14:41:53] INFO: /workspace/src/tree/updater_prune.cc:74: tree pruning end, 1 roots, 14 extra nodes, 0 pruned nodes, max_depth=3\n",
            "[14:41:53] INFO: /workspace/src/tree/updater_prune.cc:74: tree pruning end, 1 roots, 12 extra nodes, 0 pruned nodes, max_depth=3\n",
            "[14:41:54] INFO: /workspace/src/tree/updater_prune.cc:74: tree pruning end, 1 roots, 14 extra nodes, 0 pruned nodes, max_depth=3\n",
            "[14:41:54] INFO: /workspace/src/tree/updater_prune.cc:74: tree pruning end, 1 roots, 12 extra nodes, 0 pruned nodes, max_depth=3\n",
            "[14:41:54] INFO: /workspace/src/tree/updater_prune.cc:74: tree pruning end, 1 roots, 14 extra nodes, 0 pruned nodes, max_depth=3\n",
            "[14:41:55] INFO: /workspace/src/tree/updater_prune.cc:74: tree pruning end, 1 roots, 14 extra nodes, 0 pruned nodes, max_depth=3\n",
            "[14:41:55] INFO: /workspace/src/tree/updater_prune.cc:74: tree pruning end, 1 roots, 14 extra nodes, 0 pruned nodes, max_depth=3\n",
            "[14:41:55] INFO: /workspace/src/tree/updater_prune.cc:74: tree pruning end, 1 roots, 12 extra nodes, 0 pruned nodes, max_depth=3\n",
            "[14:41:56] INFO: /workspace/src/tree/updater_prune.cc:74: tree pruning end, 1 roots, 14 extra nodes, 0 pruned nodes, max_depth=3\n",
            "[14:41:56] INFO: /workspace/src/tree/updater_prune.cc:74: tree pruning end, 1 roots, 12 extra nodes, 0 pruned nodes, max_depth=3\n",
            "[14:41:57] INFO: /workspace/src/tree/updater_prune.cc:74: tree pruning end, 1 roots, 14 extra nodes, 0 pruned nodes, max_depth=3\n",
            "[14:41:57] INFO: /workspace/src/tree/updater_prune.cc:74: tree pruning end, 1 roots, 12 extra nodes, 0 pruned nodes, max_depth=3\n",
            "[14:41:57] INFO: /workspace/src/tree/updater_prune.cc:74: tree pruning end, 1 roots, 8 extra nodes, 0 pruned nodes, max_depth=3\n",
            "[14:41:58] INFO: /workspace/src/tree/updater_prune.cc:74: tree pruning end, 1 roots, 10 extra nodes, 0 pruned nodes, max_depth=3\n",
            "[14:41:58] INFO: /workspace/src/tree/updater_prune.cc:74: tree pruning end, 1 roots, 10 extra nodes, 0 pruned nodes, max_depth=3\n",
            "[14:41:59] INFO: /workspace/src/tree/updater_prune.cc:74: tree pruning end, 1 roots, 12 extra nodes, 0 pruned nodes, max_depth=3\n",
            "[14:41:59] INFO: /workspace/src/tree/updater_prune.cc:74: tree pruning end, 1 roots, 14 extra nodes, 0 pruned nodes, max_depth=3\n",
            "[14:41:59] INFO: /workspace/src/tree/updater_prune.cc:74: tree pruning end, 1 roots, 8 extra nodes, 0 pruned nodes, max_depth=3\n",
            "[14:42:00] INFO: /workspace/src/tree/updater_prune.cc:74: tree pruning end, 1 roots, 8 extra nodes, 0 pruned nodes, max_depth=3\n",
            "[14:42:00] INFO: /workspace/src/tree/updater_prune.cc:74: tree pruning end, 1 roots, 14 extra nodes, 0 pruned nodes, max_depth=3\n",
            "[14:42:01] INFO: /workspace/src/tree/updater_prune.cc:74: tree pruning end, 1 roots, 14 extra nodes, 0 pruned nodes, max_depth=3\n",
            "[14:42:01] INFO: /workspace/src/tree/updater_prune.cc:74: tree pruning end, 1 roots, 8 extra nodes, 0 pruned nodes, max_depth=3\n",
            "[14:42:01] INFO: /workspace/src/tree/updater_prune.cc:74: tree pruning end, 1 roots, 14 extra nodes, 0 pruned nodes, max_depth=3\n",
            "[14:42:02] INFO: /workspace/src/tree/updater_prune.cc:74: tree pruning end, 1 roots, 14 extra nodes, 0 pruned nodes, max_depth=3\n",
            "[14:42:02] INFO: /workspace/src/tree/updater_prune.cc:74: tree pruning end, 1 roots, 14 extra nodes, 0 pruned nodes, max_depth=3\n",
            "[14:42:03] INFO: /workspace/src/tree/updater_prune.cc:74: tree pruning end, 1 roots, 14 extra nodes, 0 pruned nodes, max_depth=3\n",
            "[14:42:03] INFO: /workspace/src/tree/updater_prune.cc:74: tree pruning end, 1 roots, 14 extra nodes, 0 pruned nodes, max_depth=3\n",
            "[14:42:03] INFO: /workspace/src/tree/updater_prune.cc:74: tree pruning end, 1 roots, 10 extra nodes, 0 pruned nodes, max_depth=3\n",
            "[14:42:04] INFO: /workspace/src/tree/updater_prune.cc:74: tree pruning end, 1 roots, 12 extra nodes, 0 pruned nodes, max_depth=3\n",
            "[14:42:04] INFO: /workspace/src/tree/updater_prune.cc:74: tree pruning end, 1 roots, 14 extra nodes, 0 pruned nodes, max_depth=3\n",
            "[14:42:05] INFO: /workspace/src/tree/updater_prune.cc:74: tree pruning end, 1 roots, 10 extra nodes, 0 pruned nodes, max_depth=3\n",
            "[14:42:05] INFO: /workspace/src/tree/updater_prune.cc:74: tree pruning end, 1 roots, 8 extra nodes, 0 pruned nodes, max_depth=3\n",
            "[14:42:05] INFO: /workspace/src/tree/updater_prune.cc:74: tree pruning end, 1 roots, 8 extra nodes, 0 pruned nodes, max_depth=3\n",
            "[14:42:06] INFO: /workspace/src/tree/updater_prune.cc:74: tree pruning end, 1 roots, 8 extra nodes, 0 pruned nodes, max_depth=3\n",
            "[14:42:06] INFO: /workspace/src/tree/updater_prune.cc:74: tree pruning end, 1 roots, 14 extra nodes, 0 pruned nodes, max_depth=3\n",
            "[14:42:07] INFO: /workspace/src/tree/updater_prune.cc:74: tree pruning end, 1 roots, 12 extra nodes, 0 pruned nodes, max_depth=3\n",
            "[14:42:07] INFO: /workspace/src/tree/updater_prune.cc:74: tree pruning end, 1 roots, 12 extra nodes, 0 pruned nodes, max_depth=3\n",
            "[14:42:07] INFO: /workspace/src/tree/updater_prune.cc:74: tree pruning end, 1 roots, 14 extra nodes, 0 pruned nodes, max_depth=3\n",
            "[14:42:08] INFO: /workspace/src/tree/updater_prune.cc:74: tree pruning end, 1 roots, 6 extra nodes, 0 pruned nodes, max_depth=3\n",
            "[14:42:08] INFO: /workspace/src/tree/updater_prune.cc:74: tree pruning end, 1 roots, 14 extra nodes, 0 pruned nodes, max_depth=3\n",
            "[14:42:09] INFO: /workspace/src/tree/updater_prune.cc:74: tree pruning end, 1 roots, 10 extra nodes, 0 pruned nodes, max_depth=3\n",
            "[14:42:09] INFO: /workspace/src/tree/updater_prune.cc:74: tree pruning end, 1 roots, 12 extra nodes, 0 pruned nodes, max_depth=3\n",
            "[14:42:09] INFO: /workspace/src/tree/updater_prune.cc:74: tree pruning end, 1 roots, 10 extra nodes, 0 pruned nodes, max_depth=3\n",
            "[14:42:10] INFO: /workspace/src/tree/updater_prune.cc:74: tree pruning end, 1 roots, 14 extra nodes, 0 pruned nodes, max_depth=3\n",
            "[14:42:10] INFO: /workspace/src/tree/updater_prune.cc:74: tree pruning end, 1 roots, 6 extra nodes, 0 pruned nodes, max_depth=3\n",
            "[14:42:11] INFO: /workspace/src/tree/updater_prune.cc:74: tree pruning end, 1 roots, 14 extra nodes, 0 pruned nodes, max_depth=3\n",
            "[14:42:11] INFO: /workspace/src/tree/updater_prune.cc:74: tree pruning end, 1 roots, 8 extra nodes, 0 pruned nodes, max_depth=3\n",
            "[14:42:11] INFO: /workspace/src/tree/updater_prune.cc:74: tree pruning end, 1 roots, 14 extra nodes, 0 pruned nodes, max_depth=3\n",
            "[14:42:12] INFO: /workspace/src/tree/updater_prune.cc:74: tree pruning end, 1 roots, 10 extra nodes, 0 pruned nodes, max_depth=3\n",
            "[14:42:12] INFO: /workspace/src/tree/updater_prune.cc:74: tree pruning end, 1 roots, 8 extra nodes, 0 pruned nodes, max_depth=3\n",
            "[14:42:13] INFO: /workspace/src/tree/updater_prune.cc:74: tree pruning end, 1 roots, 12 extra nodes, 0 pruned nodes, max_depth=3\n",
            "[14:42:13] INFO: /workspace/src/tree/updater_prune.cc:74: tree pruning end, 1 roots, 10 extra nodes, 0 pruned nodes, max_depth=3\n",
            "[14:42:13] INFO: /workspace/src/tree/updater_prune.cc:74: tree pruning end, 1 roots, 12 extra nodes, 0 pruned nodes, max_depth=3\n",
            "[14:42:14] INFO: /workspace/src/tree/updater_prune.cc:74: tree pruning end, 1 roots, 14 extra nodes, 0 pruned nodes, max_depth=3\n",
            "[14:42:14] INFO: /workspace/src/tree/updater_prune.cc:74: tree pruning end, 1 roots, 14 extra nodes, 0 pruned nodes, max_depth=3\n",
            "[14:42:15] INFO: /workspace/src/tree/updater_prune.cc:74: tree pruning end, 1 roots, 10 extra nodes, 0 pruned nodes, max_depth=3\n",
            "[14:42:15] INFO: /workspace/src/tree/updater_prune.cc:74: tree pruning end, 1 roots, 12 extra nodes, 0 pruned nodes, max_depth=3\n",
            "[14:42:15] INFO: /workspace/src/tree/updater_prune.cc:74: tree pruning end, 1 roots, 10 extra nodes, 0 pruned nodes, max_depth=3\n",
            "[14:42:16] INFO: /workspace/src/tree/updater_prune.cc:74: tree pruning end, 1 roots, 8 extra nodes, 0 pruned nodes, max_depth=3\n",
            "[14:42:16] INFO: /workspace/src/tree/updater_prune.cc:74: tree pruning end, 1 roots, 12 extra nodes, 0 pruned nodes, max_depth=3\n",
            "[14:42:17] INFO: /workspace/src/tree/updater_prune.cc:74: tree pruning end, 1 roots, 14 extra nodes, 0 pruned nodes, max_depth=3\n",
            "[14:42:17] INFO: /workspace/src/tree/updater_prune.cc:74: tree pruning end, 1 roots, 14 extra nodes, 0 pruned nodes, max_depth=3\n",
            "[14:42:17] INFO: /workspace/src/tree/updater_prune.cc:74: tree pruning end, 1 roots, 10 extra nodes, 0 pruned nodes, max_depth=3\n",
            "[14:42:18] INFO: /workspace/src/tree/updater_prune.cc:74: tree pruning end, 1 roots, 14 extra nodes, 0 pruned nodes, max_depth=3\n",
            "[14:42:18] INFO: /workspace/src/tree/updater_prune.cc:74: tree pruning end, 1 roots, 10 extra nodes, 0 pruned nodes, max_depth=3\n",
            "[14:42:19] INFO: /workspace/src/tree/updater_prune.cc:74: tree pruning end, 1 roots, 6 extra nodes, 0 pruned nodes, max_depth=3\n",
            "[14:42:19] INFO: /workspace/src/tree/updater_prune.cc:74: tree pruning end, 1 roots, 14 extra nodes, 0 pruned nodes, max_depth=3\n",
            "[14:42:19] INFO: /workspace/src/tree/updater_prune.cc:74: tree pruning end, 1 roots, 14 extra nodes, 0 pruned nodes, max_depth=3\n",
            "[14:42:20] INFO: /workspace/src/tree/updater_prune.cc:74: tree pruning end, 1 roots, 8 extra nodes, 0 pruned nodes, max_depth=3\n",
            "[14:42:20] INFO: /workspace/src/tree/updater_prune.cc:74: tree pruning end, 1 roots, 12 extra nodes, 0 pruned nodes, max_depth=3\n",
            "[14:42:21] INFO: /workspace/src/tree/updater_prune.cc:74: tree pruning end, 1 roots, 12 extra nodes, 0 pruned nodes, max_depth=3\n",
            "[14:42:21] INFO: /workspace/src/tree/updater_prune.cc:74: tree pruning end, 1 roots, 12 extra nodes, 0 pruned nodes, max_depth=3\n",
            "[14:42:21] INFO: /workspace/src/tree/updater_prune.cc:74: tree pruning end, 1 roots, 14 extra nodes, 0 pruned nodes, max_depth=3\n",
            "[14:42:22] INFO: /workspace/src/tree/updater_prune.cc:74: tree pruning end, 1 roots, 10 extra nodes, 0 pruned nodes, max_depth=3\n",
            "[14:42:22] INFO: /workspace/src/tree/updater_prune.cc:74: tree pruning end, 1 roots, 14 extra nodes, 0 pruned nodes, max_depth=3\n",
            "[14:42:23] INFO: /workspace/src/tree/updater_prune.cc:74: tree pruning end, 1 roots, 12 extra nodes, 0 pruned nodes, max_depth=3\n",
            "[14:42:23] INFO: /workspace/src/tree/updater_prune.cc:74: tree pruning end, 1 roots, 14 extra nodes, 0 pruned nodes, max_depth=3\n",
            "[14:42:24] INFO: /workspace/src/tree/updater_prune.cc:74: tree pruning end, 1 roots, 10 extra nodes, 0 pruned nodes, max_depth=3\n",
            "[14:42:24] INFO: /workspace/src/tree/updater_prune.cc:74: tree pruning end, 1 roots, 14 extra nodes, 0 pruned nodes, max_depth=3\n",
            "[14:42:24] INFO: /workspace/src/tree/updater_prune.cc:74: tree pruning end, 1 roots, 10 extra nodes, 0 pruned nodes, max_depth=3\n",
            "[14:42:25] INFO: /workspace/src/tree/updater_prune.cc:74: tree pruning end, 1 roots, 14 extra nodes, 0 pruned nodes, max_depth=3\n",
            "[14:42:25] INFO: /workspace/src/tree/updater_prune.cc:74: tree pruning end, 1 roots, 8 extra nodes, 0 pruned nodes, max_depth=3\n",
            "[14:42:26] INFO: /workspace/src/tree/updater_prune.cc:74: tree pruning end, 1 roots, 14 extra nodes, 0 pruned nodes, max_depth=3\n",
            "[14:42:26] INFO: /workspace/src/tree/updater_prune.cc:74: tree pruning end, 1 roots, 14 extra nodes, 0 pruned nodes, max_depth=3\n",
            "[14:42:26] INFO: /workspace/src/tree/updater_prune.cc:74: tree pruning end, 1 roots, 14 extra nodes, 0 pruned nodes, max_depth=3\n",
            "[14:42:27] INFO: /workspace/src/tree/updater_prune.cc:74: tree pruning end, 1 roots, 14 extra nodes, 0 pruned nodes, max_depth=3\n",
            "[14:42:27] INFO: /workspace/src/tree/updater_prune.cc:74: tree pruning end, 1 roots, 12 extra nodes, 0 pruned nodes, max_depth=3\n",
            "[14:42:28] INFO: /workspace/src/tree/updater_prune.cc:74: tree pruning end, 1 roots, 8 extra nodes, 0 pruned nodes, max_depth=3\n",
            "[14:42:28] INFO: /workspace/src/tree/updater_prune.cc:74: tree pruning end, 1 roots, 6 extra nodes, 0 pruned nodes, max_depth=3\n",
            "[14:42:28] INFO: /workspace/src/tree/updater_prune.cc:74: tree pruning end, 1 roots, 12 extra nodes, 0 pruned nodes, max_depth=3\n",
            "[14:42:29] INFO: /workspace/src/tree/updater_prune.cc:74: tree pruning end, 1 roots, 12 extra nodes, 0 pruned nodes, max_depth=3\n",
            "[14:42:29] INFO: /workspace/src/tree/updater_prune.cc:74: tree pruning end, 1 roots, 12 extra nodes, 0 pruned nodes, max_depth=3\n",
            "[14:42:30] INFO: /workspace/src/tree/updater_prune.cc:74: tree pruning end, 1 roots, 12 extra nodes, 0 pruned nodes, max_depth=3\n",
            "[14:42:30] INFO: /workspace/src/tree/updater_prune.cc:74: tree pruning end, 1 roots, 14 extra nodes, 0 pruned nodes, max_depth=3\n",
            "[14:42:30] INFO: /workspace/src/tree/updater_prune.cc:74: tree pruning end, 1 roots, 12 extra nodes, 0 pruned nodes, max_depth=3\n",
            "[14:42:31] INFO: /workspace/src/tree/updater_prune.cc:74: tree pruning end, 1 roots, 14 extra nodes, 0 pruned nodes, max_depth=3\n",
            "[14:42:31] INFO: /workspace/src/tree/updater_prune.cc:74: tree pruning end, 1 roots, 14 extra nodes, 0 pruned nodes, max_depth=3\n",
            "[14:42:32] INFO: /workspace/src/tree/updater_prune.cc:74: tree pruning end, 1 roots, 6 extra nodes, 0 pruned nodes, max_depth=3\n",
            "[14:42:32] INFO: /workspace/src/tree/updater_prune.cc:74: tree pruning end, 1 roots, 12 extra nodes, 0 pruned nodes, max_depth=3\n",
            "[14:42:32] INFO: /workspace/src/tree/updater_prune.cc:74: tree pruning end, 1 roots, 14 extra nodes, 0 pruned nodes, max_depth=3\n",
            "[14:42:33] INFO: /workspace/src/tree/updater_prune.cc:74: tree pruning end, 1 roots, 8 extra nodes, 0 pruned nodes, max_depth=3\n",
            "[14:42:33] INFO: /workspace/src/tree/updater_prune.cc:74: tree pruning end, 1 roots, 14 extra nodes, 0 pruned nodes, max_depth=3\n",
            "[14:42:34] INFO: /workspace/src/tree/updater_prune.cc:74: tree pruning end, 1 roots, 14 extra nodes, 0 pruned nodes, max_depth=3\n",
            "[14:42:34] INFO: /workspace/src/tree/updater_prune.cc:74: tree pruning end, 1 roots, 8 extra nodes, 0 pruned nodes, max_depth=3\n",
            "[14:42:34] INFO: /workspace/src/tree/updater_prune.cc:74: tree pruning end, 1 roots, 12 extra nodes, 0 pruned nodes, max_depth=3\n",
            "[14:42:35] INFO: /workspace/src/tree/updater_prune.cc:74: tree pruning end, 1 roots, 8 extra nodes, 0 pruned nodes, max_depth=3\n",
            "[14:42:35] INFO: /workspace/src/tree/updater_prune.cc:74: tree pruning end, 1 roots, 10 extra nodes, 0 pruned nodes, max_depth=3\n",
            "[14:42:36] INFO: /workspace/src/tree/updater_prune.cc:74: tree pruning end, 1 roots, 6 extra nodes, 0 pruned nodes, max_depth=3\n",
            "[14:42:36] INFO: /workspace/src/tree/updater_prune.cc:74: tree pruning end, 1 roots, 10 extra nodes, 0 pruned nodes, max_depth=3\n",
            "[14:42:36] INFO: /workspace/src/tree/updater_prune.cc:74: tree pruning end, 1 roots, 12 extra nodes, 0 pruned nodes, max_depth=3\n",
            "[14:42:37] INFO: /workspace/src/tree/updater_prune.cc:74: tree pruning end, 1 roots, 12 extra nodes, 0 pruned nodes, max_depth=3\n",
            "[14:42:37] INFO: /workspace/src/tree/updater_prune.cc:74: tree pruning end, 1 roots, 14 extra nodes, 0 pruned nodes, max_depth=3\n",
            "[14:42:38] INFO: /workspace/src/tree/updater_prune.cc:74: tree pruning end, 1 roots, 12 extra nodes, 0 pruned nodes, max_depth=3\n",
            "[14:42:38] INFO: /workspace/src/tree/updater_prune.cc:74: tree pruning end, 1 roots, 8 extra nodes, 0 pruned nodes, max_depth=3\n",
            "[14:42:38] INFO: /workspace/src/tree/updater_prune.cc:74: tree pruning end, 1 roots, 14 extra nodes, 0 pruned nodes, max_depth=3\n",
            "[14:42:39] INFO: /workspace/src/tree/updater_prune.cc:74: tree pruning end, 1 roots, 8 extra nodes, 0 pruned nodes, max_depth=3\n",
            "[14:42:39] INFO: /workspace/src/tree/updater_prune.cc:74: tree pruning end, 1 roots, 12 extra nodes, 0 pruned nodes, max_depth=3\n",
            "[14:42:40] INFO: /workspace/src/tree/updater_prune.cc:74: tree pruning end, 1 roots, 10 extra nodes, 0 pruned nodes, max_depth=3\n",
            "[14:42:40] INFO: /workspace/src/tree/updater_prune.cc:74: tree pruning end, 1 roots, 12 extra nodes, 0 pruned nodes, max_depth=3\n",
            "[14:42:40] INFO: /workspace/src/tree/updater_prune.cc:74: tree pruning end, 1 roots, 12 extra nodes, 0 pruned nodes, max_depth=3\n",
            "[14:42:41] INFO: /workspace/src/tree/updater_prune.cc:74: tree pruning end, 1 roots, 10 extra nodes, 0 pruned nodes, max_depth=3\n",
            "[14:42:41] INFO: /workspace/src/tree/updater_prune.cc:74: tree pruning end, 1 roots, 14 extra nodes, 0 pruned nodes, max_depth=3\n",
            "[14:42:42] INFO: /workspace/src/tree/updater_prune.cc:74: tree pruning end, 1 roots, 6 extra nodes, 0 pruned nodes, max_depth=3\n",
            "[14:42:42] INFO: /workspace/src/tree/updater_prune.cc:74: tree pruning end, 1 roots, 14 extra nodes, 0 pruned nodes, max_depth=3\n",
            "[14:42:42] INFO: /workspace/src/tree/updater_prune.cc:74: tree pruning end, 1 roots, 14 extra nodes, 0 pruned nodes, max_depth=3\n",
            "[14:42:43] INFO: /workspace/src/tree/updater_prune.cc:74: tree pruning end, 1 roots, 8 extra nodes, 0 pruned nodes, max_depth=3\n",
            "[14:42:43] INFO: /workspace/src/tree/updater_prune.cc:74: tree pruning end, 1 roots, 14 extra nodes, 0 pruned nodes, max_depth=3\n",
            "[14:42:44] INFO: /workspace/src/tree/updater_prune.cc:74: tree pruning end, 1 roots, 8 extra nodes, 0 pruned nodes, max_depth=3\n",
            "[14:42:44] INFO: /workspace/src/tree/updater_prune.cc:74: tree pruning end, 1 roots, 8 extra nodes, 0 pruned nodes, max_depth=3\n",
            "[14:42:44] INFO: /workspace/src/tree/updater_prune.cc:74: tree pruning end, 1 roots, 10 extra nodes, 0 pruned nodes, max_depth=3\n",
            "[14:42:45] INFO: /workspace/src/tree/updater_prune.cc:74: tree pruning end, 1 roots, 8 extra nodes, 0 pruned nodes, max_depth=3\n",
            "[14:42:45] INFO: /workspace/src/tree/updater_prune.cc:74: tree pruning end, 1 roots, 14 extra nodes, 0 pruned nodes, max_depth=3\n",
            "[14:42:46] INFO: /workspace/src/tree/updater_prune.cc:74: tree pruning end, 1 roots, 14 extra nodes, 0 pruned nodes, max_depth=3\n",
            "[14:42:46] INFO: /workspace/src/tree/updater_prune.cc:74: tree pruning end, 1 roots, 14 extra nodes, 0 pruned nodes, max_depth=3\n",
            "[14:42:46] INFO: /workspace/src/tree/updater_prune.cc:74: tree pruning end, 1 roots, 14 extra nodes, 0 pruned nodes, max_depth=3\n",
            "[14:42:47] INFO: /workspace/src/tree/updater_prune.cc:74: tree pruning end, 1 roots, 10 extra nodes, 0 pruned nodes, max_depth=3\n",
            "[14:42:47] INFO: /workspace/src/tree/updater_prune.cc:74: tree pruning end, 1 roots, 10 extra nodes, 0 pruned nodes, max_depth=3\n",
            "[14:42:48] INFO: /workspace/src/tree/updater_prune.cc:74: tree pruning end, 1 roots, 12 extra nodes, 0 pruned nodes, max_depth=3\n",
            "[14:42:48] INFO: /workspace/src/tree/updater_prune.cc:74: tree pruning end, 1 roots, 12 extra nodes, 0 pruned nodes, max_depth=3\n",
            "[14:42:48] INFO: /workspace/src/tree/updater_prune.cc:74: tree pruning end, 1 roots, 6 extra nodes, 0 pruned nodes, max_depth=3\n",
            "[14:42:49] INFO: /workspace/src/tree/updater_prune.cc:74: tree pruning end, 1 roots, 8 extra nodes, 0 pruned nodes, max_depth=3\n",
            "[14:42:49] INFO: /workspace/src/tree/updater_prune.cc:74: tree pruning end, 1 roots, 14 extra nodes, 0 pruned nodes, max_depth=3\n",
            "[14:42:50] INFO: /workspace/src/tree/updater_prune.cc:74: tree pruning end, 1 roots, 12 extra nodes, 0 pruned nodes, max_depth=3\n",
            "[14:42:50] INFO: /workspace/src/tree/updater_prune.cc:74: tree pruning end, 1 roots, 12 extra nodes, 0 pruned nodes, max_depth=3\n",
            "[14:42:50] INFO: /workspace/src/tree/updater_prune.cc:74: tree pruning end, 1 roots, 12 extra nodes, 0 pruned nodes, max_depth=3\n",
            "[14:42:51] INFO: /workspace/src/tree/updater_prune.cc:74: tree pruning end, 1 roots, 10 extra nodes, 0 pruned nodes, max_depth=3\n",
            "[14:42:51] INFO: /workspace/src/tree/updater_prune.cc:74: tree pruning end, 1 roots, 8 extra nodes, 0 pruned nodes, max_depth=3\n",
            "[14:42:52] INFO: /workspace/src/tree/updater_prune.cc:74: tree pruning end, 1 roots, 12 extra nodes, 0 pruned nodes, max_depth=3\n",
            "[14:42:52] INFO: /workspace/src/tree/updater_prune.cc:74: tree pruning end, 1 roots, 8 extra nodes, 0 pruned nodes, max_depth=3\n",
            "[14:42:52] INFO: /workspace/src/tree/updater_prune.cc:74: tree pruning end, 1 roots, 10 extra nodes, 0 pruned nodes, max_depth=3\n",
            "[14:42:53] INFO: /workspace/src/tree/updater_prune.cc:74: tree pruning end, 1 roots, 8 extra nodes, 0 pruned nodes, max_depth=3\n",
            "[14:42:53] INFO: /workspace/src/tree/updater_prune.cc:74: tree pruning end, 1 roots, 12 extra nodes, 0 pruned nodes, max_depth=3\n",
            "[14:42:54] INFO: /workspace/src/tree/updater_prune.cc:74: tree pruning end, 1 roots, 14 extra nodes, 0 pruned nodes, max_depth=3\n",
            "[14:42:54] INFO: /workspace/src/tree/updater_prune.cc:74: tree pruning end, 1 roots, 12 extra nodes, 0 pruned nodes, max_depth=3\n",
            "[14:42:54] INFO: /workspace/src/tree/updater_prune.cc:74: tree pruning end, 1 roots, 8 extra nodes, 0 pruned nodes, max_depth=3\n",
            "[14:42:55] INFO: /workspace/src/tree/updater_prune.cc:74: tree pruning end, 1 roots, 14 extra nodes, 0 pruned nodes, max_depth=3\n",
            "[14:42:55] INFO: /workspace/src/tree/updater_prune.cc:74: tree pruning end, 1 roots, 14 extra nodes, 0 pruned nodes, max_depth=3\n",
            "[14:42:56] INFO: /workspace/src/tree/updater_prune.cc:74: tree pruning end, 1 roots, 14 extra nodes, 0 pruned nodes, max_depth=3\n",
            "[14:42:56] INFO: /workspace/src/tree/updater_prune.cc:74: tree pruning end, 1 roots, 14 extra nodes, 0 pruned nodes, max_depth=3\n",
            "[14:42:56] INFO: /workspace/src/tree/updater_prune.cc:74: tree pruning end, 1 roots, 12 extra nodes, 0 pruned nodes, max_depth=3\n",
            "[14:42:57] INFO: /workspace/src/tree/updater_prune.cc:74: tree pruning end, 1 roots, 14 extra nodes, 0 pruned nodes, max_depth=3\n",
            "[14:42:57] INFO: /workspace/src/tree/updater_prune.cc:74: tree pruning end, 1 roots, 12 extra nodes, 0 pruned nodes, max_depth=3\n",
            "[14:42:58] INFO: /workspace/src/tree/updater_prune.cc:74: tree pruning end, 1 roots, 14 extra nodes, 0 pruned nodes, max_depth=3\n",
            "[14:42:58] INFO: /workspace/src/tree/updater_prune.cc:74: tree pruning end, 1 roots, 6 extra nodes, 0 pruned nodes, max_depth=3\n",
            "[14:42:58] INFO: /workspace/src/tree/updater_prune.cc:74: tree pruning end, 1 roots, 12 extra nodes, 0 pruned nodes, max_depth=3\n",
            "[14:42:59] INFO: /workspace/src/tree/updater_prune.cc:74: tree pruning end, 1 roots, 8 extra nodes, 0 pruned nodes, max_depth=3\n",
            "[14:42:59] INFO: /workspace/src/tree/updater_prune.cc:74: tree pruning end, 1 roots, 8 extra nodes, 0 pruned nodes, max_depth=3\n",
            "[14:43:00] INFO: /workspace/src/tree/updater_prune.cc:74: tree pruning end, 1 roots, 12 extra nodes, 0 pruned nodes, max_depth=3\n",
            "[14:43:00] INFO: /workspace/src/tree/updater_prune.cc:74: tree pruning end, 1 roots, 10 extra nodes, 0 pruned nodes, max_depth=3\n",
            "[14:43:00] INFO: /workspace/src/tree/updater_prune.cc:74: tree pruning end, 1 roots, 8 extra nodes, 0 pruned nodes, max_depth=3\n",
            "[14:43:01] INFO: /workspace/src/tree/updater_prune.cc:74: tree pruning end, 1 roots, 12 extra nodes, 0 pruned nodes, max_depth=3\n",
            "[14:43:01] INFO: /workspace/src/tree/updater_prune.cc:74: tree pruning end, 1 roots, 10 extra nodes, 0 pruned nodes, max_depth=3\n",
            "[14:43:02] INFO: /workspace/src/tree/updater_prune.cc:74: tree pruning end, 1 roots, 14 extra nodes, 0 pruned nodes, max_depth=3\n",
            "[14:43:02] INFO: /workspace/src/tree/updater_prune.cc:74: tree pruning end, 1 roots, 12 extra nodes, 0 pruned nodes, max_depth=3\n",
            "[14:43:02] INFO: /workspace/src/tree/updater_prune.cc:74: tree pruning end, 1 roots, 10 extra nodes, 0 pruned nodes, max_depth=3\n",
            "[14:43:03] INFO: /workspace/src/tree/updater_prune.cc:74: tree pruning end, 1 roots, 12 extra nodes, 0 pruned nodes, max_depth=3\n",
            "[14:43:03] INFO: /workspace/src/tree/updater_prune.cc:74: tree pruning end, 1 roots, 14 extra nodes, 0 pruned nodes, max_depth=3\n",
            "[14:43:04] INFO: /workspace/src/tree/updater_prune.cc:74: tree pruning end, 1 roots, 14 extra nodes, 0 pruned nodes, max_depth=3\n",
            "[14:43:04] INFO: /workspace/src/tree/updater_prune.cc:74: tree pruning end, 1 roots, 12 extra nodes, 0 pruned nodes, max_depth=3\n",
            "CPU times: user 3min 23s, sys: 493 ms, total: 3min 24s\n",
            "Wall time: 1min 46s\n"
          ],
          "name": "stdout"
        }
      ]
    },
    {
      "cell_type": "markdown",
      "metadata": {
        "colab_type": "text",
        "id": "b8voXiEwOqxk"
      },
      "source": [
        "<font color=\"red\">\n",
        "Do the same with a RandomForest (save the score).</font>"
      ]
    },
    {
      "cell_type": "code",
      "metadata": {
        "colab_type": "code",
        "id": "At6NVRKZOqxi",
        "colab": {
          "base_uri": "https://localhost:8080/",
          "height": 221
        },
        "outputId": "9e722cb4-e37b-4625-a5b0-7d2bd3262fbd"
      },
      "source": [
        "#Let's hash the dataset\n",
        "mg = MergeRareTransformer(col_names=Xtrain.columns, threshold=[20]*len(Xtrain.columns))\n",
        "Xtrain_mg = mg.fit_transform(Xtrain_meth)\n",
        "Xtest_mg = mg.transform(Xtrain_blend)\n",
        "Xtest_test_mg = mg.transform(Xtest)\n",
        "\n",
        "Xtrain_meth_ha = pd.DataFrame()\n",
        "Xtrain_blend_ha = pd.DataFrame()\n",
        "Xtest_ha = pd.DataFrame()\n",
        "\n",
        "for col in Xtrain_mg.columns:\n",
        "    Xtrain_meth_ha[col] = Xtrain_mg[col].apply(lambda x : hash(x)%1000000)\n",
        "    Xtrain_blend_ha[col] = Xtest_mg[col].apply(lambda x : hash(x)%1000000)\n",
        "    Xtest_ha[col] = Xtest_test_mg[col].apply(lambda x : hash(x)%1000000)\n",
        "\n",
        "rf = RandomForestClassifier(n_estimators=256, min_samples_leaf=20, verbose=1, n_jobs=-1)\n",
        "rf.fit(Xtrain_meth_ha, ytrain_meth)\n",
        "soft_rf = rf.predict_proba(Xtrain_blend_ha)\n",
        "soft_rf_test = rf.predict_proba(Xtest_ha)"
      ],
      "execution_count": 76,
      "outputs": [
        {
          "output_type": "stream",
          "text": [
            "[Parallel(n_jobs=-1)]: Using backend ThreadingBackend with 2 concurrent workers.\n",
            "[Parallel(n_jobs=-1)]: Done  46 tasks      | elapsed:   40.3s\n",
            "[Parallel(n_jobs=-1)]: Done 196 tasks      | elapsed:  2.8min\n",
            "[Parallel(n_jobs=-1)]: Done 256 out of 256 | elapsed:  3.6min finished\n",
            "[Parallel(n_jobs=2)]: Using backend ThreadingBackend with 2 concurrent workers.\n",
            "[Parallel(n_jobs=2)]: Done  46 tasks      | elapsed:    1.2s\n",
            "[Parallel(n_jobs=2)]: Done 196 tasks      | elapsed:    5.3s\n",
            "[Parallel(n_jobs=2)]: Done 256 out of 256 | elapsed:    6.9s finished\n",
            "[Parallel(n_jobs=2)]: Using backend ThreadingBackend with 2 concurrent workers.\n",
            "[Parallel(n_jobs=2)]: Done  46 tasks      | elapsed:    0.7s\n",
            "[Parallel(n_jobs=2)]: Done 196 tasks      | elapsed:    2.8s\n",
            "[Parallel(n_jobs=2)]: Done 256 out of 256 | elapsed:    3.7s finished\n"
          ],
          "name": "stderr"
        }
      ]
    },
    {
      "cell_type": "markdown",
      "metadata": {
        "colab_type": "text",
        "id": "iJcPtHjLOqxh"
      },
      "source": [
        "<font color=\"red\">\n",
        "Now with an extraTrees.</font>"
      ]
    },
    {
      "cell_type": "code",
      "metadata": {
        "colab_type": "code",
        "id": "3GVkx2YjOqxf",
        "colab": {
          "base_uri": "https://localhost:8080/",
          "height": 221
        },
        "outputId": "732cf9f8-e31f-495a-8078-8ecdd85dc8be"
      },
      "source": [
        "from sklearn.ensemble import ExtraTreesClassifier\n",
        "\n",
        "et = ExtraTreesClassifier(n_estimators=256, min_samples_leaf=20, verbose=1, n_jobs=-1)\n",
        "et.fit(Xtrain_meth_ha, ytrain_meth)\n",
        "soft_et = et.predict_proba(Xtrain_blend_ha)\n",
        "soft_et_test = et.predict_proba(Xtest_ha)"
      ],
      "execution_count": 77,
      "outputs": [
        {
          "output_type": "stream",
          "text": [
            "[Parallel(n_jobs=-1)]: Using backend ThreadingBackend with 2 concurrent workers.\n",
            "[Parallel(n_jobs=-1)]: Done  46 tasks      | elapsed:   30.1s\n",
            "[Parallel(n_jobs=-1)]: Done 196 tasks      | elapsed:  2.1min\n",
            "[Parallel(n_jobs=-1)]: Done 256 out of 256 | elapsed:  2.8min finished\n",
            "[Parallel(n_jobs=2)]: Using backend ThreadingBackend with 2 concurrent workers.\n",
            "[Parallel(n_jobs=2)]: Done  46 tasks      | elapsed:    1.2s\n",
            "[Parallel(n_jobs=2)]: Done 196 tasks      | elapsed:    5.2s\n",
            "[Parallel(n_jobs=2)]: Done 256 out of 256 | elapsed:    6.7s finished\n",
            "[Parallel(n_jobs=2)]: Using backend ThreadingBackend with 2 concurrent workers.\n",
            "[Parallel(n_jobs=2)]: Done  46 tasks      | elapsed:    0.7s\n",
            "[Parallel(n_jobs=2)]: Done 196 tasks      | elapsed:    2.7s\n",
            "[Parallel(n_jobs=2)]: Done 256 out of 256 | elapsed:    3.6s finished\n"
          ],
          "name": "stderr"
        }
      ]
    },
    {
      "cell_type": "markdown",
      "metadata": {
        "colab_type": "text",
        "id": "wUy2BfQSOqxe"
      },
      "source": [
        "<font color=\"red\">\n",
        "And again with FFM.</font>"
      ]
    },
    {
      "cell_type": "code",
      "metadata": {
        "colab_type": "code",
        "id": "PmSahlQCOqxb",
        "colab": {}
      },
      "source": [
        "#Let's format the dataset\n",
        "Xtrain_meth_ffm = pd.DataFrame()\n",
        "Xtrain_blend_ffm = pd.DataFrame()\n",
        "Xtest_ffm = pd.DataFrame()\n",
        "\n",
        "for col in Xtrain_meth_ha.columns:\n",
        "    Xtrain_meth_ffm[col] = Xtrain_meth_ha[col].apply(lambda x: col+str(x))\n",
        "    Xtrain_blend_ffm[col] = Xtrain_blend_ha[col].apply(lambda x: col+str(x))\n",
        "    Xtest_ffm[col] = Xtest_ha[col].apply(lambda x: col+str(x))\n",
        "\n",
        "for col in allcols_ffm:\n",
        "    f = dicFields[col]\n",
        "    Xtrain_meth_ffm[col] = Xtrain_meth_ffm[col].apply(lambda x:\"{}:{}:1\".format(f,dicFeat[x]) if x in dicFeat else \"\")\n",
        "    Xtrain_blend_ffm[col] = Xtrain_blend_ffm[col].apply(lambda x:\"{}:{}:1\".format(f,dicFeat[x]) if x in dicFeat else \"\")\n",
        "    Xtest_ffm[col] = Xtest_ffm[col].apply(lambda x:\"{}:{}:1\".format(f,dicFeat[x]) if x in dicFeat else \"\")\n",
        "\n",
        "yXtrain_meth_ffm = pd.concat([ytrain_meth, Xtrain_meth_ffm], axis=1)\n",
        "yXtrain_blend_ffm = pd.concat([ytrain_blend, Xtrain_blend_ffm], axis=1)\n",
        "yXtest_ffm = pd.concat([ytest, Xtest_ffm], axis=1)\n",
        "\n",
        "train_w = yXtrain_meth_ffm.apply(lambda row:' '.join(map(str, row.values)),axis=1).values\n",
        "test_w = yXtrain_blend_ffm.apply(lambda row:' '.join(map(str, row.values)),axis=1).values\n",
        "test_test_w = yXtest_ffm.apply(lambda row:' '.join(map(str, row.values)),axis=1).values\n",
        "\n",
        "thefile = open('train_meth.txt','w')\n",
        "for item in train_w:\n",
        "    thefile.write(\"%s\\n\" % item)\n",
        "thefile.close()\n",
        "\n",
        "thefile = open('train_blend.txt','w')\n",
        "for item in test_w:\n",
        "    thefile.write(\"%s\\n\" % item)\n",
        "thefile.close()\n",
        "\n",
        "thefile = open('test_final.txt','w')\n",
        "for item in test_test_w:\n",
        "    thefile.write(\"%s\\n\" % item)\n",
        "thefile.close()"
      ],
      "execution_count": 0,
      "outputs": []
    },
    {
      "cell_type": "code",
      "metadata": {
        "id": "AiZg5bYogxEe",
        "colab_type": "code",
        "colab": {}
      },
      "source": [
        "! ./ffm-t -l 0.00001 -r 0.05 -k 15 -t 30 -p train_blend.txt --auto-stop train_meth.txt model_blend.ffm\n",
        "! ./ffm-pre train_blend.txt model_blend.ffm blend-predicted.txt"
      ],
      "execution_count": 0,
      "outputs": []
    },
    {
      "cell_type": "code",
      "metadata": {
        "id": "sdnD5LFJUeVh",
        "colab_type": "code",
        "colab": {}
      },
      "source": [
        "soft_ffm = np.genfromtxt('blend-predicted.txt', delimiter=',')\n",
        "soft_ffm_test = np.genfromtxt('test-predicted-final.txt', delimiter=',')"
      ],
      "execution_count": 0,
      "outputs": []
    },
    {
      "cell_type": "markdown",
      "metadata": {
        "colab_type": "text",
        "id": "Jk56lAPTOqxZ"
      },
      "source": [
        "<font color=\"red\">\n",
        "Concatenate all scores on Xtrain_blend to form a Zblend design matrix.</font>"
      ]
    },
    {
      "cell_type": "code",
      "metadata": {
        "colab_type": "code",
        "id": "y4Fz0wSLOqxT",
        "colab": {
          "base_uri": "https://localhost:8080/",
          "height": 34
        },
        "outputId": "aebcf7f5-747e-41fa-de9b-79474c6bbe19"
      },
      "source": [
        "Zblend = np.vstack([soft_log_reg[:,1], soft_xgb[:,1], soft_rf[:,1], soft_et[:,1], soft_ffm])\n",
        "print(Zblend.shape)"
      ],
      "execution_count": 126,
      "outputs": [
        {
          "output_type": "stream",
          "text": [
            "(5, 180000)\n"
          ],
          "name": "stdout"
        }
      ]
    },
    {
      "cell_type": "markdown",
      "metadata": {
        "colab_type": "text",
        "id": "px1CkkL7OqxR"
      },
      "source": [
        "<font color=\"red\">\n",
        "Train a logistic regression on (Zblend,ytrain_blend).</font>"
      ]
    },
    {
      "cell_type": "code",
      "metadata": {
        "colab_type": "code",
        "id": "awqpZTPhOqxN",
        "colab": {
          "base_uri": "https://localhost:8080/",
          "height": 156
        },
        "outputId": "20f45c62-5386-4ae1-c98a-101c6e98f3d9"
      },
      "source": [
        "#Let's encode the dataset and perform the logistic regression\n",
        "lr2 = LogisticRegression()\n",
        "lr2.fit(np.transpose(Zblend), ytrain_blend)"
      ],
      "execution_count": 125,
      "outputs": [
        {
          "output_type": "stream",
          "text": [
            "/usr/local/lib/python3.6/dist-packages/sklearn/linear_model/logistic.py:432: FutureWarning: Default solver will be changed to 'lbfgs' in 0.22. Specify a solver to silence this warning.\n",
            "  FutureWarning)\n"
          ],
          "name": "stderr"
        },
        {
          "output_type": "execute_result",
          "data": {
            "text/plain": [
              "LogisticRegression(C=1.0, class_weight=None, dual=False, fit_intercept=True,\n",
              "                   intercept_scaling=1, l1_ratio=None, max_iter=100,\n",
              "                   multi_class='warn', n_jobs=None, penalty='l2',\n",
              "                   random_state=None, solver='warn', tol=0.0001, verbose=0,\n",
              "                   warm_start=False)"
            ]
          },
          "metadata": {
            "tags": []
          },
          "execution_count": 125
        }
      ]
    },
    {
      "cell_type": "markdown",
      "metadata": {
        "colab_type": "text",
        "id": "nzWT4vH-OqxJ"
      },
      "source": [
        "<font color=\"red\">\n",
        "Evaluate the performance of this model on the test dataset.</font>"
      ]
    },
    {
      "cell_type": "code",
      "metadata": {
        "colab_type": "code",
        "id": "zq_IriMnOqw6",
        "colab": {
          "base_uri": "https://localhost:8080/",
          "height": 34
        },
        "outputId": "46be38b7-c079-43d7-94e5-969a3c98a77c"
      },
      "source": [
        "Zblend_test = np.vstack([soft_log_reg_test[:,1], soft_xgb_test[:,1], soft_rf_test[:,1], soft_et_test[:,1], soft_ffm_test])\n",
        "soft = lr2.predict_proba(np.transpose(Zblend_test))\n",
        "log_loss(ytest, soft), roc_auc_score(ytest, soft[:,1])"
      ],
      "execution_count": 137,
      "outputs": [
        {
          "output_type": "execute_result",
          "data": {
            "text/plain": [
              "(0.4020404085581729, 0.7496676117556993)"
            ]
          },
          "metadata": {
            "tags": []
          },
          "execution_count": 137
        }
      ]
    }
  ]
}